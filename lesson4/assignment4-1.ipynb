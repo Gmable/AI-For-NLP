{
 "cells": [
  {
   "cell_type": "code",
   "execution_count": 3,
   "metadata": {
    "collapsed": true
   },
   "outputs": [],
   "source": [
    "original_prices = [1,5,8,9,10,17,17,20,24,30]"
   ]
  },
  {
   "cell_type": "code",
   "execution_count": 4,
   "metadata": {
    "collapsed": true
   },
   "outputs": [],
   "source": [
    "from collections import defaultdict"
   ]
  },
  {
   "cell_type": "code",
   "execution_count": 5,
   "metadata": {
    "collapsed": true
   },
   "outputs": [],
   "source": [
    "price = defaultdict(int)"
   ]
  },
  {
   "cell_type": "markdown",
   "metadata": {},
   "source": [
    "default(int)则创建一个类似dictionary对象，里面任何的values都是int的实例，而且就算是一个不存在的key, d[key] 也有一个默认值，这个默认值是int()的默认值0."
   ]
  },
  {
   "cell_type": "code",
   "execution_count": 6,
   "metadata": {},
   "outputs": [
    {
     "name": "stdout",
     "output_type": "stream",
     "text": [
      "0\n",
      "1\n",
      "==========\n",
      "1\n",
      "5\n",
      "==========\n",
      "2\n",
      "8\n",
      "==========\n",
      "3\n",
      "9\n",
      "==========\n",
      "4\n",
      "10\n",
      "==========\n",
      "5\n",
      "17\n",
      "==========\n",
      "6\n",
      "17\n",
      "==========\n",
      "7\n",
      "20\n",
      "==========\n",
      "8\n",
      "24\n",
      "==========\n",
      "9\n",
      "30\n",
      "==========\n"
     ]
    }
   ],
   "source": [
    "for i, p in enumerate(original_prices):\n",
    "    print(i)\n",
    "    print(p)\n",
    "    print(\"==========\")\n",
    "    price[i+1] = p\n"
   ]
  },
  {
   "cell_type": "markdown",
   "metadata": {},
   "source": [
    "enumerate() 函数用于将一个可遍历的数据对象(如列表、元组或字符串)组合为一个索引序列，同时列出数据和数据下标，一般用在 for 循环当中。"
   ]
  },
  {
   "cell_type": "code",
   "execution_count": 7,
   "metadata": {},
   "outputs": [
    {
     "data": {
      "text/plain": [
       "1"
      ]
     },
     "execution_count": 7,
     "metadata": {},
     "output_type": "execute_result"
    }
   ],
   "source": [
    "price[1]"
   ]
  },
  {
   "cell_type": "code",
   "execution_count": 8,
   "metadata": {},
   "outputs": [
    {
     "data": {
      "text/plain": [
       "10"
      ]
     },
     "execution_count": 8,
     "metadata": {},
     "output_type": "execute_result"
    }
   ],
   "source": [
    "price[5]"
   ]
  },
  {
   "cell_type": "code",
   "execution_count": 9,
   "metadata": {},
   "outputs": [
    {
     "data": {
      "text/plain": [
       "5"
      ]
     },
     "execution_count": 9,
     "metadata": {},
     "output_type": "execute_result"
    }
   ],
   "source": [
    "price[2]"
   ]
  },
  {
   "cell_type": "code",
   "execution_count": 10,
   "metadata": {
    "collapsed": true
   },
   "outputs": [],
   "source": [
    "solution = {}"
   ]
  },
  {
   "cell_type": "code",
   "execution_count": null,
   "metadata": {
    "collapsed": true
   },
   "outputs": [],
   "source": []
  },
  {
   "cell_type": "code",
   "execution_count": 11,
   "metadata": {
    "collapsed": true
   },
   "outputs": [],
   "source": [
    "def call_time(func_1, arg):#python面向函数，函数可以当作参数传进去；可以做为变量赋值；可以return\n",
    "    start = time.time()\n",
    "    func_1(arg)\n",
    "    print('used time: {}'.format(time.time() - start))"
   ]
  },
  {
   "cell_type": "code",
   "execution_count": 12,
   "metadata": {
    "collapsed": true
   },
   "outputs": [],
   "source": [
    "def get_call_time(func):\n",
    "    def _inner(arg):\n",
    "        start = time.time()\n",
    "        result = func(arg)\n",
    "        print('used time: {}'.format(time.time() - start))\n",
    "        return result\n",
    "    return _inner"
   ]
  },
  {
   "cell_type": "code",
   "execution_count": 13,
   "metadata": {},
   "outputs": [
    {
     "ename": "NameError",
     "evalue": "name 'func_1' is not defined",
     "output_type": "error",
     "traceback": [
      "\u001b[1;31m---------------------------------------------------------------------------\u001b[0m",
      "\u001b[1;31mNameError\u001b[0m                                 Traceback (most recent call last)",
      "\u001b[1;32m<ipython-input-13-944463cf3927>\u001b[0m in \u001b[0;36m<module>\u001b[1;34m()\u001b[0m\n\u001b[1;32m----> 1\u001b[1;33m \u001b[0mcall_time\u001b[0m\u001b[1;33m(\u001b[0m\u001b[0mfunc_1\u001b[0m\u001b[1;33m,\u001b[0m \u001b[1;36m10\u001b[0m\u001b[1;33m)\u001b[0m\u001b[1;33m\u001b[0m\u001b[0m\n\u001b[0m",
      "\u001b[1;31mNameError\u001b[0m: name 'func_1' is not defined"
     ]
    }
   ],
   "source": [
    "call_time(func_1, 10)"
   ]
  },
  {
   "cell_type": "code",
   "execution_count": 14,
   "metadata": {},
   "outputs": [
    {
     "ename": "NameError",
     "evalue": "name 'func_1' is not defined",
     "output_type": "error",
     "traceback": [
      "\u001b[1;31m---------------------------------------------------------------------------\u001b[0m",
      "\u001b[1;31mNameError\u001b[0m                                 Traceback (most recent call last)",
      "\u001b[1;32m<ipython-input-14-fe1d8d85b9d4>\u001b[0m in \u001b[0;36m<module>\u001b[1;34m()\u001b[0m\n\u001b[1;32m----> 1\u001b[1;33m \u001b[0mfunc_1\u001b[0m\u001b[1;33m=\u001b[0m \u001b[0mget_call_time\u001b[0m\u001b[1;33m(\u001b[0m\u001b[0mfunc_1\u001b[0m\u001b[1;33m)\u001b[0m\u001b[1;33m\u001b[0m\u001b[0m\n\u001b[0m",
      "\u001b[1;31mNameError\u001b[0m: name 'func_1' is not defined"
     ]
    }
   ],
   "source": [
    "func_1= get_call_time(func_1)"
   ]
  },
  {
   "cell_type": "code",
   "execution_count": 15,
   "metadata": {},
   "outputs": [
    {
     "ename": "NameError",
     "evalue": "name 'func_1' is not defined",
     "output_type": "error",
     "traceback": [
      "\u001b[1;31m---------------------------------------------------------------------------\u001b[0m",
      "\u001b[1;31mNameError\u001b[0m                                 Traceback (most recent call last)",
      "\u001b[1;32m<ipython-input-15-cc6de2ed704f>\u001b[0m in \u001b[0;36m<module>\u001b[1;34m()\u001b[0m\n\u001b[1;32m----> 1\u001b[1;33m \u001b[0mfunc_1\u001b[0m\u001b[1;33m.\u001b[0m\u001b[0m__name__\u001b[0m\u001b[1;33m\u001b[0m\u001b[0m\n\u001b[0m",
      "\u001b[1;31mNameError\u001b[0m: name 'func_1' is not defined"
     ]
    }
   ],
   "source": [
    "func_1.__name__"
   ]
  },
  {
   "cell_type": "code",
   "execution_count": 16,
   "metadata": {},
   "outputs": [
    {
     "ename": "NameError",
     "evalue": "name 'func_1' is not defined",
     "output_type": "error",
     "traceback": [
      "\u001b[1;31m---------------------------------------------------------------------------\u001b[0m",
      "\u001b[1;31mNameError\u001b[0m                                 Traceback (most recent call last)",
      "\u001b[1;32m<ipython-input-16-0ee578da2ad8>\u001b[0m in \u001b[0;36m<module>\u001b[1;34m()\u001b[0m\n\u001b[1;32m----> 1\u001b[1;33m \u001b[0mfunc_1\u001b[0m\u001b[1;33m(\u001b[0m\u001b[1;36m10\u001b[0m\u001b[1;33m)\u001b[0m\u001b[1;33m\u001b[0m\u001b[0m\n\u001b[0m",
      "\u001b[1;31mNameError\u001b[0m: name 'func_1' is not defined"
     ]
    }
   ],
   "source": [
    "func_1(10)"
   ]
  },
  {
   "cell_type": "code",
   "execution_count": 17,
   "metadata": {
    "collapsed": true
   },
   "outputs": [],
   "source": [
    "#@get_call_time\n",
    "def func_1(n):\n",
    "    for i in range(n):\n",
    "        print(n)"
   ]
  },
  {
   "cell_type": "code",
   "execution_count": 18,
   "metadata": {},
   "outputs": [
    {
     "name": "stdout",
     "output_type": "stream",
     "text": [
      "10\n",
      "10\n",
      "10\n",
      "10\n",
      "10\n",
      "10\n",
      "10\n",
      "10\n",
      "10\n",
      "10\n"
     ]
    }
   ],
   "source": [
    "func_1(10)"
   ]
  },
  {
   "cell_type": "code",
   "execution_count": 19,
   "metadata": {},
   "outputs": [
    {
     "ename": "NameError",
     "evalue": "name 'func_slow' is not defined",
     "output_type": "error",
     "traceback": [
      "\u001b[1;31m---------------------------------------------------------------------------\u001b[0m",
      "\u001b[1;31mNameError\u001b[0m                                 Traceback (most recent call last)",
      "\u001b[1;32m<ipython-input-19-a74d511be1a2>\u001b[0m in \u001b[0;36m<module>\u001b[1;34m()\u001b[0m\n\u001b[1;32m----> 1\u001b[1;33m \u001b[0mcall_time\u001b[0m\u001b[1;33m(\u001b[0m\u001b[0mfunc_slow\u001b[0m\u001b[1;33m,\u001b[0m \u001b[1;36m10\u001b[0m\u001b[1;33m)\u001b[0m\u001b[1;33m\u001b[0m\u001b[0m\n\u001b[0m",
      "\u001b[1;31mNameError\u001b[0m: name 'func_slow' is not defined"
     ]
    }
   ],
   "source": [
    "call_time(func_slow, 10)"
   ]
  },
  {
   "cell_type": "code",
   "execution_count": 20,
   "metadata": {
    "collapsed": true
   },
   "outputs": [],
   "source": [
    "import time"
   ]
  },
  {
   "cell_type": "code",
   "execution_count": 21,
   "metadata": {
    "collapsed": true
   },
   "outputs": [],
   "source": [
    "@get_call_time\n",
    "def func_slow(n):\n",
    "    for i in range(n):\n",
    "        time.sleep(0.1)\n",
    "        print(n)"
   ]
  },
  {
   "cell_type": "code",
   "execution_count": 22,
   "metadata": {},
   "outputs": [
    {
     "name": "stdout",
     "output_type": "stream",
     "text": [
      "5\n",
      "5\n",
      "5\n",
      "5\n",
      "5\n"
     ]
    }
   ],
   "source": [
    "func_1(5)"
   ]
  },
  {
   "cell_type": "code",
   "execution_count": 23,
   "metadata": {},
   "outputs": [
    {
     "name": "stdout",
     "output_type": "stream",
     "text": [
      "5\n",
      "5\n",
      "5\n",
      "5\n",
      "5\n",
      "used time: 0.5019111633300781\n"
     ]
    }
   ],
   "source": [
    "func_slow(5)"
   ]
  },
  {
   "cell_type": "code",
   "execution_count": 24,
   "metadata": {
    "collapsed": true
   },
   "outputs": [],
   "source": [
    "from functools import wraps"
   ]
  },
  {
   "cell_type": "code",
   "execution_count": 25,
   "metadata": {
    "collapsed": true
   },
   "outputs": [],
   "source": [
    "def memo(func):\n",
    "    cache = {}\n",
    "    @wraps(func)\n",
    "    def _wrap(n):\n",
    "        if n in cache: result = cache[n]\n",
    "        else:\n",
    "            result = func(n)\n",
    "            cache[n] = result\n",
    "        return result\n",
    "    return _wrap\n",
    "        "
   ]
  },
  {
   "cell_type": "code",
   "execution_count": 26,
   "metadata": {
    "collapsed": true
   },
   "outputs": [],
   "source": [
    "solution = {}"
   ]
  },
  {
   "cell_type": "code",
   "execution_count": 27,
   "metadata": {
    "collapsed": true
   },
   "outputs": [],
   "source": [
    "@memo\n",
    "def r(n):\n",
    "    max_price, split_point = max(\n",
    "    [(price[n],0)]+[(r(i)+r(n-i), i) for i in range(1,n)], key = lambda x: x[0]\n",
    "    )\n",
    "    solution[n] = (split_point, n - split_point)\n",
    "    return max_price\n",
    "#中间是加号"
   ]
  },
  {
   "cell_type": "code",
   "execution_count": 28,
   "metadata": {},
   "outputs": [
    {
     "data": {
      "text/plain": [
       "382"
      ]
     },
     "execution_count": 28,
     "metadata": {},
     "output_type": "execute_result"
    }
   ],
   "source": [
    "r(128)"
   ]
  },
  {
   "cell_type": "code",
   "execution_count": 29,
   "metadata": {
    "collapsed": true
   },
   "outputs": [
    {
     "data": {
      "text/plain": [
       "{1: (0, 1),\n",
       " 2: (0, 2),\n",
       " 3: (0, 3),\n",
       " 4: (2, 2),\n",
       " 5: (2, 3),\n",
       " 6: (0, 6),\n",
       " 7: (1, 6),\n",
       " 8: (2, 6),\n",
       " 9: (3, 6),\n",
       " 10: (0, 10),\n",
       " 11: (1, 10),\n",
       " 12: (2, 10),\n",
       " 13: (3, 10),\n",
       " 14: (2, 12),\n",
       " 15: (2, 13),\n",
       " 16: (6, 10),\n",
       " 17: (1, 16),\n",
       " 18: (2, 16),\n",
       " 19: (3, 16),\n",
       " 20: (10, 10),\n",
       " 21: (1, 20),\n",
       " 22: (2, 20),\n",
       " 23: (3, 20),\n",
       " 24: (2, 22),\n",
       " 25: (2, 23),\n",
       " 26: (6, 20),\n",
       " 27: (1, 26),\n",
       " 28: (2, 26),\n",
       " 29: (3, 26),\n",
       " 30: (10, 20),\n",
       " 31: (1, 30),\n",
       " 32: (2, 30),\n",
       " 33: (3, 30),\n",
       " 34: (2, 32),\n",
       " 35: (2, 33),\n",
       " 36: (6, 30),\n",
       " 37: (1, 36),\n",
       " 38: (2, 36),\n",
       " 39: (3, 36),\n",
       " 40: (10, 30),\n",
       " 41: (1, 40),\n",
       " 42: (2, 40),\n",
       " 43: (3, 40),\n",
       " 44: (2, 42),\n",
       " 45: (2, 43),\n",
       " 46: (6, 40),\n",
       " 47: (1, 46),\n",
       " 48: (2, 46),\n",
       " 49: (3, 46),\n",
       " 50: (10, 40),\n",
       " 51: (1, 50),\n",
       " 52: (2, 50),\n",
       " 53: (3, 50),\n",
       " 54: (2, 52),\n",
       " 55: (2, 53),\n",
       " 56: (6, 50),\n",
       " 57: (1, 56),\n",
       " 58: (2, 56),\n",
       " 59: (3, 56),\n",
       " 60: (10, 50),\n",
       " 61: (1, 60),\n",
       " 62: (2, 60),\n",
       " 63: (3, 60),\n",
       " 64: (2, 62),\n",
       " 65: (2, 63),\n",
       " 66: (6, 60),\n",
       " 67: (1, 66),\n",
       " 68: (2, 66),\n",
       " 69: (3, 66),\n",
       " 70: (10, 60),\n",
       " 71: (1, 70),\n",
       " 72: (2, 70),\n",
       " 73: (3, 70),\n",
       " 74: (2, 72),\n",
       " 75: (2, 73),\n",
       " 76: (6, 70),\n",
       " 77: (1, 76),\n",
       " 78: (2, 76),\n",
       " 79: (3, 76),\n",
       " 80: (10, 70),\n",
       " 81: (1, 80),\n",
       " 82: (2, 80),\n",
       " 83: (3, 80),\n",
       " 84: (2, 82),\n",
       " 85: (2, 83),\n",
       " 86: (6, 80),\n",
       " 87: (1, 86),\n",
       " 88: (2, 86),\n",
       " 89: (3, 86),\n",
       " 90: (10, 80),\n",
       " 91: (1, 90),\n",
       " 92: (2, 90),\n",
       " 93: (3, 90),\n",
       " 94: (2, 92),\n",
       " 95: (2, 93),\n",
       " 96: (6, 90),\n",
       " 97: (1, 96),\n",
       " 98: (2, 96),\n",
       " 99: (3, 96),\n",
       " 100: (10, 90),\n",
       " 101: (1, 100),\n",
       " 102: (2, 100),\n",
       " 103: (3, 100),\n",
       " 104: (2, 102),\n",
       " 105: (2, 103),\n",
       " 106: (6, 100),\n",
       " 107: (1, 106),\n",
       " 108: (2, 106),\n",
       " 109: (3, 106),\n",
       " 110: (10, 100),\n",
       " 111: (1, 110),\n",
       " 112: (2, 110),\n",
       " 113: (3, 110),\n",
       " 114: (2, 112),\n",
       " 115: (2, 113),\n",
       " 116: (6, 110),\n",
       " 117: (1, 116),\n",
       " 118: (2, 116),\n",
       " 119: (3, 116),\n",
       " 120: (10, 110),\n",
       " 121: (1, 120),\n",
       " 122: (2, 120),\n",
       " 123: (3, 120),\n",
       " 124: (2, 122),\n",
       " 125: (2, 123),\n",
       " 126: (6, 120),\n",
       " 127: (1, 126),\n",
       " 128: (2, 126)}"
      ]
     },
     "execution_count": 29,
     "metadata": {},
     "output_type": "execute_result"
    }
   ],
   "source": [
    "solution"
   ]
  },
  {
   "cell_type": "code",
   "execution_count": 30,
   "metadata": {
    "collapsed": true
   },
   "outputs": [],
   "source": [
    "def not_cut(split): return split == 0\n",
    "\n",
    "def parse_solution(target_length, revenue_solution):\n",
    "    left, right = revenue_solution[target_length]\n",
    "    \n",
    "    if not_cut(left): return [right]\n",
    "    return parse_solution(left, revenue_solution) + parse_solution(right, revenue_solution)"
   ]
  },
  {
   "cell_type": "code",
   "execution_count": 31,
   "metadata": {},
   "outputs": [
    {
     "data": {
      "text/plain": [
       "[3, 6, 10]"
      ]
     },
     "execution_count": 31,
     "metadata": {},
     "output_type": "execute_result"
    }
   ],
   "source": [
    "parse_solution(19,solution)"
   ]
  },
  {
   "cell_type": "code",
   "execution_count": 67,
   "metadata": {
    "collapsed": true
   },
   "outputs": [],
   "source": [
    "from functools import lru_cache"
   ]
  },
  {
   "cell_type": "code",
   "execution_count": 76,
   "metadata": {
    "collapsed": true
   },
   "outputs": [],
   "source": [
    "solution={}"
   ]
  },
  {
   "cell_type": "code",
   "execution_count": 81,
   "metadata": {
    "collapsed": true
   },
   "outputs": [],
   "source": [
    "@lru_cache(maxsize=2**10)\n",
    "def edit_distance(string1,string2):\n",
    "    if len(string1)==0:return len(string2)\n",
    "    if len(string2)==0:return len(string1)\n",
    "    \n",
    "    \n",
    "    tail_s1=string1[-1]\n",
    "    tail_s2=string2[-1]\n",
    "    \n",
    "    candidates=[\n",
    "        (edit_distance(string1[:-1],string2)+1,'DEL {}'.format(tail_s1)),\n",
    "        (edit_distance(string1,string2[:-1])+1,'ADD {}'.format(tail_s2)),\n",
    "    ]\n",
    "    \n",
    "    if tail_s1==tail_s2:\n",
    "        both_forward = (edit_distance(string1[:-1],string2[:-1])+0,' ')\n",
    "    else:\n",
    "        both_forward = (edit_distance(string1[:-1],string2[:-1])+1,'SUB {} ==>{}'.format(tail_s1,tail_s2))\n",
    "        \n",
    "    candidates.append(both_forward)\n",
    "    \n",
    "    min_distance,operation=min(candidates,key=lambda x:x[0])\n",
    "    \n",
    "    solution[(string1,string2)] = operation\n",
    "    \n",
    "    return min_distance"
   ]
  },
  {
   "cell_type": "code",
   "execution_count": 82,
   "metadata": {},
   "outputs": [
    {
     "data": {
      "text/plain": [
       "1"
      ]
     },
     "execution_count": 82,
     "metadata": {},
     "output_type": "execute_result"
    }
   ],
   "source": [
    "edit_distance('10','11')"
   ]
  },
  {
   "cell_type": "code",
   "execution_count": 83,
   "metadata": {},
   "outputs": [
    {
     "data": {
      "text/plain": [
       "{('1', '1'): ' ',\n",
       " ('1', '11'): 'ADD 1',\n",
       " ('10', '1'): 'DEL 0',\n",
       " ('10', '11'): 'SUB 0 ==>1',\n",
       " ('A', 'A'): ' ',\n",
       " ('A', 'AA'): 'ADD A',\n",
       " ('A', 'AAC'): 'ADD C',\n",
       " ('AB', 'A'): 'DEL B',\n",
       " ('AB', 'AA'): 'DEL B',\n",
       " ('AB', 'AAC'): 'DEL B',\n",
       " ('ABC', 'A'): 'DEL C',\n",
       " ('ABC', 'AA'): 'DEL C',\n",
       " ('ABC', 'AAC'): ' '}"
      ]
     },
     "execution_count": 83,
     "metadata": {},
     "output_type": "execute_result"
    }
   ],
   "source": [
    "solution"
   ]
  },
  {
   "cell_type": "code",
   "execution_count": 84,
   "metadata": {
    "collapsed": true
   },
   "outputs": [],
   "source": [
    "edit_solution=[]"
   ]
  },
  {
   "cell_type": "code",
   "execution_count": 85,
   "metadata": {},
   "outputs": [
    {
     "data": {
      "text/plain": [
       "{('1', '1'): ' ',\n",
       " ('1', '11'): 'ADD 1',\n",
       " ('10', '1'): 'DEL 0',\n",
       " ('10', '11'): 'SUB 0 ==>1',\n",
       " ('A', 'A'): ' ',\n",
       " ('A', 'AA'): 'ADD A',\n",
       " ('A', 'AAC'): 'ADD C',\n",
       " ('AB', 'A'): 'DEL B',\n",
       " ('AB', 'AA'): 'DEL B',\n",
       " ('AB', 'AAC'): 'DEL B',\n",
       " ('ABC', 'A'): 'DEL C',\n",
       " ('ABC', 'AA'): 'DEL C',\n",
       " ('ABC', 'AAC'): ' '}"
      ]
     },
     "execution_count": 85,
     "metadata": {},
     "output_type": "execute_result"
    }
   ],
   "source": [
    "solution"
   ]
  },
  {
   "cell_type": "code",
   "execution_count": 86,
   "metadata": {},
   "outputs": [
    {
     "data": {
      "text/plain": [
       "'DEL B'"
      ]
     },
     "execution_count": 86,
     "metadata": {},
     "output_type": "execute_result"
    }
   ],
   "source": [
    "solution['AB','AA']"
   ]
  },
  {
   "cell_type": "code",
   "execution_count": 95,
   "metadata": {},
   "outputs": [],
   "source": [
    "def stop_edit(str1,str2):return str1==str2\n",
    "\n",
    "def step_prase_solution(str1,str2,solution):#迭代方法\n",
    "    distance = edit_distance(str1,str2)\n",
    "    edit_operation=[]\n",
    "    while not stop_edit(str1,str2):\n",
    "        operation=solution[(str1,str2)]\n",
    "        edit_operation.append(operation)\n",
    "        if \"DEL\" in operation:\n",
    "            str1=str1[:-1]\n",
    "            str2=str2\n",
    "        elif \"ADD\" in operation:\n",
    "            str1=str1\n",
    "            str2=str2[:-1]\n",
    "        else:\n",
    "            str1=str1[:-1]\n",
    "            str2=str2[:-1]\n",
    "    return distance,edit_operation\n",
    "        "
   ]
  },
  {
   "cell_type": "code",
   "execution_count": 96,
   "metadata": {},
   "outputs": [
    {
     "data": {
      "text/plain": [
       "(1, [' ', 'SUB B ==>A'])"
      ]
     },
     "execution_count": 96,
     "metadata": {},
     "output_type": "execute_result"
    }
   ],
   "source": [
    "step_prase_solution('ABC','AAC',solution)"
   ]
  },
  {
   "cell_type": "code",
   "execution_count": 101,
   "metadata": {},
   "outputs": [
    {
     "data": {
      "text/plain": [
       "(3, [' ', ' ', 'SUB 想 ==>像', ' ', ' ', 'SUB 实 ==>的', 'SUB 确 ==>真'])"
      ]
     },
     "execution_count": 101,
     "metadata": {},
     "output_type": "execute_result"
    }
   ],
   "source": [
    "step_prase_solution('我今天确实不太想吃饭','我今天真的不太像吃饭',solution)"
   ]
  },
  {
   "cell_type": "code",
   "execution_count": 99,
   "metadata": {},
   "outputs": [
    {
     "data": {
      "text/plain": [
       "(1, ['SUB A ==>C'])"
      ]
     },
     "execution_count": 99,
     "metadata": {},
     "output_type": "execute_result"
    }
   ],
   "source": [
    "step_prase_solution('A','C',solution)"
   ]
  },
  {
   "cell_type": "code",
   "execution_count": 118,
   "metadata": {},
   "outputs": [],
   "source": [
    "def parse_dis_solution(str1,str2, solution):\n",
    "    \n",
    "    length = max(len(str1), len(str2))\n",
    "\n",
    "    if length == 0: return [(length, \"over\")]\n",
    "    \n",
    "    op = solution[(str1,str2)]\n",
    "    \n",
    "    if 'ADD' in op : #A须在最后一位增加B的最后一位，方可转换成B\n",
    "        return ['{}'.format(op)] + parse_dis_solution(str1,str2[:-1],solution)\n",
    "    elif  'DEL' in op: #A须删除最后一位，方可转换成B\n",
    "        return ['{}'.format(op)] + parse_dis_solution(str1[:-1],str2,solution)\n",
    "    elif 'SUB' in op: #A须将最后一位替换成B的最后一位，方可转换成B\n",
    "        return ['{}'.format(op)] + parse_dis_solution(str1[:-1],str2[:-1],solution)\n",
    "    else:\n",
    "        return parse_dis_solution(str1[:-1],str2[:-1],solution)\n",
    "\n",
    "    \n",
    "    pass\n"
   ]
  },
  {
   "cell_type": "code",
   "execution_count": 119,
   "metadata": {},
   "outputs": [
    {
     "data": {
      "text/plain": [
       "['SUB B ==>A', (0, 'over')]"
      ]
     },
     "execution_count": 119,
     "metadata": {},
     "output_type": "execute_result"
    }
   ],
   "source": [
    "parse_dis_solution('ABC','AAC',solution)"
   ]
  },
  {
   "cell_type": "code",
   "execution_count": 121,
   "metadata": {},
   "outputs": [
    {
     "data": {
      "text/plain": [
       "['SUB 想 ==>像', 'SUB 实 ==>的', 'SUB 确 ==>真', (0, 'over')]"
      ]
     },
     "execution_count": 121,
     "metadata": {},
     "output_type": "execute_result"
    }
   ],
   "source": [
    "parse_dis_solution('我今天确实不太想吃饭','我今天真的不太像吃饭',solution)"
   ]
  },
  {
   "cell_type": "code",
   "execution_count": null,
   "metadata": {
    "collapsed": true
   },
   "outputs": [],
   "source": []
  },
  {
   "cell_type": "code",
   "execution_count": null,
   "metadata": {
    "collapsed": true
   },
   "outputs": [],
   "source": []
  },
  {
   "cell_type": "markdown",
   "metadata": {},
   "source": [
    "## Part 3: Answer following questions:"
   ]
  },
  {
   "cell_type": "markdown",
   "metadata": {},
   "source": [
    "Why do we need dynamic programming? What's the difference of dynamic programming and previous talked search problme?\n",
    "Ans: 动态规划可以解决很多实际的问题。动态规划是把原问题分解为若干个子问题，子问题和原问题形式相同或类似，只不过规模变小了。子问题都解决，原问题即解决，子问题的解一旦求出就会被保存，所以每个子问题只需求解一次。之前讲的搜索问题是广度优先遍历的方法，利用队列来存储该节点连接的所有节点，找到可以得到最优解的节点存储起来，再继续走。\n",
    "\n",
    "Why do we still need dynamic programming? Why not we train a machine learning to fit a function which could get the right answer based on inputs?\n",
    "Ans: 有些情况我们不能用机器学习，因为我们没有足够的数据来训练，求得一个这样的函数；机器学习的方法对于一些事情的处理性价比不高，我们没有必要为了一个小问题而花费大量的时间来训练一个模型；动态规划可以得到一个精确的解，可以得到最优解，而深度学习这样的方法是得到一个概率解\n",
    "\n",
    "Can you catch up at least 3 problems which could solved by Dynamic Programming?\n",
    "Ans: 1、背包问题\n",
    "        2、最长公共子序列问题\n",
    "        3、最短路径问题\n",
    "\n",
    "\n",
    "Can you catch up at least 3 problems wich could sloved by Edit Distance?\n",
    "Ans: 1、DNA比对 2、判断两句话（字符串）相似度\n",
    "\n",
    "Please summarize the three main features of Dynamic Programming, and make a concise explain for each feature.\n",
    "Ans: 1、分析子问题的重复（当我们查表的时候我们可以发现我们要解决的问题是可以递归的，里面包含很多重复的子问题）\n",
    "        2、我们需要能够存储子问题（可利用现有的装饰器）\n",
    "        3、solution需要进行解析（每一个子问题具体是怎样解决的）\n",
    "\n",
    "What's the disadvantages of Dynamic Programming? (You may need search by yourself in Internet)\n",
    "Ans:  例如下棋问题中，动态规划可以优化一些搜索问题，但由于节点过多，计算机仍然无法处理。"
   ]
  },
  {
   "cell_type": "markdown",
   "metadata": {},
   "source": [
    "# (Optinal) Finish the k-person-salesman problem:"
   ]
  },
  {
   "cell_type": "code",
   "execution_count": 122,
   "metadata": {
    "collapsed": true
   },
   "outputs": [],
   "source": [
    "import random\n",
    "import matplotlib.pylab as plt"
   ]
  },
  {
   "cell_type": "code",
   "execution_count": 142,
   "metadata": {
    "collapsed": true
   },
   "outputs": [],
   "source": [
    "latitudes = [random.randint(-100, 100) for _ in range(5)]\n",
    "longitude = [random.randint(-100, 100) for _ in range(5)]"
   ]
  },
  {
   "cell_type": "code",
   "execution_count": 143,
   "metadata": {},
   "outputs": [
    {
     "data": {
      "text/plain": [
       "<matplotlib.collections.PathCollection at 0x1ef975e8cc0>"
      ]
     },
     "execution_count": 143,
     "metadata": {},
     "output_type": "execute_result"
    }
   ],
   "source": [
    "plt.scatter(latitudes, longitude)"
   ]
  },
  {
   "cell_type": "code",
   "execution_count": 144,
   "metadata": {},
   "outputs": [
    {
     "data": {
      "image/png": "[encoded data removed]",
      "text/plain": [
       "<matplotlib.figure.Figure at 0x1ef9746dc50>"
      ]
     },
     "metadata": {},
     "output_type": "display_data"
    }
   ],
   "source": [
    "plt.show()"
   ]
  },
  {
   "cell_type": "code",
   "execution_count": 145,
   "metadata": {
    "collapsed": true
   },
   "outputs": [],
   "source": [
    "chosen_p = (5, 10)"
   ]
  },
  {
   "cell_type": "code",
   "execution_count": 146,
   "metadata": {},
   "outputs": [
    {
     "data": {
      "image/png": "[encoded data removed]",
      "text/plain": [
       "<matplotlib.figure.Figure at 0x1ef97613780>"
      ]
     },
     "metadata": {},
     "output_type": "display_data"
    }
   ],
   "source": [
    "plt.scatter(latitudes, longitude)\n",
    "plt.scatter([chosen_p[0]], [chosen_p[1]], color='r')\n",
    "plt.show()"
   ]
  },
  {
   "cell_type": "code",
   "execution_count": 147,
   "metadata": {
    "collapsed": true
   },
   "outputs": [],
   "source": [
    "all_point = {(i,j) for i,j in zip(latitudes,longitude)}"
   ]
  },
  {
   "cell_type": "code",
   "execution_count": 148,
   "metadata": {},
   "outputs": [
    {
     "data": {
      "text/plain": [
       "{(-71, 91), (-51, 71), (-40, 23), (-2, -45), (96, 13)}"
      ]
     },
     "execution_count": 148,
     "metadata": {},
     "output_type": "execute_result"
    }
   ],
   "source": [
    "all_point"
   ]
  },
  {
   "cell_type": "code",
   "execution_count": 149,
   "metadata": {
    "collapsed": true
   },
   "outputs": [],
   "source": [
    "from collections import defaultdict"
   ]
  },
  {
   "cell_type": "code",
   "execution_count": 150,
   "metadata": {
    "collapsed": true
   },
   "outputs": [],
   "source": [
    "tsp_solution = {}"
   ]
  },
  {
   "cell_type": "code",
   "execution_count": 151,
   "metadata": {
    "collapsed": true
   },
   "outputs": [],
   "source": [
    "import math"
   ]
  },
  {
   "cell_type": "code",
   "execution_count": 152,
   "metadata": {
    "collapsed": true
   },
   "outputs": [],
   "source": [
    "def get_distance(x1,x2):\n",
    "    return math.sqrt((x1[0]-x2[0])**2+(x1[1]-x2[1])**2)"
   ]
  },
  {
   "cell_type": "code",
   "execution_count": 153,
   "metadata": {},
   "outputs": [
    {
     "data": {
      "text/plain": [
       "111.07204868912791"
      ]
     },
     "execution_count": 153,
     "metadata": {},
     "output_type": "execute_result"
    }
   ],
   "source": [
    "get_distance(chosen_p,(-71, 91))"
   ]
  },
  {
   "cell_type": "code",
   "execution_count": 155,
   "metadata": {
    "collapsed": true
   },
   "outputs": [],
   "source": [
    "sum=0\n",
    "a=list(all_point)"
   ]
  },
  {
   "cell_type": "code",
   "execution_count": 156,
   "metadata": {},
   "outputs": [
    {
     "data": {
      "text/plain": [
       "[(96, 13), (-71, 91), (-51, 71), (-40, 23), (-2, -45)]"
      ]
     },
     "execution_count": 156,
     "metadata": {},
     "output_type": "execute_result"
    }
   ],
   "source": [
    "a"
   ]
  },
  {
   "cell_type": "code",
   "execution_count": 157,
   "metadata": {},
   "outputs": [
    {
     "name": "stdout",
     "output_type": "stream",
     "text": [
      "339.7435892084758\n"
     ]
    }
   ],
   "source": [
    "for i, v in enumerate(a[:-1]):\n",
    "    sum+=get_distance(v,a[i+1])\n",
    "print(sum)"
   ]
  },
  {
   "cell_type": "code",
   "execution_count": 158,
   "metadata": {},
   "outputs": [
    {
     "name": "stdout",
     "output_type": "stream",
     "text": [
      "430.7930263291961\n"
     ]
    }
   ],
   "source": [
    "sum+=get_distance(chosen_p,a[0])\n",
    "print(sum)"
   ]
  },
  {
   "cell_type": "code",
   "execution_count": 161,
   "metadata": {
    "collapsed": true
   },
   "outputs": [],
   "source": [
    "def TSP(p,point_set):\n",
    "    if p in point_set and len(point_set) == 1: return 0\n",
    "    if len(point_set)==0:return 0\n",
    "    \n",
    "    min_dis,point = min(\n",
    "    [(get_distance(p,k)+TSP(k,point_set-{k}),k) for k in point_set],key = lambda x:x[0]\n",
    "    )\n",
    "    solution[(point,tuple(list(point_set)))] = min_dis\n",
    "    \n",
    "    return min_dis"
   ]
  },
  {
   "cell_type": "code",
   "execution_count": 162,
   "metadata": {},
   "outputs": [
    {
     "data": {
      "text/plain": [
       "360.3524925176586"
      ]
     },
     "execution_count": 162,
     "metadata": {},
     "output_type": "execute_result"
    }
   ],
   "source": [
    "TSP(chosen_p,all_point)"
   ]
  },
  {
   "cell_type": "code",
   "execution_count": 163,
   "metadata": {
    "collapsed": true
   },
   "outputs": [
    {
     "data": {
      "text/plain": [
       "{('1', '1'): ' ',\n",
       " ('1', '11'): 'ADD 1',\n",
       " ('10', '1'): 'DEL 0',\n",
       " ('10', '11'): 'SUB 0 ==>1',\n",
       " ('A', 'A'): ' ',\n",
       " ('A', 'AA'): 'ADD A',\n",
       " ('A', 'AAC'): 'ADD C',\n",
       " ('AB', 'A'): 'DEL B',\n",
       " ('AB', 'AA'): 'SUB B ==>A',\n",
       " ('AB', 'AAC'): 'ADD C',\n",
       " ('ABC', 'A'): 'DEL C',\n",
       " ('ABC', 'AA'): 'DEL C',\n",
       " ('ABC', 'AAC'): ' ',\n",
       " ('我', '我'): ' ',\n",
       " ('我', '我今'): 'ADD 今',\n",
       " ('我', '我今天'): 'ADD 天',\n",
       " ('我', '我今天真'): 'ADD 真',\n",
       " ('我', '我今天真的'): 'ADD 的',\n",
       " ('我', '我今天真的不'): 'ADD 不',\n",
       " ('我', '我今天真的不太'): 'ADD 太',\n",
       " ('我', '我今天真的不太像'): 'ADD 像',\n",
       " ('我', '我今天真的不太像吃'): 'ADD 吃',\n",
       " ('我', '我今天真的不太像吃饭'): 'ADD 饭',\n",
       " ('我今', '我'): 'DEL 今',\n",
       " ('我今', '我今'): ' ',\n",
       " ('我今', '我今天'): 'ADD 天',\n",
       " ('我今', '我今天真'): 'ADD 真',\n",
       " ('我今', '我今天真的'): 'ADD 的',\n",
       " ('我今', '我今天真的不'): 'ADD 不',\n",
       " ('我今', '我今天真的不太'): 'ADD 太',\n",
       " ('我今', '我今天真的不太像'): 'ADD 像',\n",
       " ('我今', '我今天真的不太像吃'): 'ADD 吃',\n",
       " ('我今', '我今天真的不太像吃饭'): 'ADD 饭',\n",
       " ('我今天', '我'): 'DEL 天',\n",
       " ('我今天', '我今'): 'DEL 天',\n",
       " ('我今天', '我今天'): ' ',\n",
       " ('我今天', '我今天真'): 'ADD 真',\n",
       " ('我今天', '我今天真的'): 'ADD 的',\n",
       " ('我今天', '我今天真的不'): 'ADD 不',\n",
       " ('我今天', '我今天真的不太'): 'ADD 太',\n",
       " ('我今天', '我今天真的不太像'): 'ADD 像',\n",
       " ('我今天', '我今天真的不太像吃'): 'ADD 吃',\n",
       " ('我今天', '我今天真的不太像吃饭'): 'ADD 饭',\n",
       " ('我今天确', '我'): 'DEL 确',\n",
       " ('我今天确', '我今'): 'DEL 确',\n",
       " ('我今天确', '我今天'): 'DEL 确',\n",
       " ('我今天确', '我今天真'): 'SUB 确 ==>真',\n",
       " ('我今天确', '我今天真的'): 'ADD 的',\n",
       " ('我今天确', '我今天真的不'): 'ADD 不',\n",
       " ('我今天确', '我今天真的不太'): 'ADD 太',\n",
       " ('我今天确', '我今天真的不太像'): 'ADD 像',\n",
       " ('我今天确', '我今天真的不太像吃'): 'ADD 吃',\n",
       " ('我今天确', '我今天真的不太像吃饭'): 'ADD 饭',\n",
       " ('我今天确实', '我'): 'DEL 实',\n",
       " ('我今天确实', '我今'): 'DEL 实',\n",
       " ('我今天确实', '我今天'): 'DEL 实',\n",
       " ('我今天确实', '我今天真'): 'DEL 实',\n",
       " ('我今天确实', '我今天真的'): 'SUB 实 ==>的',\n",
       " ('我今天确实', '我今天真的不'): 'ADD 不',\n",
       " ('我今天确实', '我今天真的不太'): 'ADD 太',\n",
       " ('我今天确实', '我今天真的不太像'): 'ADD 像',\n",
       " ('我今天确实', '我今天真的不太像吃'): 'ADD 吃',\n",
       " ('我今天确实', '我今天真的不太像吃饭'): 'ADD 饭',\n",
       " ('我今天确实不', '我'): 'DEL 不',\n",
       " ('我今天确实不', '我今'): 'DEL 不',\n",
       " ('我今天确实不', '我今天'): 'DEL 不',\n",
       " ('我今天确实不', '我今天真'): 'DEL 不',\n",
       " ('我今天确实不', '我今天真的'): 'DEL 不',\n",
       " ('我今天确实不', '我今天真的不'): ' ',\n",
       " ('我今天确实不', '我今天真的不太'): 'ADD 太',\n",
       " ('我今天确实不', '我今天真的不太像'): 'ADD 像',\n",
       " ('我今天确实不', '我今天真的不太像吃'): 'ADD 吃',\n",
       " ('我今天确实不', '我今天真的不太像吃饭'): 'ADD 饭',\n",
       " ('我今天确实不太', '我'): 'DEL 太',\n",
       " ('我今天确实不太', '我今'): 'DEL 太',\n",
       " ('我今天确实不太', '我今天'): 'DEL 太',\n",
       " ('我今天确实不太', '我今天真'): 'DEL 太',\n",
       " ('我今天确实不太', '我今天真的'): 'DEL 太',\n",
       " ('我今天确实不太', '我今天真的不'): 'DEL 太',\n",
       " ('我今天确实不太', '我今天真的不太'): ' ',\n",
       " ('我今天确实不太', '我今天真的不太像'): 'ADD 像',\n",
       " ('我今天确实不太', '我今天真的不太像吃'): 'ADD 吃',\n",
       " ('我今天确实不太', '我今天真的不太像吃饭'): 'ADD 饭',\n",
       " ('我今天确实不太想', '我'): 'DEL 想',\n",
       " ('我今天确实不太想', '我今'): 'DEL 想',\n",
       " ('我今天确实不太想', '我今天'): 'DEL 想',\n",
       " ('我今天确实不太想', '我今天真'): 'DEL 想',\n",
       " ('我今天确实不太想', '我今天真的'): 'DEL 想',\n",
       " ('我今天确实不太想', '我今天真的不'): 'DEL 想',\n",
       " ('我今天确实不太想', '我今天真的不太'): 'DEL 想',\n",
       " ('我今天确实不太想', '我今天真的不太像'): 'SUB 想 ==>像',\n",
       " ('我今天确实不太想', '我今天真的不太像吃'): 'ADD 吃',\n",
       " ('我今天确实不太想', '我今天真的不太像吃饭'): 'ADD 饭',\n",
       " ('我今天确实不太想吃', '我'): 'DEL 吃',\n",
       " ('我今天确实不太想吃', '我今'): 'DEL 吃',\n",
       " ('我今天确实不太想吃', '我今天'): 'DEL 吃',\n",
       " ('我今天确实不太想吃', '我今天真'): 'DEL 吃',\n",
       " ('我今天确实不太想吃', '我今天真的'): 'DEL 吃',\n",
       " ('我今天确实不太想吃', '我今天真的不'): 'DEL 吃',\n",
       " ('我今天确实不太想吃', '我今天真的不太'): 'DEL 吃',\n",
       " ('我今天确实不太想吃', '我今天真的不太像'): 'DEL 吃',\n",
       " ('我今天确实不太想吃', '我今天真的不太像吃'): ' ',\n",
       " ('我今天确实不太想吃', '我今天真的不太像吃饭'): 'ADD 饭',\n",
       " ('我今天确实不太想吃饭', '我'): 'DEL 饭',\n",
       " ('我今天确实不太想吃饭', '我今'): 'DEL 饭',\n",
       " ('我今天确实不太想吃饭', '我今天'): 'DEL 饭',\n",
       " ('我今天确实不太想吃饭', '我今天真'): 'DEL 饭',\n",
       " ('我今天确实不太想吃饭', '我今天真的'): 'DEL 饭',\n",
       " ('我今天确实不太想吃饭', '我今天真的不'): 'DEL 饭',\n",
       " ('我今天确实不太想吃饭', '我今天真的不太'): 'DEL 饭',\n",
       " ('我今天确实不太想吃饭', '我今天真的不太像'): 'DEL 饭',\n",
       " ('我今天确实不太想吃饭', '我今天真的不太像吃'): 'DEL 饭',\n",
       " ('我今天确实不太想吃饭', '我今天真的不太像吃饭'): ' ',\n",
       " ('A', 'C'): 'SUB A ==>C',\n",
       " ((-40, 23), ((-40, 23),)): 74.73285756613352,\n",
       " ((-51, 71), ((-51, 71),)): 28.284271247461902,\n",
       " ((-51, 71), ((-51, 71), (-40, 23))): 77.52856025644243,\n",
       " ((-71, 91), ((-71, 91),)): 184.31766057543157,\n",
       " ((-71, 91), ((-71, 91), (-40, 23))): 103.01712881359542,\n",
       " ((-51, 71), ((-71, 91), (-51, 71))): 186.31274969359515,\n",
       " ((-40, 23), ((-71, 91), (-51, 71), (-40, 23))): 213.8957117262887,\n",
       " ((-40, 23), ((-51, 71), (-40, 23))): 185.6114404788268,\n",
       " ((-2, -45), ((-2, -45),)): 152.50245899656832,\n",
       " ((-40, 23), ((-2, -45), (-40, 23))): 152.6302259427353,\n",
       " ((-51, 71), ((-2, -45), (-51, 71))): 154.20885185029735,\n",
       " ((-51, 71), ((-2, -45), (-51, 71), (-40, 23))): 155.4259286330442,\n",
       " ((-40, 23), ((-71, 91), (-40, 23))): 211.10000903597978,\n",
       " ((-71, 91), ((-2, -45), (-71, 91))): 180.78673024403022,\n",
       " ((-71, 91), ((-2, -45), (-71, 91), (-40, 23))): 180.9144971901972,\n",
       " ((-71, 91), ((-2, -45), (-71, 91), (-51, 71))): 228.94170941643085,\n",
       " ((-2, -45), ((-2, -45), (-71, 91), (-51, 71), (-40, 23))): 269.3030553969383,\n",
       " ((96, 13), ((96, 13),)): 184.31766057543157,\n",
       " ((-40, 23), ((96, 13), (-40, 23))): 211.10000903597978,\n",
       " ((-51, 71), ((-51, 71), (96, 13))): 186.31274969359515,\n",
       " ((-40, 23), ((-51, 71), (96, 13), (-40, 23))): 285.1701358317156,\n",
       " ((-2, -45), ((-2, -45), (-40, 23))): 191.77449514049584,\n",
       " ((-2, -45), ((-2, -45), (96, 13))): 266.3795857604624,\n",
       " ((-40, 23), ((-2, -45), (96, 13), (-40, 23))): 266.5073527066294,\n",
       " ((-2, -45), ((-2, -45), (-51, 71), (-40, 23))): 241.01878414947637,\n",
       " ((96, 13), ((-51, 71), (96, 13))): 271.9056052100273,\n",
       " ((-2, -45), ((-2, -45), (-51, 71))): 239.80170736672952,\n",
       " ((-51, 71), ((-2, -45), (-51, 71), (96, 13))): 268.0859786141914,\n",
       " ((-51, 71), ((-2, -45), (-51, 71), (96, 13), (-40, 23))): 269.30305539693825,\n",
       " ((-71, 91), ((-71, 91), (96, 13))): 212.60193182289348,\n",
       " ((96, 13), ((-71, 91), (96, 13), (-40, 23))): 324.97713579987385,\n",
       " ((-2, -45), ((-2, -45), (-71, 91), (-40, 23))): 266.5073527066294,\n",
       " ((96, 13), ((-71, 91), (96, 13))): 298.19478733932567,\n",
       " ((-2, -45), ((-2, -45), (-71, 91))): 266.3795857604624,\n",
       " ((-71, 91), ((-2, -45), (-71, 91), (96, 13))): 294.6638570079243,\n",
       " ((-71, 91), ((-2, -45), (-71, 91), (96, 13), (-40, 23))): 294.7916239540913,\n",
       " ((96, 13), ((-71, 91), (96, 13), (-51, 71))): 300.1898764574892,\n",
       " ((-2, -45), ((-2, -45), (-71, 91), (-51, 71))): 268.0859786141914,\n",
       " ((-71, 91), ((-2, -45), (-71, 91), (96, 13), (-51, 71))): 342.8188361803249,\n",
       " ((-51, 71), ((-51, 71), (96, 13), (-40, 23))): 213.8957117262887,\n",
       " ((-71, 91), ((-71, 91), (96, 13), (-40, 23))): 239.38428028344168,\n",
       " ((-71, 91), ((-71, 91), (96, 13), (-51, 71))): 261.0456072597287,\n",
       " ((96, 13), ((-71, 91), (96, 13), (-51, 71), (-40, 23))): 327.7728384901828,\n",
       " ((96, 13),\n",
       "  ((96, 13), (-71, 91), (-51, 71), (-40, 23), (-2, -45))): 360.3524925176586}"
      ]
     },
     "execution_count": 163,
     "metadata": {},
     "output_type": "execute_result"
    }
   ],
   "source": [
    "solution"
   ]
  },
  {
   "cell_type": "code",
   "execution_count": null,
   "metadata": {
    "collapsed": true
   },
   "outputs": [],
   "source": []
  }
 ],
 "metadata": {
  "kernelspec": {
   "display_name": "Python 3",
   "language": "python",
   "name": "python3"
  },
  "language_info": {
   "codemirror_mode": {
    "name": "ipython",
    "version": 3
   },
   "file_extension": ".py",
   "mimetype": "text/x-python",
   "name": "python",
   "nbconvert_exporter": "python",
   "pygments_lexer": "ipython3",
   "version": "3.6.3"
  }
 },
 "nbformat": 4,
 "nbformat_minor": 2
}
