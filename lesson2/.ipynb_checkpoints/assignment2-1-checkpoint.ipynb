{
 "cells": [
  {
   "cell_type": "code",
   "execution_count": 4,
   "metadata": {},
   "outputs": [
    {
     "data": {
      "text/plain": [
       "'D:\\\\Cryptography\\\\Deeplearning\\\\NLP\\\\lesson2'"
      ]
     },
     "execution_count": 4,
     "metadata": {},
     "output_type": "execute_result"
    }
   ],
   "source": [
    "pwd"
   ]
  },
  {
   "cell_type": "code",
   "execution_count": 5,
   "metadata": {
    "collapsed": true
   },
   "outputs": [],
   "source": [
    "database='D:/Cryptography/Deeplearning/NLP/lesson2/export_sql_1558435/sqlResult_1558435.csv'"
   ]
  },
  {
   "cell_type": "code",
   "execution_count": 6,
   "metadata": {
    "collapsed": true
   },
   "outputs": [],
   "source": [
    "import os"
   ]
  },
  {
   "cell_type": "code",
   "execution_count": 7,
   "metadata": {},
   "outputs": [
    {
     "data": {
      "text/plain": [
       "True"
      ]
     },
     "execution_count": 7,
     "metadata": {},
     "output_type": "execute_result"
    }
   ],
   "source": [
    "os.path.exists(database)"
   ]
  },
  {
   "cell_type": "code",
   "execution_count": 8,
   "metadata": {
    "collapsed": true
   },
   "outputs": [],
   "source": [
    "import pandas as pd"
   ]
  },
  {
   "cell_type": "code",
   "execution_count": 7,
   "metadata": {
    "collapsed": true
   },
   "outputs": [],
   "source": [
    "dataframe= pd.read_csv(database, encoding = 'gb18030')"
   ]
  },
  {
   "cell_type": "code",
   "execution_count": 7,
   "metadata": {},
   "outputs": [
    {
     "data": {
      "text/html": [
       "<div>\n",
       "<style>\n",
       "    .dataframe thead tr:only-child th {\n",
       "        text-align: right;\n",
       "    }\n",
       "\n",
       "    .dataframe thead th {\n",
       "        text-align: left;\n",
       "    }\n",
       "\n",
       "    .dataframe tbody tr th {\n",
       "        vertical-align: top;\n",
       "    }\n",
       "</style>\n",
       "<table border=\"1\" class=\"dataframe\">\n",
       "  <thead>\n",
       "    <tr style=\"text-align: right;\">\n",
       "      <th></th>\n",
       "      <th>id</th>\n",
       "      <th>author</th>\n",
       "      <th>source</th>\n",
       "      <th>content</th>\n",
       "      <th>feature</th>\n",
       "      <th>title</th>\n",
       "      <th>url</th>\n",
       "    </tr>\n",
       "  </thead>\n",
       "  <tbody>\n",
       "    <tr>\n",
       "      <th>0</th>\n",
       "      <td>89617</td>\n",
       "      <td>NaN</td>\n",
       "      <td>快科技@http://www.kkj.cn/</td>\n",
       "      <td>此外，自本周（6月12日）起，除小米手机6等15款机型外，其余机型已暂停更新发布（含开发版/...</td>\n",
       "      <td>{\"type\":\"科技\",\"site\":\"cnbeta\",\"commentNum\":\"37\"...</td>\n",
       "      <td>小米MIUI 9首批机型曝光：共计15款</td>\n",
       "      <td>http://www.cnbeta.com/articles/tech/623597.htm</td>\n",
       "    </tr>\n",
       "    <tr>\n",
       "      <th>1</th>\n",
       "      <td>89616</td>\n",
       "      <td>NaN</td>\n",
       "      <td>快科技@http://www.kkj.cn/</td>\n",
       "      <td>骁龙835作为唯一通过Windows 10桌面平台认证的ARM处理器，高通强调，不会因为只考...</td>\n",
       "      <td>{\"type\":\"科技\",\"site\":\"cnbeta\",\"commentNum\":\"15\"...</td>\n",
       "      <td>骁龙835在Windows 10上的性能表现有望改善</td>\n",
       "      <td>http://www.cnbeta.com/articles/tech/623599.htm</td>\n",
       "    </tr>\n",
       "    <tr>\n",
       "      <th>2</th>\n",
       "      <td>89615</td>\n",
       "      <td>NaN</td>\n",
       "      <td>快科技@http://www.kkj.cn/</td>\n",
       "      <td>此前的一加3T搭载的是3400mAh电池，DashCharge快充规格为5V/4A。\\r\\n...</td>\n",
       "      <td>{\"type\":\"科技\",\"site\":\"cnbeta\",\"commentNum\":\"18\"...</td>\n",
       "      <td>一加手机5细节曝光：3300mAh、充半小时用1天</td>\n",
       "      <td>http://www.cnbeta.com/articles/tech/623601.htm</td>\n",
       "    </tr>\n",
       "    <tr>\n",
       "      <th>3</th>\n",
       "      <td>89614</td>\n",
       "      <td>NaN</td>\n",
       "      <td>新华社</td>\n",
       "      <td>这是6月18日在葡萄牙中部大佩德罗冈地区拍摄的被森林大火烧毁的汽车。新华社记者张立云摄\\r\\n</td>\n",
       "      <td>{\"type\":\"国际新闻\",\"site\":\"环球\",\"commentNum\":\"0\",\"j...</td>\n",
       "      <td>葡森林火灾造成至少62人死亡 政府宣布进入紧急状态（组图）</td>\n",
       "      <td>http://world.huanqiu.com/hot/2017-06/10866126....</td>\n",
       "    </tr>\n",
       "    <tr>\n",
       "      <th>4</th>\n",
       "      <td>89613</td>\n",
       "      <td>胡淑丽_MN7479</td>\n",
       "      <td>深圳大件事</td>\n",
       "      <td>（原标题：44岁女子跑深圳约会网友被拒，暴雨中裸身奔走……）\\r\\n@深圳交警微博称：昨日清...</td>\n",
       "      <td>{\"type\":\"新闻\",\"site\":\"网易热门\",\"commentNum\":\"978\",...</td>\n",
       "      <td>44岁女子约网友被拒暴雨中裸奔 交警为其披衣相随</td>\n",
       "      <td>http://news.163.com/17/0618/00/CN617P3Q0001875...</td>\n",
       "    </tr>\n",
       "    <tr>\n",
       "      <th>5</th>\n",
       "      <td>89612</td>\n",
       "      <td>张怡</td>\n",
       "      <td>中国证券报?中证网</td>\n",
       "      <td>受到A股被纳入MSCI指数的利好消息刺激，A股市场从周三开始再度上演龙马行情，周四上午金...</td>\n",
       "      <td>{\"type\":\"市场\",\"site\":\"中证网\",\"commentNum\":\"0\",\"jo...</td>\n",
       "      <td>金融股一枝独秀 配置价值犹存</td>\n",
       "      <td>http://www.cs.com.cn/gppd/201706/t20170623_533...</td>\n",
       "    </tr>\n",
       "    <tr>\n",
       "      <th>6</th>\n",
       "      <td>89611</td>\n",
       "      <td>NaN</td>\n",
       "      <td>威锋网@http://www.feng.com/</td>\n",
       "      <td>虽然至今夏普智能手机在市场上无法排得上号，已经完全没落，并于 2013 年退出中国市场，但是...</td>\n",
       "      <td>{\"type\":\"科技\",\"site\":\"cnbeta\",\"commentNum\":\"21\"...</td>\n",
       "      <td>配骁龙660 全面屏鼻祖夏普新机酝酿中</td>\n",
       "      <td>http://www.cnbeta.com/articles/tech/623603.htm</td>\n",
       "    </tr>\n",
       "    <tr>\n",
       "      <th>7</th>\n",
       "      <td>89610</td>\n",
       "      <td>申玉彬 整理</td>\n",
       "      <td>中国证券报?中证网</td>\n",
       "      <td>沙漠雄鹰：震荡有利消化套牢筹码\\r\\n　　周四开盘上证50在银行券商大蓝筹带动下一度涨近...</td>\n",
       "      <td>{\"type\":\"市场\",\"site\":\"中证网\",\"commentNum\":\"0\",\"jo...</td>\n",
       "      <td>博友早评：震荡有利消化套牢筹码</td>\n",
       "      <td>http://www.cs.com.cn/gppd/201706/t20170623_533...</td>\n",
       "    </tr>\n",
       "    <tr>\n",
       "      <th>8</th>\n",
       "      <td>89609</td>\n",
       "      <td>李杭_BJS4645</td>\n",
       "      <td>荆楚网-楚天都市报</td>\n",
       "      <td>（原标题：武汉警方一下子抓了808人，还都是俊男靓女！原来他们每天偷偷摸摸干这事！）\\r\\n...</td>\n",
       "      <td>{\"type\":\"新闻\",\"site\":\"网易热门\",\"commentNum\":\"1600\"...</td>\n",
       "      <td>武汉千余警察出动 抓获808名俊男靓女全是诈骗犯</td>\n",
       "      <td>http://news.163.com/17/0614/14/CMT9N8G80001899...</td>\n",
       "    </tr>\n",
       "    <tr>\n",
       "      <th>9</th>\n",
       "      <td>89608</td>\n",
       "      <td>吴瞬</td>\n",
       "      <td>中国证券报?中证网</td>\n",
       "      <td>6月21日，A股纳入MSCI指数尘埃落定，但当天被寄予厚望的券商股并未扛起反弹大旗。22...</td>\n",
       "      <td>{\"type\":\"市场\",\"site\":\"中证网\",\"commentNum\":\"0\",\"jo...</td>\n",
       "      <td>纳入MSCI指数 A股长期配置价值提升</td>\n",
       "      <td>http://www.cs.com.cn/gppd/201706/t20170623_533...</td>\n",
       "    </tr>\n",
       "    <tr>\n",
       "      <th>10</th>\n",
       "      <td>89607</td>\n",
       "      <td>NaN</td>\n",
       "      <td>证券时报网</td>\n",
       "      <td>证券时报网（www.stcn.com）06月23日讯\\r\\n　　据上证报道，6月初以来，...</td>\n",
       "      <td>{\"type\":\"市场\",\"site\":\"中证网\",\"commentNum\":\"0\",\"jo...</td>\n",
       "      <td>私募：蓝筹风格难切换 业绩估值相配是王道</td>\n",
       "      <td>http://www.cs.com.cn/gppd/201706/t20170623_533...</td>\n",
       "    </tr>\n",
       "    <tr>\n",
       "      <th>11</th>\n",
       "      <td>89606</td>\n",
       "      <td>NaN</td>\n",
       "      <td>证券时报网</td>\n",
       "      <td>?\\r\\n　　巨丰早评：市场将再次探底\\r\\n　　【巨丰观点】\\r\\n　　周四大盘冲高回落，...</td>\n",
       "      <td>{\"type\":\"市场\",\"site\":\"中证网\",\"commentNum\":\"0\",\"jo...</td>\n",
       "      <td>早间机构看市：市场将再次探底 两类股逢低布局</td>\n",
       "      <td>http://www.cs.com.cn/gppd/201706/t20170623_533...</td>\n",
       "    </tr>\n",
       "    <tr>\n",
       "      <th>12</th>\n",
       "      <td>89605</td>\n",
       "      <td>NaN</td>\n",
       "      <td>中国新闻网</td>\n",
       "      <td>中新网6月19日电 据外媒报道，美国底特律一名男子1976年因为一根头发被定谋杀罪，监禁41...</td>\n",
       "      <td>{\"type\":\"国际新闻\",\"site\":\"环球\",\"commentNum\":\"0\",\"j...</td>\n",
       "      <td>因为犯罪现场的一根头发，他坐冤狱41年后终获释</td>\n",
       "      <td>http://world.huanqiu.com/hot/2017-06/10866136....</td>\n",
       "    </tr>\n",
       "    <tr>\n",
       "      <th>13</th>\n",
       "      <td>89604</td>\n",
       "      <td>申玉彬 整理</td>\n",
       "      <td>中国证券报?中证网</td>\n",
       "      <td>曹先生：风格转换前的阵痛\\r\\n　　今日早盘两地低开，之后一度震荡走高，领涨的仍然是上证...</td>\n",
       "      <td>{\"type\":\"市场\",\"site\":\"中证网\",\"commentNum\":\"0\",\"jo...</td>\n",
       "      <td>博友午评：风格转换前的阵痛</td>\n",
       "      <td>http://www.cs.com.cn/gppd/201706/t20170623_533...</td>\n",
       "    </tr>\n",
       "    <tr>\n",
       "      <th>14</th>\n",
       "      <td>89603</td>\n",
       "      <td>NaN</td>\n",
       "      <td>国际在线</td>\n",
       "      <td>6月21日，MSCI在官网发布公告称，从明年6月起将中国A股纳入MSCI新兴市场指数和MSC...</td>\n",
       "      <td>{\"type\":\"观点滚动\",\"site\":\"参考消息\",\"commentNum\":\"0\",...</td>\n",
       "      <td>MSCI闯关成功会是A股的一针强心剂吗？</td>\n",
       "      <td>http://column.cankaoxiaoxi.com/plgd/2017/0623/...</td>\n",
       "    </tr>\n",
       "    <tr>\n",
       "      <th>15</th>\n",
       "      <td>89602</td>\n",
       "      <td>费天元</td>\n",
       "      <td>中国证券网</td>\n",
       "      <td>中国证券网讯（记者 费天元）沪深两市周五临近午盘出现快速跳水，沪指连续跌穿5日、10日及...</td>\n",
       "      <td>{\"type\":\"市场\",\"site\":\"中证网\",\"commentNum\":\"0\",\"jo...</td>\n",
       "      <td>地产股拉升难阻市场颓势 三大指数早盘集体跳水</td>\n",
       "      <td>http://www.cs.com.cn/gppd/201706/t20170623_533...</td>\n",
       "    </tr>\n",
       "    <tr>\n",
       "      <th>16</th>\n",
       "      <td>89601</td>\n",
       "      <td>NaN</td>\n",
       "      <td>solidot@</td>\n",
       "      <td>九成以上的源包用逐位对应的方式构建，未来版本的 Debian 还将提供验证包的工具和元数据；...</td>\n",
       "      <td>{\"type\":\"软件\",\"site\":\"cnbeta\",\"commentNum\":\"12\"...</td>\n",
       "      <td>Debian 9 Stretch 发布</td>\n",
       "      <td>http://www.cnbeta.com/articles/soft/623605.htm</td>\n",
       "    </tr>\n",
       "    <tr>\n",
       "      <th>17</th>\n",
       "      <td>89600</td>\n",
       "      <td>NaN</td>\n",
       "      <td>新华网</td>\n",
       "      <td>国歌法草案首次提请最高立法机关审议\\r\\n点击图片进入下一页\\r\\n新闻：十二届全国人大常委...</td>\n",
       "      <td>{\"type\":\"观点滚动\",\"site\":\"参考消息\",\"commentNum\":\"0\",...</td>\n",
       "      <td>[及时点]我们不需要“百变老太太”</td>\n",
       "      <td>http://column.cankaoxiaoxi.com/plgd/2017/0623/...</td>\n",
       "    </tr>\n",
       "    <tr>\n",
       "      <th>18</th>\n",
       "      <td>89599</td>\n",
       "      <td>张怡</td>\n",
       "      <td>中国证券报?中证网</td>\n",
       "      <td>中证网讯 （本报记者 张怡）今日，三板做市指数继续低开下行，盘中最低触及1057.91点...</td>\n",
       "      <td>{\"type\":\"市场\",\"site\":\"中证网\",\"commentNum\":\"0\",\"jo...</td>\n",
       "      <td>新三板午评：三板做市指数刷新阶段低点</td>\n",
       "      <td>http://www.cs.com.cn/gppd/201706/t20170623_533...</td>\n",
       "    </tr>\n",
       "    <tr>\n",
       "      <th>19</th>\n",
       "      <td>89598</td>\n",
       "      <td>周佳 整理</td>\n",
       "      <td>中国证券报?中证网</td>\n",
       "      <td>提示声明：\\r\\n　　本文涉及的行业及个股分析来源于券商研究报告，仅为分析人士对该行业及...</td>\n",
       "      <td>{\"type\":\"市场\",\"site\":\"中证网\",\"commentNum\":\"0\",\"jo...</td>\n",
       "      <td>机构解析：下周热点板块及个股探秘（附股）</td>\n",
       "      <td>http://www.cs.com.cn/gppd/hyyj/201706/t2017062...</td>\n",
       "    </tr>\n",
       "    <tr>\n",
       "      <th>20</th>\n",
       "      <td>89597</td>\n",
       "      <td>NaN</td>\n",
       "      <td>泡泡网</td>\n",
       "      <td>原标题：叙利亚被“袭机”事件惹怒俄罗斯 警告将瞄准美战机\\r\\n　　海外网6月19日电 ...</td>\n",
       "      <td>{\"type\":\"军事\",\"site\":\"新浪\",\"commentNum\":\" 95\",\"j...</td>\n",
       "      <td>美军击落叙战机激怒俄罗斯 俄警告将瞄准美军战机</td>\n",
       "      <td>http://mil.news.sina.com.cn/world/2017-06-20/d...</td>\n",
       "    </tr>\n",
       "    <tr>\n",
       "      <th>21</th>\n",
       "      <td>89596</td>\n",
       "      <td>周佳 整理</td>\n",
       "      <td>中国证券报?中证网</td>\n",
       "      <td>提示声明：\\r\\n　　本文涉及的行业及个股分析来源于券商研究报告，仅为分析人士对该行业及...</td>\n",
       "      <td>{\"type\":\"市场\",\"site\":\"中证网\",\"commentNum\":\"0\",\"jo...</td>\n",
       "      <td>机构推荐：下周具备布局潜力金股</td>\n",
       "      <td>http://www.cs.com.cn/gppd/tzpj/201706/t2017062...</td>\n",
       "    </tr>\n",
       "    <tr>\n",
       "      <th>22</th>\n",
       "      <td>89595</td>\n",
       "      <td>NaN</td>\n",
       "      <td>威锋网@http://www.feng.com/</td>\n",
       "      <td>就在这几天，一位微博名为“摩卡 RQ ”的手机、芯片、移动互联网三界知名独立评论人爆料称，O...</td>\n",
       "      <td>{\"type\":\"科技\",\"site\":\"cnbeta\",\"commentNum\":\"56\"...</td>\n",
       "      <td>业内人士解释为什么OPPO供货能力强无敌</td>\n",
       "      <td>http://www.cnbeta.com/articles/tech/623607.htm</td>\n",
       "    </tr>\n",
       "    <tr>\n",
       "      <th>23</th>\n",
       "      <td>89594</td>\n",
       "      <td>张怡</td>\n",
       "      <td>中国证券报?中证网</td>\n",
       "      <td>中证网讯 （本报记者 张怡）与此前两日蓝筹股强势格局不同，周五，A股市场主要指数低开之后...</td>\n",
       "      <td>{\"type\":\"市场\",\"site\":\"中证网\",\"commentNum\":\"0\",\"jo...</td>\n",
       "      <td>中证午评：A股跳水 蓝筹暂歇热点熄火</td>\n",
       "      <td>http://www.cs.com.cn/gppd/201706/t20170623_533...</td>\n",
       "    </tr>\n",
       "    <tr>\n",
       "      <th>24</th>\n",
       "      <td>89593</td>\n",
       "      <td>屠震林 PS040</td>\n",
       "      <td>凤凰体育</td>\n",
       "      <td>北京时间6月20日，江苏苏宁足球俱乐部发布了足协杯第四轮江苏苏宁易购队主场对阵河南建业队的官...</td>\n",
       "      <td>{\"type\":\"体育\",\"site\":\"凤凰\",\"commentNum\":\"1\",\"joi...</td>\n",
       "      <td>“齐心协力”--江苏苏宁发布足协杯对阵河南建业海报</td>\n",
       "      <td>http://sports.ifeng.com/a/20170620/51284188_0....</td>\n",
       "    </tr>\n",
       "    <tr>\n",
       "      <th>25</th>\n",
       "      <td>89592</td>\n",
       "      <td>NaN</td>\n",
       "      <td>新华网</td>\n",
       "      <td>当地时间2017年6月17日，土耳其马尼萨省，在土耳其第1步兵训练大队司令部军营，590名土...</td>\n",
       "      <td>{\"type\":\"国际新闻\",\"site\":\"环球\",\"commentNum\":\"0\",\"j...</td>\n",
       "      <td>土耳其近590名士兵疑食物中毒 被送往医院救治（组图）</td>\n",
       "      <td>http://world.huanqiu.com/hot/2017-06/10866176....</td>\n",
       "    </tr>\n",
       "    <tr>\n",
       "      <th>26</th>\n",
       "      <td>89591</td>\n",
       "      <td>NaN</td>\n",
       "      <td>雷锋网@</td>\n",
       "      <td>今年3月份，王劲从百度自动驾驶事业部任上离职，随后创办景驰科技。在随后的日子里，景驰很快组建...</td>\n",
       "      <td>{\"type\":\"科技\",\"site\":\"cnbeta\",\"commentNum\":\"4\",...</td>\n",
       "      <td>又一自动驾驶公司拿加州路测牌照 这回是王劲的景驰</td>\n",
       "      <td>http://www.cnbeta.com/articles/tech/623609.htm</td>\n",
       "    </tr>\n",
       "    <tr>\n",
       "      <th>27</th>\n",
       "      <td>89590</td>\n",
       "      <td>NaN</td>\n",
       "      <td>新华网</td>\n",
       "      <td>英国与欧盟的“脱欧”谈判于19日正式开始。然而此时，英国首相特雷莎·梅正面临着空前的政治压力...</td>\n",
       "      <td>{\"type\":\"国际新闻\",\"site\":\"环球\",\"commentNum\":\"0\",\"j...</td>\n",
       "      <td>火灾与脱欧炙烤英国首相 特雷莎·梅面临空前政治压力</td>\n",
       "      <td>http://world.huanqiu.com/hot/2017-06/10866198....</td>\n",
       "    </tr>\n",
       "    <tr>\n",
       "      <th>28</th>\n",
       "      <td>89589</td>\n",
       "      <td>NaN</td>\n",
       "      <td>中超球评</td>\n",
       "      <td>中超联赛第13轮比赛已经全部结束，这轮比赛中最让人觉得结果有些出乎意料的，莫过于卡佩罗执教江...</td>\n",
       "      <td>{\"type\":\"体育\",\"site\":\"凤凰\",\"commentNum\":\"0\",\"joi...</td>\n",
       "      <td>江苏保级真悬了 近3年1铁律证明其几乎保级无望</td>\n",
       "      <td>http://sports.ifeng.com/a/20170620/51284719_0....</td>\n",
       "    </tr>\n",
       "    <tr>\n",
       "      <th>29</th>\n",
       "      <td>89588</td>\n",
       "      <td>NaN</td>\n",
       "      <td>中国经济周刊</td>\n",
       "      <td>文章导读： 供应商围堵追债、20多位高管离职、上千人被裁员、孤注一掷史上最大规模的降价…...</td>\n",
       "      <td>{\"type\":\"科技\",\"site\":\"新浪\",\"commentNum\":\" 6\",\"jo...</td>\n",
       "      <td>乐视危局：靠卖资产续命 员工被猎头大规模拉黑</td>\n",
       "      <td>http://tech.sina.com.cn/i/2017-06-20/doc-ifyhf...</td>\n",
       "    </tr>\n",
       "    <tr>\n",
       "      <th>...</th>\n",
       "      <td>...</td>\n",
       "      <td>...</td>\n",
       "      <td>...</td>\n",
       "      <td>...</td>\n",
       "      <td>...</td>\n",
       "      <td>...</td>\n",
       "      <td>...</td>\n",
       "    </tr>\n",
       "    <tr>\n",
       "      <th>89581</th>\n",
       "      <td>30</td>\n",
       "      <td>INACIO ROSA</td>\n",
       "      <td>新华社</td>\n",
       "      <td>新华社照片，外代，2017年6月7日\\n（外代二线）足球——世预赛：葡萄牙备战\\n6月6日，...</td>\n",
       "      <td>{\"type\":\"足球\",\"site\":\"新华社\",\"url\":\"http://home.x...</td>\n",
       "      <td>[2]（外代二线）足球——世预赛：葡萄牙备战</td>\n",
       "      <td>http://home.xinhua-news.com/gdsdetailxhsnew/22...</td>\n",
       "    </tr>\n",
       "    <tr>\n",
       "      <th>89582</th>\n",
       "      <td>29</td>\n",
       "      <td>INACIO ROSA</td>\n",
       "      <td>新华社</td>\n",
       "      <td>新华社照片，外代，2017年6月7日\\n（外代二线）足球——世预赛：葡萄牙备战\\n6月6日，...</td>\n",
       "      <td>{\"type\":\"足球\",\"site\":\"新华社\",\"url\":\"http://home.x...</td>\n",
       "      <td>[3]（外代二线）足球——世预赛：葡萄牙备战</td>\n",
       "      <td>http://home.xinhua-news.com/gdsdetailxhsnew/22...</td>\n",
       "    </tr>\n",
       "    <tr>\n",
       "      <th>89583</th>\n",
       "      <td>28</td>\n",
       "      <td>INACIO ROSA</td>\n",
       "      <td>新华社</td>\n",
       "      <td>新华社照片，外代，2017年6月7日\\n（外代二线）足球——世预赛：葡萄牙备战\\n6月6日，...</td>\n",
       "      <td>{\"type\":\"足球\",\"site\":\"新华社\",\"url\":\"http://home.x...</td>\n",
       "      <td>[4]（外代二线）足球——世预赛：葡萄牙备战</td>\n",
       "      <td>http://home.xinhua-news.com/gdsdetailxhsnew/22...</td>\n",
       "    </tr>\n",
       "    <tr>\n",
       "      <th>89584</th>\n",
       "      <td>27</td>\n",
       "      <td>INACIO ROSA</td>\n",
       "      <td>新华社</td>\n",
       "      <td>新华社照片，外代，2017年6月7日\\n（外代二线）足球——世预赛：葡萄牙备战\\n6月6日，...</td>\n",
       "      <td>{\"type\":\"足球\",\"site\":\"新华社\",\"url\":\"http://home.x...</td>\n",
       "      <td>[5]（外代二线）足球——世预赛：葡萄牙备战</td>\n",
       "      <td>http://home.xinhua-news.com/gdsdetailxhsnew/22...</td>\n",
       "    </tr>\n",
       "    <tr>\n",
       "      <th>89585</th>\n",
       "      <td>26</td>\n",
       "      <td>INACIO ROSA</td>\n",
       "      <td>新华社</td>\n",
       "      <td>新华社照片，外代，2017年6月7日\\n（外代二线）足球——世预赛：葡萄牙备战\\n6月6日，...</td>\n",
       "      <td>{\"type\":\"足球\",\"site\":\"新华社\",\"url\":\"http://home.x...</td>\n",
       "      <td>[6]（外代二线）足球——世预赛：葡萄牙备战</td>\n",
       "      <td>http://home.xinhua-news.com/gdsdetailxhsnew/22...</td>\n",
       "    </tr>\n",
       "    <tr>\n",
       "      <th>89586</th>\n",
       "      <td>25</td>\n",
       "      <td>INACIO ROSA</td>\n",
       "      <td>新华社</td>\n",
       "      <td>新华社照片，外代，2017年6月7日\\n（外代二线）足球——世预赛：葡萄牙备战\\n6月6日，...</td>\n",
       "      <td>{\"type\":\"足球\",\"site\":\"新华社\",\"url\":\"http://home.x...</td>\n",
       "      <td>[7]（外代二线）足球——世预赛：葡萄牙备战</td>\n",
       "      <td>http://home.xinhua-news.com/gdsdetailxhsnew/22...</td>\n",
       "    </tr>\n",
       "    <tr>\n",
       "      <th>89587</th>\n",
       "      <td>24</td>\n",
       "      <td>LOVELY GHOSH</td>\n",
       "      <td>新华社</td>\n",
       "      <td>新华社照片，外代，2017年6月7日\\n（外代二线）蚕丝生产\\n6月6日，在印度特里普拉邦特...</td>\n",
       "      <td>{\"type\":\"其它\",\"site\":\"新华社\",\"url\":\"http://home.x...</td>\n",
       "      <td>[1]（外代二线）蚕丝生产</td>\n",
       "      <td>http://home.xinhua-news.com/gdsdetailxhsnew/22...</td>\n",
       "    </tr>\n",
       "    <tr>\n",
       "      <th>89588</th>\n",
       "      <td>23</td>\n",
       "      <td>LOVELY GHOSH</td>\n",
       "      <td>新华社</td>\n",
       "      <td>新华社照片，外代，2017年6月7日\\n（外代二线）蚕丝生产\\n6月6日，在印度特里普拉邦特...</td>\n",
       "      <td>{\"type\":\"其它\",\"site\":\"新华社\",\"url\":\"http://home.x...</td>\n",
       "      <td>[2]（外代二线）蚕丝生产</td>\n",
       "      <td>http://home.xinhua-news.com/gdsdetailxhsnew/22...</td>\n",
       "    </tr>\n",
       "    <tr>\n",
       "      <th>89589</th>\n",
       "      <td>22</td>\n",
       "      <td>LOVELY GHOSH</td>\n",
       "      <td>新华社</td>\n",
       "      <td>新华社照片，外代，2017年6月7日\\n（外代二线）蚕丝生产\\n5月30日，在印度特里普拉邦...</td>\n",
       "      <td>{\"type\":\"其它\",\"site\":\"新华社\",\"url\":\"http://home.x...</td>\n",
       "      <td>[3]（外代二线）蚕丝生产</td>\n",
       "      <td>http://home.xinhua-news.com/gdsdetailxhsnew/22...</td>\n",
       "    </tr>\n",
       "    <tr>\n",
       "      <th>89590</th>\n",
       "      <td>21</td>\n",
       "      <td>LOVELY GHOSH</td>\n",
       "      <td>新华社</td>\n",
       "      <td>新华社照片，外代，2017年6月7日\\n（外代二线）蚕丝生产\\n6月6日，在印度特里普拉邦特...</td>\n",
       "      <td>{\"type\":\"其它\",\"site\":\"新华社\",\"url\":\"http://home.x...</td>\n",
       "      <td>[4]（外代二线）蚕丝生产</td>\n",
       "      <td>http://home.xinhua-news.com/gdsdetailxhsnew/22...</td>\n",
       "    </tr>\n",
       "    <tr>\n",
       "      <th>89591</th>\n",
       "      <td>20</td>\n",
       "      <td>LOVELY GHOSH</td>\n",
       "      <td>新华社</td>\n",
       "      <td>新华社照片，外代，2017年6月7日\\n（外代二线）蚕丝生产\\n5月30日，在印度特里普拉邦...</td>\n",
       "      <td>{\"type\":\"其它\",\"site\":\"新华社\",\"url\":\"http://home.x...</td>\n",
       "      <td>[5]（外代二线）蚕丝生产</td>\n",
       "      <td>http://home.xinhua-news.com/gdsdetailxhsnew/22...</td>\n",
       "    </tr>\n",
       "    <tr>\n",
       "      <th>89592</th>\n",
       "      <td>19</td>\n",
       "      <td>张旌</td>\n",
       "      <td>新华社</td>\n",
       "      <td>\\n\\n2017年4月27日，在首尔光化门广场，民众在集会上手举反“萨德”标语。（新华社记者...</td>\n",
       "      <td>{\"type\":\"其它\",\"site\":\"新华社\",\"url\":\"http://home.x...</td>\n",
       "      <td>“萨德”环评将重启　在韩部署或推迟一年</td>\n",
       "      <td>http://home.xinhua-news.com/gdsdetailxhsnew/22...</td>\n",
       "    </tr>\n",
       "    <tr>\n",
       "      <th>89593</th>\n",
       "      <td>18</td>\n",
       "      <td>NaN</td>\n",
       "      <td>新华社</td>\n",
       "      <td>\\n新华社巴格达6月6日电（记者魏玉栋　程帅朋）伊拉克西部安巴尔省一处市场6日晚发生自杀式爆...</td>\n",
       "      <td>{\"type\":\"其它\",\"site\":\"新华社\",\"url\":\"http://home.x...</td>\n",
       "      <td>伊拉克安巴尔省发生自杀式袭击７人死亡</td>\n",
       "      <td>http://home.xinhua-news.com/gdsdetailxhsnew/22...</td>\n",
       "    </tr>\n",
       "    <tr>\n",
       "      <th>89594</th>\n",
       "      <td>17</td>\n",
       "      <td>LISELOTTE SABROE</td>\n",
       "      <td>新华社</td>\n",
       "      <td>新华社照片，外代，2017年6月7日\\n（外代二线）足球——国际友谊赛：德国平丹麦\\n6月6...</td>\n",
       "      <td>{\"type\":\"足球\",\"site\":\"新华社\",\"url\":\"http://home.x...</td>\n",
       "      <td>[1]（外代二线）足球——国际友谊赛：德国平丹麦</td>\n",
       "      <td>http://home.xinhua-news.com/gdsdetailxhsnew/22...</td>\n",
       "    </tr>\n",
       "    <tr>\n",
       "      <th>89595</th>\n",
       "      <td>16</td>\n",
       "      <td>LISELOTTE SABROE</td>\n",
       "      <td>新华社</td>\n",
       "      <td>新华社照片，外代，2017年6月7日\\n（外代二线）足球——国际友谊赛：德国平丹麦\\n6月6...</td>\n",
       "      <td>{\"type\":\"足球\",\"site\":\"新华社\",\"url\":\"http://home.x...</td>\n",
       "      <td>[3]（外代二线）足球——国际友谊赛：德国平丹麦</td>\n",
       "      <td>http://home.xinhua-news.com/gdsdetailxhsnew/22...</td>\n",
       "    </tr>\n",
       "    <tr>\n",
       "      <th>89596</th>\n",
       "      <td>15</td>\n",
       "      <td>LISELOTTE SABROE</td>\n",
       "      <td>新华社</td>\n",
       "      <td>新华社照片，外代，2017年6月7日\\n（外代二线）足球——国际友谊赛：德国平丹麦\\n6月6...</td>\n",
       "      <td>{\"type\":\"足球\",\"site\":\"新华社\",\"url\":\"http://home.x...</td>\n",
       "      <td>[2]（外代二线）足球——国际友谊赛：德国平丹麦</td>\n",
       "      <td>http://home.xinhua-news.com/gdsdetailxhsnew/22...</td>\n",
       "    </tr>\n",
       "    <tr>\n",
       "      <th>89597</th>\n",
       "      <td>14</td>\n",
       "      <td>LISELOTTE SABROE</td>\n",
       "      <td>新华社</td>\n",
       "      <td>新华社照片，外代，2017年6月7日\\n（外代二线）足球——国际友谊赛：德国平丹麦\\n6月6...</td>\n",
       "      <td>{\"type\":\"足球\",\"site\":\"新华社\",\"url\":\"http://home.x...</td>\n",
       "      <td>[4]（外代二线）足球——国际友谊赛：德国平丹麦</td>\n",
       "      <td>http://home.xinhua-news.com/gdsdetailxhsnew/22...</td>\n",
       "    </tr>\n",
       "    <tr>\n",
       "      <th>89598</th>\n",
       "      <td>13</td>\n",
       "      <td>LISELOTTE SABROE</td>\n",
       "      <td>新华社</td>\n",
       "      <td>新华社照片，外代，2017年6月7日\\n（外代二线）足球——国际友谊赛：德国平丹麦\\n6月6...</td>\n",
       "      <td>{\"type\":\"足球\",\"site\":\"新华社\",\"url\":\"http://home.x...</td>\n",
       "      <td>[6]（外代二线）足球——国际友谊赛：德国平丹麦</td>\n",
       "      <td>http://home.xinhua-news.com/gdsdetailxhsnew/22...</td>\n",
       "    </tr>\n",
       "    <tr>\n",
       "      <th>89599</th>\n",
       "      <td>12</td>\n",
       "      <td>LISELOTTE SABROE</td>\n",
       "      <td>新华社</td>\n",
       "      <td>新华社照片，外代，2017年6月7日\\n（外代二线）足球——国际友谊赛：德国平丹麦\\n6月6...</td>\n",
       "      <td>{\"type\":\"足球\",\"site\":\"新华社\",\"url\":\"http://home.x...</td>\n",
       "      <td>[5]（外代二线）足球——国际友谊赛：德国平丹麦</td>\n",
       "      <td>http://home.xinhua-news.com/gdsdetailxhsnew/22...</td>\n",
       "    </tr>\n",
       "    <tr>\n",
       "      <th>89600</th>\n",
       "      <td>11</td>\n",
       "      <td>LISELOTTE SABROE</td>\n",
       "      <td>新华社</td>\n",
       "      <td>新华社照片，外代，2017年6月7日\\n（外代二线）足球——国际友谊赛：德国平丹麦\\n6月6...</td>\n",
       "      <td>{\"type\":\"足球\",\"site\":\"新华社\",\"url\":\"http://home.x...</td>\n",
       "      <td>[8]（外代二线）足球——国际友谊赛：德国平丹麦</td>\n",
       "      <td>http://home.xinhua-news.com/gdsdetailxhsnew/22...</td>\n",
       "    </tr>\n",
       "    <tr>\n",
       "      <th>89601</th>\n",
       "      <td>10</td>\n",
       "      <td>LISELOTTE SABROE</td>\n",
       "      <td>新华社</td>\n",
       "      <td>新华社照片，外代，2017年6月7日\\n（外代二线）足球——国际友谊赛：德国平丹麦\\n6月6...</td>\n",
       "      <td>{\"type\":\"足球\",\"site\":\"新华社\",\"url\":\"http://home.x...</td>\n",
       "      <td>[7]（外代二线）足球——国际友谊赛：德国平丹麦</td>\n",
       "      <td>http://home.xinhua-news.com/gdsdetailxhsnew/22...</td>\n",
       "    </tr>\n",
       "    <tr>\n",
       "      <th>89602</th>\n",
       "      <td>9</td>\n",
       "      <td>LISELOTTE SABROE</td>\n",
       "      <td>新华社</td>\n",
       "      <td>新华社照片，外代，2017年6月7日\\n（外代二线）足球——国际友谊赛：德国平丹麦\\n6月6...</td>\n",
       "      <td>{\"type\":\"足球\",\"site\":\"新华社\",\"url\":\"http://home.x...</td>\n",
       "      <td>[9]（外代二线）足球——国际友谊赛：德国平丹麦</td>\n",
       "      <td>http://home.xinhua-news.com/gdsdetailxhsnew/22...</td>\n",
       "    </tr>\n",
       "    <tr>\n",
       "      <th>89603</th>\n",
       "      <td>8</td>\n",
       "      <td>郑焕松</td>\n",
       "      <td>新华社</td>\n",
       "      <td>新华社照片，北京，2017年6月7日\\n电影《血战湘江》举行清华大学巡映活动\\n6月6日，电...</td>\n",
       "      <td>{\"type\":\"社会\",\"site\":\"新华社\",\"url\":\"http://home.x...</td>\n",
       "      <td>（文化）（1）电影《血战湘江》举行清华大学巡映活动</td>\n",
       "      <td>http://home.xinhua-news.com/gdsdetailxhsnew/22...</td>\n",
       "    </tr>\n",
       "    <tr>\n",
       "      <th>89604</th>\n",
       "      <td>7</td>\n",
       "      <td>郑焕松</td>\n",
       "      <td>新华社</td>\n",
       "      <td>新华社照片，北京，2017年6月7日\\n电影《血战湘江》举行清华大学巡映活动\\n6月6日，清...</td>\n",
       "      <td>{\"type\":\"社会\",\"site\":\"新华社\",\"url\":\"http://home.x...</td>\n",
       "      <td>（文化）（2）电影《血战湘江》举行清华大学巡映活动</td>\n",
       "      <td>http://home.xinhua-news.com/gdsdetailxhsnew/22...</td>\n",
       "    </tr>\n",
       "    <tr>\n",
       "      <th>89605</th>\n",
       "      <td>6</td>\n",
       "      <td>郑焕松</td>\n",
       "      <td>新华社</td>\n",
       "      <td>新华社照片，北京，2017年6月7日\\n电影《血战湘江》举行清华大学巡映活动\\n6月6日，电...</td>\n",
       "      <td>{\"type\":\"社会\",\"site\":\"新华社\",\"url\":\"http://home.x...</td>\n",
       "      <td>（文化）（3）电影《血战湘江》举行清华大学巡映活动</td>\n",
       "      <td>http://home.xinhua-news.com/gdsdetailxhsnew/22...</td>\n",
       "    </tr>\n",
       "    <tr>\n",
       "      <th>89606</th>\n",
       "      <td>5</td>\n",
       "      <td>邹峥</td>\n",
       "      <td>新华社</td>\n",
       "      <td>新华社照片，多伦多，2017年6月7日\\n（体育）（2）冰球——国家女子冰球队海外选秀在多伦...</td>\n",
       "      <td>{\"type\":\"冰球\",\"site\":\"新华社\",\"url\":\"http://home.x...</td>\n",
       "      <td>（体育）（2）冰球——国家女子冰球队海外选秀在多伦多展开</td>\n",
       "      <td>http://home.xinhua-news.com/gdsdetailxhsnew/22...</td>\n",
       "    </tr>\n",
       "    <tr>\n",
       "      <th>89607</th>\n",
       "      <td>4</td>\n",
       "      <td>王衡</td>\n",
       "      <td>新华社</td>\n",
       "      <td>新华社兰州6月3日电（王衡、徐丹）记者从甘肃省交通运输厅获悉，甘肃近日集中开建高速公路、普通...</td>\n",
       "      <td>{\"type\":\"宏观经济\",\"site\":\"新华社\",\"url\":\"http://home...</td>\n",
       "      <td>（经济）甘肃集中开工35个重点交通建设项目</td>\n",
       "      <td>http://home.xinhua-news.com/gdsdetailxhsnew/22...</td>\n",
       "    </tr>\n",
       "    <tr>\n",
       "      <th>89608</th>\n",
       "      <td>3</td>\n",
       "      <td>张旌</td>\n",
       "      <td>新华社</td>\n",
       "      <td>\\n\\n2017年5月29日，在法国巴黎郊外的凡尔赛宫，法国总统马克龙出席新闻发布会。（新华...</td>\n",
       "      <td>{\"type\":\"其它\",\"site\":\"新华社\",\"url\":\"http://home.x...</td>\n",
       "      <td>法国议会选举　马克龙有望获“压倒性胜利”</td>\n",
       "      <td>http://home.xinhua-news.com/gdsdetailxhsnew/22...</td>\n",
       "    </tr>\n",
       "    <tr>\n",
       "      <th>89609</th>\n",
       "      <td>2</td>\n",
       "      <td>夏文辉</td>\n",
       "      <td>新华社</td>\n",
       "      <td>\\n\\n2017年5月25日，在美国马萨诸塞州剑桥市，哈佛大学毕业生在毕业典礼上欢呼。（新华...</td>\n",
       "      <td>{\"type\":\"其它\",\"site\":\"新华社\",\"url\":\"http://home.x...</td>\n",
       "      <td>哈佛大学为何取消这些新生入选资格？</td>\n",
       "      <td>http://home.xinhua-news.com/gdsdetailxhsnew/22...</td>\n",
       "    </tr>\n",
       "    <tr>\n",
       "      <th>89610</th>\n",
       "      <td>1</td>\n",
       "      <td>王子江 张寒</td>\n",
       "      <td>新华社</td>\n",
       "      <td>新华社德国杜塞尔多夫６月６日电题：乒乓女球迷　\\n　　新华社记者王子江、张寒\\n　　熊老...</td>\n",
       "      <td>{\"type\":\"体育\",\"site\":\"新华社\",\"url\":\"http://home.x...</td>\n",
       "      <td>（体育）题：乒乓女球迷</td>\n",
       "      <td>http://home.xinhua-news.com/gdsdetailxhsnew/22...</td>\n",
       "    </tr>\n",
       "  </tbody>\n",
       "</table>\n",
       "<p>89611 rows × 7 columns</p>\n",
       "</div>"
      ],
      "text/plain": [
       "          id            author                    source  \\\n",
       "0      89617               NaN    快科技@http://www.kkj.cn/   \n",
       "1      89616               NaN    快科技@http://www.kkj.cn/   \n",
       "2      89615               NaN    快科技@http://www.kkj.cn/   \n",
       "3      89614               NaN                       新华社   \n",
       "4      89613        胡淑丽_MN7479                     深圳大件事   \n",
       "5      89612                张怡                 中国证券报?中证网   \n",
       "6      89611               NaN  威锋网@http://www.feng.com/   \n",
       "7      89610            申玉彬 整理                 中国证券报?中证网   \n",
       "8      89609        李杭_BJS4645                 荆楚网-楚天都市报   \n",
       "9      89608                吴瞬                 中国证券报?中证网   \n",
       "10     89607               NaN                     证券时报网   \n",
       "11     89606               NaN                     证券时报网   \n",
       "12     89605               NaN                     中国新闻网   \n",
       "13     89604            申玉彬 整理                 中国证券报?中证网   \n",
       "14     89603               NaN                      国际在线   \n",
       "15     89602               费天元                     中国证券网   \n",
       "16     89601               NaN                  solidot@   \n",
       "17     89600               NaN                       新华网   \n",
       "18     89599                张怡                 中国证券报?中证网   \n",
       "19     89598             周佳 整理                 中国证券报?中证网   \n",
       "20     89597               NaN                       泡泡网   \n",
       "21     89596             周佳 整理                 中国证券报?中证网   \n",
       "22     89595               NaN  威锋网@http://www.feng.com/   \n",
       "23     89594                张怡                 中国证券报?中证网   \n",
       "24     89593         屠震林 PS040                      凤凰体育   \n",
       "25     89592               NaN                       新华网   \n",
       "26     89591               NaN                      雷锋网@   \n",
       "27     89590               NaN                       新华网   \n",
       "28     89589               NaN                      中超球评   \n",
       "29     89588               NaN                    中国经济周刊   \n",
       "...      ...               ...                       ...   \n",
       "89581     30       INACIO ROSA                       新华社   \n",
       "89582     29       INACIO ROSA                       新华社   \n",
       "89583     28       INACIO ROSA                       新华社   \n",
       "89584     27       INACIO ROSA                       新华社   \n",
       "89585     26       INACIO ROSA                       新华社   \n",
       "89586     25       INACIO ROSA                       新华社   \n",
       "89587     24      LOVELY GHOSH                       新华社   \n",
       "89588     23      LOVELY GHOSH                       新华社   \n",
       "89589     22      LOVELY GHOSH                       新华社   \n",
       "89590     21      LOVELY GHOSH                       新华社   \n",
       "89591     20      LOVELY GHOSH                       新华社   \n",
       "89592     19                张旌                       新华社   \n",
       "89593     18               NaN                       新华社   \n",
       "89594     17  LISELOTTE SABROE                       新华社   \n",
       "89595     16  LISELOTTE SABROE                       新华社   \n",
       "89596     15  LISELOTTE SABROE                       新华社   \n",
       "89597     14  LISELOTTE SABROE                       新华社   \n",
       "89598     13  LISELOTTE SABROE                       新华社   \n",
       "89599     12  LISELOTTE SABROE                       新华社   \n",
       "89600     11  LISELOTTE SABROE                       新华社   \n",
       "89601     10  LISELOTTE SABROE                       新华社   \n",
       "89602      9  LISELOTTE SABROE                       新华社   \n",
       "89603      8               郑焕松                       新华社   \n",
       "89604      7               郑焕松                       新华社   \n",
       "89605      6               郑焕松                       新华社   \n",
       "89606      5                邹峥                       新华社   \n",
       "89607      4                王衡                       新华社   \n",
       "89608      3                张旌                       新华社   \n",
       "89609      2               夏文辉                       新华社   \n",
       "89610      1            王子江 张寒                       新华社   \n",
       "\n",
       "                                                 content  \\\n",
       "0      此外，自本周（6月12日）起，除小米手机6等15款机型外，其余机型已暂停更新发布（含开发版/...   \n",
       "1      骁龙835作为唯一通过Windows 10桌面平台认证的ARM处理器，高通强调，不会因为只考...   \n",
       "2      此前的一加3T搭载的是3400mAh电池，DashCharge快充规格为5V/4A。\\r\\n...   \n",
       "3        这是6月18日在葡萄牙中部大佩德罗冈地区拍摄的被森林大火烧毁的汽车。新华社记者张立云摄\\r\\n   \n",
       "4      （原标题：44岁女子跑深圳约会网友被拒，暴雨中裸身奔走……）\\r\\n@深圳交警微博称：昨日清...   \n",
       "5      　　受到A股被纳入MSCI指数的利好消息刺激，A股市场从周三开始再度上演龙马行情，周四上午金...   \n",
       "6      虽然至今夏普智能手机在市场上无法排得上号，已经完全没落，并于 2013 年退出中国市场，但是...   \n",
       "7      　　沙漠雄鹰：震荡有利消化套牢筹码\\r\\n　　周四开盘上证50在银行券商大蓝筹带动下一度涨近...   \n",
       "8      （原标题：武汉警方一下子抓了808人，还都是俊男靓女！原来他们每天偷偷摸摸干这事！）\\r\\n...   \n",
       "9      　　6月21日，A股纳入MSCI指数尘埃落定，但当天被寄予厚望的券商股并未扛起反弹大旗。22...   \n",
       "10     　　证券时报网（www.stcn.com）06月23日讯\\r\\n　　据上证报道，6月初以来，...   \n",
       "11     ?\\r\\n　　巨丰早评：市场将再次探底\\r\\n　　【巨丰观点】\\r\\n　　周四大盘冲高回落，...   \n",
       "12     中新网6月19日电 据外媒报道，美国底特律一名男子1976年因为一根头发被定谋杀罪，监禁41...   \n",
       "13     　　曹先生：风格转换前的阵痛\\r\\n　　今日早盘两地低开，之后一度震荡走高，领涨的仍然是上证...   \n",
       "14     6月21日，MSCI在官网发布公告称，从明年6月起将中国A股纳入MSCI新兴市场指数和MSC...   \n",
       "15     　　中国证券网讯（记者 费天元）沪深两市周五临近午盘出现快速跳水，沪指连续跌穿5日、10日及...   \n",
       "16     九成以上的源包用逐位对应的方式构建，未来版本的 Debian 还将提供验证包的工具和元数据；...   \n",
       "17     国歌法草案首次提请最高立法机关审议\\r\\n点击图片进入下一页\\r\\n新闻：十二届全国人大常委...   \n",
       "18     　　中证网讯 （本报记者 张怡）今日，三板做市指数继续低开下行，盘中最低触及1057.91点...   \n",
       "19     　　提示声明：\\r\\n　　本文涉及的行业及个股分析来源于券商研究报告，仅为分析人士对该行业及...   \n",
       "20     　　原标题：叙利亚被“袭机”事件惹怒俄罗斯 警告将瞄准美战机\\r\\n　　海外网6月19日电 ...   \n",
       "21     　　提示声明：\\r\\n　　本文涉及的行业及个股分析来源于券商研究报告，仅为分析人士对该行业及...   \n",
       "22     就在这几天，一位微博名为“摩卡 RQ ”的手机、芯片、移动互联网三界知名独立评论人爆料称，O...   \n",
       "23     　　中证网讯 （本报记者 张怡）与此前两日蓝筹股强势格局不同，周五，A股市场主要指数低开之后...   \n",
       "24     北京时间6月20日，江苏苏宁足球俱乐部发布了足协杯第四轮江苏苏宁易购队主场对阵河南建业队的官...   \n",
       "25     当地时间2017年6月17日，土耳其马尼萨省，在土耳其第1步兵训练大队司令部军营，590名土...   \n",
       "26     今年3月份，王劲从百度自动驾驶事业部任上离职，随后创办景驰科技。在随后的日子里，景驰很快组建...   \n",
       "27     英国与欧盟的“脱欧”谈判于19日正式开始。然而此时，英国首相特雷莎·梅正面临着空前的政治压力...   \n",
       "28     中超联赛第13轮比赛已经全部结束，这轮比赛中最让人觉得结果有些出乎意料的，莫过于卡佩罗执教江...   \n",
       "29     　　文章导读： 供应商围堵追债、20多位高管离职、上千人被裁员、孤注一掷史上最大规模的降价…...   \n",
       "...                                                  ...   \n",
       "89581  新华社照片，外代，2017年6月7日\\n（外代二线）足球——世预赛：葡萄牙备战\\n6月6日，...   \n",
       "89582  新华社照片，外代，2017年6月7日\\n（外代二线）足球——世预赛：葡萄牙备战\\n6月6日，...   \n",
       "89583  新华社照片，外代，2017年6月7日\\n（外代二线）足球——世预赛：葡萄牙备战\\n6月6日，...   \n",
       "89584  新华社照片，外代，2017年6月7日\\n（外代二线）足球——世预赛：葡萄牙备战\\n6月6日，...   \n",
       "89585  新华社照片，外代，2017年6月7日\\n（外代二线）足球——世预赛：葡萄牙备战\\n6月6日，...   \n",
       "89586  新华社照片，外代，2017年6月7日\\n（外代二线）足球——世预赛：葡萄牙备战\\n6月6日，...   \n",
       "89587  新华社照片，外代，2017年6月7日\\n（外代二线）蚕丝生产\\n6月6日，在印度特里普拉邦特...   \n",
       "89588  新华社照片，外代，2017年6月7日\\n（外代二线）蚕丝生产\\n6月6日，在印度特里普拉邦特...   \n",
       "89589  新华社照片，外代，2017年6月7日\\n（外代二线）蚕丝生产\\n5月30日，在印度特里普拉邦...   \n",
       "89590  新华社照片，外代，2017年6月7日\\n（外代二线）蚕丝生产\\n6月6日，在印度特里普拉邦特...   \n",
       "89591  新华社照片，外代，2017年6月7日\\n（外代二线）蚕丝生产\\n5月30日，在印度特里普拉邦...   \n",
       "89592  \\n\\n2017年4月27日，在首尔光化门广场，民众在集会上手举反“萨德”标语。（新华社记者...   \n",
       "89593  \\n新华社巴格达6月6日电（记者魏玉栋　程帅朋）伊拉克西部安巴尔省一处市场6日晚发生自杀式爆...   \n",
       "89594  新华社照片，外代，2017年6月7日\\n（外代二线）足球——国际友谊赛：德国平丹麦\\n6月6...   \n",
       "89595  新华社照片，外代，2017年6月7日\\n（外代二线）足球——国际友谊赛：德国平丹麦\\n6月6...   \n",
       "89596  新华社照片，外代，2017年6月7日\\n（外代二线）足球——国际友谊赛：德国平丹麦\\n6月6...   \n",
       "89597  新华社照片，外代，2017年6月7日\\n（外代二线）足球——国际友谊赛：德国平丹麦\\n6月6...   \n",
       "89598  新华社照片，外代，2017年6月7日\\n（外代二线）足球——国际友谊赛：德国平丹麦\\n6月6...   \n",
       "89599  新华社照片，外代，2017年6月7日\\n（外代二线）足球——国际友谊赛：德国平丹麦\\n6月6...   \n",
       "89600  新华社照片，外代，2017年6月7日\\n（外代二线）足球——国际友谊赛：德国平丹麦\\n6月6...   \n",
       "89601  新华社照片，外代，2017年6月7日\\n（外代二线）足球——国际友谊赛：德国平丹麦\\n6月6...   \n",
       "89602  新华社照片，外代，2017年6月7日\\n（外代二线）足球——国际友谊赛：德国平丹麦\\n6月6...   \n",
       "89603  新华社照片，北京，2017年6月7日\\n电影《血战湘江》举行清华大学巡映活动\\n6月6日，电...   \n",
       "89604  新华社照片，北京，2017年6月7日\\n电影《血战湘江》举行清华大学巡映活动\\n6月6日，清...   \n",
       "89605  新华社照片，北京，2017年6月7日\\n电影《血战湘江》举行清华大学巡映活动\\n6月6日，电...   \n",
       "89606  新华社照片，多伦多，2017年6月7日\\n（体育）（2）冰球——国家女子冰球队海外选秀在多伦...   \n",
       "89607  新华社兰州6月3日电（王衡、徐丹）记者从甘肃省交通运输厅获悉，甘肃近日集中开建高速公路、普通...   \n",
       "89608  \\n\\n2017年5月29日，在法国巴黎郊外的凡尔赛宫，法国总统马克龙出席新闻发布会。（新华...   \n",
       "89609  \\n\\n2017年5月25日，在美国马萨诸塞州剑桥市，哈佛大学毕业生在毕业典礼上欢呼。（新华...   \n",
       "89610  　　新华社德国杜塞尔多夫６月６日电题：乒乓女球迷　\\n　　新华社记者王子江、张寒\\n　　熊老...   \n",
       "\n",
       "                                                 feature  \\\n",
       "0      {\"type\":\"科技\",\"site\":\"cnbeta\",\"commentNum\":\"37\"...   \n",
       "1      {\"type\":\"科技\",\"site\":\"cnbeta\",\"commentNum\":\"15\"...   \n",
       "2      {\"type\":\"科技\",\"site\":\"cnbeta\",\"commentNum\":\"18\"...   \n",
       "3      {\"type\":\"国际新闻\",\"site\":\"环球\",\"commentNum\":\"0\",\"j...   \n",
       "4      {\"type\":\"新闻\",\"site\":\"网易热门\",\"commentNum\":\"978\",...   \n",
       "5      {\"type\":\"市场\",\"site\":\"中证网\",\"commentNum\":\"0\",\"jo...   \n",
       "6      {\"type\":\"科技\",\"site\":\"cnbeta\",\"commentNum\":\"21\"...   \n",
       "7      {\"type\":\"市场\",\"site\":\"中证网\",\"commentNum\":\"0\",\"jo...   \n",
       "8      {\"type\":\"新闻\",\"site\":\"网易热门\",\"commentNum\":\"1600\"...   \n",
       "9      {\"type\":\"市场\",\"site\":\"中证网\",\"commentNum\":\"0\",\"jo...   \n",
       "10     {\"type\":\"市场\",\"site\":\"中证网\",\"commentNum\":\"0\",\"jo...   \n",
       "11     {\"type\":\"市场\",\"site\":\"中证网\",\"commentNum\":\"0\",\"jo...   \n",
       "12     {\"type\":\"国际新闻\",\"site\":\"环球\",\"commentNum\":\"0\",\"j...   \n",
       "13     {\"type\":\"市场\",\"site\":\"中证网\",\"commentNum\":\"0\",\"jo...   \n",
       "14     {\"type\":\"观点滚动\",\"site\":\"参考消息\",\"commentNum\":\"0\",...   \n",
       "15     {\"type\":\"市场\",\"site\":\"中证网\",\"commentNum\":\"0\",\"jo...   \n",
       "16     {\"type\":\"软件\",\"site\":\"cnbeta\",\"commentNum\":\"12\"...   \n",
       "17     {\"type\":\"观点滚动\",\"site\":\"参考消息\",\"commentNum\":\"0\",...   \n",
       "18     {\"type\":\"市场\",\"site\":\"中证网\",\"commentNum\":\"0\",\"jo...   \n",
       "19     {\"type\":\"市场\",\"site\":\"中证网\",\"commentNum\":\"0\",\"jo...   \n",
       "20     {\"type\":\"军事\",\"site\":\"新浪\",\"commentNum\":\" 95\",\"j...   \n",
       "21     {\"type\":\"市场\",\"site\":\"中证网\",\"commentNum\":\"0\",\"jo...   \n",
       "22     {\"type\":\"科技\",\"site\":\"cnbeta\",\"commentNum\":\"56\"...   \n",
       "23     {\"type\":\"市场\",\"site\":\"中证网\",\"commentNum\":\"0\",\"jo...   \n",
       "24     {\"type\":\"体育\",\"site\":\"凤凰\",\"commentNum\":\"1\",\"joi...   \n",
       "25     {\"type\":\"国际新闻\",\"site\":\"环球\",\"commentNum\":\"0\",\"j...   \n",
       "26     {\"type\":\"科技\",\"site\":\"cnbeta\",\"commentNum\":\"4\",...   \n",
       "27     {\"type\":\"国际新闻\",\"site\":\"环球\",\"commentNum\":\"0\",\"j...   \n",
       "28     {\"type\":\"体育\",\"site\":\"凤凰\",\"commentNum\":\"0\",\"joi...   \n",
       "29     {\"type\":\"科技\",\"site\":\"新浪\",\"commentNum\":\" 6\",\"jo...   \n",
       "...                                                  ...   \n",
       "89581  {\"type\":\"足球\",\"site\":\"新华社\",\"url\":\"http://home.x...   \n",
       "89582  {\"type\":\"足球\",\"site\":\"新华社\",\"url\":\"http://home.x...   \n",
       "89583  {\"type\":\"足球\",\"site\":\"新华社\",\"url\":\"http://home.x...   \n",
       "89584  {\"type\":\"足球\",\"site\":\"新华社\",\"url\":\"http://home.x...   \n",
       "89585  {\"type\":\"足球\",\"site\":\"新华社\",\"url\":\"http://home.x...   \n",
       "89586  {\"type\":\"足球\",\"site\":\"新华社\",\"url\":\"http://home.x...   \n",
       "89587  {\"type\":\"其它\",\"site\":\"新华社\",\"url\":\"http://home.x...   \n",
       "89588  {\"type\":\"其它\",\"site\":\"新华社\",\"url\":\"http://home.x...   \n",
       "89589  {\"type\":\"其它\",\"site\":\"新华社\",\"url\":\"http://home.x...   \n",
       "89590  {\"type\":\"其它\",\"site\":\"新华社\",\"url\":\"http://home.x...   \n",
       "89591  {\"type\":\"其它\",\"site\":\"新华社\",\"url\":\"http://home.x...   \n",
       "89592  {\"type\":\"其它\",\"site\":\"新华社\",\"url\":\"http://home.x...   \n",
       "89593  {\"type\":\"其它\",\"site\":\"新华社\",\"url\":\"http://home.x...   \n",
       "89594  {\"type\":\"足球\",\"site\":\"新华社\",\"url\":\"http://home.x...   \n",
       "89595  {\"type\":\"足球\",\"site\":\"新华社\",\"url\":\"http://home.x...   \n",
       "89596  {\"type\":\"足球\",\"site\":\"新华社\",\"url\":\"http://home.x...   \n",
       "89597  {\"type\":\"足球\",\"site\":\"新华社\",\"url\":\"http://home.x...   \n",
       "89598  {\"type\":\"足球\",\"site\":\"新华社\",\"url\":\"http://home.x...   \n",
       "89599  {\"type\":\"足球\",\"site\":\"新华社\",\"url\":\"http://home.x...   \n",
       "89600  {\"type\":\"足球\",\"site\":\"新华社\",\"url\":\"http://home.x...   \n",
       "89601  {\"type\":\"足球\",\"site\":\"新华社\",\"url\":\"http://home.x...   \n",
       "89602  {\"type\":\"足球\",\"site\":\"新华社\",\"url\":\"http://home.x...   \n",
       "89603  {\"type\":\"社会\",\"site\":\"新华社\",\"url\":\"http://home.x...   \n",
       "89604  {\"type\":\"社会\",\"site\":\"新华社\",\"url\":\"http://home.x...   \n",
       "89605  {\"type\":\"社会\",\"site\":\"新华社\",\"url\":\"http://home.x...   \n",
       "89606  {\"type\":\"冰球\",\"site\":\"新华社\",\"url\":\"http://home.x...   \n",
       "89607  {\"type\":\"宏观经济\",\"site\":\"新华社\",\"url\":\"http://home...   \n",
       "89608  {\"type\":\"其它\",\"site\":\"新华社\",\"url\":\"http://home.x...   \n",
       "89609  {\"type\":\"其它\",\"site\":\"新华社\",\"url\":\"http://home.x...   \n",
       "89610  {\"type\":\"体育\",\"site\":\"新华社\",\"url\":\"http://home.x...   \n",
       "\n",
       "                               title  \\\n",
       "0               小米MIUI 9首批机型曝光：共计15款   \n",
       "1         骁龙835在Windows 10上的性能表现有望改善   \n",
       "2          一加手机5细节曝光：3300mAh、充半小时用1天   \n",
       "3      葡森林火灾造成至少62人死亡 政府宣布进入紧急状态（组图）   \n",
       "4           44岁女子约网友被拒暴雨中裸奔 交警为其披衣相随   \n",
       "5                     金融股一枝独秀 配置价值犹存   \n",
       "6                配骁龙660 全面屏鼻祖夏普新机酝酿中   \n",
       "7                    博友早评：震荡有利消化套牢筹码   \n",
       "8           武汉千余警察出动 抓获808名俊男靓女全是诈骗犯   \n",
       "9                纳入MSCI指数 A股长期配置价值提升   \n",
       "10              私募：蓝筹风格难切换 业绩估值相配是王道   \n",
       "11            早间机构看市：市场将再次探底 两类股逢低布局   \n",
       "12           因为犯罪现场的一根头发，他坐冤狱41年后终获释   \n",
       "13                     博友午评：风格转换前的阵痛   \n",
       "14              MSCI闯关成功会是A股的一针强心剂吗？   \n",
       "15            地产股拉升难阻市场颓势 三大指数早盘集体跳水   \n",
       "16               Debian 9 Stretch 发布   \n",
       "17                 [及时点]我们不需要“百变老太太”   \n",
       "18                新三板午评：三板做市指数刷新阶段低点   \n",
       "19              机构解析：下周热点板块及个股探秘（附股）   \n",
       "20           美军击落叙战机激怒俄罗斯 俄警告将瞄准美军战机   \n",
       "21                   机构推荐：下周具备布局潜力金股   \n",
       "22              业内人士解释为什么OPPO供货能力强无敌   \n",
       "23                中证午评：A股跳水 蓝筹暂歇热点熄火   \n",
       "24         “齐心协力”--江苏苏宁发布足协杯对阵河南建业海报   \n",
       "25       土耳其近590名士兵疑食物中毒 被送往医院救治（组图）   \n",
       "26          又一自动驾驶公司拿加州路测牌照 这回是王劲的景驰   \n",
       "27         火灾与脱欧炙烤英国首相 特雷莎·梅面临空前政治压力   \n",
       "28           江苏保级真悬了 近3年1铁律证明其几乎保级无望   \n",
       "29            乐视危局：靠卖资产续命 员工被猎头大规模拉黑   \n",
       "...                              ...   \n",
       "89581         [2]（外代二线）足球——世预赛：葡萄牙备战   \n",
       "89582         [3]（外代二线）足球——世预赛：葡萄牙备战   \n",
       "89583         [4]（外代二线）足球——世预赛：葡萄牙备战   \n",
       "89584         [5]（外代二线）足球——世预赛：葡萄牙备战   \n",
       "89585         [6]（外代二线）足球——世预赛：葡萄牙备战   \n",
       "89586         [7]（外代二线）足球——世预赛：葡萄牙备战   \n",
       "89587                  [1]（外代二线）蚕丝生产   \n",
       "89588                  [2]（外代二线）蚕丝生产   \n",
       "89589                  [3]（外代二线）蚕丝生产   \n",
       "89590                  [4]（外代二线）蚕丝生产   \n",
       "89591                  [5]（外代二线）蚕丝生产   \n",
       "89592            “萨德”环评将重启　在韩部署或推迟一年   \n",
       "89593             伊拉克安巴尔省发生自杀式袭击７人死亡   \n",
       "89594       [1]（外代二线）足球——国际友谊赛：德国平丹麦   \n",
       "89595       [3]（外代二线）足球——国际友谊赛：德国平丹麦   \n",
       "89596       [2]（外代二线）足球——国际友谊赛：德国平丹麦   \n",
       "89597       [4]（外代二线）足球——国际友谊赛：德国平丹麦   \n",
       "89598       [6]（外代二线）足球——国际友谊赛：德国平丹麦   \n",
       "89599       [5]（外代二线）足球——国际友谊赛：德国平丹麦   \n",
       "89600       [8]（外代二线）足球——国际友谊赛：德国平丹麦   \n",
       "89601       [7]（外代二线）足球——国际友谊赛：德国平丹麦   \n",
       "89602       [9]（外代二线）足球——国际友谊赛：德国平丹麦   \n",
       "89603      （文化）（1）电影《血战湘江》举行清华大学巡映活动   \n",
       "89604      （文化）（2）电影《血战湘江》举行清华大学巡映活动   \n",
       "89605      （文化）（3）电影《血战湘江》举行清华大学巡映活动   \n",
       "89606   （体育）（2）冰球——国家女子冰球队海外选秀在多伦多展开   \n",
       "89607          （经济）甘肃集中开工35个重点交通建设项目   \n",
       "89608           法国议会选举　马克龙有望获“压倒性胜利”   \n",
       "89609              哈佛大学为何取消这些新生入选资格？   \n",
       "89610                   （体育）题：乒乓女球迷　   \n",
       "\n",
       "                                                     url  \n",
       "0         http://www.cnbeta.com/articles/tech/623597.htm  \n",
       "1         http://www.cnbeta.com/articles/tech/623599.htm  \n",
       "2         http://www.cnbeta.com/articles/tech/623601.htm  \n",
       "3      http://world.huanqiu.com/hot/2017-06/10866126....  \n",
       "4      http://news.163.com/17/0618/00/CN617P3Q0001875...  \n",
       "5      http://www.cs.com.cn/gppd/201706/t20170623_533...  \n",
       "6         http://www.cnbeta.com/articles/tech/623603.htm  \n",
       "7      http://www.cs.com.cn/gppd/201706/t20170623_533...  \n",
       "8      http://news.163.com/17/0614/14/CMT9N8G80001899...  \n",
       "9      http://www.cs.com.cn/gppd/201706/t20170623_533...  \n",
       "10     http://www.cs.com.cn/gppd/201706/t20170623_533...  \n",
       "11     http://www.cs.com.cn/gppd/201706/t20170623_533...  \n",
       "12     http://world.huanqiu.com/hot/2017-06/10866136....  \n",
       "13     http://www.cs.com.cn/gppd/201706/t20170623_533...  \n",
       "14     http://column.cankaoxiaoxi.com/plgd/2017/0623/...  \n",
       "15     http://www.cs.com.cn/gppd/201706/t20170623_533...  \n",
       "16        http://www.cnbeta.com/articles/soft/623605.htm  \n",
       "17     http://column.cankaoxiaoxi.com/plgd/2017/0623/...  \n",
       "18     http://www.cs.com.cn/gppd/201706/t20170623_533...  \n",
       "19     http://www.cs.com.cn/gppd/hyyj/201706/t2017062...  \n",
       "20     http://mil.news.sina.com.cn/world/2017-06-20/d...  \n",
       "21     http://www.cs.com.cn/gppd/tzpj/201706/t2017062...  \n",
       "22        http://www.cnbeta.com/articles/tech/623607.htm  \n",
       "23     http://www.cs.com.cn/gppd/201706/t20170623_533...  \n",
       "24     http://sports.ifeng.com/a/20170620/51284188_0....  \n",
       "25     http://world.huanqiu.com/hot/2017-06/10866176....  \n",
       "26        http://www.cnbeta.com/articles/tech/623609.htm  \n",
       "27     http://world.huanqiu.com/hot/2017-06/10866198....  \n",
       "28     http://sports.ifeng.com/a/20170620/51284719_0....  \n",
       "29     http://tech.sina.com.cn/i/2017-06-20/doc-ifyhf...  \n",
       "...                                                  ...  \n",
       "89581  http://home.xinhua-news.com/gdsdetailxhsnew/22...  \n",
       "89582  http://home.xinhua-news.com/gdsdetailxhsnew/22...  \n",
       "89583  http://home.xinhua-news.com/gdsdetailxhsnew/22...  \n",
       "89584  http://home.xinhua-news.com/gdsdetailxhsnew/22...  \n",
       "89585  http://home.xinhua-news.com/gdsdetailxhsnew/22...  \n",
       "89586  http://home.xinhua-news.com/gdsdetailxhsnew/22...  \n",
       "89587  http://home.xinhua-news.com/gdsdetailxhsnew/22...  \n",
       "89588  http://home.xinhua-news.com/gdsdetailxhsnew/22...  \n",
       "89589  http://home.xinhua-news.com/gdsdetailxhsnew/22...  \n",
       "89590  http://home.xinhua-news.com/gdsdetailxhsnew/22...  \n",
       "89591  http://home.xinhua-news.com/gdsdetailxhsnew/22...  \n",
       "89592  http://home.xinhua-news.com/gdsdetailxhsnew/22...  \n",
       "89593  http://home.xinhua-news.com/gdsdetailxhsnew/22...  \n",
       "89594  http://home.xinhua-news.com/gdsdetailxhsnew/22...  \n",
       "89595  http://home.xinhua-news.com/gdsdetailxhsnew/22...  \n",
       "89596  http://home.xinhua-news.com/gdsdetailxhsnew/22...  \n",
       "89597  http://home.xinhua-news.com/gdsdetailxhsnew/22...  \n",
       "89598  http://home.xinhua-news.com/gdsdetailxhsnew/22...  \n",
       "89599  http://home.xinhua-news.com/gdsdetailxhsnew/22...  \n",
       "89600  http://home.xinhua-news.com/gdsdetailxhsnew/22...  \n",
       "89601  http://home.xinhua-news.com/gdsdetailxhsnew/22...  \n",
       "89602  http://home.xinhua-news.com/gdsdetailxhsnew/22...  \n",
       "89603  http://home.xinhua-news.com/gdsdetailxhsnew/22...  \n",
       "89604  http://home.xinhua-news.com/gdsdetailxhsnew/22...  \n",
       "89605  http://home.xinhua-news.com/gdsdetailxhsnew/22...  \n",
       "89606  http://home.xinhua-news.com/gdsdetailxhsnew/22...  \n",
       "89607  http://home.xinhua-news.com/gdsdetailxhsnew/22...  \n",
       "89608  http://home.xinhua-news.com/gdsdetailxhsnew/22...  \n",
       "89609  http://home.xinhua-news.com/gdsdetailxhsnew/22...  \n",
       "89610  http://home.xinhua-news.com/gdsdetailxhsnew/22...  \n",
       "\n",
       "[89611 rows x 7 columns]"
      ]
     },
     "execution_count": 7,
     "metadata": {},
     "output_type": "execute_result"
    }
   ],
   "source": [
    "dataframe"
   ]
  },
  {
   "cell_type": "code",
   "execution_count": 8,
   "metadata": {},
   "outputs": [
    {
     "data": {
      "text/plain": [
       "89611"
      ]
     },
     "execution_count": 8,
     "metadata": {},
     "output_type": "execute_result"
    }
   ],
   "source": [
    "len(dataframe['content'])"
   ]
  },
  {
   "cell_type": "code",
   "execution_count": 9,
   "metadata": {
    "collapsed": true
   },
   "outputs": [],
   "source": [
    "all_articles = dataframe['content'].tolist()"
   ]
  },
  {
   "cell_type": "code",
   "execution_count": 10,
   "metadata": {},
   "outputs": [
    {
     "data": {
      "text/plain": [
       "['此外，自本周（6月12日）起，除小米手机6等15款机型外，其余机型已暂停更新发布（含开发版/体验版内测，稳定版暂不受影响），以确保工程师可以集中全部精力进行系统优化工作。有人猜测这也是将精力主要用到MIUI 9的研发之中。\\r\\nMIUI 8去年5月发布，距今已有一年有余，也是时候更新换代了。\\r\\n当然，关于MIUI 9的确切信息，我们还是等待官方消息。\\r\\n',\n",
       " '骁龙835作为唯一通过Windows 10桌面平台认证的ARM处理器，高通强调，不会因为只考虑性能而去屏蔽掉小核心。相反，他们正联手微软，找到一种适合桌面平台的、兼顾性能和功耗的完美方案。\\r\\n报道称，微软已经拿到了一些新的源码，以便Windows 10更好地理解big.little架构。\\r\\n资料显示，骁龙835作为一款集成了CPU、GPU、基带、蓝牙/Wi-Fi的SoC，比传统的Wintel方案可以节省至少30%的PCB空间。\\r\\n按计划，今年Q4，华硕、惠普、联想将首发骁龙835 Win10电脑，预计均是二合一形态的产品。\\r\\n当然，高通骁龙只是个开始，未来也许还能见到三星Exynos、联发科、华为麒麟、小米澎湃等进入Windows 10桌面平台。\\r\\n',\n",
       " '此前的一加3T搭载的是3400mAh电池，DashCharge快充规格为5V/4A。\\r\\n至于电池缩水，可能与刘作虎所说，一加手机5要做市面最轻薄大屏旗舰的设定有关。\\r\\n按照目前掌握的资料，一加手机5拥有5.5寸1080P三星AMOLED显示屏、6G/8GB RAM，64GB/128GB ROM，双1600万摄像头，备货量“惊喜”。\\r\\n根据京东泄露的信息，一加5起售价是xx99元，应该是在2799/2899/2999中的某个。\\r\\n',\n",
       " '这是6月18日在葡萄牙中部大佩德罗冈地区拍摄的被森林大火烧毁的汽车。新华社记者张立云摄\\r\\n',\n",
       " '（原标题：44岁女子跑深圳约会网友被拒，暴雨中裸身奔走……）\\r\\n@深圳交警微博称：昨日清晨交警发现有一女子赤裸上身，行走在南坪快速上，期间还起了轻生年头，一辅警发现后赶紧为其披上黄衣，并一路劝说她。\\r\\n那么事发时\\r\\n到底都发生了些什么呢？\\r\\n南都记者带您一起还原现场\\r\\n南都记者在龙岗大队坂田中队见到了辅警刘青（发现女生的辅警），一位外表高大帅气，说话略带些腼腆的90后青年。\\r\\n刘青介绍，6月16日早上7时36分，他正在环城南路附近值勤，接到中队关于一位女子裸身进入机动车可能有危险的警情，随后骑着小铁骑开始沿路寻找，大概花了十多分钟在南坪大道坂田出口往龙岗方向的逆行辅道上发现该女子。\\r\\n女子身上一丝不挂地逆车流而行，时走时停，时坐时躺，险象环生。刘青停好小铁骑，和另外一名巡防员追了上去，发现女子的情绪很低落，话不多，刘青尝试和女子交流，劝说女子离开，可女子并不愿意接受，继续缓慢地往南坪快速路的主干道上走去。\\r\\n此时路边上已经聚集了很市民围观，为了不刺激女子的情绪，刘青和巡防员一边盯着女子一边驱赶着围观的群众。\\r\\n现场还原\\r\\n从警方提供的一份视频了解到，16日早上7时25分，女子出现在坂雪岗大道与环城南路的监控视频中，此时女子还穿着白色的内裤，正沿着坂雪岗大道往南坪快速的方向缓慢地走着。\\r\\n当时正值上班高峰期，十字路口的车流已经排起了长队。当女子出现时，路上的市民纷纷驻足观望，不少车辆也放慢了速度，但女子并不为市民观望停下脚步，依然缓慢走着。当女子行进到十字路口中间时，一辆大货车挡住了镜头，但是当女子再次出现镜头时，可以发现女子已经没穿内裤了，全身裸露继续朝着南坪快速方向走去。记者发现，视频中女子周围并没有人尾随或者上前劝止的市民。\\r\\n一大清早路上看到这样的情况\\r\\n恐怕大家都没办法淡定\\r\\n面对这一情况\\r\\n刘青表示，“一开始根本不敢看她，心里挺别扭，感觉很尴尬”，但当刘青跟随女子上了南坪快速路主干道时，女子作出了让人意想不到的举动，她突然靠近护栏要从上面跳下去，刘青赶忙冲上去拉住了女子的手，将其控制住并远离护栏。碍于女子没有穿衣服，刘青递上衣服，女子没接受还把衣服扔到排水沟里，继续往前走，没办法刘青只能紧紧拉着她的一只手跟在后面。\\r\\n刘青一路上耐心地开导安慰她，但只听到她不断地重复着一句话“要是你也遭遇我的事，你也会这样的”，期间她还不时试图挣脱刘青的手要冲向护栏往下跳。\\r\\n就这样，我被牵着走了大概十多分钟，天突然下起了大暴雨，雨大的连眼睛都睁不开”刘青继续说着，瞬间他们就被雨透了，但女子依然不愿意接受刘青的帮助，就继续冒着大雨往前走。\\r\\n大概走了有四十分钟吧，女子突然停下来说“我想回家了”，然后女子也接受了刘青递过来的小黄衣，就出现了深圳微博上的照片，女子披着小黄衣，刘青小心翼翼地在旁边走着的场景。从南平快速下来后，刘青和巡防员将女子带到了附近的坂田派出所。\\r\\n那姑娘到底是遭遇了什么样的事情\\r\\n才会说\\r\\n“要是你也遭遇我的事，你也会这样”\\r\\n据警方透露，该女子姓陈，系湖北人，今年44岁，据家属反映其有精神病史。三天前，陈某从老家来深圳约会网友，但约会受挫导致情绪异常，女子遂产生轻生念头。\\r\\n目前\\r\\n陈某已经被送往深圳某精神病医院进行治疗\\r\\n大大君只希望姑娘能早点康复\\r\\n其实真爱的到来并不存在年龄的限制\\r\\n你们说呢？\\r\\n因善良的原因\\r\\n一众网友纷纷为\\r\\n交警暖男点ZAN\\r\\n@弓常yan桦：就想问这个小哥哥有女票吗\\r\\n@原谅我这一辈子浪荡不羁爱萨摩耶：有什么过不去的要轻生嘛？ 想想自己的家人。同时也感谢交警蜀黍\\r\\n@火心聆听心灵：点赞交警\\r\\n@中華云盾：警察……警察就是群众最需时申出援手\\r\\n@Tomchlee：蜀黍帅！\\r\\n@SJ-李赫海i：这个交警很暖有木有！\\r\\n男子迷奸网友拍418个视频 女方从20岁到50岁不等\\r\\n去年6月7号上午，淮安市涟水县公安局刑警大队突然接到了一个奇怪的报警电话，一名女子言语不清，声称自己遭到了侵害。女子、被侵害、言语不清，几个关键词令接到电话的民警瞬间紧张起来。\\r\\n',\n",
       " '\\u3000\\u3000受到A股被纳入MSCI指数的利好消息刺激，A股市场从周三开始再度上演龙马行情，周四上午金融股和白马股表现喜人，但是尾盘跳水之后，仅金融板块仍维系红盘状态。分析人士认为，金融股受益于MSCI纳入A股和低估值而重获资金青睐，但是存量资金博弈格局下，风格交替的震荡格局料延续。流动性改善、经济悲观预期修正等有助于支撑板块继而大盘指数逐步向好。\\r\\n\\u3000\\u3000“一九”再现\\r\\n\\u3000\\u3000周四，A股市场未能延续周三的上行态势，两市成交小幅放量。29个中信一级行业中，收盘仅银行和非银行金融两个行业指数收红，分别上涨1.80%和0.20%。\\r\\n\\u3000\\u3000从二级行业来看，股份制与城商行的涨幅最高，达到2.22%，国有银行上涨0.82%，信托及其他上涨0.64%，保险板块上涨0.34%，证券板块上涨0.06%。\\r\\n\\u3000\\u3000银行板块25只成分股中，共有21只收红。其中，招商银行涨幅最大，上涨6.66%，贵阳银行上涨3.65%，上海银行、华夏银行、浦发银行和兴业银行的涨幅均超过1.50%。非银行金融板块44只成分股中，共17只个股上涨。其中，安信信托、中国太保涨幅居前两名，分别上涨4.57%和3.04%，西水股份、华安证券、中国人寿和新华保险的涨幅也均超过2%。相对而言，券商股多小幅下跌。\\r\\n\\u3000\\u3000近期，对A股市场消息面影响最大的就是MSCI宣布从2018年6月开始将A股纳入MSCI新兴市场指数。而其中，金融股是占比最大的一个群体。国金证券李立峰团队指出，最新方案中包含的222只成分股中，剔除了中等市值、非互联互通可交易的股票以及有停牌限制的标的，由于纳入了很多大市值AH股，A股在MSCI EM中的权重由0.5%上升到了0.73%。其中，金融板块占比最高，达到40.11%，泛消费次之，占比为24.26%，两个板块涵盖了大部分权重股。动态来看，由于加入了很多是指占比高的金融公司，金融板块的权重增加了近一半，其他大部分行业权重都受到了稀释。\\r\\n\\u3000\\u3000尽管A股被纳入MSCI这一利好事件对短期市场情绪有所提振、对中长期海外增量资金预期升温，但短期内，市场量能尚不能有效放大，金融股独乐乐情景也就难以持续。存量博弈格局下，风格交替、指数震荡格局难改变。\\r\\n\\u3000\\u3000光大证券指出，利好并未引起市场太大的热情，两市指数和成交量均较为平淡，但市场风格出现了较大变化，白马股金融股上涨的同时，成长股、题材股全天低迷。这表明市场增量资金依然很少，存量资金在不同板块之间腾挪，这样的跷跷板格局使得指数难有突破。市场中期依旧偏空，短期依旧可能维持震荡格局。\\r\\n',\n",
       " '虽然至今夏普智能手机在市场上无法排得上号，已经完全没落，并于 2013 年退出中国市场，但是今年 3 月份官方突然宣布回归中国，预示着很快就有夏普新机在中国登场了。那么，第一款夏普手机什么时候登陆中国呢？又会是怎么样的手机呢？\\r\\n近日，一款型号为 FS8016 的夏普神秘新机悄然出现在 GeekBench 的跑分库上。从其中相关信息了解到，这款机子并非旗舰定位，所搭载的是高通骁龙 660 处理器，配备有 4GB 的内存。骁龙 660 是高通今年最受瞩目的芯片之一，采用 14 纳米工艺，八个 Kryo 260 核心设计，集成 Adreno 512 GPU 和 X12 LTE 调制解调器。\\r\\n当前市面上只有一款机子采用了骁龙 660 处理器，那就是已经上市销售的 OPPO R11。骁龙 660 尽管并非旗舰芯片，但在多核新能上比去年骁龙 820 强，单核改进也很明显，所以放在今年仍可以让很多手机变成高端机。不过，由于 OPPO 与高通签署了排他性协议，可以独占两三个月时间。\\r\\n考虑到夏普既然开始测试新机了，说明只要等独占时期一过，夏普就能发布骁龙 660 新品了。按照之前被曝光的渲染图了解，夏普的新机核心竞争优势还是全面屏，因为从 2013 年推出全球首款全面屏手机 EDGEST 302SH 至今，夏普手机推出了多达 28 款的全面屏手机。\\r\\n在 5 月份的媒体沟通会上，惠普罗忠生表示：“我敢打赌，12 个月之后，在座的各位手机都会换掉。因为全面屏时代的到来，我们怀揣的手机都将成为传统手机。”\\r\\n',\n",
       " '\\u3000\\u3000沙漠雄鹰：震荡有利消化套牢筹码\\r\\n\\u3000\\u3000周四开盘上证50在银行券商大蓝筹带动下一度涨近2%,沪指也一度站上60日与120日均线。但在“黑天鹅”万达电影暴跌拖累下,沪深股市绝大多数时间分道扬镳，14点后次新股大幅跳水令各大指数全线收绿。存量博弈格局难改,量能久日不见放大下,蓝筹行情并不可持续,短线策略依然是以题材为主，次新股和区域经济概念股调整压力仍然突出，成长股再次大跌，但目前处于底部，低位反复震荡有助于夯实底部。目前市场仍属存量资金博弈，短期蓝筹股上演的指数行情令市场承压，短期利好带动的蓝筹股行情或将告一段落，后期需要题材股接力来维稳指数走向。\\r\\n\\u3000\\u3000今日经财要闻：一、央行上海总部发布“债券通”北向通境外投资者准入备案业务指引。二、我国信用法规和标准研究正在加快推进。三、上海易居房地产研究院发布的《房贷利率与楼市研究报告》显示，近期许多城市的个人住房贷款利率均有不同程度的上涨。四、水污染防治法修正案草案二审 更大力度保护水环境。五、根据中国结算发布的《关于开展存量一人多户休眠工作的通知》，已启动对同一投资者开立的三户以上多开账户的休眠工作。按中国结算的文件要求，自6月23日后的下一交易日（下周一，6月26日）起，被确认为休眠账户的，将在交易系统中止交易。六、李军：“十三五”末上海金融市场交易额或达2000万亿。七、受A股纳入MSCI新兴市场指数，以及中国宏观环境持续稳定的双重因素鼓舞下，富达国际基金经理马磊表示，预计2017年下半年中国股市投资者情绪将有望转好。中国股市未来十年增长将主要由创新驱动。\\r\\n\\u3000\\u3000大盘回顾：周四A股市场出现了早盘冲高，午市后震荡回落，尾盘大幅跳水的走势。从盘面看，沪深300指数盘中创17个月新高，但2000余只个股下跌，市场分化相当明显。至收盘，上证指数报3147.45点，较前一交易日跌8.76点，跌幅为0.28%；深成指报10265.20点，跌101.97点，跌幅为0.98%；创业板指表现最弱，报1798.38点，跌幅达到1.44%。两市个股普跌，仅400余只交易品种上涨。不计算ST股和未股改股，两市涨停个股不足30只。两市共成交4781亿元，较前一交易日大增800多亿元。数据显示,昨日两市共有主力尽流出190.57亿元,较上一日的96.95亿元大增96.27%。两市61个行业板块有57个遭遇主力抛售,虽然券商与银行板块共有近13亿元主力介入,但化工行业与医药制造就分别遭遇14亿元与12.21亿元的主力抛售。而持续低迷的雄安新区的抛售力度更是高达41.69亿元。\\r\\n\\u3000\\u3000技术分析： 昨日临近收盘的半个小时，沪指上演高位跳水，将涨幅全部回吐，失守60日均线，成交量明显放大，留下长长的上影线。尽管跌幅不深，但个股一地鸡毛，沪指自3016点以来，大盘每次回调的相对低点位置都在不断抬升，所以即使大盘冲高乏力后出现回落，指数调整的空间也因被封住而难以出现大跌。总体来说市场震荡分化的格局短期依然难以打破。短线来看， 沪指在盘中攻克60日均线和半年线压力之后，却在当日得而复失，而创业板指则连上方均线压力都无法触及，这样的走势，无疑会对投资者心理产生负面影响。而在技术形态上，在60分钟K线级别已经形成了背离雏形，一旦沪指跌破3117点，就意味着背离成型，如此即可能引发日线级别的下跌。\\r\\n\\u3000\\u3000综合分析：目前指数正处在压力区间，市场脆弱的心态、碎片化的涨停板、主线模糊、热点凌乱、赚钱效应弱等因素都是大盘突破的掣肘因素。而昨日的尾盘跳水，主要有以下原因。首先，长期的二八分化，导致人气低迷。最近一段时间权重股虽然整体走高，但该板块群众基础弱、弹性小制约绝对涨幅，难以形成大面积的赚钱效应。与此同时，现在场内二八轮动非常频繁，今天追进的资金明天就要吃套，打击资金积极性。其次，市场反弹到重要压力区，却仅靠资金拉升指标股来抬升指数。这种没有赚钱效应的拉抬是不可能持久的。昨日招商银行一度大涨7%，但投资者似乎并不买账，跟风盘极少。由于目前A股一直是存量资金博弈的市场，所以，指标股吸引着资金加码，那么，就意味着中小市值品种面临着强大的筹码套现压力。另外，昨日万达股票债券莫名齐跌，午后复星医药盘中突现“闪崩”，令市场踩踏事件出现，短期市场受此影响，再次收复上方半年线的压力大增。\\r\\n\\u3000\\u3000投资建议：近期权重蓝筹一直强于中小创,但上涨始终缺乏有效的量能支持。在存量博弈背景下,后续资金若无法跟上,活跃资金或会转战中小创。短线投资者在降低权重配置时,可加大中小创中盘子小、股性活跃的超跌品种。大盘的纠缠格局依然还在进行中,权重股虽整体走高,但群众基础弱、弹性小,绝对涨幅有所制约。金融板块大涨促使沪指上摸3180点压力位区间,但能否真正有效突破,还需要观察几日。基于周四K线组合形态偏向悲观，因此投资者当前宜先退出观望，等待股指下方获得支撑后再寻机操作。\\r\\n\\u3000\\u3000热点分析：由于粤港澳大湾区论坛期间,腾讯看多人工智能,百度也将于7月5日举办“百度AI开发者大会”,以谷歌、亚马逊为代表的互联网巨头一致看好人工智能未来的发展。产业创新叠加政策扶持,人工智能行业高景气度有望维持。\\r\\n\\u3000\\u3000市场在最近一个月内出现了4次长上影线，之前三次都形成了周线级别调整，加之下周是月末钱荒效应，值得股民做好应对。自6月初以来，市场始终是以中小创为首的反弹模式，个股赚钱效应保持；而随着周三尾盘开始，权重股快速拉升，带来了指数尾盘翻红，周四刷新高点，但与此同时个股赚钱效应却有了明显的降温的，个股涨少跌多，午盘后个股跳水加剧这一现象必须要引起重视。玉名认为这意味着上证50创新高，但并没有带来其余个股的跟随，相反还带来了大部分个股的跳水；而受到政策红利的军工板块和上周“王者荣耀”引发的手游股类似，都是出现了“一日游”的走势，没有延续性的热点，更多地来自于事件刺激和超跌反弹。\\r\\n\\u3000\\u3000市场下周将进入到一个比较敏感的时间段，既是月末、季末，又是半年末，容易出现资金的异动。实际上，从美联储加息和缩表行为来看，已经意味着紧缩货币政策的开启，而这也在全球央行中流行，金融市场很难再现“大水漫灌”式强刺激，中性偏紧的政策和流动性将成为一种“常态”。从基本面来看，玉名认为中国经济仍将是“L”型筑底走势，这是一个阶段，是一段较长的时间，意味着没有高速增长，也没有增速大幅下滑，而是横盘周期，同时以适度偏紧的政策，为供给侧结构性改革提供良好环境。因此，从基本面决定了股市只能处于震荡市周期。\\r\\n\\u3000\\u3000技术上，沪指运行到60日均线附近，在权重股拉升之下有突破之意，不过由于运行到前期肩部区域，压力还是比较大，这种单纯依托权重股，而忽略个股效应的模式能够走多远，还是值得担忧的，这是引发资金派发而形成跳水的关键因素。尤其是个股的赚钱效应越来越差，甚至不排除一些获利盘和解套盘选择了短线的离场，伴随着高位，资金追涨的压力也在增加，谨慎观望气氛增加，导致了成交量的止步不前。玉名认为目前股民需要对于个股做一个梳理了，短线反弹较多的，且近期放量滞涨的，就要有所警惕了，要逐步兑现利润，选择落袋为安，重新等待机会；而对于已经进入前期阻力区或密集套牢区的个股，应该及时考虑减仓，毕竟这样的品种很容易出现再度的调整；对于前期涨幅不大，或者是下跌通道已经扭转的个股，可以暂时持有观望。\\r\\n\\u3000\\u3000昨日回顾：主板终于费尽九牛二虎之力爬到了3180点附近，但是遗憾的是在主板尤其是上证50和沪深300不断地创新高之际，中小创却依然是忍受着无厘头的煎熬，午后市场更是以全线跳水的结局收盘，那么对于这样的市场周五会怎样？\\r\\n\\u3000\\u3000昨日消息面：央行：“债券通”登记托管等实施细则会很快发布实施；发改委：抓紧制定出台配气价格监管规则；人社部：9月底前基本实现跨省异地就医住院费用直接结算；23日成品油将迎年内第六次下调 降幅或达270元/吨；国防科工局：推进军工企业混改 加快军工资产证券化进程；广电总局要求新浪微博等网站关停视听节目；欧美股指延续涨跌不一的走势…消息面上，外围市场整体稳健，国内信息面则继续是不死不活的形式，预计市场继续走整理行情。\\r\\n\\u3000\\u3000技术分析：技术上看，市场昨日走势在午后全线跳水，主板创新高后回落，创业板则是继续在1800点附近做整理，相比于主板则显得较为弱势，技术上看，市场周五将依然不会有大行情，但是二八转换的格局将可能随时出现。\\r\\n\\u3000\\u3000今日大盘下档第一支撑位在3130点，第二支撑位在3100，上档第一压力位在3160点，第二压力位在3180点。\\r\\n\\u3000\\u3000今日走势：欧美股指高位整理，隔夜信息面依然没有什么实质性的利好，今天继续有新股申购，在这样的情况下，预计大盘再度平开或小幅低开可能性大，整体看今天指数出现调整的可能性大，日线继续以小阴、小阳或十字星线为主，随时防止主板可能出现的回调。\\r\\n\\u3000\\u3000今日操作：就昨日市场的走势看，依然是面子行情，更是将中小创再度推到了一个极为尴尬的境地，当然在筑底的过程中很多的不确定因素将会愈发明显，因此建议大家操作继续在短期寻求涨幅不大的个股或者是底部放量的个股，尤其是再加上业绩稳定的个股将是最好，逢低介入，操作上短期建议执行快进快出的策略，远离短期涨幅过大的个股，具体操作坚持大涨卖，大跌买，不涨不跌选择观望的策略。\\r\\n\\u3000\\u3000从昨日市场走势看，又一次证明了彬哥之前所让大家关注的3180点主板可能回调的观点是正确的，而主板也确实在3180点附近出现了回调，对于这样的回调，彬哥认为是一个健康的事情，也是一个必须要出现的事情，现在唯一不能确定的就是在主板回调的时候中小创会不会出现企稳，会不会出现让投资者操作的机会，因此大家今天上午需要至少需要半天的时间去观察市场可能出现的结果，目前行情有一点可以确定的就是主板将会在3180点附近出现调整，因此大家万不可在这个时候再去追涨主板的个股（尤其是以保险银行为首的上证50个股），就周四午后市场的走势看，主板的调整势在必行，因此大家要做好主板调整的心理准备。当然还要做好市场全线调整的心理预期。\\r\\n',\n",
       " '（原标题：武汉警方一下子抓了808人，还都是俊男靓女！原来他们每天偷偷摸摸干这事！）\\r\\n武汉警方一下子抓了808人，还都是俊男靓女！原来他们每天偷偷摸摸干这事！\\r\\n大家还记得今年4月光谷曾发生的一件大事吗？\\r\\n当时微博和朋友圈上都传疯了，\\r\\n说是光谷国际广场大量白领被捕！\\r\\n现场手铐都不够用！\\r\\n结果经记者深入调查后发现，\\r\\n这些被抓的并不是网传的“白领”\\r\\n而是一个有282名涉案人员的诈骗团伙！\\r\\n天呐！接近300人的犯罪团伙，\\r\\n你以为这个数字已经够庞大了吗？\\r\\n错，还有让你更震惊的！！\\r\\n据武汉市公安局通报：\\r\\n6月9日，警方在武汉三镇的10处窝点内，\\r\\n抓获了808名嫌疑人！\\r\\n而且令人大跌眼镜的是，\\r\\n他们当中大多都是年青人，\\r\\n用“俊男靓女”来形容也不为过！\\r\\n年纪不大，外形不差，那么到底是犯了什么事呢？\\r\\n其实说起来，这事估计绝大多数人都碰到过！那就是网络诈骗！\\r\\n涉案电脑800余台、手机2000余部、\\r\\n银行卡3000余张....\\r\\n因为涉及的账户太多，\\r\\n涉案金额目前还没统计出来。\\r\\n这是全国涉案人数最多的一起特大网络诈骗案！\\r\\n这些惊人的数字背后，究竟藏着什么样的秘密？警方把他们一锅端了！\\r\\n今年4月，武汉警方获悉在塔子湖地区有电信网络诈骗活动，经过2个多月的秘密侦查，发现了一个特大网络诈骗犯罪团伙。\\r\\n原来该团伙利用非法互联网金融平台，实施推荐股票、炒期货等诈骗，其10处窝点散布在江岸、洪山、东湖高新、硚口、江汉等5个区的写字楼内，涉案人员多达800余名！\\r\\n6月9日上午，武汉警方组织了1000余名警力，分成14个抓捕组，同时对首脑分子和10处窝点实施了突击抓捕行动！\\r\\n目前，警方已依法刑事拘留411人，对45人取保候审。该案还在进一步调查中。\\r\\n他们是如何进行诈骗的？\\r\\n人数众多的这个诈骗组织是怎么样进行人员分工？又是如何一步步引受害人上钩的呢？\\r\\n2015年以来，该犯罪团伙以投资组建的某集团公司为总部，旗下成立多家分公司、子公司，设立人事部、财务部、行政部等机构部门，分为经理、分析师、业务小组长、业务员等组织层级。\\r\\n在网上发布招聘信息招揽、培训业务员\\r\\n依托虚构的互联网金融平台，通过业务员散布“有内幕消息”等虚假信息，引诱受害人加入专门的QQ群、微信群。\\r\\n再由所谓的“证券公司资深分析师”和“经理”逐个联系受害人，引诱受害人交易股票、期货、贵金属、外汇等金融产品，\\r\\n受害人若获利则按“五五”、“六四”分成，\\r\\n若亏损则拉入“黑名单”不再联系。\\r\\n网友热评\\r\\n李晓猫不吃鱼：在人信汇写字楼面试过一个这种工作，一听不对劲就撤了，说不适合我，我嘴巴笨\\r\\n习惯就好33xxzz：八百多人？可能相当部分人都不大清楚自己到底是啥性质工作吧？\\r\\n刑法守望者：\\r\\n要警惕了，普法：各种工作都要预防法律风险，要做个明白人，不是什么钱都可以拿，尤其是从事金融、保险、银行、财务的人员，不小心就触犯刑法……\\r\\n童颜永在--心理医生：盘在写字楼内的诈骗公司，以高薪招聘业务人员为诱饵，实行诈骗的顽疾，终于被揣掉了。\\r\\n你的渔船：联系一下自己的朋友，看有多少个被抓了\\r\\nThe-former-degrees：\\r\\n招聘平台和销售会上百分之八十就是这种工作。从源头抓起，防止更多人受伤。\\r\\n宇宇家的小仙女：恐怖 进了一个星期发现不太对劲 这尼玛是让我骗人啊 ?赶紧自己跑路了\\r\\nz_路漫漫：\\r\\n我做过， ?后来听说公司跑路了\\r\\n睡不饱怎么办啊小铭大：我都面试过这种工作，，还培训了几天，，话术一看就的套路骗，，果断闪人，，这种公司太多了，，\\r\\n遗忘的金叶子：碰到这样的骗子找我们做视频，最后被我打电话骂了一顿！\\r\\na一元复始c：\\r\\n还有那些天天电话骚扰别人信贷的、卖房的、卖邮票的、发票的社会生活中一不留神就会被坑，所以活着需要理智\\r\\n笑看世间丑2448337651：这是在路上发骗广告搞高利贷的那些互联网金融公司吗？\\r\\n未来温暖的时光属于自己：金融港，街道口都是这些……好多同学刚刚毕业都去做过，都是网上投简历，这些公司就猛联系你，其实好多都不知道这是骗人的吧\\r\\n有强迫症的天蝎座怪咖：吓到我了\\r\\n冉冉的彗星是个宝：早上还接到说做期货\\r\\n霖心金鱼And张蒙：\\r\\n都不敢去找工作了\\r\\n蒋妈妈1\\r\\n5：刚回到武汉，准备找份工作，看网上好多这种招聘的，感觉像骗人的，都不看的\\r\\n看了网友的评论，\\r\\n小编只有一个感觉：\\r\\n找工作时一定要擦亮双眼\\r\\n不要因为一时疏忽，\\r\\n而给自己的生活抹上污点！\\r\\n俗话说，知己知彼百战不殆\\r\\n弄清网络诈骗的常见手法?\\r\\n才能避免上当受骗\\r\\n下面就为大家奉上防骗攻略\\r\\n遇到诈骗只需见招拆招！\\r\\n网络防骗攻略\\r\\n电信网络诈骗犯罪往往表现为“六大陷阱”：\\r\\n1.物美价廉的网购陷阱\\r\\n2.推销产品的便利陷阱\\r\\n3.异性交友的情感陷阱\\r\\n4.中奖信息的惊喜陷阱\\r\\n5.冒充国家工作人员的恐吓陷阱\\r\\n6.钓鱼网站和网上银行的迷惑陷阱\\r\\n下面是网络诈骗中比较常见的几种类型，一起学习如何防范，让骗子无处遁形！\\r\\n1虚假红包诈骗\\r\\n临近节日时，各大电商平台会以派发红包的形式，为促销活动预热。有不法分子趁机在微信朋友圈、微信群等平台中，派发虚假红包，诱骗大家点击，套取个人信息，或传播木马病毒，盗取银行账号。\\r\\n识骗方法：慎点此类红包领取链接，如果不小心点击，应第一时间关闭手机网络，修改网银、支付宝等重要账户密码，并通过安全软件查杀木马病毒。\\r\\n2二维码诈骗\\r\\n抢购高峰期，网页打开慢，网银交易出现比较迟钝现象。有不法分子会冒充客服或店主，以单子出现“调单”“卡单”等说法为幌子，故意说没有收到款项欺诈消费者，取得信任后要求消费者以其他办法进行转账。\\r\\n识骗方法：消费者要注意，调单、卡单、激活订单等多为诈骗术语，见此类词语基本可以断定对方是骗子。没有收到款项这样的问题，是不会在东京、天猫这样的大型网络购物平台出现的。\\r\\n3钓鱼网站诈骗\\r\\n节假日期间，公众的购物热情高涨，假冒正规电商官方网站、在线支付平台等的钓鱼网站活动频繁。消费者在忙于浏览各色商品页面时，往往容易忽略链接的安全性，从而误入诈骗分子发来的虚假钓鱼网站。\\r\\n识骗方法：对陌生人发来的商品链接要提高警惕，谨慎打开。如遇网络诈骗应第一时间向属地公安机关报案，并向举报中心举报。\\r\\n4虚假客服诈骗\\r\\n抢购高峰期，网页打开慢，网银交易出现比较迟钝现象。有不法分子会冒充客服或店主，以单子出现“调单”“卡单”等说法为幌子，故意说没有收到款项欺诈消费者，取得信任后要求消费者以其他办法进行转账。\\r\\n识骗方法：消费者要注意，调单、卡单、激活订单等多为诈骗术语，见此类词语基本可以断定对方是骗子。没有收到款项这样的问题，是不会在东京、天猫这样的大型网络购物平台出现的。\\r\\n5预购诈骗\\r\\n还有不法分子会以“提前购”、“预售”为诱饵向用户发送木马链接。除了网购链接被植入木马、钓鱼网站，还有不法分子会在“预售”活动上做文章，骗取买家“定金”。\\r\\n识骗方法：慎点不明链接，有关购物短信也不要轻信，同时也请给手机装上杀毒软件，提供安全的上网环境。\\r\\n6中奖诈骗\\r\\n购物过后，很多人会陆陆续续收到一些商家的中奖信息，切记不要随意拨打中奖信息提供的电话号码或点击发来的网站链接地址，很可能会让手机或电脑感染上木马病毒。\\r\\n识骗方法：收到中奖信息后留心一下，看一看你所购买的产品中有没有这家的产品，然后最好能在天猫店里直接和卖家联系确认消息。\\r\\n7朋友圈诈骗\\r\\n由于缺少第三方监管平台，不法分子会在朋友圈发布虚假低价购物信息，骗取消费者汇款购买。\\r\\n识骗方法：朋友圈里的销售行为，存在取证难，查处难的问题。因此建议大家在朋友圈买东西时，尽可能选择正规第三方支付平台进行支付，避免直接支付，以确保安全。\\r\\n8快递诈骗\\r\\n不法分子会从非法渠道获得客户信息，制作假的快递单，随后冒充快递员提前联系受骗者，把虚假货品送到消费者手中，骗取钱财。\\r\\n识骗方法：签收包裹前，务必按官方的信息核实对方身份，并确认是否是自己的包裹。在取货之后；一定记得把自己的个人信息从包裹上完全抹去；避免个人信息泄露。\\r\\n9退款诈骗\\r\\n不法分子常以“退款”或“退货”为由假扮网店客服，要求消费者点击其提供的“钓鱼网站”链接，盗取持卡人的银行密码及动态验证码。\\r\\n识骗方法：如果接到网上购物退款的电话或短信等信息，一定要谨慎对待，切莫泄露银行卡账号、户名，动态验证码等个人信息。\\r\\n同时，提醒大家：保护好自己账户信息，遇到情况一定及时报警。\\r\\n武汉破特大网络诈骗案抓808人:以\"内幕消息\"骗人\\r\\n6月12日，武汉市公安局向澎湃新闻通报，该局破获一起特大网络诈骗案。抓获包括卢某、熊某等8名首脑分子在内的涉案人员808名，查扣涉案电脑800余台、手机2000余部、银行卡3000余张。据悉，这是全国打击利用非法互联网金融平台实施诈骗犯罪中，查获涉案人数最多的一起案件。\\r\\n',\n",
       " '\\u3000\\u30006月21日，A股纳入MSCI指数尘埃落定，但当天被寄予厚望的券商股并未扛起反弹大旗。22日，在222只纳入MSCI指数的A股股票中，银行股全线飘红，其中招商银行领涨，涨幅达6.66%。保险股和券商股的表现也可圈可点。在这222只股票中，金融板块的股票数量和总市值占比均位居首位。分析人士指出，银行股股息率高、估值低、收益稳定，对于资金量较大、投资期限较长的资金存在相当大的吸引力。从国际经验来看，纳入MSCI指数后，相关股市的投资者风格将更加稳健，更加偏好业绩稳定、流动性好、风险低的优质蓝筹股。\\r\\n\\u3000\\u3000银行股具估值优势\\r\\n\\u3000\\u30006月22日，A股金融股表现强势，板块涨幅达1.19%。据平安证券统计，在222只纳入MSCI指数的A股股票中，金融板块市值占比达41.32%，其中银行、证券和保险子板块的市值占比分别为27.30%、7.75%和6.24%。\\r\\n\\u3000\\u3000多家券商研究报告认为，银行等金融股受到纳入MSCI指数的提振，未来更多境外资金将进入金融股。\\r\\n\\u3000\\u3000华泰证券表示，在纳入MSCI指数之后，A股将迎来约850亿元人民币的增量资金。其中，考虑到222只股票中，金融股市值占比约42%，并且金融股体量大、流动性强、估值低，符合境外资金偏好，有望迎来超过权重的资金比例。预计金融股有望吸引增量资金约350亿元人民币。\\r\\n\\u3000\\u3000新富资本证券投资中心研究总监廖云龙认为，银行股脱颖而出的主要原因是低估值。市场预期银行股基本面改善，同时市场整体风格偏保守，偏爱低估值。22日银行股的大涨是市场风格的延续，是投资者对龙头股和对低估值的防御性选择。\\r\\n\\u3000\\u3000东方财富choice统计的一季度末QFII重仓股数据显示，银行股是QFII关注的重点之一。在前五十大重仓股中，北京银行、南京银行、宁波银行、上海银行榜上有名。\\r\\n']"
      ]
     },
     "execution_count": 10,
     "metadata": {},
     "output_type": "execute_result"
    }
   ],
   "source": [
    "all_articles[:10]"
   ]
  },
  {
   "cell_type": "code",
   "execution_count": 11,
   "metadata": {
    "collapsed": true
   },
   "outputs": [],
   "source": [
    "import re"
   ]
  },
  {
   "cell_type": "code",
   "execution_count": 12,
   "metadata": {
    "collapsed": true
   },
   "outputs": [],
   "source": [
    "def token(string):\n",
    "    return ' '.join(re.findall('[\\w|\\d]+',string))"
   ]
  },
  {
   "cell_type": "code",
   "execution_count": 13,
   "metadata": {
    "collapsed": true
   },
   "outputs": [],
   "source": [
    "string = '&&*(^^^&^&(* o0a9r8877**& this is a BIGGGGGGGggggGGGGGGG thing'"
   ]
  },
  {
   "cell_type": "code",
   "execution_count": 14,
   "metadata": {},
   "outputs": [
    {
     "data": {
      "text/plain": [
       "True"
      ]
     },
     "execution_count": 14,
     "metadata": {},
     "output_type": "execute_result"
    }
   ],
   "source": [
    "'BIG' in string"
   ]
  },
  {
   "cell_type": "code",
   "execution_count": 15,
   "metadata": {
    "collapsed": true
   },
   "outputs": [],
   "source": [
    "pattern = '\\w+'"
   ]
  },
  {
   "cell_type": "code",
   "execution_count": 16,
   "metadata": {},
   "outputs": [
    {
     "data": {
      "text/plain": [
       "['o0a9r8877', 'this', 'is', 'a', 'BIGGGGGGGggggGGGGGGG', 'thing']"
      ]
     },
     "execution_count": 16,
     "metadata": {},
     "output_type": "execute_result"
    }
   ],
   "source": [
    "re.findall(pattern, string)"
   ]
  },
  {
   "cell_type": "code",
   "execution_count": 17,
   "metadata": {},
   "outputs": [
    {
     "data": {
      "text/plain": [
       "'技术上 沪指运行到60日均线附近 在权重股拉升之下有突破之意 不过由于运行到前期肩部区域 压力还是比较大 这种单纯依托权重股 而忽略个股效应的模式能够走多远 还是值得担忧的 这是引发资金派发而形成跳水的关键因素 尤其是个股的赚钱效应越来越差 甚至不排除一些获利盘和解套盘选择了短线的离场 伴随着高位 资金追涨的压力也在增加 谨慎观望气氛增加 导致了成交量的止步不前 玉名认为目前股民需要对于个股做一个梳理了 短线反弹较多的 且近期放量滞涨的 就要有所警惕了 要逐步兑现利润 选择落袋为安 重新等待机会 而对于已经进入前期阻力区或密集套牢区的个股 应该及时考虑减仓 毕竟这样的品种很容易出现再度的调整 对于前期涨幅不大 或者是下跌通道已经扭转的个股 可以暂时持有观望 昨日回顾'"
      ]
     },
     "execution_count": 17,
     "metadata": {},
     "output_type": "execute_result"
    }
   ],
   "source": [
    "token('\\r\\n\\u3000\\u3000技术上，沪指运行到60日均线附近，在权重股拉升之下有突破之意，不过由于运行到前期肩部区域，压力还是比较大，这种单纯依托权重股，而忽略个股效应的模式能够走多远，还是值得担忧的，这是引发资金派发而形成跳水的关键因素。尤其是个股的赚钱效应越来越差，甚至不排除一些获利盘和解套盘选择了短线的离场，伴随着高位，资金追涨的压力也在增加，谨慎观望气氛增加，导致了成交量的止步不前。玉名认为目前股民需要对于个股做一个梳理了，短线反弹较多的，且近期放量滞涨的，就要有所警惕了，要逐步兑现利润，选择落袋为安，重新等待机会；而对于已经进入前期阻力区或密集套牢区的个股，应该及时考虑减仓，毕竟这样的品种很容易出现再度的调整；对于前期涨幅不大，或者是下跌通道已经扭转的个股，可以暂时持有观望。\\r\\n\\u3000\\u3000昨日回顾：')"
   ]
  },
  {
   "cell_type": "code",
   "execution_count": 18,
   "metadata": {
    "collapsed": true
   },
   "outputs": [],
   "source": [
    "all_articles = [token(str(a)) for a in all_articles]"
   ]
  },
  {
   "cell_type": "code",
   "execution_count": 19,
   "metadata": {
    "scrolled": true
   },
   "outputs": [
    {
     "data": {
      "text/plain": [
       "['此外 自本周 6月12日 起 除小米手机6等15款机型外 其余机型已暂停更新发布 含开发版 体验版内测 稳定版暂不受影响 以确保工程师可以集中全部精力进行系统优化工作 有人猜测这也是将精力主要用到MIUI 9的研发之中 MIUI 8去年5月发布 距今已有一年有余 也是时候更新换代了 当然 关于MIUI 9的确切信息 我们还是等待官方消息',\n",
       " '骁龙835作为唯一通过Windows 10桌面平台认证的ARM处理器 高通强调 不会因为只考虑性能而去屏蔽掉小核心 相反 他们正联手微软 找到一种适合桌面平台的 兼顾性能和功耗的完美方案 报道称 微软已经拿到了一些新的源码 以便Windows 10更好地理解big little架构 资料显示 骁龙835作为一款集成了CPU GPU 基带 蓝牙 Wi Fi的SoC 比传统的Wintel方案可以节省至少30 的PCB空间 按计划 今年Q4 华硕 惠普 联想将首发骁龙835 Win10电脑 预计均是二合一形态的产品 当然 高通骁龙只是个开始 未来也许还能见到三星Exynos 联发科 华为麒麟 小米澎湃等进入Windows 10桌面平台',\n",
       " '此前的一加3T搭载的是3400mAh电池 DashCharge快充规格为5V 4A 至于电池缩水 可能与刘作虎所说 一加手机5要做市面最轻薄大屏旗舰的设定有关 按照目前掌握的资料 一加手机5拥有5 5寸1080P三星AMOLED显示屏 6G 8GB RAM 64GB 128GB ROM 双1600万摄像头 备货量 惊喜 根据京东泄露的信息 一加5起售价是xx99元 应该是在2799 2899 2999中的某个',\n",
       " '这是6月18日在葡萄牙中部大佩德罗冈地区拍摄的被森林大火烧毁的汽车 新华社记者张立云摄',\n",
       " '原标题 44岁女子跑深圳约会网友被拒 暴雨中裸身奔走 深圳交警微博称 昨日清晨交警发现有一女子赤裸上身 行走在南坪快速上 期间还起了轻生年头 一辅警发现后赶紧为其披上黄衣 并一路劝说她 那么事发时 到底都发生了些什么呢 南都记者带您一起还原现场 南都记者在龙岗大队坂田中队见到了辅警刘青 发现女生的辅警 一位外表高大帅气 说话略带些腼腆的90后青年 刘青介绍 6月16日早上7时36分 他正在环城南路附近值勤 接到中队关于一位女子裸身进入机动车可能有危险的警情 随后骑着小铁骑开始沿路寻找 大概花了十多分钟在南坪大道坂田出口往龙岗方向的逆行辅道上发现该女子 女子身上一丝不挂地逆车流而行 时走时停 时坐时躺 险象环生 刘青停好小铁骑 和另外一名巡防员追了上去 发现女子的情绪很低落 话不多 刘青尝试和女子交流 劝说女子离开 可女子并不愿意接受 继续缓慢地往南坪快速路的主干道上走去 此时路边上已经聚集了很市民围观 为了不刺激女子的情绪 刘青和巡防员一边盯着女子一边驱赶着围观的群众 现场还原 从警方提供的一份视频了解到 16日早上7时25分 女子出现在坂雪岗大道与环城南路的监控视频中 此时女子还穿着白色的内裤 正沿着坂雪岗大道往南坪快速的方向缓慢地走着 当时正值上班高峰期 十字路口的车流已经排起了长队 当女子出现时 路上的市民纷纷驻足观望 不少车辆也放慢了速度 但女子并不为市民观望停下脚步 依然缓慢走着 当女子行进到十字路口中间时 一辆大货车挡住了镜头 但是当女子再次出现镜头时 可以发现女子已经没穿内裤了 全身裸露继续朝着南坪快速方向走去 记者发现 视频中女子周围并没有人尾随或者上前劝止的市民 一大清早路上看到这样的情况 恐怕大家都没办法淡定 面对这一情况 刘青表示 一开始根本不敢看她 心里挺别扭 感觉很尴尬 但当刘青跟随女子上了南坪快速路主干道时 女子作出了让人意想不到的举动 她突然靠近护栏要从上面跳下去 刘青赶忙冲上去拉住了女子的手 将其控制住并远离护栏 碍于女子没有穿衣服 刘青递上衣服 女子没接受还把衣服扔到排水沟里 继续往前走 没办法刘青只能紧紧拉着她的一只手跟在后面 刘青一路上耐心地开导安慰她 但只听到她不断地重复着一句话 要是你也遭遇我的事 你也会这样的 期间她还不时试图挣脱刘青的手要冲向护栏往下跳 就这样 我被牵着走了大概十多分钟 天突然下起了大暴雨 雨大的连眼睛都睁不开 刘青继续说着 瞬间他们就被雨透了 但女子依然不愿意接受刘青的帮助 就继续冒着大雨往前走 大概走了有四十分钟吧 女子突然停下来说 我想回家了 然后女子也接受了刘青递过来的小黄衣 就出现了深圳微博上的照片 女子披着小黄衣 刘青小心翼翼地在旁边走着的场景 从南平快速下来后 刘青和巡防员将女子带到了附近的坂田派出所 那姑娘到底是遭遇了什么样的事情 才会说 要是你也遭遇我的事 你也会这样 据警方透露 该女子姓陈 系湖北人 今年44岁 据家属反映其有精神病史 三天前 陈某从老家来深圳约会网友 但约会受挫导致情绪异常 女子遂产生轻生念头 目前 陈某已经被送往深圳某精神病医院进行治疗 大大君只希望姑娘能早点康复 其实真爱的到来并不存在年龄的限制 你们说呢 因善良的原因 一众网友纷纷为 交警暖男点ZAN 弓常yan桦 就想问这个小哥哥有女票吗 原谅我这一辈子浪荡不羁爱萨摩耶 有什么过不去的要轻生嘛 想想自己的家人 同时也感谢交警蜀黍 火心聆听心灵 点赞交警 中華云盾 警察 警察就是群众最需时申出援手 Tomchlee 蜀黍帅 SJ 李赫海i 这个交警很暖有木有 男子迷奸网友拍418个视频 女方从20岁到50岁不等 去年6月7号上午 淮安市涟水县公安局刑警大队突然接到了一个奇怪的报警电话 一名女子言语不清 声称自己遭到了侵害 女子 被侵害 言语不清 几个关键词令接到电话的民警瞬间紧张起来',\n",
       " '受到A股被纳入MSCI指数的利好消息刺激 A股市场从周三开始再度上演龙马行情 周四上午金融股和白马股表现喜人 但是尾盘跳水之后 仅金融板块仍维系红盘状态 分析人士认为 金融股受益于MSCI纳入A股和低估值而重获资金青睐 但是存量资金博弈格局下 风格交替的震荡格局料延续 流动性改善 经济悲观预期修正等有助于支撑板块继而大盘指数逐步向好 一九 再现 周四 A股市场未能延续周三的上行态势 两市成交小幅放量 29个中信一级行业中 收盘仅银行和非银行金融两个行业指数收红 分别上涨1 80 和0 20 从二级行业来看 股份制与城商行的涨幅最高 达到2 22 国有银行上涨0 82 信托及其他上涨0 64 保险板块上涨0 34 证券板块上涨0 06 银行板块25只成分股中 共有21只收红 其中 招商银行涨幅最大 上涨6 66 贵阳银行上涨3 65 上海银行 华夏银行 浦发银行和兴业银行的涨幅均超过1 50 非银行金融板块44只成分股中 共17只个股上涨 其中 安信信托 中国太保涨幅居前两名 分别上涨4 57 和3 04 西水股份 华安证券 中国人寿和新华保险的涨幅也均超过2 相对而言 券商股多小幅下跌 近期 对A股市场消息面影响最大的就是MSCI宣布从2018年6月开始将A股纳入MSCI新兴市场指数 而其中 金融股是占比最大的一个群体 国金证券李立峰团队指出 最新方案中包含的222只成分股中 剔除了中等市值 非互联互通可交易的股票以及有停牌限制的标的 由于纳入了很多大市值AH股 A股在MSCI EM中的权重由0 5 上升到了0 73 其中 金融板块占比最高 达到40 11 泛消费次之 占比为24 26 两个板块涵盖了大部分权重股 动态来看 由于加入了很多是指占比高的金融公司 金融板块的权重增加了近一半 其他大部分行业权重都受到了稀释 尽管A股被纳入MSCI这一利好事件对短期市场情绪有所提振 对中长期海外增量资金预期升温 但短期内 市场量能尚不能有效放大 金融股独乐乐情景也就难以持续 存量博弈格局下 风格交替 指数震荡格局难改变 光大证券指出 利好并未引起市场太大的热情 两市指数和成交量均较为平淡 但市场风格出现了较大变化 白马股金融股上涨的同时 成长股 题材股全天低迷 这表明市场增量资金依然很少 存量资金在不同板块之间腾挪 这样的跷跷板格局使得指数难有突破 市场中期依旧偏空 短期依旧可能维持震荡格局',\n",
       " '虽然至今夏普智能手机在市场上无法排得上号 已经完全没落 并于 2013 年退出中国市场 但是今年 3 月份官方突然宣布回归中国 预示着很快就有夏普新机在中国登场了 那么 第一款夏普手机什么时候登陆中国呢 又会是怎么样的手机呢 近日 一款型号为 FS8016 的夏普神秘新机悄然出现在 GeekBench 的跑分库上 从其中相关信息了解到 这款机子并非旗舰定位 所搭载的是高通骁龙 660 处理器 配备有 4GB 的内存 骁龙 660 是高通今年最受瞩目的芯片之一 采用 14 纳米工艺 八个 Kryo 260 核心设计 集成 Adreno 512 GPU 和 X12 LTE 调制解调器 当前市面上只有一款机子采用了骁龙 660 处理器 那就是已经上市销售的 OPPO R11 骁龙 660 尽管并非旗舰芯片 但在多核新能上比去年骁龙 820 强 单核改进也很明显 所以放在今年仍可以让很多手机变成高端机 不过 由于 OPPO 与高通签署了排他性协议 可以独占两三个月时间 考虑到夏普既然开始测试新机了 说明只要等独占时期一过 夏普就能发布骁龙 660 新品了 按照之前被曝光的渲染图了解 夏普的新机核心竞争优势还是全面屏 因为从 2013 年推出全球首款全面屏手机 EDGEST 302SH 至今 夏普手机推出了多达 28 款的全面屏手机 在 5 月份的媒体沟通会上 惠普罗忠生表示 我敢打赌 12 个月之后 在座的各位手机都会换掉 因为全面屏时代的到来 我们怀揣的手机都将成为传统手机',\n",
       " '沙漠雄鹰 震荡有利消化套牢筹码 周四开盘上证50在银行券商大蓝筹带动下一度涨近2 沪指也一度站上60日与120日均线 但在 黑天鹅 万达电影暴跌拖累下 沪深股市绝大多数时间分道扬镳 14点后次新股大幅跳水令各大指数全线收绿 存量博弈格局难改 量能久日不见放大下 蓝筹行情并不可持续 短线策略依然是以题材为主 次新股和区域经济概念股调整压力仍然突出 成长股再次大跌 但目前处于底部 低位反复震荡有助于夯实底部 目前市场仍属存量资金博弈 短期蓝筹股上演的指数行情令市场承压 短期利好带动的蓝筹股行情或将告一段落 后期需要题材股接力来维稳指数走向 今日经财要闻 一 央行上海总部发布 债券通 北向通境外投资者准入备案业务指引 二 我国信用法规和标准研究正在加快推进 三 上海易居房地产研究院发布的 房贷利率与楼市研究报告 显示 近期许多城市的个人住房贷款利率均有不同程度的上涨 四 水污染防治法修正案草案二审 更大力度保护水环境 五 根据中国结算发布的 关于开展存量一人多户休眠工作的通知 已启动对同一投资者开立的三户以上多开账户的休眠工作 按中国结算的文件要求 自6月23日后的下一交易日 下周一 6月26日 起 被确认为休眠账户的 将在交易系统中止交易 六 李军 十三五 末上海金融市场交易额或达2000万亿 七 受A股纳入MSCI新兴市场指数 以及中国宏观环境持续稳定的双重因素鼓舞下 富达国际基金经理马磊表示 预计2017年下半年中国股市投资者情绪将有望转好 中国股市未来十年增长将主要由创新驱动 大盘回顾 周四A股市场出现了早盘冲高 午市后震荡回落 尾盘大幅跳水的走势 从盘面看 沪深300指数盘中创17个月新高 但2000余只个股下跌 市场分化相当明显 至收盘 上证指数报3147 45点 较前一交易日跌8 76点 跌幅为0 28 深成指报10265 20点 跌101 97点 跌幅为0 98 创业板指表现最弱 报1798 38点 跌幅达到1 44 两市个股普跌 仅400余只交易品种上涨 不计算ST股和未股改股 两市涨停个股不足30只 两市共成交4781亿元 较前一交易日大增800多亿元 数据显示 昨日两市共有主力尽流出190 57亿元 较上一日的96 95亿元大增96 27 两市61个行业板块有57个遭遇主力抛售 虽然券商与银行板块共有近13亿元主力介入 但化工行业与医药制造就分别遭遇14亿元与12 21亿元的主力抛售 而持续低迷的雄安新区的抛售力度更是高达41 69亿元 技术分析 昨日临近收盘的半个小时 沪指上演高位跳水 将涨幅全部回吐 失守60日均线 成交量明显放大 留下长长的上影线 尽管跌幅不深 但个股一地鸡毛 沪指自3016点以来 大盘每次回调的相对低点位置都在不断抬升 所以即使大盘冲高乏力后出现回落 指数调整的空间也因被封住而难以出现大跌 总体来说市场震荡分化的格局短期依然难以打破 短线来看 沪指在盘中攻克60日均线和半年线压力之后 却在当日得而复失 而创业板指则连上方均线压力都无法触及 这样的走势 无疑会对投资者心理产生负面影响 而在技术形态上 在60分钟K线级别已经形成了背离雏形 一旦沪指跌破3117点 就意味着背离成型 如此即可能引发日线级别的下跌 综合分析 目前指数正处在压力区间 市场脆弱的心态 碎片化的涨停板 主线模糊 热点凌乱 赚钱效应弱等因素都是大盘突破的掣肘因素 而昨日的尾盘跳水 主要有以下原因 首先 长期的二八分化 导致人气低迷 最近一段时间权重股虽然整体走高 但该板块群众基础弱 弹性小制约绝对涨幅 难以形成大面积的赚钱效应 与此同时 现在场内二八轮动非常频繁 今天追进的资金明天就要吃套 打击资金积极性 其次 市场反弹到重要压力区 却仅靠资金拉升指标股来抬升指数 这种没有赚钱效应的拉抬是不可能持久的 昨日招商银行一度大涨7 但投资者似乎并不买账 跟风盘极少 由于目前A股一直是存量资金博弈的市场 所以 指标股吸引着资金加码 那么 就意味着中小市值品种面临着强大的筹码套现压力 另外 昨日万达股票债券莫名齐跌 午后复星医药盘中突现 闪崩 令市场踩踏事件出现 短期市场受此影响 再次收复上方半年线的压力大增 投资建议 近期权重蓝筹一直强于中小创 但上涨始终缺乏有效的量能支持 在存量博弈背景下 后续资金若无法跟上 活跃资金或会转战中小创 短线投资者在降低权重配置时 可加大中小创中盘子小 股性活跃的超跌品种 大盘的纠缠格局依然还在进行中 权重股虽整体走高 但群众基础弱 弹性小 绝对涨幅有所制约 金融板块大涨促使沪指上摸3180点压力位区间 但能否真正有效突破 还需要观察几日 基于周四K线组合形态偏向悲观 因此投资者当前宜先退出观望 等待股指下方获得支撑后再寻机操作 热点分析 由于粤港澳大湾区论坛期间 腾讯看多人工智能 百度也将于7月5日举办 百度AI开发者大会 以谷歌 亚马逊为代表的互联网巨头一致看好人工智能未来的发展 产业创新叠加政策扶持 人工智能行业高景气度有望维持 市场在最近一个月内出现了4次长上影线 之前三次都形成了周线级别调整 加之下周是月末钱荒效应 值得股民做好应对 自6月初以来 市场始终是以中小创为首的反弹模式 个股赚钱效应保持 而随着周三尾盘开始 权重股快速拉升 带来了指数尾盘翻红 周四刷新高点 但与此同时个股赚钱效应却有了明显的降温的 个股涨少跌多 午盘后个股跳水加剧这一现象必须要引起重视 玉名认为这意味着上证50创新高 但并没有带来其余个股的跟随 相反还带来了大部分个股的跳水 而受到政策红利的军工板块和上周 王者荣耀 引发的手游股类似 都是出现了 一日游 的走势 没有延续性的热点 更多地来自于事件刺激和超跌反弹 市场下周将进入到一个比较敏感的时间段 既是月末 季末 又是半年末 容易出现资金的异动 实际上 从美联储加息和缩表行为来看 已经意味着紧缩货币政策的开启 而这也在全球央行中流行 金融市场很难再现 大水漫灌 式强刺激 中性偏紧的政策和流动性将成为一种 常态 从基本面来看 玉名认为中国经济仍将是 L 型筑底走势 这是一个阶段 是一段较长的时间 意味着没有高速增长 也没有增速大幅下滑 而是横盘周期 同时以适度偏紧的政策 为供给侧结构性改革提供良好环境 因此 从基本面决定了股市只能处于震荡市周期 技术上 沪指运行到60日均线附近 在权重股拉升之下有突破之意 不过由于运行到前期肩部区域 压力还是比较大 这种单纯依托权重股 而忽略个股效应的模式能够走多远 还是值得担忧的 这是引发资金派发而形成跳水的关键因素 尤其是个股的赚钱效应越来越差 甚至不排除一些获利盘和解套盘选择了短线的离场 伴随着高位 资金追涨的压力也在增加 谨慎观望气氛增加 导致了成交量的止步不前 玉名认为目前股民需要对于个股做一个梳理了 短线反弹较多的 且近期放量滞涨的 就要有所警惕了 要逐步兑现利润 选择落袋为安 重新等待机会 而对于已经进入前期阻力区或密集套牢区的个股 应该及时考虑减仓 毕竟这样的品种很容易出现再度的调整 对于前期涨幅不大 或者是下跌通道已经扭转的个股 可以暂时持有观望 昨日回顾 主板终于费尽九牛二虎之力爬到了3180点附近 但是遗憾的是在主板尤其是上证50和沪深300不断地创新高之际 中小创却依然是忍受着无厘头的煎熬 午后市场更是以全线跳水的结局收盘 那么对于这样的市场周五会怎样 昨日消息面 央行 债券通 登记托管等实施细则会很快发布实施 发改委 抓紧制定出台配气价格监管规则 人社部 9月底前基本实现跨省异地就医住院费用直接结算 23日成品油将迎年内第六次下调 降幅或达270元 吨 国防科工局 推进军工企业混改 加快军工资产证券化进程 广电总局要求新浪微博等网站关停视听节目 欧美股指延续涨跌不一的走势 消息面上 外围市场整体稳健 国内信息面则继续是不死不活的形式 预计市场继续走整理行情 技术分析 技术上看 市场昨日走势在午后全线跳水 主板创新高后回落 创业板则是继续在1800点附近做整理 相比于主板则显得较为弱势 技术上看 市场周五将依然不会有大行情 但是二八转换的格局将可能随时出现 今日大盘下档第一支撑位在3130点 第二支撑位在3100 上档第一压力位在3160点 第二压力位在3180点 今日走势 欧美股指高位整理 隔夜信息面依然没有什么实质性的利好 今天继续有新股申购 在这样的情况下 预计大盘再度平开或小幅低开可能性大 整体看今天指数出现调整的可能性大 日线继续以小阴 小阳或十字星线为主 随时防止主板可能出现的回调 今日操作 就昨日市场的走势看 依然是面子行情 更是将中小创再度推到了一个极为尴尬的境地 当然在筑底的过程中很多的不确定因素将会愈发明显 因此建议大家操作继续在短期寻求涨幅不大的个股或者是底部放量的个股 尤其是再加上业绩稳定的个股将是最好 逢低介入 操作上短期建议执行快进快出的策略 远离短期涨幅过大的个股 具体操作坚持大涨卖 大跌买 不涨不跌选择观望的策略 从昨日市场走势看 又一次证明了彬哥之前所让大家关注的3180点主板可能回调的观点是正确的 而主板也确实在3180点附近出现了回调 对于这样的回调 彬哥认为是一个健康的事情 也是一个必须要出现的事情 现在唯一不能确定的就是在主板回调的时候中小创会不会出现企稳 会不会出现让投资者操作的机会 因此大家今天上午需要至少需要半天的时间去观察市场可能出现的结果 目前行情有一点可以确定的就是主板将会在3180点附近出现调整 因此大家万不可在这个时候再去追涨主板的个股 尤其是以保险银行为首的上证50个股 就周四午后市场的走势看 主板的调整势在必行 因此大家要做好主板调整的心理准备 当然还要做好市场全线调整的心理预期',\n",
       " '原标题 武汉警方一下子抓了808人 还都是俊男靓女 原来他们每天偷偷摸摸干这事 武汉警方一下子抓了808人 还都是俊男靓女 原来他们每天偷偷摸摸干这事 大家还记得今年4月光谷曾发生的一件大事吗 当时微博和朋友圈上都传疯了 说是光谷国际广场大量白领被捕 现场手铐都不够用 结果经记者深入调查后发现 这些被抓的并不是网传的 白领 而是一个有282名涉案人员的诈骗团伙 天呐 接近300人的犯罪团伙 你以为这个数字已经够庞大了吗 错 还有让你更震惊的 据武汉市公安局通报 6月9日 警方在武汉三镇的10处窝点内 抓获了808名嫌疑人 而且令人大跌眼镜的是 他们当中大多都是年青人 用 俊男靓女 来形容也不为过 年纪不大 外形不差 那么到底是犯了什么事呢 其实说起来 这事估计绝大多数人都碰到过 那就是网络诈骗 涉案电脑800余台 手机2000余部 银行卡3000余张 因为涉及的账户太多 涉案金额目前还没统计出来 这是全国涉案人数最多的一起特大网络诈骗案 这些惊人的数字背后 究竟藏着什么样的秘密 警方把他们一锅端了 今年4月 武汉警方获悉在塔子湖地区有电信网络诈骗活动 经过2个多月的秘密侦查 发现了一个特大网络诈骗犯罪团伙 原来该团伙利用非法互联网金融平台 实施推荐股票 炒期货等诈骗 其10处窝点散布在江岸 洪山 东湖高新 硚口 江汉等5个区的写字楼内 涉案人员多达800余名 6月9日上午 武汉警方组织了1000余名警力 分成14个抓捕组 同时对首脑分子和10处窝点实施了突击抓捕行动 目前 警方已依法刑事拘留411人 对45人取保候审 该案还在进一步调查中 他们是如何进行诈骗的 人数众多的这个诈骗组织是怎么样进行人员分工 又是如何一步步引受害人上钩的呢 2015年以来 该犯罪团伙以投资组建的某集团公司为总部 旗下成立多家分公司 子公司 设立人事部 财务部 行政部等机构部门 分为经理 分析师 业务小组长 业务员等组织层级 在网上发布招聘信息招揽 培训业务员 依托虚构的互联网金融平台 通过业务员散布 有内幕消息 等虚假信息 引诱受害人加入专门的QQ群 微信群 再由所谓的 证券公司资深分析师 和 经理 逐个联系受害人 引诱受害人交易股票 期货 贵金属 外汇等金融产品 受害人若获利则按 五五 六四 分成 若亏损则拉入 黑名单 不再联系 网友热评 李晓猫不吃鱼 在人信汇写字楼面试过一个这种工作 一听不对劲就撤了 说不适合我 我嘴巴笨 习惯就好33xxzz 八百多人 可能相当部分人都不大清楚自己到底是啥性质工作吧 刑法守望者 要警惕了 普法 各种工作都要预防法律风险 要做个明白人 不是什么钱都可以拿 尤其是从事金融 保险 银行 财务的人员 不小心就触犯刑法 童颜永在 心理医生 盘在写字楼内的诈骗公司 以高薪招聘业务人员为诱饵 实行诈骗的顽疾 终于被揣掉了 你的渔船 联系一下自己的朋友 看有多少个被抓了 The former degrees 招聘平台和销售会上百分之八十就是这种工作 从源头抓起 防止更多人受伤 宇宇家的小仙女 恐怖 进了一个星期发现不太对劲 这尼玛是让我骗人啊 赶紧自己跑路了 z_路漫漫 我做过 后来听说公司跑路了 睡不饱怎么办啊小铭大 我都面试过这种工作 还培训了几天 话术一看就的套路骗 果断闪人 这种公司太多了 遗忘的金叶子 碰到这样的骗子找我们做视频 最后被我打电话骂了一顿 a一元复始c 还有那些天天电话骚扰别人信贷的 卖房的 卖邮票的 发票的社会生活中一不留神就会被坑 所以活着需要理智 笑看世间丑2448337651 这是在路上发骗广告搞高利贷的那些互联网金融公司吗 未来温暖的时光属于自己 金融港 街道口都是这些 好多同学刚刚毕业都去做过 都是网上投简历 这些公司就猛联系你 其实好多都不知道这是骗人的吧 有强迫症的天蝎座怪咖 吓到我了 冉冉的彗星是个宝 早上还接到说做期货 霖心金鱼And张蒙 都不敢去找工作了 蒋妈妈1 5 刚回到武汉 准备找份工作 看网上好多这种招聘的 感觉像骗人的 都不看的 看了网友的评论 小编只有一个感觉 找工作时一定要擦亮双眼 不要因为一时疏忽 而给自己的生活抹上污点 俗话说 知己知彼百战不殆 弄清网络诈骗的常见手法 才能避免上当受骗 下面就为大家奉上防骗攻略 遇到诈骗只需见招拆招 网络防骗攻略 电信网络诈骗犯罪往往表现为 六大陷阱 1 物美价廉的网购陷阱 2 推销产品的便利陷阱 3 异性交友的情感陷阱 4 中奖信息的惊喜陷阱 5 冒充国家工作人员的恐吓陷阱 6 钓鱼网站和网上银行的迷惑陷阱 下面是网络诈骗中比较常见的几种类型 一起学习如何防范 让骗子无处遁形 1虚假红包诈骗 临近节日时 各大电商平台会以派发红包的形式 为促销活动预热 有不法分子趁机在微信朋友圈 微信群等平台中 派发虚假红包 诱骗大家点击 套取个人信息 或传播木马病毒 盗取银行账号 识骗方法 慎点此类红包领取链接 如果不小心点击 应第一时间关闭手机网络 修改网银 支付宝等重要账户密码 并通过安全软件查杀木马病毒 2二维码诈骗 抢购高峰期 网页打开慢 网银交易出现比较迟钝现象 有不法分子会冒充客服或店主 以单子出现 调单 卡单 等说法为幌子 故意说没有收到款项欺诈消费者 取得信任后要求消费者以其他办法进行转账 识骗方法 消费者要注意 调单 卡单 激活订单等多为诈骗术语 见此类词语基本可以断定对方是骗子 没有收到款项这样的问题 是不会在东京 天猫这样的大型网络购物平台出现的 3钓鱼网站诈骗 节假日期间 公众的购物热情高涨 假冒正规电商官方网站 在线支付平台等的钓鱼网站活动频繁 消费者在忙于浏览各色商品页面时 往往容易忽略链接的安全性 从而误入诈骗分子发来的虚假钓鱼网站 识骗方法 对陌生人发来的商品链接要提高警惕 谨慎打开 如遇网络诈骗应第一时间向属地公安机关报案 并向举报中心举报 4虚假客服诈骗 抢购高峰期 网页打开慢 网银交易出现比较迟钝现象 有不法分子会冒充客服或店主 以单子出现 调单 卡单 等说法为幌子 故意说没有收到款项欺诈消费者 取得信任后要求消费者以其他办法进行转账 识骗方法 消费者要注意 调单 卡单 激活订单等多为诈骗术语 见此类词语基本可以断定对方是骗子 没有收到款项这样的问题 是不会在东京 天猫这样的大型网络购物平台出现的 5预购诈骗 还有不法分子会以 提前购 预售 为诱饵向用户发送木马链接 除了网购链接被植入木马 钓鱼网站 还有不法分子会在 预售 活动上做文章 骗取买家 定金 识骗方法 慎点不明链接 有关购物短信也不要轻信 同时也请给手机装上杀毒软件 提供安全的上网环境 6中奖诈骗 购物过后 很多人会陆陆续续收到一些商家的中奖信息 切记不要随意拨打中奖信息提供的电话号码或点击发来的网站链接地址 很可能会让手机或电脑感染上木马病毒 识骗方法 收到中奖信息后留心一下 看一看你所购买的产品中有没有这家的产品 然后最好能在天猫店里直接和卖家联系确认消息 7朋友圈诈骗 由于缺少第三方监管平台 不法分子会在朋友圈发布虚假低价购物信息 骗取消费者汇款购买 识骗方法 朋友圈里的销售行为 存在取证难 查处难的问题 因此建议大家在朋友圈买东西时 尽可能选择正规第三方支付平台进行支付 避免直接支付 以确保安全 8快递诈骗 不法分子会从非法渠道获得客户信息 制作假的快递单 随后冒充快递员提前联系受骗者 把虚假货品送到消费者手中 骗取钱财 识骗方法 签收包裹前 务必按官方的信息核实对方身份 并确认是否是自己的包裹 在取货之后 一定记得把自己的个人信息从包裹上完全抹去 避免个人信息泄露 9退款诈骗 不法分子常以 退款 或 退货 为由假扮网店客服 要求消费者点击其提供的 钓鱼网站 链接 盗取持卡人的银行密码及动态验证码 识骗方法 如果接到网上购物退款的电话或短信等信息 一定要谨慎对待 切莫泄露银行卡账号 户名 动态验证码等个人信息 同时 提醒大家 保护好自己账户信息 遇到情况一定及时报警 武汉破特大网络诈骗案抓808人 以 内幕消息 骗人 6月12日 武汉市公安局向澎湃新闻通报 该局破获一起特大网络诈骗案 抓获包括卢某 熊某等8名首脑分子在内的涉案人员808名 查扣涉案电脑800余台 手机2000余部 银行卡3000余张 据悉 这是全国打击利用非法互联网金融平台实施诈骗犯罪中 查获涉案人数最多的一起案件',\n",
       " '6月21日 A股纳入MSCI指数尘埃落定 但当天被寄予厚望的券商股并未扛起反弹大旗 22日 在222只纳入MSCI指数的A股股票中 银行股全线飘红 其中招商银行领涨 涨幅达6 66 保险股和券商股的表现也可圈可点 在这222只股票中 金融板块的股票数量和总市值占比均位居首位 分析人士指出 银行股股息率高 估值低 收益稳定 对于资金量较大 投资期限较长的资金存在相当大的吸引力 从国际经验来看 纳入MSCI指数后 相关股市的投资者风格将更加稳健 更加偏好业绩稳定 流动性好 风险低的优质蓝筹股 银行股具估值优势 6月22日 A股金融股表现强势 板块涨幅达1 19 据平安证券统计 在222只纳入MSCI指数的A股股票中 金融板块市值占比达41 32 其中银行 证券和保险子板块的市值占比分别为27 30 7 75 和6 24 多家券商研究报告认为 银行等金融股受到纳入MSCI指数的提振 未来更多境外资金将进入金融股 华泰证券表示 在纳入MSCI指数之后 A股将迎来约850亿元人民币的增量资金 其中 考虑到222只股票中 金融股市值占比约42 并且金融股体量大 流动性强 估值低 符合境外资金偏好 有望迎来超过权重的资金比例 预计金融股有望吸引增量资金约350亿元人民币 新富资本证券投资中心研究总监廖云龙认为 银行股脱颖而出的主要原因是低估值 市场预期银行股基本面改善 同时市场整体风格偏保守 偏爱低估值 22日银行股的大涨是市场风格的延续 是投资者对龙头股和对低估值的防御性选择 东方财富choice统计的一季度末QFII重仓股数据显示 银行股是QFII关注的重点之一 在前五十大重仓股中 北京银行 南京银行 宁波银行 上海银行榜上有名']"
      ]
     },
     "execution_count": 19,
     "metadata": {},
     "output_type": "execute_result"
    }
   ],
   "source": [
    "all_articles[:10]"
   ]
  },
  {
   "cell_type": "code",
   "execution_count": 20,
   "metadata": {},
   "outputs": [
    {
     "name": "stdout",
     "output_type": "stream",
     "text": [
      "length of text: 37412506\n"
     ]
    }
   ],
   "source": [
    "text = ''\n",
    "\n",
    "for a in all_articles:\n",
    "    text += a \n",
    "print('length of text: {}'.format(len(text)))"
   ]
  },
  {
   "cell_type": "code",
   "execution_count": 52,
   "metadata": {
    "collapsed": true
   },
   "outputs": [],
   "source": [
    "TEXT = text"
   ]
  },
  {
   "cell_type": "code",
   "execution_count": 32,
   "metadata": {
    "collapsed": true
   },
   "outputs": [],
   "source": [
    "from functools import reduce"
   ]
  },
  {
   "cell_type": "code",
   "execution_count": 33,
   "metadata": {
    "collapsed": true
   },
   "outputs": [],
   "source": [
    "txt_from_reduce = reduce(lambda a1,a2 : a1+a2, all_articles[:10])"
   ]
  },
  {
   "cell_type": "code",
   "execution_count": 34,
   "metadata": {},
   "outputs": [
    {
     "data": {
      "text/plain": [
       "'此外 自本周 6月12日 起 除小米手机6等15款机型外 其余机型已暂停更新发布 含开发版 体验版内测 稳定版暂不受影响 以确保工程师可以集中全部精力进行系统优化工作 有人猜测这也是将精力主要用到MIUI 9的研发之中 MIUI 8去年5月发布 距今已有一年有余 也是时候更新换代了 当然 关于MIUI 9的确切信息 我们还是等待官方消息骁龙835作为唯一通过Windows 10桌面平台认证的ARM处理器 高通强调 不会因为只考虑性能而去屏蔽掉小核心 相反 他们正联手微软 找到一种适合桌面平台的 兼顾性能和功耗的完美方案 报道称 微软已经拿到了一些新的源码 以便Windows 10更好地理解big little架构 资料显示 骁龙835作为一款集成了CPU GPU 基带 蓝牙 Wi Fi的SoC 比传统的Wintel方案可以节省至少30 的PCB空间 按计划 今年Q4 华硕 惠普 联想将首发骁龙835 Win10电脑 预计均是二合一形态的产品 当然 高通骁龙只是个开始 未来也许还能见到三星Exynos 联发科 华为麒麟 小米澎湃等进入Windows 10桌面平台此前的一加3T搭载的是3400mAh电池 DashCharge快充规格为5V 4A 至于电池缩水 可能与刘作虎所说 一加手机5要做市面最轻薄大屏旗舰的设定有关 按照目前掌握的资料 一加手机5拥有5 5寸1080P三星AMOLED显示屏 6G 8GB RAM 64GB 128GB ROM 双1600万摄像头 备货量 惊喜 根据京东泄露的信息 一加5起售价是xx99元 应该是在2799 2899 2999中的某个这是6月18日在葡萄牙中部大佩德罗冈地区拍摄的被森林大火烧毁的汽车 新华社记者张立云摄原标题 44岁女子跑深圳约会网友被拒 暴雨中裸身奔走 深圳交警微博称 昨日清晨交警发现有一女子赤裸上身 行走在南坪快速上 期间还起了轻生年头 一辅警发现后赶紧为其披上黄衣 并一路劝说她 那么事发时 到底都发生了些什么呢 南都记者带您一起还原现场 南都记者在龙岗大队坂田中队见到了辅警刘青 发现女生的辅警 一位外表高大帅气 说话略带些腼腆的90后青年 刘青介绍 6月16日早上7时36分 他正在环城南路附近值勤 接到中队关于一位女子裸身进入机动车可能有危险的警情 随后骑着小铁骑开始沿路寻找 大概花了十多分钟在南坪大道坂田出口往龙岗方向的逆行辅道上发现该女子 女子身上一丝不挂地逆车流而行 时走时停 时坐时躺 险象环生 刘青停好小铁骑 和另外一名巡防员追了上去 发现女子的情绪很低落 话不多 刘青尝试和女子交流 劝说女子离开 可女子并不愿意接受 继续缓慢地往南坪快速路的主干道上走去 此时路边上已经聚集了很市民围观 为了不刺激女子的情绪 刘青和巡防员一边盯着女子一边驱赶着围观的群众 现场还原 从警方提供的一份视频了解到 16日早上7时25分 女子出现在坂雪岗大道与环城南路的监控视频中 此时女子还穿着白色的内裤 正沿着坂雪岗大道往南坪快速的方向缓慢地走着 当时正值上班高峰期 十字路口的车流已经排起了长队 当女子出现时 路上的市民纷纷驻足观望 不少车辆也放慢了速度 但女子并不为市民观望停下脚步 依然缓慢走着 当女子行进到十字路口中间时 一辆大货车挡住了镜头 但是当女子再次出现镜头时 可以发现女子已经没穿内裤了 全身裸露继续朝着南坪快速方向走去 记者发现 视频中女子周围并没有人尾随或者上前劝止的市民 一大清早路上看到这样的情况 恐怕大家都没办法淡定 面对这一情况 刘青表示 一开始根本不敢看她 心里挺别扭 感觉很尴尬 但当刘青跟随女子上了南坪快速路主干道时 女子作出了让人意想不到的举动 她突然靠近护栏要从上面跳下去 刘青赶忙冲上去拉住了女子的手 将其控制住并远离护栏 碍于女子没有穿衣服 刘青递上衣服 女子没接受还把衣服扔到排水沟里 继续往前走 没办法刘青只能紧紧拉着她的一只手跟在后面 刘青一路上耐心地开导安慰她 但只听到她不断地重复着一句话 要是你也遭遇我的事 你也会这样的 期间她还不时试图挣脱刘青的手要冲向护栏往下跳 就这样 我被牵着走了大概十多分钟 天突然下起了大暴雨 雨大的连眼睛都睁不开 刘青继续说着 瞬间他们就被雨透了 但女子依然不愿意接受刘青的帮助 就继续冒着大雨往前走 大概走了有四十分钟吧 女子突然停下来说 我想回家了 然后女子也接受了刘青递过来的小黄衣 就出现了深圳微博上的照片 女子披着小黄衣 刘青小心翼翼地在旁边走着的场景 从南平快速下来后 刘青和巡防员将女子带到了附近的坂田派出所 那姑娘到底是遭遇了什么样的事情 才会说 要是你也遭遇我的事 你也会这样 据警方透露 该女子姓陈 系湖北人 今年44岁 据家属反映其有精神病史 三天前 陈某从老家来深圳约会网友 但约会受挫导致情绪异常 女子遂产生轻生念头 目前 陈某已经被送往深圳某精神病医院进行治疗 大大君只希望姑娘能早点康复 其实真爱的到来并不存在年龄的限制 你们说呢 因善良的原因 一众网友纷纷为 交警暖男点ZAN 弓常yan桦 就想问这个小哥哥有女票吗 原谅我这一辈子浪荡不羁爱萨摩耶 有什么过不去的要轻生嘛 想想自己的家人 同时也感谢交警蜀黍 火心聆听心灵 点赞交警 中華云盾 警察 警察就是群众最需时申出援手 Tomchlee 蜀黍帅 SJ 李赫海i 这个交警很暖有木有 男子迷奸网友拍418个视频 女方从20岁到50岁不等 去年6月7号上午 淮安市涟水县公安局刑警大队突然接到了一个奇怪的报警电话 一名女子言语不清 声称自己遭到了侵害 女子 被侵害 言语不清 几个关键词令接到电话的民警瞬间紧张起来受到A股被纳入MSCI指数的利好消息刺激 A股市场从周三开始再度上演龙马行情 周四上午金融股和白马股表现喜人 但是尾盘跳水之后 仅金融板块仍维系红盘状态 分析人士认为 金融股受益于MSCI纳入A股和低估值而重获资金青睐 但是存量资金博弈格局下 风格交替的震荡格局料延续 流动性改善 经济悲观预期修正等有助于支撑板块继而大盘指数逐步向好 一九 再现 周四 A股市场未能延续周三的上行态势 两市成交小幅放量 29个中信一级行业中 收盘仅银行和非银行金融两个行业指数收红 分别上涨1 80 和0 20 从二级行业来看 股份制与城商行的涨幅最高 达到2 22 国有银行上涨0 82 信托及其他上涨0 64 保险板块上涨0 34 证券板块上涨0 06 银行板块25只成分股中 共有21只收红 其中 招商银行涨幅最大 上涨6 66 贵阳银行上涨3 65 上海银行 华夏银行 浦发银行和兴业银行的涨幅均超过1 50 非银行金融板块44只成分股中 共17只个股上涨 其中 安信信托 中国太保涨幅居前两名 分别上涨4 57 和3 04 西水股份 华安证券 中国人寿和新华保险的涨幅也均超过2 相对而言 券商股多小幅下跌 近期 对A股市场消息面影响最大的就是MSCI宣布从2018年6月开始将A股纳入MSCI新兴市场指数 而其中 金融股是占比最大的一个群体 国金证券李立峰团队指出 最新方案中包含的222只成分股中 剔除了中等市值 非互联互通可交易的股票以及有停牌限制的标的 由于纳入了很多大市值AH股 A股在MSCI EM中的权重由0 5 上升到了0 73 其中 金融板块占比最高 达到40 11 泛消费次之 占比为24 26 两个板块涵盖了大部分权重股 动态来看 由于加入了很多是指占比高的金融公司 金融板块的权重增加了近一半 其他大部分行业权重都受到了稀释 尽管A股被纳入MSCI这一利好事件对短期市场情绪有所提振 对中长期海外增量资金预期升温 但短期内 市场量能尚不能有效放大 金融股独乐乐情景也就难以持续 存量博弈格局下 风格交替 指数震荡格局难改变 光大证券指出 利好并未引起市场太大的热情 两市指数和成交量均较为平淡 但市场风格出现了较大变化 白马股金融股上涨的同时 成长股 题材股全天低迷 这表明市场增量资金依然很少 存量资金在不同板块之间腾挪 这样的跷跷板格局使得指数难有突破 市场中期依旧偏空 短期依旧可能维持震荡格局虽然至今夏普智能手机在市场上无法排得上号 已经完全没落 并于 2013 年退出中国市场 但是今年 3 月份官方突然宣布回归中国 预示着很快就有夏普新机在中国登场了 那么 第一款夏普手机什么时候登陆中国呢 又会是怎么样的手机呢 近日 一款型号为 FS8016 的夏普神秘新机悄然出现在 GeekBench 的跑分库上 从其中相关信息了解到 这款机子并非旗舰定位 所搭载的是高通骁龙 660 处理器 配备有 4GB 的内存 骁龙 660 是高通今年最受瞩目的芯片之一 采用 14 纳米工艺 八个 Kryo 260 核心设计 集成 Adreno 512 GPU 和 X12 LTE 调制解调器 当前市面上只有一款机子采用了骁龙 660 处理器 那就是已经上市销售的 OPPO R11 骁龙 660 尽管并非旗舰芯片 但在多核新能上比去年骁龙 820 强 单核改进也很明显 所以放在今年仍可以让很多手机变成高端机 不过 由于 OPPO 与高通签署了排他性协议 可以独占两三个月时间 考虑到夏普既然开始测试新机了 说明只要等独占时期一过 夏普就能发布骁龙 660 新品了 按照之前被曝光的渲染图了解 夏普的新机核心竞争优势还是全面屏 因为从 2013 年推出全球首款全面屏手机 EDGEST 302SH 至今 夏普手机推出了多达 28 款的全面屏手机 在 5 月份的媒体沟通会上 惠普罗忠生表示 我敢打赌 12 个月之后 在座的各位手机都会换掉 因为全面屏时代的到来 我们怀揣的手机都将成为传统手机沙漠雄鹰 震荡有利消化套牢筹码 周四开盘上证50在银行券商大蓝筹带动下一度涨近2 沪指也一度站上60日与120日均线 但在 黑天鹅 万达电影暴跌拖累下 沪深股市绝大多数时间分道扬镳 14点后次新股大幅跳水令各大指数全线收绿 存量博弈格局难改 量能久日不见放大下 蓝筹行情并不可持续 短线策略依然是以题材为主 次新股和区域经济概念股调整压力仍然突出 成长股再次大跌 但目前处于底部 低位反复震荡有助于夯实底部 目前市场仍属存量资金博弈 短期蓝筹股上演的指数行情令市场承压 短期利好带动的蓝筹股行情或将告一段落 后期需要题材股接力来维稳指数走向 今日经财要闻 一 央行上海总部发布 债券通 北向通境外投资者准入备案业务指引 二 我国信用法规和标准研究正在加快推进 三 上海易居房地产研究院发布的 房贷利率与楼市研究报告 显示 近期许多城市的个人住房贷款利率均有不同程度的上涨 四 水污染防治法修正案草案二审 更大力度保护水环境 五 根据中国结算发布的 关于开展存量一人多户休眠工作的通知 已启动对同一投资者开立的三户以上多开账户的休眠工作 按中国结算的文件要求 自6月23日后的下一交易日 下周一 6月26日 起 被确认为休眠账户的 将在交易系统中止交易 六 李军 十三五 末上海金融市场交易额或达2000万亿 七 受A股纳入MSCI新兴市场指数 以及中国宏观环境持续稳定的双重因素鼓舞下 富达国际基金经理马磊表示 预计2017年下半年中国股市投资者情绪将有望转好 中国股市未来十年增长将主要由创新驱动 大盘回顾 周四A股市场出现了早盘冲高 午市后震荡回落 尾盘大幅跳水的走势 从盘面看 沪深300指数盘中创17个月新高 但2000余只个股下跌 市场分化相当明显 至收盘 上证指数报3147 45点 较前一交易日跌8 76点 跌幅为0 28 深成指报10265 20点 跌101 97点 跌幅为0 98 创业板指表现最弱 报1798 38点 跌幅达到1 44 两市个股普跌 仅400余只交易品种上涨 不计算ST股和未股改股 两市涨停个股不足30只 两市共成交4781亿元 较前一交易日大增800多亿元 数据显示 昨日两市共有主力尽流出190 57亿元 较上一日的96 95亿元大增96 27 两市61个行业板块有57个遭遇主力抛售 虽然券商与银行板块共有近13亿元主力介入 但化工行业与医药制造就分别遭遇14亿元与12 21亿元的主力抛售 而持续低迷的雄安新区的抛售力度更是高达41 69亿元 技术分析 昨日临近收盘的半个小时 沪指上演高位跳水 将涨幅全部回吐 失守60日均线 成交量明显放大 留下长长的上影线 尽管跌幅不深 但个股一地鸡毛 沪指自3016点以来 大盘每次回调的相对低点位置都在不断抬升 所以即使大盘冲高乏力后出现回落 指数调整的空间也因被封住而难以出现大跌 总体来说市场震荡分化的格局短期依然难以打破 短线来看 沪指在盘中攻克60日均线和半年线压力之后 却在当日得而复失 而创业板指则连上方均线压力都无法触及 这样的走势 无疑会对投资者心理产生负面影响 而在技术形态上 在60分钟K线级别已经形成了背离雏形 一旦沪指跌破3117点 就意味着背离成型 如此即可能引发日线级别的下跌 综合分析 目前指数正处在压力区间 市场脆弱的心态 碎片化的涨停板 主线模糊 热点凌乱 赚钱效应弱等因素都是大盘突破的掣肘因素 而昨日的尾盘跳水 主要有以下原因 首先 长期的二八分化 导致人气低迷 最近一段时间权重股虽然整体走高 但该板块群众基础弱 弹性小制约绝对涨幅 难以形成大面积的赚钱效应 与此同时 现在场内二八轮动非常频繁 今天追进的资金明天就要吃套 打击资金积极性 其次 市场反弹到重要压力区 却仅靠资金拉升指标股来抬升指数 这种没有赚钱效应的拉抬是不可能持久的 昨日招商银行一度大涨7 但投资者似乎并不买账 跟风盘极少 由于目前A股一直是存量资金博弈的市场 所以 指标股吸引着资金加码 那么 就意味着中小市值品种面临着强大的筹码套现压力 另外 昨日万达股票债券莫名齐跌 午后复星医药盘中突现 闪崩 令市场踩踏事件出现 短期市场受此影响 再次收复上方半年线的压力大增 投资建议 近期权重蓝筹一直强于中小创 但上涨始终缺乏有效的量能支持 在存量博弈背景下 后续资金若无法跟上 活跃资金或会转战中小创 短线投资者在降低权重配置时 可加大中小创中盘子小 股性活跃的超跌品种 大盘的纠缠格局依然还在进行中 权重股虽整体走高 但群众基础弱 弹性小 绝对涨幅有所制约 金融板块大涨促使沪指上摸3180点压力位区间 但能否真正有效突破 还需要观察几日 基于周四K线组合形态偏向悲观 因此投资者当前宜先退出观望 等待股指下方获得支撑后再寻机操作 热点分析 由于粤港澳大湾区论坛期间 腾讯看多人工智能 百度也将于7月5日举办 百度AI开发者大会 以谷歌 亚马逊为代表的互联网巨头一致看好人工智能未来的发展 产业创新叠加政策扶持 人工智能行业高景气度有望维持 市场在最近一个月内出现了4次长上影线 之前三次都形成了周线级别调整 加之下周是月末钱荒效应 值得股民做好应对 自6月初以来 市场始终是以中小创为首的反弹模式 个股赚钱效应保持 而随着周三尾盘开始 权重股快速拉升 带来了指数尾盘翻红 周四刷新高点 但与此同时个股赚钱效应却有了明显的降温的 个股涨少跌多 午盘后个股跳水加剧这一现象必须要引起重视 玉名认为这意味着上证50创新高 但并没有带来其余个股的跟随 相反还带来了大部分个股的跳水 而受到政策红利的军工板块和上周 王者荣耀 引发的手游股类似 都是出现了 一日游 的走势 没有延续性的热点 更多地来自于事件刺激和超跌反弹 市场下周将进入到一个比较敏感的时间段 既是月末 季末 又是半年末 容易出现资金的异动 实际上 从美联储加息和缩表行为来看 已经意味着紧缩货币政策的开启 而这也在全球央行中流行 金融市场很难再现 大水漫灌 式强刺激 中性偏紧的政策和流动性将成为一种 常态 从基本面来看 玉名认为中国经济仍将是 L 型筑底走势 这是一个阶段 是一段较长的时间 意味着没有高速增长 也没有增速大幅下滑 而是横盘周期 同时以适度偏紧的政策 为供给侧结构性改革提供良好环境 因此 从基本面决定了股市只能处于震荡市周期 技术上 沪指运行到60日均线附近 在权重股拉升之下有突破之意 不过由于运行到前期肩部区域 压力还是比较大 这种单纯依托权重股 而忽略个股效应的模式能够走多远 还是值得担忧的 这是引发资金派发而形成跳水的关键因素 尤其是个股的赚钱效应越来越差 甚至不排除一些获利盘和解套盘选择了短线的离场 伴随着高位 资金追涨的压力也在增加 谨慎观望气氛增加 导致了成交量的止步不前 玉名认为目前股民需要对于个股做一个梳理了 短线反弹较多的 且近期放量滞涨的 就要有所警惕了 要逐步兑现利润 选择落袋为安 重新等待机会 而对于已经进入前期阻力区或密集套牢区的个股 应该及时考虑减仓 毕竟这样的品种很容易出现再度的调整 对于前期涨幅不大 或者是下跌通道已经扭转的个股 可以暂时持有观望 昨日回顾 主板终于费尽九牛二虎之力爬到了3180点附近 但是遗憾的是在主板尤其是上证50和沪深300不断地创新高之际 中小创却依然是忍受着无厘头的煎熬 午后市场更是以全线跳水的结局收盘 那么对于这样的市场周五会怎样 昨日消息面 央行 债券通 登记托管等实施细则会很快发布实施 发改委 抓紧制定出台配气价格监管规则 人社部 9月底前基本实现跨省异地就医住院费用直接结算 23日成品油将迎年内第六次下调 降幅或达270元 吨 国防科工局 推进军工企业混改 加快军工资产证券化进程 广电总局要求新浪微博等网站关停视听节目 欧美股指延续涨跌不一的走势 消息面上 外围市场整体稳健 国内信息面则继续是不死不活的形式 预计市场继续走整理行情 技术分析 技术上看 市场昨日走势在午后全线跳水 主板创新高后回落 创业板则是继续在1800点附近做整理 相比于主板则显得较为弱势 技术上看 市场周五将依然不会有大行情 但是二八转换的格局将可能随时出现 今日大盘下档第一支撑位在3130点 第二支撑位在3100 上档第一压力位在3160点 第二压力位在3180点 今日走势 欧美股指高位整理 隔夜信息面依然没有什么实质性的利好 今天继续有新股申购 在这样的情况下 预计大盘再度平开或小幅低开可能性大 整体看今天指数出现调整的可能性大 日线继续以小阴 小阳或十字星线为主 随时防止主板可能出现的回调 今日操作 就昨日市场的走势看 依然是面子行情 更是将中小创再度推到了一个极为尴尬的境地 当然在筑底的过程中很多的不确定因素将会愈发明显 因此建议大家操作继续在短期寻求涨幅不大的个股或者是底部放量的个股 尤其是再加上业绩稳定的个股将是最好 逢低介入 操作上短期建议执行快进快出的策略 远离短期涨幅过大的个股 具体操作坚持大涨卖 大跌买 不涨不跌选择观望的策略 从昨日市场走势看 又一次证明了彬哥之前所让大家关注的3180点主板可能回调的观点是正确的 而主板也确实在3180点附近出现了回调 对于这样的回调 彬哥认为是一个健康的事情 也是一个必须要出现的事情 现在唯一不能确定的就是在主板回调的时候中小创会不会出现企稳 会不会出现让投资者操作的机会 因此大家今天上午需要至少需要半天的时间去观察市场可能出现的结果 目前行情有一点可以确定的就是主板将会在3180点附近出现调整 因此大家万不可在这个时候再去追涨主板的个股 尤其是以保险银行为首的上证50个股 就周四午后市场的走势看 主板的调整势在必行 因此大家要做好主板调整的心理准备 当然还要做好市场全线调整的心理预期原标题 武汉警方一下子抓了808人 还都是俊男靓女 原来他们每天偷偷摸摸干这事 武汉警方一下子抓了808人 还都是俊男靓女 原来他们每天偷偷摸摸干这事 大家还记得今年4月光谷曾发生的一件大事吗 当时微博和朋友圈上都传疯了 说是光谷国际广场大量白领被捕 现场手铐都不够用 结果经记者深入调查后发现 这些被抓的并不是网传的 白领 而是一个有282名涉案人员的诈骗团伙 天呐 接近300人的犯罪团伙 你以为这个数字已经够庞大了吗 错 还有让你更震惊的 据武汉市公安局通报 6月9日 警方在武汉三镇的10处窝点内 抓获了808名嫌疑人 而且令人大跌眼镜的是 他们当中大多都是年青人 用 俊男靓女 来形容也不为过 年纪不大 外形不差 那么到底是犯了什么事呢 其实说起来 这事估计绝大多数人都碰到过 那就是网络诈骗 涉案电脑800余台 手机2000余部 银行卡3000余张 因为涉及的账户太多 涉案金额目前还没统计出来 这是全国涉案人数最多的一起特大网络诈骗案 这些惊人的数字背后 究竟藏着什么样的秘密 警方把他们一锅端了 今年4月 武汉警方获悉在塔子湖地区有电信网络诈骗活动 经过2个多月的秘密侦查 发现了一个特大网络诈骗犯罪团伙 原来该团伙利用非法互联网金融平台 实施推荐股票 炒期货等诈骗 其10处窝点散布在江岸 洪山 东湖高新 硚口 江汉等5个区的写字楼内 涉案人员多达800余名 6月9日上午 武汉警方组织了1000余名警力 分成14个抓捕组 同时对首脑分子和10处窝点实施了突击抓捕行动 目前 警方已依法刑事拘留411人 对45人取保候审 该案还在进一步调查中 他们是如何进行诈骗的 人数众多的这个诈骗组织是怎么样进行人员分工 又是如何一步步引受害人上钩的呢 2015年以来 该犯罪团伙以投资组建的某集团公司为总部 旗下成立多家分公司 子公司 设立人事部 财务部 行政部等机构部门 分为经理 分析师 业务小组长 业务员等组织层级 在网上发布招聘信息招揽 培训业务员 依托虚构的互联网金融平台 通过业务员散布 有内幕消息 等虚假信息 引诱受害人加入专门的QQ群 微信群 再由所谓的 证券公司资深分析师 和 经理 逐个联系受害人 引诱受害人交易股票 期货 贵金属 外汇等金融产品 受害人若获利则按 五五 六四 分成 若亏损则拉入 黑名单 不再联系 网友热评 李晓猫不吃鱼 在人信汇写字楼面试过一个这种工作 一听不对劲就撤了 说不适合我 我嘴巴笨 习惯就好33xxzz 八百多人 可能相当部分人都不大清楚自己到底是啥性质工作吧 刑法守望者 要警惕了 普法 各种工作都要预防法律风险 要做个明白人 不是什么钱都可以拿 尤其是从事金融 保险 银行 财务的人员 不小心就触犯刑法 童颜永在 心理医生 盘在写字楼内的诈骗公司 以高薪招聘业务人员为诱饵 实行诈骗的顽疾 终于被揣掉了 你的渔船 联系一下自己的朋友 看有多少个被抓了 The former degrees 招聘平台和销售会上百分之八十就是这种工作 从源头抓起 防止更多人受伤 宇宇家的小仙女 恐怖 进了一个星期发现不太对劲 这尼玛是让我骗人啊 赶紧自己跑路了 z_路漫漫 我做过 后来听说公司跑路了 睡不饱怎么办啊小铭大 我都面试过这种工作 还培训了几天 话术一看就的套路骗 果断闪人 这种公司太多了 遗忘的金叶子 碰到这样的骗子找我们做视频 最后被我打电话骂了一顿 a一元复始c 还有那些天天电话骚扰别人信贷的 卖房的 卖邮票的 发票的社会生活中一不留神就会被坑 所以活着需要理智 笑看世间丑2448337651 这是在路上发骗广告搞高利贷的那些互联网金融公司吗 未来温暖的时光属于自己 金融港 街道口都是这些 好多同学刚刚毕业都去做过 都是网上投简历 这些公司就猛联系你 其实好多都不知道这是骗人的吧 有强迫症的天蝎座怪咖 吓到我了 冉冉的彗星是个宝 早上还接到说做期货 霖心金鱼And张蒙 都不敢去找工作了 蒋妈妈1 5 刚回到武汉 准备找份工作 看网上好多这种招聘的 感觉像骗人的 都不看的 看了网友的评论 小编只有一个感觉 找工作时一定要擦亮双眼 不要因为一时疏忽 而给自己的生活抹上污点 俗话说 知己知彼百战不殆 弄清网络诈骗的常见手法 才能避免上当受骗 下面就为大家奉上防骗攻略 遇到诈骗只需见招拆招 网络防骗攻略 电信网络诈骗犯罪往往表现为 六大陷阱 1 物美价廉的网购陷阱 2 推销产品的便利陷阱 3 异性交友的情感陷阱 4 中奖信息的惊喜陷阱 5 冒充国家工作人员的恐吓陷阱 6 钓鱼网站和网上银行的迷惑陷阱 下面是网络诈骗中比较常见的几种类型 一起学习如何防范 让骗子无处遁形 1虚假红包诈骗 临近节日时 各大电商平台会以派发红包的形式 为促销活动预热 有不法分子趁机在微信朋友圈 微信群等平台中 派发虚假红包 诱骗大家点击 套取个人信息 或传播木马病毒 盗取银行账号 识骗方法 慎点此类红包领取链接 如果不小心点击 应第一时间关闭手机网络 修改网银 支付宝等重要账户密码 并通过安全软件查杀木马病毒 2二维码诈骗 抢购高峰期 网页打开慢 网银交易出现比较迟钝现象 有不法分子会冒充客服或店主 以单子出现 调单 卡单 等说法为幌子 故意说没有收到款项欺诈消费者 取得信任后要求消费者以其他办法进行转账 识骗方法 消费者要注意 调单 卡单 激活订单等多为诈骗术语 见此类词语基本可以断定对方是骗子 没有收到款项这样的问题 是不会在东京 天猫这样的大型网络购物平台出现的 3钓鱼网站诈骗 节假日期间 公众的购物热情高涨 假冒正规电商官方网站 在线支付平台等的钓鱼网站活动频繁 消费者在忙于浏览各色商品页面时 往往容易忽略链接的安全性 从而误入诈骗分子发来的虚假钓鱼网站 识骗方法 对陌生人发来的商品链接要提高警惕 谨慎打开 如遇网络诈骗应第一时间向属地公安机关报案 并向举报中心举报 4虚假客服诈骗 抢购高峰期 网页打开慢 网银交易出现比较迟钝现象 有不法分子会冒充客服或店主 以单子出现 调单 卡单 等说法为幌子 故意说没有收到款项欺诈消费者 取得信任后要求消费者以其他办法进行转账 识骗方法 消费者要注意 调单 卡单 激活订单等多为诈骗术语 见此类词语基本可以断定对方是骗子 没有收到款项这样的问题 是不会在东京 天猫这样的大型网络购物平台出现的 5预购诈骗 还有不法分子会以 提前购 预售 为诱饵向用户发送木马链接 除了网购链接被植入木马 钓鱼网站 还有不法分子会在 预售 活动上做文章 骗取买家 定金 识骗方法 慎点不明链接 有关购物短信也不要轻信 同时也请给手机装上杀毒软件 提供安全的上网环境 6中奖诈骗 购物过后 很多人会陆陆续续收到一些商家的中奖信息 切记不要随意拨打中奖信息提供的电话号码或点击发来的网站链接地址 很可能会让手机或电脑感染上木马病毒 识骗方法 收到中奖信息后留心一下 看一看你所购买的产品中有没有这家的产品 然后最好能在天猫店里直接和卖家联系确认消息 7朋友圈诈骗 由于缺少第三方监管平台 不法分子会在朋友圈发布虚假低价购物信息 骗取消费者汇款购买 识骗方法 朋友圈里的销售行为 存在取证难 查处难的问题 因此建议大家在朋友圈买东西时 尽可能选择正规第三方支付平台进行支付 避免直接支付 以确保安全 8快递诈骗 不法分子会从非法渠道获得客户信息 制作假的快递单 随后冒充快递员提前联系受骗者 把虚假货品送到消费者手中 骗取钱财 识骗方法 签收包裹前 务必按官方的信息核实对方身份 并确认是否是自己的包裹 在取货之后 一定记得把自己的个人信息从包裹上完全抹去 避免个人信息泄露 9退款诈骗 不法分子常以 退款 或 退货 为由假扮网店客服 要求消费者点击其提供的 钓鱼网站 链接 盗取持卡人的银行密码及动态验证码 识骗方法 如果接到网上购物退款的电话或短信等信息 一定要谨慎对待 切莫泄露银行卡账号 户名 动态验证码等个人信息 同时 提醒大家 保护好自己账户信息 遇到情况一定及时报警 武汉破特大网络诈骗案抓808人 以 内幕消息 骗人 6月12日 武汉市公安局向澎湃新闻通报 该局破获一起特大网络诈骗案 抓获包括卢某 熊某等8名首脑分子在内的涉案人员808名 查扣涉案电脑800余台 手机2000余部 银行卡3000余张 据悉 这是全国打击利用非法互联网金融平台实施诈骗犯罪中 查获涉案人数最多的一起案件6月21日 A股纳入MSCI指数尘埃落定 但当天被寄予厚望的券商股并未扛起反弹大旗 22日 在222只纳入MSCI指数的A股股票中 银行股全线飘红 其中招商银行领涨 涨幅达6 66 保险股和券商股的表现也可圈可点 在这222只股票中 金融板块的股票数量和总市值占比均位居首位 分析人士指出 银行股股息率高 估值低 收益稳定 对于资金量较大 投资期限较长的资金存在相当大的吸引力 从国际经验来看 纳入MSCI指数后 相关股市的投资者风格将更加稳健 更加偏好业绩稳定 流动性好 风险低的优质蓝筹股 银行股具估值优势 6月22日 A股金融股表现强势 板块涨幅达1 19 据平安证券统计 在222只纳入MSCI指数的A股股票中 金融板块市值占比达41 32 其中银行 证券和保险子板块的市值占比分别为27 30 7 75 和6 24 多家券商研究报告认为 银行等金融股受到纳入MSCI指数的提振 未来更多境外资金将进入金融股 华泰证券表示 在纳入MSCI指数之后 A股将迎来约850亿元人民币的增量资金 其中 考虑到222只股票中 金融股市值占比约42 并且金融股体量大 流动性强 估值低 符合境外资金偏好 有望迎来超过权重的资金比例 预计金融股有望吸引增量资金约350亿元人民币 新富资本证券投资中心研究总监廖云龙认为 银行股脱颖而出的主要原因是低估值 市场预期银行股基本面改善 同时市场整体风格偏保守 偏爱低估值 22日银行股的大涨是市场风格的延续 是投资者对龙头股和对低估值的防御性选择 东方财富choice统计的一季度末QFII重仓股数据显示 银行股是QFII关注的重点之一 在前五十大重仓股中 北京银行 南京银行 宁波银行 上海银行榜上有名'"
      ]
     },
     "execution_count": 34,
     "metadata": {},
     "output_type": "execute_result"
    }
   ],
   "source": [
    "txt_from_reduce "
   ]
  },
  {
   "cell_type": "markdown",
   "metadata": {},
   "source": [
    "## Get all tokens"
   ]
  },
  {
   "cell_type": "code",
   "execution_count": 35,
   "metadata": {
    "collapsed": true
   },
   "outputs": [],
   "source": [
    "import jieba"
   ]
  },
  {
   "cell_type": "code",
   "execution_count": 47,
   "metadata": {
    "collapsed": true
   },
   "outputs": [],
   "source": [
    "def cut(string): return list(jieba.cut(string))"
   ]
  },
  {
   "cell_type": "code",
   "execution_count": 48,
   "metadata": {},
   "outputs": [
    {
     "name": "stdout",
     "output_type": "stream",
     "text": [
      "&&\n",
      "*\n",
      "(\n",
      "^\n",
      "^\n",
      "^\n",
      "&\n",
      "^\n",
      "&\n",
      "(\n",
      "*\n",
      " \n",
      "o0a9r8877\n",
      "*\n",
      "*\n",
      "&\n",
      " \n",
      "this\n",
      " \n",
      "is\n",
      " \n",
      "a\n",
      " \n",
      "BIGGGGGGGggggGGGGGGG\n",
      " \n",
      "thing\n"
     ]
    }
   ],
   "source": [
    "for g in jieba.cut(string): print(g)"
   ]
  },
  {
   "cell_type": "code",
   "execution_count": 49,
   "metadata": {},
   "outputs": [
    {
     "data": {
      "text/plain": [
       "['这是', '一个', '测试']"
      ]
     },
     "execution_count": 49,
     "metadata": {},
     "output_type": "execute_result"
    }
   ],
   "source": [
    "cut('这是一个测试')"
   ]
  },
  {
   "cell_type": "code",
   "execution_count": 54,
   "metadata": {
    "collapsed": true
   },
   "outputs": [],
   "source": [
    "ALL_TOKEN = cut(TEXT)"
   ]
  },
  {
   "cell_type": "code",
   "execution_count": 55,
   "metadata": {},
   "outputs": [
    {
     "data": {
      "text/plain": [
       "21906852"
      ]
     },
     "execution_count": 55,
     "metadata": {},
     "output_type": "execute_result"
    }
   ],
   "source": [
    "len(ALL_TOKEN)"
   ]
  },
  {
   "cell_type": "code",
   "execution_count": 72,
   "metadata": {
    "collapsed": true
   },
   "outputs": [],
   "source": [
    "valida_token = [t for t in ALL_TOKEN if t.strip() and t !='n']"
   ]
  },
  {
   "cell_type": "code",
   "execution_count": 73,
   "metadata": {},
   "outputs": [
    {
     "data": {
      "text/plain": [
       "17221785"
      ]
     },
     "execution_count": 73,
     "metadata": {},
     "output_type": "execute_result"
    }
   ],
   "source": [
    "len(valida_token)"
   ]
  },
  {
   "cell_type": "code",
   "execution_count": 74,
   "metadata": {},
   "outputs": [
    {
     "data": {
      "text/plain": [
       "['此外',\n",
       " ' ',\n",
       " '自',\n",
       " '本周',\n",
       " ' ',\n",
       " '6',\n",
       " '月',\n",
       " '12',\n",
       " '日',\n",
       " ' ',\n",
       " '起',\n",
       " ' ',\n",
       " '除',\n",
       " '小米',\n",
       " '手机',\n",
       " '6',\n",
       " '等',\n",
       " '15',\n",
       " '款',\n",
       " '机型']"
      ]
     },
     "execution_count": 74,
     "metadata": {},
     "output_type": "execute_result"
    }
   ],
   "source": [
    "ALL_TOKEN[:20]"
   ]
  },
  {
   "cell_type": "code",
   "execution_count": 75,
   "metadata": {},
   "outputs": [
    {
     "data": {
      "text/plain": [
       "['此外',\n",
       " '自',\n",
       " '本周',\n",
       " '6',\n",
       " '月',\n",
       " '12',\n",
       " '日',\n",
       " '起',\n",
       " '除',\n",
       " '小米',\n",
       " '手机',\n",
       " '6',\n",
       " '等',\n",
       " '15',\n",
       " '款',\n",
       " '机型',\n",
       " '外',\n",
       " '其余',\n",
       " '机型',\n",
       " '已']"
      ]
     },
     "execution_count": 75,
     "metadata": {},
     "output_type": "execute_result"
    }
   ],
   "source": [
    "valida_token[:20]"
   ]
  },
  {
   "cell_type": "markdown",
   "metadata": {},
   "source": [
    "## Get the frequences of words"
   ]
  },
  {
   "cell_type": "code",
   "execution_count": 9,
   "metadata": {
    "collapsed": true
   },
   "outputs": [],
   "source": [
    "from collections import Counter"
   ]
  },
  {
   "cell_type": "code",
   "execution_count": 10,
   "metadata": {},
   "outputs": [
    {
     "data": {
      "text/plain": [
       "Counter({0: 1, 1: 4, 2: 3, 3: 2, 4: 2})"
      ]
     },
     "execution_count": 10,
     "metadata": {},
     "output_type": "execute_result"
    }
   ],
   "source": [
    "Counter([1,1,2,2,3,4,1,1,0,4,3,2])"
   ]
  },
  {
   "cell_type": "code",
   "execution_count": 11,
   "metadata": {},
   "outputs": [
    {
     "ename": "NameError",
     "evalue": "name 'valida_token' is not defined",
     "output_type": "error",
     "traceback": [
      "\u001b[1;31m---------------------------------------------------------------------------\u001b[0m",
      "\u001b[1;31mNameError\u001b[0m                                 Traceback (most recent call last)",
      "\u001b[1;32m<ipython-input-11-1e64d3d5ad85>\u001b[0m in \u001b[0;36m<module>\u001b[1;34m()\u001b[0m\n\u001b[1;32m----> 1\u001b[1;33m \u001b[0mwords_count\u001b[0m \u001b[1;33m=\u001b[0m \u001b[0mCounter\u001b[0m\u001b[1;33m(\u001b[0m\u001b[0mvalida_token\u001b[0m\u001b[1;33m)\u001b[0m\u001b[1;33m\u001b[0m\u001b[0m\n\u001b[0m",
      "\u001b[1;31mNameError\u001b[0m: name 'valida_token' is not defined"
     ]
    }
   ],
   "source": [
    "words_count = Counter(valida_token)"
   ]
  },
  {
   "cell_type": "code",
   "execution_count": 12,
   "metadata": {},
   "outputs": [
    {
     "ename": "NameError",
     "evalue": "name 'words_count' is not defined",
     "output_type": "error",
     "traceback": [
      "\u001b[1;31m---------------------------------------------------------------------------\u001b[0m",
      "\u001b[1;31mNameError\u001b[0m                                 Traceback (most recent call last)",
      "\u001b[1;32m<ipython-input-12-46a72f77f5ad>\u001b[0m in \u001b[0;36m<module>\u001b[1;34m()\u001b[0m\n\u001b[1;32m----> 1\u001b[1;33m \u001b[0mwords_count\u001b[0m\u001b[1;33m.\u001b[0m\u001b[0mmost_common\u001b[0m\u001b[1;33m(\u001b[0m\u001b[1;36m10\u001b[0m\u001b[1;33m)\u001b[0m\u001b[1;33m\u001b[0m\u001b[0m\n\u001b[0m",
      "\u001b[1;31mNameError\u001b[0m: name 'words_count' is not defined"
     ]
    }
   ],
   "source": [
    "words_count.most_common(10)"
   ]
  },
  {
   "cell_type": "code",
   "execution_count": 13,
   "metadata": {},
   "outputs": [
    {
     "ename": "NameError",
     "evalue": "name 'words_count' is not defined",
     "output_type": "error",
     "traceback": [
      "\u001b[1;31m---------------------------------------------------------------------------\u001b[0m",
      "\u001b[1;31mNameError\u001b[0m                                 Traceback (most recent call last)",
      "\u001b[1;32m<ipython-input-13-6d4f04f9982a>\u001b[0m in \u001b[0;36m<module>\u001b[1;34m()\u001b[0m\n\u001b[1;32m----> 1\u001b[1;33m \u001b[0mfrequences\u001b[0m \u001b[1;33m=\u001b[0m \u001b[1;33m[\u001b[0m\u001b[0mf\u001b[0m \u001b[1;32mfor\u001b[0m \u001b[0mw\u001b[0m\u001b[1;33m,\u001b[0m \u001b[0mf\u001b[0m \u001b[1;32min\u001b[0m \u001b[0mwords_count\u001b[0m\u001b[1;33m.\u001b[0m\u001b[0mmost_common\u001b[0m\u001b[1;33m(\u001b[0m\u001b[1;36m100\u001b[0m\u001b[1;33m)\u001b[0m\u001b[1;33m]\u001b[0m\u001b[1;33m\u001b[0m\u001b[0m\n\u001b[0m",
      "\u001b[1;31mNameError\u001b[0m: name 'words_count' is not defined"
     ]
    }
   ],
   "source": [
    "frequences = [f for w, f in words_count.most_common(100)]"
   ]
  },
  {
   "cell_type": "code",
   "execution_count": 14,
   "metadata": {},
   "outputs": [
    {
     "ename": "NameError",
     "evalue": "name 'frequences' is not defined",
     "output_type": "error",
     "traceback": [
      "\u001b[1;31m---------------------------------------------------------------------------\u001b[0m",
      "\u001b[1;31mNameError\u001b[0m                                 Traceback (most recent call last)",
      "\u001b[1;32m<ipython-input-14-e41edb20ba28>\u001b[0m in \u001b[0;36m<module>\u001b[1;34m()\u001b[0m\n\u001b[1;32m----> 1\u001b[1;33m \u001b[0mx\u001b[0m \u001b[1;33m=\u001b[0m \u001b[1;33m[\u001b[0m \u001b[0mi\u001b[0m \u001b[1;32mfor\u001b[0m \u001b[0mi\u001b[0m \u001b[1;32min\u001b[0m \u001b[0mrange\u001b[0m\u001b[1;33m(\u001b[0m\u001b[0mlen\u001b[0m\u001b[1;33m(\u001b[0m\u001b[0mfrequences\u001b[0m\u001b[1;33m[\u001b[0m\u001b[1;33m:\u001b[0m\u001b[1;36m100\u001b[0m\u001b[1;33m]\u001b[0m\u001b[1;33m)\u001b[0m\u001b[1;33m)\u001b[0m\u001b[1;33m]\u001b[0m\u001b[1;33m\u001b[0m\u001b[0m\n\u001b[0m",
      "\u001b[1;31mNameError\u001b[0m: name 'frequences' is not defined"
     ]
    }
   ],
   "source": [
    "x = [ i for i in range(len(frequences[:100]))]"
   ]
  },
  {
   "cell_type": "code",
   "execution_count": 15,
   "metadata": {},
   "outputs": [
    {
     "ename": "NameError",
     "evalue": "name 'frequences' is not defined",
     "output_type": "error",
     "traceback": [
      "\u001b[1;31m---------------------------------------------------------------------------\u001b[0m",
      "\u001b[1;31mNameError\u001b[0m                                 Traceback (most recent call last)",
      "\u001b[1;32m<ipython-input-15-ca71ec010305>\u001b[0m in \u001b[0;36m<module>\u001b[1;34m()\u001b[0m\n\u001b[1;32m----> 1\u001b[1;33m \u001b[0mlen\u001b[0m\u001b[1;33m(\u001b[0m\u001b[0mfrequences\u001b[0m\u001b[1;33m)\u001b[0m\u001b[1;33m\u001b[0m\u001b[0m\n\u001b[0m",
      "\u001b[1;31mNameError\u001b[0m: name 'frequences' is not defined"
     ]
    }
   ],
   "source": [
    "len(frequences)"
   ]
  },
  {
   "cell_type": "code",
   "execution_count": 16,
   "metadata": {
    "collapsed": true
   },
   "outputs": [],
   "source": [
    "import matplotlib.pyplot as plt"
   ]
  },
  {
   "cell_type": "code",
   "execution_count": 17,
   "metadata": {
    "collapsed": true
   },
   "outputs": [],
   "source": [
    "%matplotlib inline"
   ]
  },
  {
   "cell_type": "code",
   "execution_count": 18,
   "metadata": {},
   "outputs": [
    {
     "ename": "NameError",
     "evalue": "name 'x' is not defined",
     "output_type": "error",
     "traceback": [
      "\u001b[1;31m---------------------------------------------------------------------------\u001b[0m",
      "\u001b[1;31mNameError\u001b[0m                                 Traceback (most recent call last)",
      "\u001b[1;32m<ipython-input-18-07258e0bf9b4>\u001b[0m in \u001b[0;36m<module>\u001b[1;34m()\u001b[0m\n\u001b[1;32m----> 1\u001b[1;33m \u001b[0mplt\u001b[0m\u001b[1;33m.\u001b[0m\u001b[0mplot\u001b[0m\u001b[1;33m(\u001b[0m\u001b[0mx\u001b[0m\u001b[1;33m,\u001b[0m \u001b[0mfrequences\u001b[0m\u001b[1;33m)\u001b[0m\u001b[1;33m\u001b[0m\u001b[0m\n\u001b[0m",
      "\u001b[1;31mNameError\u001b[0m: name 'x' is not defined"
     ]
    }
   ],
   "source": [
    "plt.plot(x, frequences)"
   ]
  },
  {
   "cell_type": "code",
   "execution_count": 19,
   "metadata": {
    "collapsed": true
   },
   "outputs": [],
   "source": [
    "import numpy as np"
   ]
  },
  {
   "cell_type": "code",
   "execution_count": 20,
   "metadata": {
    "scrolled": true
   },
   "outputs": [
    {
     "ename": "NameError",
     "evalue": "name 'x' is not defined",
     "output_type": "error",
     "traceback": [
      "\u001b[1;31m---------------------------------------------------------------------------\u001b[0m",
      "\u001b[1;31mNameError\u001b[0m                                 Traceback (most recent call last)",
      "\u001b[1;32m<ipython-input-20-6a8d2d0f6022>\u001b[0m in \u001b[0;36m<module>\u001b[1;34m()\u001b[0m\n\u001b[1;32m----> 1\u001b[1;33m \u001b[0mplt\u001b[0m\u001b[1;33m.\u001b[0m\u001b[0mplot\u001b[0m\u001b[1;33m(\u001b[0m\u001b[0mx\u001b[0m\u001b[1;33m,\u001b[0m\u001b[0mnp\u001b[0m\u001b[1;33m.\u001b[0m\u001b[0mlog\u001b[0m\u001b[1;33m(\u001b[0m\u001b[0mnp\u001b[0m\u001b[1;33m.\u001b[0m\u001b[0mlog\u001b[0m\u001b[1;33m(\u001b[0m\u001b[0mfrequences\u001b[0m\u001b[1;33m)\u001b[0m\u001b[1;33m)\u001b[0m\u001b[1;33m)\u001b[0m\u001b[1;33m\u001b[0m\u001b[0m\n\u001b[0m",
      "\u001b[1;31mNameError\u001b[0m: name 'x' is not defined"
     ]
    }
   ],
   "source": [
    "plt.plot(x,np.log(np.log(frequences)))"
   ]
  },
  {
   "cell_type": "code",
   "execution_count": 21,
   "metadata": {},
   "outputs": [
    {
     "ename": "NameError",
     "evalue": "name 'words_count' is not defined",
     "output_type": "error",
     "traceback": [
      "\u001b[1;31m---------------------------------------------------------------------------\u001b[0m",
      "\u001b[1;31mNameError\u001b[0m                                 Traceback (most recent call last)",
      "\u001b[1;32m<ipython-input-21-6bcf6272915e>\u001b[0m in \u001b[0;36m<module>\u001b[1;34m()\u001b[0m\n\u001b[1;32m----> 1\u001b[1;33m \u001b[0mfrequences_all\u001b[0m \u001b[1;33m=\u001b[0m \u001b[1;33m[\u001b[0m\u001b[0mf\u001b[0m \u001b[1;32mfor\u001b[0m \u001b[0mw\u001b[0m\u001b[1;33m,\u001b[0m \u001b[0mf\u001b[0m \u001b[1;32min\u001b[0m \u001b[0mwords_count\u001b[0m\u001b[1;33m.\u001b[0m\u001b[0mmost_common\u001b[0m\u001b[1;33m(\u001b[0m\u001b[1;33m)\u001b[0m\u001b[1;33m]\u001b[0m\u001b[1;33m\u001b[0m\u001b[0m\n\u001b[0m",
      "\u001b[1;31mNameError\u001b[0m: name 'words_count' is not defined"
     ]
    }
   ],
   "source": [
    "frequences_all = [f for w, f in words_count.most_common()]"
   ]
  },
  {
   "cell_type": "code",
   "execution_count": 22,
   "metadata": {},
   "outputs": [
    {
     "ename": "NameError",
     "evalue": "name 'frequences_all' is not defined",
     "output_type": "error",
     "traceback": [
      "\u001b[1;31m---------------------------------------------------------------------------\u001b[0m",
      "\u001b[1;31mNameError\u001b[0m                                 Traceback (most recent call last)",
      "\u001b[1;32m<ipython-input-22-6a7fb769c57c>\u001b[0m in \u001b[0;36m<module>\u001b[1;34m()\u001b[0m\n\u001b[1;32m----> 1\u001b[1;33m \u001b[0mfrequences_sum\u001b[0m \u001b[1;33m=\u001b[0m \u001b[0msum\u001b[0m\u001b[1;33m(\u001b[0m\u001b[0mfrequences_all\u001b[0m\u001b[1;33m)\u001b[0m\u001b[1;33m\u001b[0m\u001b[0m\n\u001b[0m",
      "\u001b[1;31mNameError\u001b[0m: name 'frequences_all' is not defined"
     ]
    }
   ],
   "source": [
    "frequences_sum = sum(frequences_all)"
   ]
  },
  {
   "cell_type": "code",
   "execution_count": 23,
   "metadata": {
    "scrolled": true
   },
   "outputs": [
    {
     "ename": "NameError",
     "evalue": "name 'frequences_sum' is not defined",
     "output_type": "error",
     "traceback": [
      "\u001b[1;31m---------------------------------------------------------------------------\u001b[0m",
      "\u001b[1;31mNameError\u001b[0m                                 Traceback (most recent call last)",
      "\u001b[1;32m<ipython-input-23-054a2a4f8168>\u001b[0m in \u001b[0;36m<module>\u001b[1;34m()\u001b[0m\n\u001b[1;32m----> 1\u001b[1;33m \u001b[0mfrequences_sum\u001b[0m\u001b[1;33m\u001b[0m\u001b[0m\n\u001b[0m",
      "\u001b[1;31mNameError\u001b[0m: name 'frequences_sum' is not defined"
     ]
    }
   ],
   "source": [
    "frequences_sum"
   ]
  },
  {
   "cell_type": "code",
   "execution_count": 24,
   "metadata": {},
   "outputs": [
    {
     "ename": "NameError",
     "evalue": "name 'frequences_sum' is not defined",
     "output_type": "error",
     "traceback": [
      "\u001b[1;31m---------------------------------------------------------------------------\u001b[0m",
      "\u001b[1;31mNameError\u001b[0m                                 Traceback (most recent call last)",
      "\u001b[1;32m<ipython-input-24-7357cf98f47d>\u001b[0m in \u001b[0;36m<module>\u001b[1;34m()\u001b[0m\n\u001b[1;32m----> 1\u001b[1;33m \u001b[1;36m1\u001b[0m \u001b[1;33m/\u001b[0m \u001b[0mfrequences_sum\u001b[0m\u001b[1;33m\u001b[0m\u001b[0m\n\u001b[0m",
      "\u001b[1;31mNameError\u001b[0m: name 'frequences_sum' is not defined"
     ]
    }
   ],
   "source": [
    "1 / frequences_sum"
   ]
  },
  {
   "cell_type": "code",
   "execution_count": 25,
   "metadata": {
    "collapsed": true
   },
   "outputs": [],
   "source": [
    "def get_prob(word):\n",
    "    esp = 1 / frequences_sum\n",
    "    if word in words_count:\n",
    "        return words_count[word] / frequences_sum\n",
    "    else:\n",
    "        return esp"
   ]
  },
  {
   "cell_type": "code",
   "execution_count": 26,
   "metadata": {},
   "outputs": [
    {
     "ename": "NameError",
     "evalue": "name 'frequences_sum' is not defined",
     "output_type": "error",
     "traceback": [
      "\u001b[1;31m---------------------------------------------------------------------------\u001b[0m",
      "\u001b[1;31mNameError\u001b[0m                                 Traceback (most recent call last)",
      "\u001b[1;32m<ipython-input-26-c855d54f0d33>\u001b[0m in \u001b[0;36m<module>\u001b[1;34m()\u001b[0m\n\u001b[1;32m----> 1\u001b[1;33m \u001b[0mget_prob\u001b[0m\u001b[1;33m(\u001b[0m\u001b[1;34m'北京'\u001b[0m\u001b[1;33m)\u001b[0m\u001b[1;33m\u001b[0m\u001b[0m\n\u001b[0m",
      "\u001b[1;32m<ipython-input-25-4ea7ed0c66dd>\u001b[0m in \u001b[0;36mget_prob\u001b[1;34m(word)\u001b[0m\n\u001b[0;32m      1\u001b[0m \u001b[1;32mdef\u001b[0m \u001b[0mget_prob\u001b[0m\u001b[1;33m(\u001b[0m\u001b[0mword\u001b[0m\u001b[1;33m)\u001b[0m\u001b[1;33m:\u001b[0m\u001b[1;33m\u001b[0m\u001b[0m\n\u001b[1;32m----> 2\u001b[1;33m     \u001b[0mesp\u001b[0m \u001b[1;33m=\u001b[0m \u001b[1;36m1\u001b[0m \u001b[1;33m/\u001b[0m \u001b[0mfrequences_sum\u001b[0m\u001b[1;33m\u001b[0m\u001b[0m\n\u001b[0m\u001b[0;32m      3\u001b[0m     \u001b[1;32mif\u001b[0m \u001b[0mword\u001b[0m \u001b[1;32min\u001b[0m \u001b[0mwords_count\u001b[0m\u001b[1;33m:\u001b[0m\u001b[1;33m\u001b[0m\u001b[0m\n\u001b[0;32m      4\u001b[0m         \u001b[1;32mreturn\u001b[0m \u001b[0mwords_count\u001b[0m\u001b[1;33m[\u001b[0m\u001b[0mword\u001b[0m\u001b[1;33m]\u001b[0m \u001b[1;33m/\u001b[0m \u001b[0mfrequences_sum\u001b[0m\u001b[1;33m\u001b[0m\u001b[0m\n\u001b[0;32m      5\u001b[0m     \u001b[1;32melse\u001b[0m\u001b[1;33m:\u001b[0m\u001b[1;33m\u001b[0m\u001b[0m\n",
      "\u001b[1;31mNameError\u001b[0m: name 'frequences_sum' is not defined"
     ]
    }
   ],
   "source": [
    "get_prob('北京')"
   ]
  },
  {
   "cell_type": "code",
   "execution_count": 147,
   "metadata": {
    "collapsed": true
   },
   "outputs": [],
   "source": [
    "def product(numbers):\n",
    "    return reduce(lambda n1, n2: n1 * n2, numbers)"
   ]
  },
  {
   "cell_type": "code",
   "execution_count": 148,
   "metadata": {},
   "outputs": [
    {
     "data": {
      "text/plain": [
       "24"
      ]
     },
     "execution_count": 148,
     "metadata": {},
     "output_type": "execute_result"
    }
   ],
   "source": [
    "product([1,2,3,4])"
   ]
  },
  {
   "cell_type": "code",
   "execution_count": 149,
   "metadata": {
    "collapsed": true
   },
   "outputs": [],
   "source": [
    "def language_model_one_gram(string):\n",
    "    words= cut(string)\n",
    "    return product([get_prob(w) for w in words])"
   ]
  },
  {
   "cell_type": "code",
   "execution_count": 150,
   "metadata": {},
   "outputs": [
    {
     "data": {
      "text/plain": [
       "3.174780875217556e-18"
      ]
     },
     "execution_count": 150,
     "metadata": {},
     "output_type": "execute_result"
    }
   ],
   "source": [
    "language_model_one_gram('广州交易会下个月举办')"
   ]
  },
  {
   "cell_type": "code",
   "execution_count": 151,
   "metadata": {},
   "outputs": [
    {
     "data": {
      "text/plain": [
       "7.264964614424154e-14"
      ]
     },
     "execution_count": 151,
     "metadata": {},
     "output_type": "execute_result"
    }
   ],
   "source": [
    "language_model_one_gram('火箭下周发射')"
   ]
  },
  {
   "cell_type": "code",
   "execution_count": 152,
   "metadata": {},
   "outputs": [
    {
     "data": {
      "text/plain": [
       "1.0804254792888331e-25"
      ]
     },
     "execution_count": 152,
     "metadata": {},
     "output_type": "execute_result"
    }
   ],
   "source": [
    "language_model_one_gram('一个火箭掉在了我的头上')"
   ]
  },
  {
   "cell_type": "code",
   "execution_count": 153,
   "metadata": {},
   "outputs": [
    {
     "data": {
      "text/plain": [
       "1.3785566181454635e-07"
      ]
     },
     "execution_count": 153,
     "metadata": {},
     "output_type": "execute_result"
    }
   ],
   "source": [
    "language_model_one_gram('新华社小米')"
   ]
  },
  {
   "cell_type": "code",
   "execution_count": 154,
   "metadata": {},
   "outputs": [
    {
     "data": {
      "text/plain": [
       "3.371659224403636e-15"
      ]
     },
     "execution_count": 154,
     "metadata": {},
     "output_type": "execute_result"
    }
   ],
   "source": [
    "language_model_one_gram('熊宝爱秋秋')"
   ]
  },
  {
   "cell_type": "code",
   "execution_count": 156,
   "metadata": {
    "collapsed": true
   },
   "outputs": [],
   "source": [
    "sentences=\"\"\"\n",
    "这是一个比较正常的句子\n",
    "这个一个比较罕见的句子\n",
    "小明毕业于清华大学\n",
    "小明毕业于秦化大学\n",
    "\"\"\".split()"
   ]
  },
  {
   "cell_type": "code",
   "execution_count": 157,
   "metadata": {},
   "outputs": [
    {
     "name": "stdout",
     "output_type": "stream",
     "text": [
      "这是一个比较正常的句子 7.429984647015532e-22\n",
      "这个一个比较罕见的句子 1.7566783516469408e-22\n",
      "小明毕业于清华大学 3.039960976514903e-18\n",
      "小明毕业于秦化大学 1.4533343692290142e-24\n"
     ]
    }
   ],
   "source": [
    "for s in sentences:\n",
    "    print(s,language_model_one_gram(s))"
   ]
  },
  {
   "cell_type": "code",
   "execution_count": 198,
   "metadata": {},
   "outputs": [
    {
     "name": "stdout",
     "output_type": "stream",
     "text": [
      "明天晚上请你吃大餐，我们一起吃苹果 is more possible\n",
      "---- 今天晚上请你吃大餐，我们一起吃日料 wirh probility 6.279484454158278e-50\n",
      "---- 明天晚上请你吃大餐，我们一起吃苹果 wirh probility 5.1533768284792506e-48\n",
      "真是一只好看的小猫 is more possible\n",
      "---- 真事一直好看的小猫 wirh probility 1.0475545549102595e-24\n",
      "---- 真是一只好看的小猫 wirh probility 1.0935351206452033e-21\n",
      "今晚我去吃火锅 is more possible\n",
      "---- 我去吃火锅，今晚 wirh probility 6.876097222574346e-26\n",
      "---- 今晚我去吃火锅 wirh probility 1.1841866800627252e-18\n"
     ]
    }
   ],
   "source": [
    "# need_compared = [\n",
    "#     \"今天晚上请你吃大餐，我们一起吃日料 明天晚上请你吃大餐，我们一起吃苹果\",\n",
    "#     \"真事一直好看的小猫 真是一只好看的小猫\",\n",
    "#     \"我去吃火锅，今晚 今晚我去吃火锅\"\n",
    "# ]\n",
    "\n",
    "# for s in need_compared:\n",
    "#     s1, s2 = s.split()\n",
    "#     p1, p2 = language_model_one_gram(s1),language_model_one_gram(s2)\n",
    "    \n",
    "#     better = s1 if p1 > p2 else s2\n",
    "    \n",
    "#     print('{} is more possible'.format(better))\n",
    "#     print('-'*4 + ' {} wirh probility {}'.format(s1,p1))\n",
    "#     print('-'*4 + ' {} wirh probility {}'.format(s2,p2))    "
   ]
  },
  {
   "cell_type": "markdown",
   "metadata": {},
   "source": [
    "## 2-Gram"
   ]
  },
  {
   "cell_type": "code",
   "execution_count": 215,
   "metadata": {
    "collapsed": true
   },
   "outputs": [],
   "source": [
    "valid_token = [str(t) for t in valida_token]"
   ]
  },
  {
   "cell_type": "code",
   "execution_count": 216,
   "metadata": {
    "collapsed": true
   },
   "outputs": [],
   "source": [
    "all_2_grams_words = [''.join(valid_token[i:i+2]) for i in range(len(valid_token[:-2]))]"
   ]
  },
  {
   "cell_type": "code",
   "execution_count": 217,
   "metadata": {
    "collapsed": true
   },
   "outputs": [],
   "source": [
    "_2_gram_sum = len(all_2_grams_words)\n",
    "_2_gram_counter = Counter(all_2_grams_words)\n",
    "\n",
    "def get_combination_prob(w1, w2):\n",
    "    if w1+ w2 in _2_gram_counter: return _2_gram_counter[w1 + w2] / _2_gram_sum\n",
    "    else:\n",
    "        return 1 / _2_gram_sum"
   ]
  },
  {
   "cell_type": "code",
   "execution_count": 218,
   "metadata": {},
   "outputs": [
    {
     "data": {
      "text/plain": [
       "1.8000459069772276e-06"
      ]
     },
     "execution_count": 218,
     "metadata": {},
     "output_type": "execute_result"
    }
   ],
   "source": [
    "get_combination_prob('去','北京')"
   ]
  },
  {
   "cell_type": "code",
   "execution_count": 219,
   "metadata": {},
   "outputs": [
    {
     "data": {
      "text/plain": [
       "2.9032998499632703e-07"
      ]
     },
     "execution_count": 219,
     "metadata": {},
     "output_type": "execute_result"
    }
   ],
   "source": [
    "get_combination_prob('去','沈阳')"
   ]
  },
  {
   "cell_type": "code",
   "execution_count": 220,
   "metadata": {},
   "outputs": [
    {
     "data": {
      "text/plain": [
       "5.8065996999265405e-08"
      ]
     },
     "execution_count": 220,
     "metadata": {},
     "output_type": "execute_result"
    }
   ],
   "source": [
    "get_combination_prob('去','鄂州')"
   ]
  },
  {
   "cell_type": "code",
   "execution_count": 221,
   "metadata": {
    "collapsed": true
   },
   "outputs": [],
   "source": [
    "def get_prob_2_gram(w1, w2):\n",
    "    return get_combination_prob(w1, w2) / get_prob(w1)"
   ]
  },
  {
   "cell_type": "code",
   "execution_count": 222,
   "metadata": {},
   "outputs": [
    {
     "data": {
      "text/plain": [
       "0.004251817802783131"
      ]
     },
     "execution_count": 222,
     "metadata": {},
     "output_type": "execute_result"
    }
   ],
   "source": [
    "get_prob_2_gram('去','北京')"
   ]
  },
  {
   "cell_type": "code",
   "execution_count": 223,
   "metadata": {
    "collapsed": true
   },
   "outputs": [],
   "source": [
    "def language_model_of_2_gram(sentences):\n",
    "    sentence_probability = 1\n",
    "    \n",
    "    words = cut(sentences)\n",
    "    \n",
    "    \n",
    "    for i, word in enumerate(words):\n",
    "        if i== 0:\n",
    "            prob = get_prob(word)\n",
    "        else:\n",
    "            previous = words[i-1]\n",
    "            prob = get_prob_2_gram(previous, word)\n",
    "        \n",
    "        sentence_probability *= prob\n",
    "    \n",
    "    return sentence_probability\n",
    "        "
   ]
  },
  {
   "cell_type": "code",
   "execution_count": 224,
   "metadata": {},
   "outputs": [
    {
     "data": {
      "text/plain": [
       "4.5133725473313174e-18"
      ]
     },
     "execution_count": 224,
     "metadata": {},
     "output_type": "execute_result"
    }
   ],
   "source": [
    "language_model_of_2_gram('小明今天抽奖抽到一台苹果手机')"
   ]
  },
  {
   "cell_type": "code",
   "execution_count": 225,
   "metadata": {},
   "outputs": [
    {
     "data": {
      "text/plain": [
       "3.9724842499924055e-18"
      ]
     },
     "execution_count": 225,
     "metadata": {},
     "output_type": "execute_result"
    }
   ],
   "source": [
    "language_model_of_2_gram('小明今天抽奖抽到一台波音飞机')"
   ]
  },
  {
   "cell_type": "code",
   "execution_count": 228,
   "metadata": {},
   "outputs": [
    {
     "name": "stdout",
     "output_type": "stream",
     "text": [
      "今天晚上请你吃大餐，我们一起吃日料 is more possible\n",
      "---- 今天晚上请你吃大餐，我们一起吃日料 wirh probility 6.895905640955031e-28\n",
      "---- 明天晚上请你吃大餐，我们一起吃苹果 wirh probility 5.516724512764024e-28\n",
      "真是一只好看的小猫 is more possible\n",
      "---- 真事一直好看的小猫 wirh probility 9.090145595289747e-20\n",
      "---- 真是一只好看的小猫 wirh probility 3.4765951336188093e-16\n",
      "今晚我去吃火锅 is more possible\n",
      "---- 今晚火锅去吃我 wirh probility 9.986004768787415e-16\n",
      "---- 今晚我去吃火锅 wirh probility 6.82225584071837e-14\n"
     ]
    }
   ],
   "source": [
    "need_compared= [\n",
    "    \"今天晚上请你吃大餐，我们一起吃日料 明天晚上请你吃大餐，我们一起吃苹果\",\n",
    "    \"真事一直好看的小猫 真是一只好看的小猫\",\n",
    "    \"今晚火锅去吃我 今晚我去吃火锅\"\n",
    "]\n",
    "\n",
    "for s in need_compared:\n",
    "    s1, s2 = s.split()\n",
    "    p1, p2 = language_model_of_2_gram(s1),language_model_of_2_gram(s2)\n",
    "    \n",
    "    better = s1 if p1 > p2 else s2\n",
    "    \n",
    "    print('{} is more possible'.format(better))\n",
    "    print('-'*4 + ' {} wirh probility {}'.format(s1,p1))\n",
    "    print('-'*4 + ' {} wirh probility {}'.format(s2,p2))    "
   ]
  },
  {
   "cell_type": "markdown",
   "metadata": {},
   "source": [
    "## 正则表达式"
   ]
  },
  {
   "cell_type": "code",
   "execution_count": 32,
   "metadata": {
    "collapsed": true
   },
   "outputs": [],
   "source": [
    "import requests\n",
    "import re"
   ]
  },
  {
   "cell_type": "code",
   "execution_count": 33,
   "metadata": {
    "collapsed": true
   },
   "outputs": [],
   "source": [
    "url = 'https://movie.douban.com/'"
   ]
  },
  {
   "cell_type": "code",
   "execution_count": 34,
   "metadata": {
    "collapsed": true
   },
   "outputs": [],
   "source": [
    "response = requests.get(url)"
   ]
  },
  {
   "cell_type": "code",
   "execution_count": 35,
   "metadata": {
    "scrolled": true
   },
   "outputs": [
    {
     "data": {
      "text/plain": [
       "'<!DOCTYPE html>\\n<html lang=\"zh-cmn-Hans\" class=\"\">\\n<head>\\n    <meta http-equiv=\"Content-Type\" content=\"text/html; charset=utf-8\">\\n    <meta name=\"renderer\" content=\"webkit\">\\n    <meta name=\"referrer\" content=\"always\">\\n    <meta name=\"google-site-verification\" content=\"ok0wCgT20tBBgo9_zat2iAcimtN4Ftf5ccsh092Xeyw\" />\\n    <title>\\n        豆瓣电影\\n</title>\\n    \\n    <meta name=\"baidu-site-verification\" content=\"cZdR4xxR7RxmM4zE\" />\\n    <meta http-equiv=\"Pragma\" content=\"no-cache\">\\n    <meta http-equiv=\"Expires\" content=\"Sun, 6 Mar 2005 01:00:00 GMT\">\\n    \\n    <meta http-equiv=\"mobile-agent\" content=\"format=xhtml; url=http://m.douban.com/movie/\">\\n    <meta property=\"qc:admins\" content=\"13753521351564752166375\" />\\n    \\n    \\n    <meta name=\"keywords\" content=\"电影、经典电影、热映、电视剧、美剧、影评、电影院、电影票、排行、推荐\"/>\\n    <meta name=\"description\" content=\"豆瓣电影提供最新的电影介绍及评论包括上映影片的影讯查询及购票服务。你可以记录想看、在看和看过的电影电视剧，顺便打分、写影评。根据你的口味，豆瓣电影会推荐好电影给你。\" />\\n\\n    <link rel=\"apple-touch-icon\" href=\"https://img3.doubanio.com/f/movie/d59b2715fdea4968a450ee5f6c95c7d7a2030065/pics/movie/apple-touch-icon.png\">\\n    <link href=\"https://img3.doubanio.com/f/shire/bf61b1fa02f564a4a8f809da7c7179b883a56146/css/douban.css\" rel=\"stylesheet\" type=\"text/css\">\\n    <link href=\"https://img3.doubanio.com/f/shire/ae3f5a3e3085968370b1fc63afcecb22d3284848/css/separation/_all.css\" rel=\"stylesheet\" type=\"text/css\">\\n    <link href=\"https://img3.doubanio.com/f/movie/8864d3756094f5272d3c93e30ee2e324665855b0/css/movie/base/init.css\" rel=\"stylesheet\">\\n    <script type=\"text/javascript\">var _head_start = new Date();</script>\\n    <script type=\"text/javascript\" src=\"https://img3.doubanio.com/f/movie/0495cb173e298c28593766009c7b0a953246c5b5/js/movie/lib/jquery.js\"></script>\\n    <script type=\"text/javascript\" src=\"https://img3.doubanio.com/f/shire/c7db1e57a6f6aebaa1d8ca83a62a94904c19df95/js/douban.js\"></script>\\n    <script type=\"text/javascript\" src=\"https://img3.doubanio.com/f/shire/0efdc63b77f895eaf85281fb0e44d435c6239a3f/js/separation/_all.js\"></script>\\n    \\n    <link rel=\"stylesheet\" href=\"https://img3.doubanio.com/f/movie/587856b78f46ea9f546a570724e03591afb37cfa/css/movie/home.css\" />\\n    <script type=\"text/javascript\" src=\"https://img3.doubanio.com/f/shire/77323ae72a612bba8b65f845491513ff3329b1bb/js/do.js\" data-cfg-autoload=\"false\"    ></script>\\n    <script>\\n        Do.global(\\'https://img3.doubanio.com/f/shire/0e82fba9c90a7daffc62dd2f80b23ff31c5e4739/js/separation/prettyfield.js\\');\\n        Do.global(\\'https://img3.doubanio.com/f/shire/aef14a3cb852be78af0d48b0534beeea33035c0f/js/core/moreurl.js\\');\\n    </script>\\n    \\n  <script type=\\'text/javascript\\'>\\n  var _vwo_code = (function() {\\n    var account_id = 249272,\\n      settings_tolerance = 0,\\n      library_tolerance = 2500,\\n      use_existing_jquery = false,\\n      // DO NOT EDIT BELOW THIS LINE\\n      f=false,d=document;return{use_existing_jquery:function(){return use_existing_jquery;},library_tolerance:function(){return library_tolerance;},finish:function(){if(!f){f=true;var a=d.getElementById(\\'_vis_opt_path_hides\\');if(a)a.parentNode.removeChild(a);}},finished:function(){return f;},load:function(a){var b=d.createElement(\\'script\\');b.src=a;b.type=\\'text/javascript\\';b.innerText;b.onerror=function(){_vwo_code.finish();};d.getElementsByTagName(\\'head\\')[0].appendChild(b);},init:function(){settings_timer=setTimeout(\\'_vwo_code.finish()\\',settings_tolerance);var a=d.createElement(\\'style\\'),b=\\'body{opacity:0 !important;filter:alpha(opacity=0) !important;background:none !important;}\\',h=d.getElementsByTagName(\\'head\\')[0];a.setAttribute(\\'id\\',\\'_vis_opt_path_hides\\');a.setAttribute(\\'type\\',\\'text/css\\');if(a.styleSheet)a.styleSheet.cssText=b;else a.appendChild(d.createTextNode(b));h.appendChild(a);this.load(\\'//dev.visualwebsiteoptimizer.com/j.php?a=\\'+account_id+\\'&u=\\'+encodeURIComponent(d.URL)+\\'&r=\\'+Math.random());return settings_timer;}};}());\\n\\n  +function () {\\n    var bindEvent = function (el, type, handler) {\\n        var $ = window.jQuery || window.Zepto || window.$\\n       if ($ && $.fn && $.fn.on) {\\n           $(el).on(type, handler)\\n       } else if($ && $.fn && $.fn.bind) {\\n           $(el).bind(type, handler)\\n       } else if (el.addEventListener){\\n         el.addEventListener(type, handler, false);\\n       } else if (el.attachEvent){\\n         el.attachEvent(\"on\" + type, handler);\\n       } else {\\n         el[\"on\" + type] = handler;\\n       }\\n     }\\n\\n    var _origin_load = _vwo_code.load\\n    _vwo_code.load = function () {\\n      var args = [].slice.call(arguments)\\n      bindEvent(window, \\'load\\', function () {\\n        _origin_load.apply(_vwo_code, args)\\n      })\\n    }\\n  }()\\n\\n  _vwo_settings_timer = _vwo_code.init();\\n  </script>\\n\\n\\n    <style type=\"text/css\"></style>\\n    <style type=\"text/css\">img { max-width: 100%; }</style>\\n    <script type=\"text/javascript\"></script>\\n    <link rel=\"stylesheet\" href=\"https://img3.doubanio.com/misc/mixed_static/11d137da675bd116.css\">\\n\\n    <link rel=\"shortcut icon\" href=\"https://img3.doubanio.com/favicon.ico\" type=\"image/x-icon\">\\n</head>\\n\\n<body>\\n  \\n    <script type=\"text/javascript\">var _body_start = new Date();</script>\\n\\n    \\n    \\n\\n\\n\\n    <link href=\"//img3.doubanio.com/dae/accounts/resources/0246c88/shire/bundle.css\" rel=\"stylesheet\" type=\"text/css\">\\n\\n\\n\\n<div id=\"db-global-nav\" class=\"global-nav\">\\n  <div class=\"bd\">\\n    \\n<div class=\"top-nav-info\">\\n  <a href=\"https://accounts.douban.com/passport/login?source=movie\" class=\"nav-login\" rel=\"nofollow\">登录/注册</a>\\n</div>\\n\\n\\n    <div class=\"top-nav-doubanapp\">\\n  <a href=\"https://www.douban.com/doubanapp/app?channel=top-nav\" class=\"lnk-doubanapp\">下载豆瓣客户端</a>\\n  <div id=\"doubanapp-tip\">\\n    <a href=\"https://www.douban.com/doubanapp/app?channel=qipao\" class=\"tip-link\">豆瓣 <span class=\"version\">6.0</span> 全新发布</a>\\n    <a href=\"javascript: void 0;\" class=\"tip-close\">×</a>\\n  </div>\\n  <div id=\"top-nav-appintro\" class=\"more-items\">\\n    <p class=\"appintro-title\">豆瓣</p>\\n    <p class=\"qrcode\">扫码直接下载</p>\\n    <div class=\"download\">\\n      <a href=\"https://www.douban.com/doubanapp/redirect?channel=top-nav&direct_dl=1&download=iOS\">iPhone</a>\\n      <span>·</span>\\n      <a href=\"https://www.douban.com/doubanapp/redirect?channel=top-nav&direct_dl=1&download=Android\" class=\"download-android\">Android</a>\\n    </div>\\n  </div>\\n</div>\\n\\n    \\n\\n\\n<div class=\"global-nav-items\">\\n  <ul>\\n    <li class=\"\">\\n      <a href=\"https://www.douban.com\" target=\"_blank\" data-moreurl-dict=\"{&quot;from&quot;:&quot;top-nav-click-main&quot;,&quot;uid&quot;:&quot;0&quot;}\">豆瓣</a>\\n    </li>\\n    <li class=\"\">\\n      <a href=\"https://book.douban.com\" target=\"_blank\" data-moreurl-dict=\"{&quot;from&quot;:&quot;top-nav-click-book&quot;,&quot;uid&quot;:&quot;0&quot;}\">读书</a>\\n    </li>\\n    <li class=\"on\">\\n      <a href=\"https://movie.douban.com\"  data-moreurl-dict=\"{&quot;from&quot;:&quot;top-nav-click-movie&quot;,&quot;uid&quot;:&quot;0&quot;}\">电影</a>\\n    </li>\\n    <li class=\"\">\\n      <a href=\"https://music.douban.com\" target=\"_blank\" data-moreurl-dict=\"{&quot;from&quot;:&quot;top-nav-click-music&quot;,&quot;uid&quot;:&quot;0&quot;}\">音乐</a>\\n    </li>\\n    <li class=\"\">\\n      <a href=\"https://www.douban.com/location\" target=\"_blank\" data-moreurl-dict=\"{&quot;from&quot;:&quot;top-nav-click-location&quot;,&quot;uid&quot;:&quot;0&quot;}\">同城</a>\\n    </li>\\n    <li class=\"\">\\n      <a href=\"https://www.douban.com/group\" target=\"_blank\" data-moreurl-dict=\"{&quot;from&quot;:&quot;top-nav-click-group&quot;,&quot;uid&quot;:&quot;0&quot;}\">小组</a>\\n    </li>\\n    <li class=\"\">\\n      <a href=\"https://read.douban.com&#47;?dcs=top-nav&amp;dcm=douban\" target=\"_blank\" data-moreurl-dict=\"{&quot;from&quot;:&quot;top-nav-click-read&quot;,&quot;uid&quot;:&quot;0&quot;}\">阅读</a>\\n    </li>\\n    <li class=\"\">\\n      <a href=\"https://douban.fm&#47;?from_=shire_top_nav\" target=\"_blank\" data-moreurl-dict=\"{&quot;from&quot;:&quot;top-nav-click-fm&quot;,&quot;uid&quot;:&quot;0&quot;}\">FM</a>\\n    </li>\\n    <li class=\"\">\\n      <a href=\"https://time.douban.com&#47;?dt_time_source=douban-web_top_nav\" target=\"_blank\" data-moreurl-dict=\"{&quot;from&quot;:&quot;top-nav-click-time&quot;,&quot;uid&quot;:&quot;0&quot;}\">时间</a>\\n    </li>\\n    <li class=\"\">\\n      <a href=\"https://market.douban.com&#47;?utm_campaign=douban_top_nav&amp;utm_source=douban&amp;utm_medium=pc_web\" target=\"_blank\" data-moreurl-dict=\"{&quot;from&quot;:&quot;top-nav-click-market&quot;,&quot;uid&quot;:&quot;0&quot;}\">豆品</a>\\n    </li>\\n    <li>\\n      <a href=\"#more\" class=\"bn-more\"><span>更多</span></a>\\n      <div class=\"more-items\">\\n        <table cellpadding=\"0\" cellspacing=\"0\">\\n          <tbody>\\n            <tr>\\n              <td>\\n                <a href=\"https://ypy.douban.com\" target=\"_blank\" data-moreurl-dict=\"{&quot;from&quot;:&quot;top-nav-click-ypy&quot;,&quot;uid&quot;:&quot;0&quot;}\">豆瓣摄影</a>\\n              </td>\\n            </tr>\\n          </tbody>\\n        </table>\\n      </div>\\n    </li>\\n  </ul>\\n</div>\\n\\n  </div>\\n</div>\\n<script>\\n  ;window._GLOBAL_NAV = {\\n    DOUBAN_URL: \"https://www.douban.com\",\\n    N_NEW_NOTIS: 0,\\n    N_NEW_DOUMAIL: 0\\n  };\\n</script>\\n\\n\\n\\n    <script src=\"//img3.doubanio.com/dae/accounts/resources/0246c88/shire/bundle.js\" defer=\"defer\"></script>\\n\\n\\n\\n\\n    \\n\\n\\n\\n    <link href=\"//img3.doubanio.com/dae/accounts/resources/0246c88/movie/bundle.css\" rel=\"stylesheet\" type=\"text/css\">\\n\\n\\n\\n\\n<div id=\"db-nav-movie\" class=\"nav\">\\n  <div class=\"nav-wrap\">\\n  <div class=\"nav-primary\">\\n    <div class=\"nav-logo\">\\n      <a href=\"https:&#47;&#47;movie.douban.com\">豆瓣电影</a>\\n    </div>\\n    <div class=\"nav-search\">\\n      <form action=\"https:&#47;&#47;movie.douban.com/subject_search\" method=\"get\">\\n        <fieldset>\\n          <legend>搜索：</legend>\\n          <label for=\"inp-query\">\\n          </label>\\n          <div class=\"inp\"><input id=\"inp-query\" name=\"search_text\" size=\"22\" maxlength=\"60\" placeholder=\"搜索电影、电视剧、综艺、影人\" value=\"\"></div>\\n          <div class=\"inp-btn\"><input type=\"submit\" value=\"搜索\"></div>\\n          <input type=\"hidden\" name=\"cat\" value=\"1002\" />\\n        </fieldset>\\n      </form>\\n    </div>\\n  </div>\\n  </div>\\n  <div class=\"nav-secondary\">\\n    \\n\\n<div class=\"nav-items\">\\n  <ul>\\n    <li    ><a href=\"https://movie.douban.com/cinema/nowplaying/\"\\n     >影讯&购票</a>\\n    </li>\\n    <li    ><a href=\"https://movie.douban.com/explore\"\\n     >选电影</a>\\n    </li>\\n    <li    ><a href=\"https://movie.douban.com/tv/\"\\n     >电视剧</a>\\n    </li>\\n    <li    ><a href=\"https://movie.douban.com/chart\"\\n     >排行榜</a>\\n    </li>\\n    <li    ><a href=\"https://movie.douban.com/tag/\"\\n     >分类</a>\\n    </li>\\n    <li    ><a href=\"https://movie.douban.com/review/best/\"\\n     >影评</a>\\n    </li>\\n    <li    ><a href=\"https://movie.douban.com/annual/2018?source=navigation\"\\n     >2018年度榜单</a>\\n    </li>\\n    <li    ><a href=\"https://www.douban.com/standbyme/2018?source=navigation\"\\n     >2018书影音报告</a>\\n    </li>\\n  </ul>\\n</div>\\n\\n    <a href=\"https://movie.douban.com/annual/2018?source=movie_navigation\" class=\"movieannual2018\"></a>\\n  </div>\\n</div>\\n\\n<script id=\"suggResult\" type=\"text/x-jquery-tmpl\">\\n  <li data-link=\"{{= url}}\">\\n            <a href=\"{{= url}}\" onclick=\"moreurl(this, {from:\\'movie_search_sugg\\', query:\\'{{= keyword }}\\', subject_id:\\'{{= id}}\\', i: \\'{{= index}}\\', type: \\'{{= type}}\\'})\">\\n            <img src=\"{{= img}}\" width=\"40\" />\\n            <p>\\n                <em>{{= title}}</em>\\n                {{if year}}\\n                    <span>{{= year}}</span>\\n                {{/if}}\\n                {{if sub_title}}\\n                    <br /><span>{{= sub_title}}</span>\\n                {{/if}}\\n                {{if address}}\\n                    <br /><span>{{= address}}</span>\\n                {{/if}}\\n                {{if episode}}\\n                    {{if episode==\"unknow\"}}\\n                        <br /><span>集数未知</span>\\n                    {{else}}\\n                        <br /><span>共{{= episode}}集</span>\\n                    {{/if}}\\n                {{/if}}\\n            </p>\\n        </a>\\n        </li>\\n  </script>\\n\\n\\n\\n\\n    <script src=\"//img3.doubanio.com/dae/accounts/resources/0246c88/movie/bundle.js\" defer=\"defer\"></script>\\n\\n\\n\\n\\n\\n    \\n    <div id=\"wrapper\">\\n        \\n\\n        \\n    <div id=\"content\">\\n        \\n\\n        <div class=\"grid-16-8 clearfix\">\\n            \\n    <div id=\"dale_movie_homepage_top_large\"></div>\\n\\n            \\n            <div class=\"article\">\\n                \\n    <div id=\"dale_movie_home_main_top\"></div>\\n\\n    <script id=\"db-tmpl-subject-tip\" type=\"text/x-jquery-tmpl\">\\n        <div id=\"subject-tip\">\\n            <div class=\"subject-tip-hd\">\\n                <h3>{{= title}}<span class=\"release-year\">{{= release}}</span></h3>\\n                <p class=\"star\">\\n                    <span class=\"allstar{{= star}}\"></span>\\n                    {{if star != \\'00\\' }}\\n                        <span class=\"subject-rating\">{{= parseFloat(rate).toFixed(1)}}</span>\\n                    {{/if}}\\n                    {{if enough}}\\n                        <span class=\"rater-num\">({{= rater}}人评价)</span>\\n                    {{/if}}\\n                </p>\\n            </div>\\n            <div class=\"subject-tip-bd\">\\n                <ul>\\n                    <li><span>{{= duration}}</span><span>{{= type}}</span><span>{{= region}}</span></li>\\n                    <li class=\"director\"><span class=\"label\">导演</span><span>{{= director}}</span></li>\\n                    <li class=\"actors\"><span class=\"label\">主演</span><span>{{= actors}}</span></li>\\n                </ul>\\n                {{if intro}}\\n                    <div class=\"subject-intro\">\\n                        {{= intro}}\\n                    </div>\\n                {{/if}}\\n            </div>\\n        </div>\\n    </script>\\n\\n    \\n\\n    \\n    \\n    \\n    <div id=\"screening\" class=\"s\" data-dstat-areaid=\"70\" data-dstat-mode=\"click,expose\">\\n        <div class=\"screening-hd\">\\n                <div class=\"ui-slide-control\">\\n                    <span class=\"prev-btn\"><a class=\"btn-prev\" href=\"javascript:void(0)\"></a></span>\\n                    <span class=\"next-btn\"><a class=\"btn-next\" href=\"javascript:void(0)\"></a></span>\\n                </div>\\n                <div class=\"slide-tip\"><span class=\"ui-slide-index\">1</span> / <span class=\"ui-slide-max\">7</span></div>\\n            <h2>正在热映<span><a onclick=\"moreurl(this, {from:\\'mv_l_a\\'})\" href=\"/cinema/nowplaying/\">全部正在热映&raquo;</a></span><span><a onclick=\"moreurl(this, {from:\\'mv_l_w\\'})\" href=\"./later/\">即将上映&raquo;</a></span></h2>\\n        </div>\\n        <div class=\"screening-bd\">\\n            <ul class=\"ui-slide-content\" data-slide-index=\"1\" data-index-max=\"7\">\\n                        \\n                        \\n                    <li class=\"ui-slide-item s\" data-dstat-areaid=70_1 data-dstat-mode=click,expose data-dstat-watch=.ui-slide-content data-dstat-viewport=.screening-bd data-title=\"反贪风暴4 P風暴\" data-release=\"2019\" data-rate=\"6.3\" data-star=\"35\" data-trailer=\"https://movie.douban.com/subject/27202819/trailer\" data-ticket=\"https://movie.douban.com/ticket/redirect/?url=https%3A%2F%2Fm.maoyan.com%2Fcinema%2Fmovie%2F1211727%3F_v_%3Dyes%26merCode%3D1000011\" data-duration=\"100分钟\" data-region=\"香港\" data-director=\"林德禄\" data-actors=\"古天乐 / 郑嘉颖 / 林峯\" data-intro=\"\" data-enough=\"true\" data-rater=\"37795\">\\n                        <ul class=\"\">\\n                            <li class=\"poster\">\\n                                <a onclick=\"moreurl(this, {from:\\'mv_a_pst\\'})\" href=\"https://movie.douban.com/subject/27202819/?from=showing\">\\n                                    <img src=\"https://img3.doubanio.com/view/photo/s_ratio_poster/public/p2551353482.jpg\" alt=\"反贪风暴4\" rel=\"nofollow\" class=\"\" />\\n                                </a>\\n                            </li>\\n                            <li class=\"title\">\\n                                <a onclick=\"moreurl(this, {from:\\'mv_a_tl\\'})\" href=\"https://movie.douban.com/subject/27202819/?from=showing\" class=\"\">反贪风暴4</a>\\n                            </li>\\n                            <li class=\"rating\">\\n                                        <span class=\"rating-star allstar35\"></span><span class=\"subject-rate\">6.3</span>\\n                            </li>\\n                                <li class=\"ticket_btn\"><span><a onclick=\"moreurl(this, {from:\\'mv_b_tc\\'})\" href=\"https://movie.douban.com/ticket/redirect/?url=https%3A%2F%2Fm.maoyan.com%2Fcinema%2Fmovie%2F1211727%3F_v_%3Dyes%26merCode%3D1000011\" target=\"_blank\">选座购票</a></span></li>\\n                        </ul>\\n                        \\n                        \\n                    <li class=\"ui-slide-item\"  data-title=\"狗眼看人心\" data-release=\"2019\" data-rate=\"\" data-star=\"00\" data-trailer=\"https://movie.douban.com/subject/30479973/trailer\" data-ticket=\"https://movie.douban.com/ticket/redirect/?url=https%3A%2F%2Fm.maoyan.com%2Fcinema%2Fmovie%2F1263355%3F_v_%3Dyes%26merCode%3D1000011\" data-duration=\"91分钟\" data-region=\"中国大陆\" data-director=\"吴楠\" data-actors=\"黄磊 / 闫妮 / 韩童生\" data-intro=\"\" data-enough=\"false\" data-rater=\"176\">\\n                        <ul class=\"\">\\n                            <li class=\"poster\">\\n                                <a onclick=\"moreurl(this, {from:\\'mv_a_pst\\'})\" href=\"https://movie.douban.com/subject/30479973/?from=showing\">\\n                                    <img src=\"https://img3.doubanio.com/view/photo/s_ratio_poster/public/p2551690865.jpg\" alt=\"狗眼看人心\" rel=\"nofollow\" class=\"\" />\\n                                </a>\\n                            </li>\\n                            <li class=\"title\">\\n                                <a onclick=\"moreurl(this, {from:\\'mv_a_tl\\'})\" href=\"https://movie.douban.com/subject/30479973/?from=showing\" class=\"\">狗眼看人心</a>\\n                                    <span class=\"new-show\"></span>\\n                            </li>\\n                            <li class=\"rating\">\\n                                    \\n\\n                                        <span class=\"text-tip\">暂无评分</span>\\n                            </li>\\n                                <li class=\"ticket_btn\"><span><a onclick=\"moreurl(this, {from:\\'mv_b_tc\\'})\" href=\"https://movie.douban.com/ticket/redirect/?url=https%3A%2F%2Fm.maoyan.com%2Fcinema%2Fmovie%2F1263355%3F_v_%3Dyes%26merCode%3D1000011\" target=\"_blank\">选座购票</a></span></li>\\n                        </ul>\\n                        \\n                        \\n                    <li class=\"ui-slide-item\"  data-title=\"调音师 Andhadhun\" data-release=\"2018\" data-rate=\"8.3\" data-star=\"45\" data-trailer=\"https://movie.douban.com/subject/30334073/trailer\" data-ticket=\"https://movie.douban.com/ticket/redirect/?url=https%3A%2F%2Fm.maoyan.com%2Fcinema%2Fmovie%2F1239544%3F_v_%3Dyes%26merCode%3D1000011\" data-duration=\"139分钟\" data-region=\"印度\" data-director=\"斯里兰姆·拉格万\" data-actors=\"阿尤斯曼·库拉纳 / 塔布 / 拉迪卡·艾普特\" data-intro=\"\" data-enough=\"true\" data-rater=\"219541\">\\n                        <ul class=\"\">\\n                            <li class=\"poster\">\\n                                <a onclick=\"moreurl(this, {from:\\'mv_a_pst\\'})\" href=\"https://movie.douban.com/subject/30334073/?from=showing\">\\n                                    <img src=\"https://img1.doubanio.com/view/photo/s_ratio_poster/public/p2551995207.jpg\" alt=\"调音师\" rel=\"nofollow\" class=\"\" />\\n                                </a>\\n                            </li>\\n                            <li class=\"title\">\\n                                <a onclick=\"moreurl(this, {from:\\'mv_a_tl\\'})\" href=\"https://movie.douban.com/subject/30334073/?from=showing\" class=\"\">调音师</a>\\n                            </li>\\n                            <li class=\"rating\">\\n                                        <span class=\"rating-star allstar45\"></span><span class=\"subject-rate\">8.3</span>\\n                            </li>\\n                                <li class=\"ticket_btn\"><span><a onclick=\"moreurl(this, {from:\\'mv_b_tc\\'})\" href=\"https://movie.douban.com/ticket/redirect/?url=https%3A%2F%2Fm.maoyan.com%2Fcinema%2Fmovie%2F1239544%3F_v_%3Dyes%26merCode%3D1000011\" target=\"_blank\">选座购票</a></span></li>\\n                        </ul>\\n                        \\n                        \\n                    <li class=\"ui-slide-item\"  data-title=\"如影随心\" data-release=\"2019\" data-rate=\"4.4\" data-star=\"25\" data-trailer=\"https://movie.douban.com/subject/26871669/trailer\" data-ticket=\"https://movie.douban.com/ticket/redirect/?url=https%3A%2F%2Fm.maoyan.com%2Fcinema%2Fmovie%2F1207260%3F_v_%3Dyes%26merCode%3D1000011\" data-duration=\"96分钟\" data-region=\"中国大陆\" data-director=\"霍建起\" data-actors=\"陈晓 / 杜鹃 / 王嘉\" data-intro=\"\" data-enough=\"true\" data-rater=\"2077\">\\n                        <ul class=\"\">\\n                            <li class=\"poster\">\\n                                <a onclick=\"moreurl(this, {from:\\'mv_a_pst\\'})\" href=\"https://movie.douban.com/subject/26871669/?from=showing\">\\n                                    <img src=\"https://img3.doubanio.com/view/photo/s_ratio_poster/public/p2553279350.jpg\" alt=\"如影随心\" rel=\"nofollow\" class=\"\" />\\n                                </a>\\n                            </li>\\n                            <li class=\"title\">\\n                                <a onclick=\"moreurl(this, {from:\\'mv_a_tl\\'})\" href=\"https://movie.douban.com/subject/26871669/?from=showing\" class=\"\">如影随心</a>\\n                            </li>\\n                            <li class=\"rating\">\\n                                        <span class=\"rating-star allstar25\"></span><span class=\"subject-rate\">4.4</span>\\n                            </li>\\n                                <li class=\"ticket_btn\"><span><a onclick=\"moreurl(this, {from:\\'mv_b_tc\\'})\" href=\"https://movie.douban.com/ticket/redirect/?url=https%3A%2F%2Fm.maoyan.com%2Fcinema%2Fmovie%2F1207260%3F_v_%3Dyes%26merCode%3D1000011\" target=\"_blank\">选座购票</a></span></li>\\n                        </ul>\\n                        \\n                        \\n                    <li class=\"ui-slide-item\"  data-title=\"转型团伙\" data-release=\"2019\" data-rate=\"\" data-star=\"00\" data-trailer=\"https://movie.douban.com/subject/26857654/trailer\" data-ticket=\"https://movie.douban.com/ticket/redirect/?url=https%3A%2F%2Fm.maoyan.com%2Fcinema%2Fmovie%2F1162868%3F_v_%3Dyes%26merCode%3D1000011\" data-duration=\"90分钟\" data-region=\"香港\" data-director=\"吴镇宇\" data-actors=\"吴镇宇 / 乔杉 / 文松\" data-intro=\"\" data-enough=\"false\" data-rater=\"697\">\\n                        <ul class=\"\">\\n                            <li class=\"poster\">\\n                                <a onclick=\"moreurl(this, {from:\\'mv_a_pst\\'})\" href=\"https://movie.douban.com/subject/26857654/?from=showing\">\\n                                    <img src=\"https://img3.doubanio.com/view/photo/s_ratio_poster/public/p2553741576.jpg\" alt=\"转型团伙\" rel=\"nofollow\" class=\"\" />\\n                                </a>\\n                            </li>\\n                            <li class=\"title\">\\n                                <a onclick=\"moreurl(this, {from:\\'mv_a_tl\\'})\" href=\"https://movie.douban.com/subject/26857654/?from=showing\" class=\"\">转型团伙</a>\\n                            </li>\\n                            <li class=\"rating\">\\n                                    \\n\\n                                        <span class=\"text-tip\">暂无评分</span>\\n                            </li>\\n                                <li class=\"ticket_btn\"><span><a onclick=\"moreurl(this, {from:\\'mv_b_tc\\'})\" href=\"https://movie.douban.com/ticket/redirect/?url=https%3A%2F%2Fm.maoyan.com%2Fcinema%2Fmovie%2F1162868%3F_v_%3Dyes%26merCode%3D1000011\" target=\"_blank\">选座购票</a></span></li>\\n                        </ul>\\n                        \\n                        \\n                    <li class=\"ui-slide-item s\" data-dstat-areaid=70_2 data-dstat-mode=click,expose data-dstat-watch=.ui-slide-content data-dstat-viewport=.screening-bd data-title=\"神奇乐园历险记 Wonder Park\" data-release=\"2019\" data-rate=\"6.3\" data-star=\"35\" data-trailer=\"https://movie.douban.com/subject/26662282/trailer\" data-ticket=\"https://movie.douban.com/ticket/redirect/?url=https%3A%2F%2Fm.maoyan.com%2Fcinema%2Fmovie%2F1211412%3F_v_%3Dyes%26merCode%3D1000011\" data-duration=\"86分钟\" data-region=\"美国\" data-director=\"Dylan\" data-actors=\"索菲亚·玛丽 / 詹妮弗·加纳 / 肯·哈德森·坎贝尔\" data-intro=\"\" data-enough=\"true\" data-rater=\"302\">\\n                        <ul class=\"\">\\n                            <li class=\"poster\">\\n                                <a onclick=\"moreurl(this, {from:\\'mv_a_pst\\'})\" href=\"https://movie.douban.com/subject/26662282/?from=showing\">\\n                                    <img src=\"https://img1.doubanio.com/view/photo/s_ratio_poster/public/p2552076937.jpg\" alt=\"神奇乐园历险记\" rel=\"nofollow\" class=\"\" />\\n                                </a>\\n                            </li>\\n                            <li class=\"title\">\\n                                <a onclick=\"moreurl(this, {from:\\'mv_a_tl\\'})\" href=\"https://movie.douban.com/subject/26662282/?from=showing\" class=\"\">神奇乐园历险...</a>\\n                            </li>\\n                            <li class=\"rating\">\\n                                        <span class=\"rating-star allstar35\"></span><span class=\"subject-rate\">6.3</span>\\n                            </li>\\n                                <li class=\"ticket_btn\"><span><a onclick=\"moreurl(this, {from:\\'mv_b_tc\\'})\" href=\"https://movie.douban.com/ticket/redirect/?url=https%3A%2F%2Fm.maoyan.com%2Fcinema%2Fmovie%2F1211412%3F_v_%3Dyes%26merCode%3D1000011\" target=\"_blank\">选座购票</a></span></li>\\n                        </ul>\\n                        \\n                        \\n                    <li class=\"ui-slide-item\"  data-title=\"雷霆沙赞！ Shazam!\" data-release=\"2019\" data-rate=\"6.6\" data-star=\"35\" data-trailer=\"https://movie.douban.com/subject/2244426/trailer\" data-ticket=\"https://movie.douban.com/ticket/redirect/?url=https%3A%2F%2Fm.maoyan.com%2Fcinema%2Fmovie%2F248123%3F_v_%3Dyes%26merCode%3D1000011\" data-duration=\"132分钟\" data-region=\"美国\" data-director=\"大卫·F·桑德伯格\" data-actors=\"扎克瑞·莱维 / 马克·斯特朗 / 亚瑟·安其\" data-intro=\"\" data-enough=\"true\" data-rater=\"98668\">\\n                        <ul class=\"\">\\n                            <li class=\"poster\">\\n                                <a onclick=\"moreurl(this, {from:\\'mv_a_pst\\'})\" href=\"https://movie.douban.com/subject/2244426/?from=showing\">\\n                                    <img src=\"https://img3.doubanio.com/view/photo/s_ratio_poster/public/p2551249211.jpg\" alt=\"雷霆沙赞！\" rel=\"nofollow\" class=\"\" />\\n                                </a>\\n                            </li>\\n                            <li class=\"title\">\\n                                <a onclick=\"moreurl(this, {from:\\'mv_a_tl\\'})\" href=\"https://movie.douban.com/subject/2244426/?from=showing\" class=\"\">雷霆沙赞！</a>\\n                            </li>\\n                            <li class=\"rating\">\\n                                        <span class=\"rating-star allstar35\"></span><span class=\"subject-rate\">6.6</span>\\n                            </li>\\n                                <li class=\"ticket_btn\"><span><a onclick=\"moreurl(this, {from:\\'mv_b_tc\\'})\" href=\"https://movie.douban.com/ticket/redirect/?url=https%3A%2F%2Fm.maoyan.com%2Fcinema%2Fmovie%2F248123%3F_v_%3Dyes%26merCode%3D1000011\" target=\"_blank\">选座购票</a></span></li>\\n                        </ul>\\n                        \\n                        \\n                    <li class=\"ui-slide-item\"  data-title=\"境·界 BLEACH\" data-release=\"2018\" data-rate=\"4.9\" data-star=\"25\" data-trailer=\"https://movie.douban.com/subject/4844731/trailer\" data-ticket=\"https://movie.douban.com/ticket/redirect/?url=https%3A%2F%2Fm.maoyan.com%2Fcinema%2Fmovie%2F581264%3F_v_%3Dyes%26merCode%3D1000011\" data-duration=\"108分钟\" data-region=\"日本\" data-director=\"佐藤信介\" data-actors=\"福士苍汰 / 杉咲花 / 吉泽亮\" data-intro=\"\" data-enough=\"true\" data-rater=\"6821\">\\n                        <ul class=\"\">\\n                            <li class=\"poster\">\\n                                <a onclick=\"moreurl(this, {from:\\'mv_a_pst\\'})\" href=\"https://movie.douban.com/subject/4844731/?from=showing\">\\n                                    <img src=\"https://img3.doubanio.com/view/photo/s_ratio_poster/public/p2551872873.jpg\" alt=\"境·界\" rel=\"nofollow\" class=\"\" />\\n                                </a>\\n                            </li>\\n                            <li class=\"title\">\\n                                <a onclick=\"moreurl(this, {from:\\'mv_a_tl\\'})\" href=\"https://movie.douban.com/subject/4844731/?from=showing\" class=\"\">境·界</a>\\n                            </li>\\n                            <li class=\"rating\">\\n                                        <span class=\"rating-star allstar25\"></span><span class=\"subject-rate\">4.9</span>\\n                            </li>\\n                                <li class=\"ticket_btn\"><span><a onclick=\"moreurl(this, {from:\\'mv_b_tc\\'})\" href=\"https://movie.douban.com/ticket/redirect/?url=https%3A%2F%2Fm.maoyan.com%2Fcinema%2Fmovie%2F581264%3F_v_%3Dyes%26merCode%3D1000011\" target=\"_blank\">选座购票</a></span></li>\\n                        </ul>\\n                        \\n                        \\n                    <li class=\"ui-slide-item\"  data-title=\"祈祷落幕时 祈りの幕が下りる時\" data-release=\"2018\" data-rate=\"8.0\" data-star=\"40\" data-trailer=\"https://movie.douban.com/subject/27040737/trailer\" data-ticket=\"https://movie.douban.com/ticket/redirect/?url=https%3A%2F%2Fm.maoyan.com%2Fcinema%2Fmovie%2F1205909%3F_v_%3Dyes%26merCode%3D1000011\" data-duration=\"119分钟\" data-region=\"日本\" data-director=\"福泽克雄\" data-actors=\"阿部宽 / 松岛菜菜子 / 沟端淳平\" data-intro=\"\" data-enough=\"true\" data-rater=\"60814\">\\n                        <ul class=\"\">\\n                            <li class=\"poster\">\\n                                <a onclick=\"moreurl(this, {from:\\'mv_a_pst\\'})\" href=\"https://movie.douban.com/subject/27040737/?from=showing\">\\n                                    <img src=\"https://img1.doubanio.com/view/photo/s_ratio_poster/public/p2552073598.jpg\" alt=\"祈祷落幕时\" rel=\"nofollow\" class=\"\" />\\n                                </a>\\n                            </li>\\n                            <li class=\"title\">\\n                                <a onclick=\"moreurl(this, {from:\\'mv_a_tl\\'})\" href=\"https://movie.douban.com/subject/27040737/?from=showing\" class=\"\">祈祷落幕时</a>\\n                            </li>\\n                            <li class=\"rating\">\\n                                        <span class=\"rating-star allstar40\"></span><span class=\"subject-rate\">8.0</span>\\n                            </li>\\n                                <li class=\"ticket_btn\"><span><a onclick=\"moreurl(this, {from:\\'mv_b_tc\\'})\" href=\"https://movie.douban.com/ticket/redirect/?url=https%3A%2F%2Fm.maoyan.com%2Fcinema%2Fmovie%2F1205909%3F_v_%3Dyes%26merCode%3D1000011\" target=\"_blank\">选座购票</a></span></li>\\n                        </ul>\\n                        \\n                        \\n                    <li class=\"ui-slide-item\"  data-title=\"小飞象 Dumbo\" data-release=\"2019\" data-rate=\"6.8\" data-star=\"35\" data-trailer=\"https://movie.douban.com/subject/25924056/trailer\" data-ticket=\"https://movie.douban.com/ticket/redirect/?url=https%3A%2F%2Fm.maoyan.com%2Fcinema%2Fmovie%2F346765%3F_v_%3Dyes%26merCode%3D1000011\" data-duration=\"112分钟\" data-region=\"美国\" data-director=\"蒂姆·波顿\" data-actors=\"伊娃·格林 / 科林·法瑞尔 / 迈克尔·基顿\" data-intro=\"\" data-enough=\"true\" data-rater=\"24821\">\\n                        <ul class=\"\">\\n                            <li class=\"poster\">\\n                                <a onclick=\"moreurl(this, {from:\\'mv_a_pst\\'})\" href=\"https://movie.douban.com/subject/25924056/?from=showing\">\\n                                    <img src=\"https://img3.doubanio.com/view/photo/s_ratio_poster/public/p2549234765.jpg\" alt=\"小飞象\" rel=\"nofollow\" class=\"\" />\\n                                </a>\\n                            </li>\\n                            <li class=\"title\">\\n                                <a onclick=\"moreurl(this, {from:\\'mv_a_tl\\'})\" href=\"https://movie.douban.com/subject/25924056/?from=showing\" class=\"\">小飞象</a>\\n                            </li>\\n                            <li class=\"rating\">\\n                                        <span class=\"rating-star allstar35\"></span><span class=\"subject-rate\">6.8</span>\\n                            </li>\\n                                <li class=\"ticket_btn\"><span><a onclick=\"moreurl(this, {from:\\'mv_b_tc\\'})\" href=\"https://movie.douban.com/ticket/redirect/?url=https%3A%2F%2Fm.maoyan.com%2Fcinema%2Fmovie%2F346765%3F_v_%3Dyes%26merCode%3D1000011\" target=\"_blank\">选座购票</a></span></li>\\n                        </ul>\\n                        \\n                        \\n                    <li class=\"ui-slide-item s\" data-dstat-areaid=70_3 data-dstat-mode=click,expose data-dstat-watch=.ui-slide-content data-dstat-viewport=.screening-bd data-title=\"比悲伤更悲伤的故事 比悲傷更悲傷的故事\" data-release=\"2018\" data-rate=\"4.8\" data-star=\"25\" data-trailer=\"https://movie.douban.com/subject/27624661/trailer\" data-ticket=\"https://movie.douban.com/ticket/redirect/?url=https%3A%2F%2Fm.maoyan.com%2Fcinema%2Fmovie%2F1216383%3F_v_%3Dyes%26merCode%3D1000011\" data-duration=\"105分钟\" data-region=\"台湾\" data-director=\"林孝谦\" data-actors=\"陈意涵 / 刘以豪 / 张书豪\" data-intro=\"\" data-enough=\"true\" data-rater=\"71132\">\\n                        <ul class=\"\">\\n                            <li class=\"poster\">\\n                                <a onclick=\"moreurl(this, {from:\\'mv_a_pst\\'})\" href=\"https://movie.douban.com/subject/27624661/?from=showing\">\\n                                    <img src=\"https://img3.doubanio.com/view/photo/s_ratio_poster/public/p2549523952.jpg\" alt=\"比悲伤更悲伤的故事\" rel=\"nofollow\" class=\"\" />\\n                                </a>\\n                            </li>\\n                            <li class=\"title\">\\n                                <a onclick=\"moreurl(this, {from:\\'mv_a_tl\\'})\" href=\"https://movie.douban.com/subject/27624661/?from=showing\" class=\"\">比悲伤更悲伤...</a>\\n                            </li>\\n                            <li class=\"rating\">\\n                                        <span class=\"rating-star allstar25\"></span><span class=\"subject-rate\">4.8</span>\\n                            </li>\\n                                <li class=\"ticket_btn\"><span><a onclick=\"moreurl(this, {from:\\'mv_b_tc\\'})\" href=\"https://movie.douban.com/ticket/redirect/?url=https%3A%2F%2Fm.maoyan.com%2Fcinema%2Fmovie%2F1216383%3F_v_%3Dyes%26merCode%3D1000011\" target=\"_blank\">选座购票</a></span></li>\\n                        </ul>\\n                        \\n                        \\n                    <li class=\"ui-slide-item\"  data-title=\"波西米亚狂想曲 Bohemian Rhapsody\" data-release=\"2018\" data-rate=\"8.7\" data-star=\"45\" data-trailer=\"https://movie.douban.com/subject/5300054/trailer\" data-ticket=\"https://movie.douban.com/ticket/redirect/?url=https%3A%2F%2Fm.maoyan.com%2Fcinema%2Fmovie%2F1167831%3F_v_%3Dyes%26merCode%3D1000011\" data-duration=\"131分钟(中国大陆)\" data-region=\"英国\" data-director=\"布莱恩·辛格\" data-actors=\"拉米·马雷克 / 本·哈迪 / 约瑟夫·梅泽罗\" data-intro=\"\" data-enough=\"true\" data-rater=\"247189\">\\n                        <ul class=\"\">\\n                            <li class=\"poster\">\\n                                <a onclick=\"moreurl(this, {from:\\'mv_a_pst\\'})\" href=\"https://movie.douban.com/subject/5300054/?from=showing\">\\n                                    <img src=\"https://img3.doubanio.com/view/photo/s_ratio_poster/public/p2549558913.jpg\" alt=\"波西米亚狂想曲\" rel=\"nofollow\" class=\"\" />\\n                                </a>\\n                            </li>\\n                            <li class=\"title\">\\n                                <a onclick=\"moreurl(this, {from:\\'mv_a_tl\\'})\" href=\"https://movie.douban.com/subject/5300054/?from=showing\" class=\"\">波西米亚狂想...</a>\\n                            </li>\\n                            <li class=\"rating\">\\n                                        <span class=\"rating-star allstar45\"></span><span class=\"subject-rate\">8.7</span>\\n                            </li>\\n                                <li class=\"ticket_btn\"><span><a onclick=\"moreurl(this, {from:\\'mv_b_tc\\'})\" href=\"https://movie.douban.com/ticket/redirect/?url=https%3A%2F%2Fm.maoyan.com%2Fcinema%2Fmovie%2F1167831%3F_v_%3Dyes%26merCode%3D1000011\" target=\"_blank\">选座购票</a></span></li>\\n                        </ul>\\n                        \\n                        \\n                    <li class=\"ui-slide-item\"  data-title=\"海市蜃楼 Durante la tormenta\" data-release=\"2018\" data-rate=\"7.8\" data-star=\"40\" data-trailer=\"https://movie.douban.com/subject/30164448/trailer\" data-ticket=\"https://movie.douban.com/ticket/redirect/?url=https%3A%2F%2Fm.maoyan.com%2Fcinema%2Fmovie%2F1219670%3F_v_%3Dyes%26merCode%3D1000011\" data-duration=\"128分钟\" data-region=\"西班牙\" data-director=\"奥里奥尔·保罗\" data-actors=\"阿德里亚娜·乌加特 / 奇诺·达林 / 阿尔瓦罗·莫奇\" data-intro=\"\" data-enough=\"true\" data-rater=\"129307\">\\n                        <ul class=\"\">\\n                            <li class=\"poster\">\\n                                <a onclick=\"moreurl(this, {from:\\'mv_a_pst\\'})\" href=\"https://movie.douban.com/subject/30164448/?from=showing\">\\n                                    <img src=\"https://img3.doubanio.com/view/photo/s_ratio_poster/public/p2551172384.jpg\" alt=\"海市蜃楼\" rel=\"nofollow\" class=\"\" />\\n                                </a>\\n                            </li>\\n                            <li class=\"title\">\\n                                <a onclick=\"moreurl(this, {from:\\'mv_a_tl\\'})\" href=\"https://movie.douban.com/subject/30164448/?from=showing\" class=\"\">海市蜃楼</a>\\n                            </li>\\n                            <li class=\"rating\">\\n                                        <span class=\"rating-star allstar40\"></span><span class=\"subject-rate\">7.8</span>\\n                            </li>\\n                                <li class=\"ticket_btn\"><span><a onclick=\"moreurl(this, {from:\\'mv_b_tc\\'})\" href=\"https://movie.douban.com/ticket/redirect/?url=https%3A%2F%2Fm.maoyan.com%2Fcinema%2Fmovie%2F1219670%3F_v_%3Dyes%26merCode%3D1000011\" target=\"_blank\">选座购票</a></span></li>\\n                        </ul>\\n                        \\n                        \\n                    <li class=\"ui-slide-item\"  data-title=\"老师·好\" data-release=\"2019\" data-rate=\"6.8\" data-star=\"35\" data-trailer=\"https://movie.douban.com/subject/27663742/trailer\" data-ticket=\"https://movie.douban.com/ticket/redirect/?url=https%3A%2F%2Fm.maoyan.com%2Fcinema%2Fmovie%2F1212492%3F_v_%3Dyes%26merCode%3D1000011\" data-duration=\"111分钟\" data-region=\"中国大陆\" data-director=\"张栾\" data-actors=\"于谦 / 汤梦佳 / 王广源\" data-intro=\"\" data-enough=\"true\" data-rater=\"40019\">\\n                        <ul class=\"\">\\n                            <li class=\"poster\">\\n                                <a onclick=\"moreurl(this, {from:\\'mv_a_pst\\'})\" href=\"https://movie.douban.com/subject/27663742/?from=showing\">\\n                                    <img src=\"https://img1.doubanio.com/view/photo/s_ratio_poster/public/p2551352209.jpg\" alt=\"老师·好\" rel=\"nofollow\" class=\"\" />\\n                                </a>\\n                            </li>\\n                            <li class=\"title\">\\n                                <a onclick=\"moreurl(this, {from:\\'mv_a_tl\\'})\" href=\"https://movie.douban.com/subject/27663742/?from=showing\" class=\"\">老师·好</a>\\n                            </li>\\n                            <li class=\"rating\">\\n                                        <span class=\"rating-star allstar35\"></span><span class=\"subject-rate\">6.8</span>\\n                            </li>\\n                                <li class=\"ticket_btn\"><span><a onclick=\"moreurl(this, {from:\\'mv_b_tc\\'})\" href=\"https://movie.douban.com/ticket/redirect/?url=https%3A%2F%2Fm.maoyan.com%2Fcinema%2Fmovie%2F1212492%3F_v_%3Dyes%26merCode%3D1000011\" target=\"_blank\">选座购票</a></span></li>\\n                        </ul>\\n                        \\n                        \\n                    <li class=\"ui-slide-item\"  data-title=\"流浪地球\" data-release=\"2019\" data-rate=\"8.0\" data-star=\"40\" data-trailer=\"https://movie.douban.com/subject/26266893/trailer\" data-ticket=\"https://movie.douban.com/ticket/redirect/?url=https%3A%2F%2Fm.maoyan.com%2Fcinema%2Fmovie%2F248906%3F_v_%3Dyes%26merCode%3D1000011\" data-duration=\"125分钟\" data-region=\"中国大陆\" data-director=\"郭帆\" data-actors=\"屈楚萧 / 吴京 / 李光洁\" data-intro=\"\" data-enough=\"true\" data-rater=\"1121904\">\\n                        <ul class=\"\">\\n                            <li class=\"poster\">\\n                                <a onclick=\"moreurl(this, {from:\\'mv_a_pst\\'})\" href=\"https://movie.douban.com/subject/26266893/?from=showing\">\\n                                    <img src=\"https://img3.doubanio.com/view/photo/s_ratio_poster/public/p2545472803.jpg\" alt=\"流浪地球\" rel=\"nofollow\" class=\"\" />\\n                                </a>\\n                            </li>\\n                            <li class=\"title\">\\n                                <a onclick=\"moreurl(this, {from:\\'mv_a_tl\\'})\" href=\"https://movie.douban.com/subject/26266893/?from=showing\" class=\"\">流浪地球</a>\\n                            </li>\\n                            <li class=\"rating\">\\n                                        <span class=\"rating-star allstar40\"></span><span class=\"subject-rate\">8.0</span>\\n                            </li>\\n                                <li class=\"ticket_btn\"><span><a onclick=\"moreurl(this, {from:\\'mv_b_tc\\'})\" href=\"https://movie.douban.com/ticket/redirect/?url=https%3A%2F%2Fm.maoyan.com%2Fcinema%2Fmovie%2F248906%3F_v_%3Dyes%26merCode%3D1000011\" target=\"_blank\">选座购票</a></span></li>\\n                        </ul>\\n                        \\n                        \\n                    <li class=\"ui-slide-item s\" data-dstat-areaid=70_4 data-dstat-mode=click,expose data-dstat-watch=.ui-slide-content data-dstat-viewport=.screening-bd data-title=\"虫林大作战 Drôles de petites bêtes\" data-release=\"2017\" data-rate=\"\" data-star=\"00\" data-trailer=\"https://movie.douban.com/subject/27059060/trailer\" data-ticket=\"https://movie.douban.com/ticket/redirect/?url=https%3A%2F%2Fm.maoyan.com%2Fcinema%2Fmovie%2F1206415%3F_v_%3Dyes%26merCode%3D1000011\" data-duration=\"84分钟\" data-region=\"法国\" data-director=\"Arnaud\" data-actors=\"贾斯汀·朗 / 凯文·亚当斯 / 凯特·玛拉\" data-intro=\"\" data-enough=\"false\" data-rater=\"199\">\\n                        <ul class=\"\">\\n                            <li class=\"poster\">\\n                                <a onclick=\"moreurl(this, {from:\\'mv_a_pst\\'})\" href=\"https://movie.douban.com/subject/27059060/?from=showing\">\\n                                    <img src=\"https://img3.doubanio.com/view/photo/s_ratio_poster/public/p2550873121.jpg\" alt=\"虫林大作战\" rel=\"nofollow\" class=\"\" />\\n                                </a>\\n                            </li>\\n                            <li class=\"title\">\\n                                <a onclick=\"moreurl(this, {from:\\'mv_a_tl\\'})\" href=\"https://movie.douban.com/subject/27059060/?from=showing\" class=\"\">虫林大作战</a>\\n                            </li>\\n                            <li class=\"rating\">\\n                                    \\n\\n                                        <span class=\"text-tip\">暂无评分</span>\\n                            </li>\\n                                <li class=\"ticket_btn\"><span><a onclick=\"moreurl(this, {from:\\'mv_b_tc\\'})\" href=\"https://movie.douban.com/ticket/redirect/?url=https%3A%2F%2Fm.maoyan.com%2Fcinema%2Fmovie%2F1206415%3F_v_%3Dyes%26merCode%3D1000011\" target=\"_blank\">选座购票</a></span></li>\\n                        </ul>\\n                        \\n                        \\n                    <li class=\"ui-slide-item\"  data-title=\"HELLO，北京\" data-release=\"2019\" data-rate=\"\" data-star=\"00\" data-trailer=\"https://movie.douban.com/subject/30465860/trailer\" data-ticket=\"https://movie.douban.com/ticket/redirect/?url=https%3A%2F%2Fm.maoyan.com%2Fcinema%2Fmovie%2F1262586%3F_v_%3Dyes%26merCode%3D1000011\" data-duration=\"90分钟\" data-region=\"中国大陆\" data-director=\"万剑英\" data-actors=\"老锣 / 江森海 / 韩杰\" data-intro=\"\" data-enough=\"false\" data-rater=\"46\">\\n                        <ul class=\"\">\\n                            <li class=\"poster\">\\n                                <a onclick=\"moreurl(this, {from:\\'mv_a_pst\\'})\" href=\"https://movie.douban.com/subject/30465860/?from=showing\">\\n                                    <img src=\"https://img3.doubanio.com/view/photo/s_ratio_poster/public/p2552080122.jpg\" alt=\"HELLO，北京\" rel=\"nofollow\" class=\"\" />\\n                                </a>\\n                            </li>\\n                            <li class=\"title\">\\n                                <a onclick=\"moreurl(this, {from:\\'mv_a_tl\\'})\" href=\"https://movie.douban.com/subject/30465860/?from=showing\" class=\"\">HELLO，...</a>\\n                            </li>\\n                            <li class=\"rating\">\\n                                    \\n\\n                                        <span class=\"text-tip\">暂无评分</span>\\n                            </li>\\n                                <li class=\"ticket_btn\"><span><a onclick=\"moreurl(this, {from:\\'mv_b_tc\\'})\" href=\"https://movie.douban.com/ticket/redirect/?url=https%3A%2F%2Fm.maoyan.com%2Fcinema%2Fmovie%2F1262586%3F_v_%3Dyes%26merCode%3D1000011\" target=\"_blank\">选座购票</a></span></li>\\n                        </ul>\\n                        \\n                        \\n                    <li class=\"ui-slide-item\"  data-title=\"绿皮书 Green Book\" data-release=\"2018\" data-rate=\"8.9\" data-star=\"45\" data-trailer=\"https://movie.douban.com/subject/27060077/trailer\" data-ticket=\"https://movie.douban.com/ticket/redirect/?url=https%3A%2F%2Fm.maoyan.com%2Fcinema%2Fmovie%2F1206605%3F_v_%3Dyes%26merCode%3D1000011\" data-duration=\"130分钟\" data-region=\"美国\" data-director=\"彼得·法雷里\" data-actors=\"维果·莫腾森 / 马赫沙拉·阿里 / 琳达·卡德里尼\" data-intro=\"\" data-enough=\"true\" data-rater=\"515401\">\\n                        <ul class=\"\">\\n                            <li class=\"poster\">\\n                                <a onclick=\"moreurl(this, {from:\\'mv_a_pst\\'})\" href=\"https://movie.douban.com/subject/27060077/?from=showing\">\\n                                    <img src=\"https://img3.doubanio.com/view/photo/s_ratio_poster/public/p2549177902.jpg\" alt=\"绿皮书\" rel=\"nofollow\" class=\"\" />\\n                                </a>\\n                            </li>\\n                            <li class=\"title\">\\n                                <a onclick=\"moreurl(this, {from:\\'mv_a_tl\\'})\" href=\"https://movie.douban.com/subject/27060077/?from=showing\" class=\"\">绿皮书</a>\\n                            </li>\\n                            <li class=\"rating\">\\n                                        <span class=\"rating-star allstar45\"></span><span class=\"subject-rate\">8.9</span>\\n                            </li>\\n                                <li class=\"ticket_btn\"><span><a onclick=\"moreurl(this, {from:\\'mv_b_tc\\'})\" href=\"https://movie.douban.com/ticket/redirect/?url=https%3A%2F%2Fm.maoyan.com%2Fcinema%2Fmovie%2F1206605%3F_v_%3Dyes%26merCode%3D1000011\" target=\"_blank\">选座购票</a></span></li>\\n                        </ul>\\n                        \\n                        \\n                    <li class=\"ui-slide-item\"  data-title=\"撞死了一只羊\" data-release=\"2018\" data-rate=\"7.6\" data-star=\"40\" data-trailer=\"https://movie.douban.com/subject/30283179/trailer\" data-ticket=\"https://movie.douban.com/ticket/redirect/?url=https%3A%2F%2Fm.maoyan.com%2Fcinema%2Fmovie%2F1230152%3F_v_%3Dyes%26merCode%3D1000011\" data-duration=\"86分钟\" data-region=\"中国大陆\" data-director=\"万玛才旦\" data-actors=\"金巴 / 更登彭措 / 索朗旺姆\" data-intro=\"\" data-enough=\"true\" data-rater=\"1456\">\\n                        <ul class=\"\">\\n                            <li class=\"poster\">\\n                                <a onclick=\"moreurl(this, {from:\\'mv_a_pst\\'})\" href=\"https://movie.douban.com/subject/30283179/?from=showing\">\\n                                    <img src=\"https://img3.doubanio.com/view/photo/s_ratio_poster/public/p2550800623.jpg\" alt=\"撞死了一只羊\" rel=\"nofollow\" class=\"\" />\\n                                </a>\\n                            </li>\\n                            <li class=\"title\">\\n                                <a onclick=\"moreurl(this, {from:\\'mv_a_tl\\'})\" href=\"https://movie.douban.com/subject/30283179/?from=showing\" class=\"\">撞死了一只羊...</a>\\n                            </li>\\n                            <li class=\"rating\">\\n                                        <span class=\"rating-star allstar40\"></span><span class=\"subject-rate\">7.6</span>\\n                            </li>\\n                                <li class=\"ticket_btn\"><span><a onclick=\"moreurl(this, {from:\\'mv_b_tc\\'})\" href=\"https://movie.douban.com/ticket/redirect/?url=https%3A%2F%2Fm.maoyan.com%2Fcinema%2Fmovie%2F1230152%3F_v_%3Dyes%26merCode%3D1000011\" target=\"_blank\">选座购票</a></span></li>\\n                        </ul>\\n                        \\n                        \\n                    <li class=\"ui-slide-item\"  data-title=\"风中有朵雨做的云\" data-release=\"2018\" data-rate=\"7.6\" data-star=\"40\" data-trailer=\"https://movie.douban.com/subject/26728669/trailer\" data-ticket=\"https://movie.douban.com/ticket/redirect/?url=https%3A%2F%2Fm.maoyan.com%2Fcinema%2Fmovie%2F345875%3F_v_%3Dyes%26merCode%3D1000011\" data-duration=\"124分钟(中国大陆)\" data-region=\"中国大陆\" data-director=\"娄烨\" data-actors=\"井柏然 / 宋佳 / 马思纯\" data-intro=\"\" data-enough=\"true\" data-rater=\"130968\">\\n                        <ul class=\"\">\\n                            <li class=\"poster\">\\n                                <a onclick=\"moreurl(this, {from:\\'mv_a_pst\\'})\" href=\"https://movie.douban.com/subject/26728669/?from=showing\">\\n                                    <img src=\"https://img3.doubanio.com/view/photo/s_ratio_poster/public/p2552522615.jpg\" alt=\"风中有朵雨做的云\" rel=\"nofollow\" class=\"\" />\\n                                </a>\\n                            </li>\\n                            <li class=\"title\">\\n                                <a onclick=\"moreurl(this, {from:\\'mv_a_tl\\'})\" href=\"https://movie.douban.com/subject/26728669/?from=showing\" class=\"\">风中有朵雨做...</a>\\n                            </li>\\n                            <li class=\"rating\">\\n                                        <span class=\"rating-star allstar40\"></span><span class=\"subject-rate\">7.6</span>\\n                            </li>\\n                                <li class=\"ticket_btn\"><span><a onclick=\"moreurl(this, {from:\\'mv_b_tc\\'})\" href=\"https://movie.douban.com/ticket/redirect/?url=https%3A%2F%2Fm.maoyan.com%2Fcinema%2Fmovie%2F345875%3F_v_%3Dyes%26merCode%3D1000011\" target=\"_blank\">选座购票</a></span></li>\\n                        </ul>\\n                        \\n                        \\n                    <li class=\"ui-slide-item s\" data-dstat-areaid=70_5 data-dstat-mode=click,expose data-dstat-watch=.ui-slide-content data-dstat-viewport=.screening-bd data-title=\"驯龙高手3 How To Train Your Dragon: The Hidden World\" data-release=\"2019\" data-rate=\"7.5\" data-star=\"40\" data-trailer=\"https://movie.douban.com/subject/19899707/trailer\" data-ticket=\"https://movie.douban.com/ticket/redirect/?url=https%3A%2F%2Fm.maoyan.com%2Fcinema%2Fmovie%2F247295%3F_v_%3Dyes%26merCode%3D1000011\" data-duration=\"104分钟\" data-region=\"美国\" data-director=\"迪恩·德布洛斯\" data-actors=\"杰伊·巴鲁切尔 / 亚美莉卡·费雷拉 / F·默里·亚伯拉罕\" data-intro=\"\" data-enough=\"true\" data-rater=\"108752\">\\n                        <ul class=\"\">\\n                            <li class=\"poster\">\\n                                <a onclick=\"moreurl(this, {from:\\'mv_a_pst\\'})\" href=\"https://movie.douban.com/subject/19899707/?from=showing\">\\n                                    <img src=\"https://img3.doubanio.com/view/photo/s_ratio_poster/public/p2546335362.jpg\" alt=\"驯龙高手3\" rel=\"nofollow\" class=\"\" />\\n                                </a>\\n                            </li>\\n                            <li class=\"title\">\\n                                <a onclick=\"moreurl(this, {from:\\'mv_a_tl\\'})\" href=\"https://movie.douban.com/subject/19899707/?from=showing\" class=\"\">驯龙高手3</a>\\n                            </li>\\n                            <li class=\"rating\">\\n                                        <span class=\"rating-star allstar40\"></span><span class=\"subject-rate\">7.5</span>\\n                            </li>\\n                                <li class=\"ticket_btn\"><span><a onclick=\"moreurl(this, {from:\\'mv_b_tc\\'})\" href=\"https://movie.douban.com/ticket/redirect/?url=https%3A%2F%2Fm.maoyan.com%2Fcinema%2Fmovie%2F247295%3F_v_%3Dyes%26merCode%3D1000011\" target=\"_blank\">选座购票</a></span></li>\\n                        </ul>\\n                        \\n                        \\n                    <li class=\"ui-slide-item\"  data-title=\"最佳男友进化论\" data-release=\"2019\" data-rate=\"\" data-star=\"00\" data-trailer=\"https://movie.douban.com/subject/26774017/trailer\" data-ticket=\"https://movie.douban.com/ticket/redirect/?url=https%3A%2F%2Fm.maoyan.com%2Fcinema%2Fmovie%2F368260%3F_v_%3Dyes%26merCode%3D1000011\" data-duration=\"90分钟\" data-region=\"香港\" data-director=\"林子聪\" data-actors=\"郑恺 / 张雨绮 / 徐冬冬\" data-intro=\"\" data-enough=\"false\" data-rater=\"829\">\\n                        <ul class=\"\">\\n                            <li class=\"poster\">\\n                                <a onclick=\"moreurl(this, {from:\\'mv_a_pst\\'})\" href=\"https://movie.douban.com/subject/26774017/?from=showing\">\\n                                    <img src=\"https://img1.doubanio.com/view/photo/s_ratio_poster/public/p2553207098.jpg\" alt=\"最佳男友进化论\" rel=\"nofollow\" class=\"\" />\\n                                </a>\\n                            </li>\\n                            <li class=\"title\">\\n                                <a onclick=\"moreurl(this, {from:\\'mv_a_tl\\'})\" href=\"https://movie.douban.com/subject/26774017/?from=showing\" class=\"\">最佳男友进化...</a>\\n                            </li>\\n                            <li class=\"rating\">\\n                                    \\n\\n                                        <span class=\"text-tip\">暂无评分</span>\\n                            </li>\\n                                <li class=\"ticket_btn\"><span><a onclick=\"moreurl(this, {from:\\'mv_b_tc\\'})\" href=\"https://movie.douban.com/ticket/redirect/?url=https%3A%2F%2Fm.maoyan.com%2Fcinema%2Fmovie%2F368260%3F_v_%3Dyes%26merCode%3D1000011\" target=\"_blank\">选座购票</a></span></li>\\n                        </ul>\\n                        \\n                        \\n                    <li class=\"ui-slide-item\"  data-title=\"阿丽塔：战斗天使 Alita: Battle Angel\" data-release=\"2019\" data-rate=\"7.6\" data-star=\"40\" data-trailer=\"https://movie.douban.com/subject/1652592/trailer\" data-ticket=\"https://movie.douban.com/ticket/redirect/?url=https%3A%2F%2Fm.maoyan.com%2Fcinema%2Fmovie%2F410629%3F_v_%3Dyes%26merCode%3D1000011\" data-duration=\"122分钟\" data-region=\"美国\" data-director=\"罗伯特·罗德里格兹\" data-actors=\"罗莎·萨拉查 / 克里斯托弗·沃尔兹 / 基恩·约翰逊\" data-intro=\"\" data-enough=\"true\" data-rater=\"308383\">\\n                        <ul class=\"\">\\n                            <li class=\"poster\">\\n                                <a onclick=\"moreurl(this, {from:\\'mv_a_pst\\'})\" href=\"https://movie.douban.com/subject/1652592/?from=showing\">\\n                                    <img src=\"https://img3.doubanio.com/view/photo/s_ratio_poster/public/p2544987866.jpg\" alt=\"阿丽塔：战斗天使\" rel=\"nofollow\" class=\"\" />\\n                                </a>\\n                            </li>\\n                            <li class=\"title\">\\n                                <a onclick=\"moreurl(this, {from:\\'mv_a_tl\\'})\" href=\"https://movie.douban.com/subject/1652592/?from=showing\" class=\"\">阿丽塔：战斗...</a>\\n                            </li>\\n                            <li class=\"rating\">\\n                                        <span class=\"rating-star allstar40\"></span><span class=\"subject-rate\">7.6</span>\\n                            </li>\\n                                <li class=\"ticket_btn\"><span><a onclick=\"moreurl(this, {from:\\'mv_b_tc\\'})\" href=\"https://movie.douban.com/ticket/redirect/?url=https%3A%2F%2Fm.maoyan.com%2Fcinema%2Fmovie%2F410629%3F_v_%3Dyes%26merCode%3D1000011\" target=\"_blank\">选座购票</a></span></li>\\n                        </ul>\\n                        \\n                        \\n                    <li class=\"ui-slide-item\"  data-title=\"地久天长\" data-release=\"2019\" data-rate=\"7.9\" data-star=\"40\" data-trailer=\"https://movie.douban.com/subject/26715636/trailer\" data-ticket=\"https://movie.douban.com/ticket/redirect/?url=https%3A%2F%2Fm.maoyan.com%2Fcinema%2Fmovie%2F507792%3F_v_%3Dyes%26merCode%3D1000011\" data-duration=\"175分钟\" data-region=\"中国大陆\" data-director=\"王小帅\" data-actors=\"王景春 / 咏梅 / 齐溪\" data-intro=\"\" data-enough=\"true\" data-rater=\"82036\">\\n                        <ul class=\"\">\\n                            <li class=\"poster\">\\n                                <a onclick=\"moreurl(this, {from:\\'mv_a_pst\\'})\" href=\"https://movie.douban.com/subject/26715636/?from=showing\">\\n                                    <img src=\"https://img1.doubanio.com/view/photo/s_ratio_poster/public/p2550208359.jpg\" alt=\"地久天长\" rel=\"nofollow\" class=\"\" />\\n                                </a>\\n                            </li>\\n                            <li class=\"title\">\\n                                <a onclick=\"moreurl(this, {from:\\'mv_a_tl\\'})\" href=\"https://movie.douban.com/subject/26715636/?from=showing\" class=\"\">地久天长</a>\\n                            </li>\\n                            <li class=\"rating\">\\n                                        <span class=\"rating-star allstar40\"></span><span class=\"subject-rate\">7.9</span>\\n                            </li>\\n                                <li class=\"ticket_btn\"><span><a onclick=\"moreurl(this, {from:\\'mv_b_tc\\'})\" href=\"https://movie.douban.com/ticket/redirect/?url=https%3A%2F%2Fm.maoyan.com%2Fcinema%2Fmovie%2F507792%3F_v_%3Dyes%26merCode%3D1000011\" target=\"_blank\">选座购票</a></span></li>\\n                        </ul>\\n                        \\n                        \\n                    <li class=\"ui-slide-item\"  data-title=\"欲念游戏\" data-release=\"2019\" data-rate=\"3.1\" data-star=\"15\" data-trailer=\"https://movie.douban.com/subject/26850330/trailer\" data-ticket=\"https://movie.douban.com/ticket/redirect/?url=https%3A%2F%2Fm.maoyan.com%2Fcinema%2Fmovie%2F1156894%3F_v_%3Dyes%26merCode%3D1000011\" data-duration=\"109分钟\" data-region=\"中国大陆\" data-director=\"郭涛\" data-actors=\"郭涛 / 张子枫 / 姜潮\" data-intro=\"\" data-enough=\"true\" data-rater=\"1265\">\\n                        <ul class=\"\">\\n                            <li class=\"poster\">\\n                                <a onclick=\"moreurl(this, {from:\\'mv_a_pst\\'})\" href=\"https://movie.douban.com/subject/26850330/?from=showing\">\\n                                    <img src=\"https://img1.doubanio.com/view/photo/s_ratio_poster/public/p2551984168.jpg\" alt=\"欲念游戏\" rel=\"nofollow\" class=\"\" />\\n                                </a>\\n                            </li>\\n                            <li class=\"title\">\\n                                <a onclick=\"moreurl(this, {from:\\'mv_a_tl\\'})\" href=\"https://movie.douban.com/subject/26850330/?from=showing\" class=\"\">欲念游戏</a>\\n                            </li>\\n                            <li class=\"rating\">\\n                                        <span class=\"rating-star allstar15\"></span><span class=\"subject-rate\">3.1</span>\\n                            </li>\\n                                <li class=\"ticket_btn\"><span><a onclick=\"moreurl(this, {from:\\'mv_b_tc\\'})\" href=\"https://movie.douban.com/ticket/redirect/?url=https%3A%2F%2Fm.maoyan.com%2Fcinema%2Fmovie%2F1156894%3F_v_%3Dyes%26merCode%3D1000011\" target=\"_blank\">选座购票</a></span></li>\\n                        </ul>\\n                        \\n                        \\n                    <li class=\"ui-slide-item s\" data-dstat-areaid=70_6 data-dstat-mode=click,expose data-dstat-watch=.ui-slide-content data-dstat-viewport=.screening-bd data-title=\"原来如此\" data-release=\"2018\" data-rate=\"\" data-star=\"00\" data-trailer=\"https://movie.douban.com/subject/30345723/trailer\" data-ticket=\"https://movie.douban.com/ticket/redirect/?url=https%3A%2F%2Fm.maoyan.com%2Fcinema%2Fmovie%2F1239678%3F_v_%3Dyes%26merCode%3D1000011\" data-duration=\"83分钟\" data-region=\"中国大陆\" data-director=\"廖必翔\" data-actors=\"池丹 / 徐志飞 / 杨燕\" data-intro=\"\" data-enough=\"false\" data-rater=\"111\">\\n                        <ul class=\"\">\\n                            <li class=\"poster\">\\n                                <a onclick=\"moreurl(this, {from:\\'mv_a_pst\\'})\" href=\"https://movie.douban.com/subject/30345723/?from=showing\">\\n                                    <img src=\"https://img1.doubanio.com/view/photo/s_ratio_poster/public/p2546359739.jpg\" alt=\"原来如此\" rel=\"nofollow\" class=\"\" />\\n                                </a>\\n                            </li>\\n                            <li class=\"title\">\\n                                <a onclick=\"moreurl(this, {from:\\'mv_a_tl\\'})\" href=\"https://movie.douban.com/subject/30345723/?from=showing\" class=\"\">原来如此</a>\\n                            </li>\\n                            <li class=\"rating\">\\n                                    \\n\\n                                        <span class=\"text-tip\">暂无评分</span>\\n                            </li>\\n                                <li class=\"ticket_btn\"><span><a onclick=\"moreurl(this, {from:\\'mv_b_tc\\'})\" href=\"https://movie.douban.com/ticket/redirect/?url=https%3A%2F%2Fm.maoyan.com%2Fcinema%2Fmovie%2F1239678%3F_v_%3Dyes%26merCode%3D1000011\" target=\"_blank\">选座购票</a></span></li>\\n                        </ul>\\n                        \\n                        \\n                    <li class=\"ui-slide-item\"  data-title=\"守灵\" data-release=\"2017\" data-rate=\"\" data-star=\"00\" data-trailer=\"https://movie.douban.com/subject/27063305/trailer\" data-ticket=\"https://movie.douban.com/ticket/redirect/?url=https%3A%2F%2Fm.maoyan.com%2Fcinema%2Fmovie%2F1206939%3F_v_%3Dyes%26merCode%3D1000011\" data-duration=\"88分钟\" data-region=\"中国大陆\" data-director=\"李东\" data-actors=\"张优 / 宋词\" data-intro=\"\" data-enough=\"false\" data-rater=\"173\">\\n                        <ul class=\"\">\\n                            <li class=\"poster\">\\n                                <a onclick=\"moreurl(this, {from:\\'mv_a_pst\\'})\" href=\"https://movie.douban.com/subject/27063305/?from=showing\">\\n                                    <img src=\"https://img3.doubanio.com/view/photo/s_ratio_poster/public/p2549910141.jpg\" alt=\"守灵\" rel=\"nofollow\" class=\"\" />\\n                                </a>\\n                            </li>\\n                            <li class=\"title\">\\n                                <a onclick=\"moreurl(this, {from:\\'mv_a_tl\\'})\" href=\"https://movie.douban.com/subject/27063305/?from=showing\" class=\"\">守灵</a>\\n                            </li>\\n                            <li class=\"rating\">\\n                                    \\n\\n                                        <span class=\"text-tip\">暂无评分</span>\\n                            </li>\\n                                <li class=\"ticket_btn\"><span><a onclick=\"moreurl(this, {from:\\'mv_b_tc\\'})\" href=\"https://movie.douban.com/ticket/redirect/?url=https%3A%2F%2Fm.maoyan.com%2Fcinema%2Fmovie%2F1206939%3F_v_%3Dyes%26merCode%3D1000011\" target=\"_blank\">选座购票</a></span></li>\\n                        </ul>\\n                        \\n                        \\n                    <li class=\"ui-slide-item\"  data-title=\"乐高大电影2 The Lego Movie 2: The Second Part\" data-release=\"2019\" data-rate=\"6.8\" data-star=\"35\" data-trailer=\"https://movie.douban.com/subject/25833233/trailer\" data-ticket=\"https://movie.douban.com/ticket/redirect/?url=https%3A%2F%2Fm.maoyan.com%2Fcinema%2Fmovie%2F341220%3F_v_%3Dyes%26merCode%3D1000011\" data-duration=\"106分钟\" data-region=\"美国\" data-director=\"迈克·米切尔\" data-actors=\"克里斯·帕拉特 / 伊丽莎白·班克斯 / 威尔·阿奈特\" data-intro=\"\" data-enough=\"true\" data-rater=\"4962\">\\n                        <ul class=\"\">\\n                            <li class=\"poster\">\\n                                <a onclick=\"moreurl(this, {from:\\'mv_a_pst\\'})\" href=\"https://movie.douban.com/subject/25833233/?from=showing\">\\n                                    <img src=\"https://img3.doubanio.com/view/photo/s_ratio_poster/public/p2549353234.jpg\" alt=\"乐高大电影2\" rel=\"nofollow\" class=\"\" />\\n                                </a>\\n                            </li>\\n                            <li class=\"title\">\\n                                <a onclick=\"moreurl(this, {from:\\'mv_a_tl\\'})\" href=\"https://movie.douban.com/subject/25833233/?from=showing\" class=\"\">乐高大电影2...</a>\\n                            </li>\\n                            <li class=\"rating\">\\n                                        <span class=\"rating-star allstar35\"></span><span class=\"subject-rate\">6.8</span>\\n                            </li>\\n                                <li class=\"ticket_btn\"><span><a onclick=\"moreurl(this, {from:\\'mv_b_tc\\'})\" href=\"https://movie.douban.com/ticket/redirect/?url=https%3A%2F%2Fm.maoyan.com%2Fcinema%2Fmovie%2F341220%3F_v_%3Dyes%26merCode%3D1000011\" target=\"_blank\">选座购票</a></span></li>\\n                        </ul>\\n                        \\n                        \\n                    <li class=\"ui-slide-item\"  data-title=\"何以为家 كفرناحوم\" data-release=\"2018\" data-rate=\"8.8\" data-star=\"45\" data-trailer=\"https://movie.douban.com/subject/30170448/trailer\" data-ticket=\"https://movie.douban.com/ticket/redirect/?url=https%3A%2F%2Fm.maoyan.com%2Fcinema%2Fmovie%2F1218727%3F_v_%3Dyes%26merCode%3D1000011\" data-duration=\"117分钟(中国大陆)\" data-region=\"黎巴嫩\" data-director=\"娜丁·拉巴基\" data-actors=\"扎因·拉费阿 / 约丹诺斯·希费罗 / 博鲁瓦蒂夫·特雷杰·班科尔\" data-intro=\"\" data-enough=\"true\" data-rater=\"18546\">\\n                        <ul class=\"\">\\n                            <li class=\"poster\">\\n                                <a onclick=\"moreurl(this, {from:\\'mv_a_pst\\'})\" href=\"https://movie.douban.com/subject/30170448/?from=showing\">\\n                                    <img src=\"https://img1.doubanio.com/view/photo/s_ratio_poster/public/p2553734348.jpg\" alt=\"何以为家\" rel=\"nofollow\" class=\"\" />\\n                                </a>\\n                            </li>\\n                            <li class=\"title\">\\n                                <a onclick=\"moreurl(this, {from:\\'mv_a_tl\\'})\" href=\"https://movie.douban.com/subject/30170448/?from=showing\" class=\"\">何以为家</a>\\n                            </li>\\n                            <li class=\"rating\">\\n                                        <span class=\"rating-star allstar45\"></span><span class=\"subject-rate\">8.8</span>\\n                            </li>\\n                                <li class=\"ticket_btn\"><span><a onclick=\"moreurl(this, {from:\\'mv_b_tc\\'})\" href=\"https://movie.douban.com/ticket/redirect/?url=https%3A%2F%2Fm.maoyan.com%2Fcinema%2Fmovie%2F1218727%3F_v_%3Dyes%26merCode%3D1000011\" target=\"_blank\">选座购票</a></span></li>\\n                        </ul>\\n                        \\n                        \\n                    <li class=\"ui-slide-item\"  data-title=\"警告 El aviso\" data-release=\"2018\" data-rate=\"5.6\" data-star=\"30\" data-trailer=\"https://movie.douban.com/subject/27132728/trailer\" data-ticket=\"https://movie.douban.com/ticket/redirect/?url=https%3A%2F%2Fm.maoyan.com%2Fcinema%2Fmovie%2F1215346%3F_v_%3Dyes%26merCode%3D1000011\" data-duration=\"92分钟\" data-region=\"西班牙\" data-director=\"丹尼尔·卡尔帕索罗\" data-actors=\"劳尔·阿雷瓦洛 / 奥拉·加里多 / 雨果·阿布斯\" data-intro=\"\" data-enough=\"true\" data-rater=\"1673\">\\n                        <ul class=\"\">\\n                            <li class=\"poster\">\\n                                <a onclick=\"moreurl(this, {from:\\'mv_a_pst\\'})\" href=\"https://movie.douban.com/subject/27132728/?from=showing\">\\n                                    <img src=\"https://img3.doubanio.com/view/photo/s_ratio_poster/public/p2551888133.jpg\" alt=\"警告\" rel=\"nofollow\" class=\"\" />\\n                                </a>\\n                            </li>\\n                            <li class=\"title\">\\n                                <a onclick=\"moreurl(this, {from:\\'mv_a_tl\\'})\" href=\"https://movie.douban.com/subject/27132728/?from=showing\" class=\"\">警告</a>\\n                            </li>\\n                            <li class=\"rating\">\\n                                        <span class=\"rating-star allstar30\"></span><span class=\"subject-rate\">5.6</span>\\n                            </li>\\n                                <li class=\"ticket_btn\"><span><a onclick=\"moreurl(this, {from:\\'mv_b_tc\\'})\" href=\"https://movie.douban.com/ticket/redirect/?url=https%3A%2F%2Fm.maoyan.com%2Fcinema%2Fmovie%2F1215346%3F_v_%3Dyes%26merCode%3D1000011\" target=\"_blank\">选座购票</a></span></li>\\n                        </ul>\\n                        \\n                        \\n                    <li class=\"ui-slide-item s\" data-dstat-areaid=70_7 data-dstat-mode=click,expose data-dstat-watch=.ui-slide-content data-dstat-viewport=.screening-bd data-title=\"篮球冠军 Campeones\" data-release=\"2018\" data-rate=\"7.2\" data-star=\"40\" data-trailer=\"https://movie.douban.com/subject/30205168/trailer\" data-ticket=\"https://movie.douban.com/ticket/redirect/?url=https%3A%2F%2Fm.maoyan.com%2Fcinema%2Fmovie%2F1212723%3F_v_%3Dyes%26merCode%3D1000011\" data-duration=\"119分钟(中国大陆)\" data-region=\"西班牙\" data-director=\"哈维尔·费舍尔\" data-actors=\"哈维尔·古铁雷斯 / Athenea / 胡安·马加略\" data-intro=\"\" data-enough=\"true\" data-rater=\"1687\">\\n                        <ul class=\"\">\\n                            <li class=\"poster\">\\n                                <a onclick=\"moreurl(this, {from:\\'mv_a_pst\\'})\" href=\"https://movie.douban.com/subject/30205168/?from=showing\">\\n                                    <img src=\"https://img3.doubanio.com/view/photo/s_ratio_poster/public/p2550534680.jpg\" alt=\"篮球冠军\" rel=\"nofollow\" class=\"\" />\\n                                </a>\\n                            </li>\\n                            <li class=\"title\">\\n                                <a onclick=\"moreurl(this, {from:\\'mv_a_tl\\'})\" href=\"https://movie.douban.com/subject/30205168/?from=showing\" class=\"\">篮球冠军</a>\\n                            </li>\\n                            <li class=\"rating\">\\n                                        <span class=\"rating-star allstar40\"></span><span class=\"subject-rate\">7.2</span>\\n                            </li>\\n                                <li class=\"ticket_btn\"><span><a onclick=\"moreurl(this, {from:\\'mv_b_tc\\'})\" href=\"https://movie.douban.com/ticket/redirect/?url=https%3A%2F%2Fm.maoyan.com%2Fcinema%2Fmovie%2F1212723%3F_v_%3Dyes%26merCode%3D1000011\" target=\"_blank\">选座购票</a></span></li>\\n                        </ul>\\n                        \\n                        \\n                    <li class=\"ui-slide-item\"  data-title=\"人间·喜剧\" data-release=\"2019\" data-rate=\"3.5\" data-star=\"20\" data-trailer=\"https://movie.douban.com/subject/27179414/trailer\" data-ticket=\"https://movie.douban.com/ticket/redirect/?url=https%3A%2F%2Fm.maoyan.com%2Fcinema%2Fmovie%2F1206824%3F_v_%3Dyes%26merCode%3D1000011\" data-duration=\"90分钟\" data-region=\"中国大陆\" data-director=\"孙周\" data-actors=\"艾伦 / 王智 / 鲁诺\" data-intro=\"\" data-enough=\"true\" data-rater=\"7165\">\\n                        <ul class=\"\">\\n                            <li class=\"poster\">\\n                                <a onclick=\"moreurl(this, {from:\\'mv_a_pst\\'})\" href=\"https://movie.douban.com/subject/27179414/?from=showing\">\\n                                    <img src=\"https://img3.doubanio.com/view/photo/s_ratio_poster/public/p2551693460.jpg\" alt=\"人间·喜剧\" rel=\"nofollow\" class=\"\" />\\n                                </a>\\n                            </li>\\n                            <li class=\"title\">\\n                                <a onclick=\"moreurl(this, {from:\\'mv_a_tl\\'})\" href=\"https://movie.douban.com/subject/27179414/?from=showing\" class=\"\">人间·喜剧</a>\\n                            </li>\\n                            <li class=\"rating\">\\n                                        <span class=\"rating-star allstar20\"></span><span class=\"subject-rate\">3.5</span>\\n                            </li>\\n                                <li class=\"ticket_btn\"><span><a onclick=\"moreurl(this, {from:\\'mv_b_tc\\'})\" href=\"https://movie.douban.com/ticket/redirect/?url=https%3A%2F%2Fm.maoyan.com%2Fcinema%2Fmovie%2F1206824%3F_v_%3Dyes%26merCode%3D1000011\" target=\"_blank\">选座购票</a></span></li>\\n                        </ul>\\n                        \\n                        \\n                    <li class=\"ui-slide-item\"  data-title=\"麦兜·我和我妈妈 麥兜‧我和我媽媽\" data-release=\"2014\" data-rate=\"8.4\" data-star=\"45\" data-trailer=\"https://movie.douban.com/subject/25884416/trailer\" data-ticket=\"https://movie.douban.com/ticket/redirect/?url=https%3A%2F%2Fm.maoyan.com%2Fcinema%2Fmovie%2F245881%3F_v_%3Dyes%26merCode%3D1000011\" data-duration=\"81分钟\" data-region=\"香港\" data-director=\"谢立文\" data-actors=\"黄磊 / 吴君如 / 张正中\" data-intro=\"\" data-enough=\"true\" data-rater=\"48197\">\\n                        <ul class=\"\">\\n                            <li class=\"poster\">\\n                                <a onclick=\"moreurl(this, {from:\\'mv_a_pst\\'})\" href=\"https://movie.douban.com/subject/25884416/?from=showing\">\\n                                    <img src=\"https://img1.doubanio.com/view/photo/s_ratio_poster/public/p2551331237.jpg\" alt=\"麦兜·我和我妈妈\" rel=\"nofollow\" class=\"\" />\\n                                </a>\\n                            </li>\\n                            <li class=\"title\">\\n                                <a onclick=\"moreurl(this, {from:\\'mv_a_tl\\'})\" href=\"https://movie.douban.com/subject/25884416/?from=showing\" class=\"\">麦兜·我和我...</a>\\n                            </li>\\n                            <li class=\"rating\">\\n                                        <span class=\"rating-star allstar45\"></span><span class=\"subject-rate\">8.4</span>\\n                            </li>\\n                                <li class=\"ticket_btn\"><span><a onclick=\"moreurl(this, {from:\\'mv_b_tc\\'})\" href=\"https://movie.douban.com/ticket/redirect/?url=https%3A%2F%2Fm.maoyan.com%2Fcinema%2Fmovie%2F245881%3F_v_%3Dyes%26merCode%3D1000011\" target=\"_blank\">选座购票</a></span></li>\\n                        </ul>\\n                        \\n                        \\n                    <li class=\"ui-slide-item\"  data-title=\"在乎你\" data-release=\"2019\" data-rate=\"5.6\" data-star=\"30\" data-trailer=\"https://movie.douban.com/subject/27185558/trailer\" data-ticket=\"https://movie.douban.com/ticket/redirect/?url=https%3A%2F%2Fm.maoyan.com%2Fcinema%2Fmovie%2F1213175%3F_v_%3Dyes%26merCode%3D1000011\" data-duration=\"120分钟\" data-region=\"中国大陆\" data-director=\"毕国智\" data-actors=\"俞飞鸿 / 大泽隆夫 / 木下彩音\" data-intro=\"\" data-enough=\"true\" data-rater=\"2156\">\\n                        <ul class=\"\">\\n                            <li class=\"poster\">\\n                                <a onclick=\"moreurl(this, {from:\\'mv_a_pst\\'})\" href=\"https://movie.douban.com/subject/27185558/?from=showing\">\\n                                    <img src=\"https://img3.doubanio.com/view/photo/s_ratio_poster/public/p2552608202.jpg\" alt=\"在乎你\" rel=\"nofollow\" class=\"\" />\\n                                </a>\\n                            </li>\\n                            <li class=\"title\">\\n                                <a onclick=\"moreurl(this, {from:\\'mv_a_tl\\'})\" href=\"https://movie.douban.com/subject/27185558/?from=showing\" class=\"\">在乎你</a>\\n                            </li>\\n                            <li class=\"rating\">\\n                                        <span class=\"rating-star allstar30\"></span><span class=\"subject-rate\">5.6</span>\\n                            </li>\\n                                <li class=\"ticket_btn\"><span><a onclick=\"moreurl(this, {from:\\'mv_b_tc\\'})\" href=\"https://movie.douban.com/ticket/redirect/?url=https%3A%2F%2Fm.maoyan.com%2Fcinema%2Fmovie%2F1213175%3F_v_%3Dyes%26merCode%3D1000011\" target=\"_blank\">选座购票</a></span></li>\\n                        </ul>\\n                    <li class=\"ui-slide-item\">\\n            </ul>\\n        </div>\\n    </div>\\n    \\n    \\n\\n\\n    <!-- douban ad begin -->\\n    <div id=\"movie_home_left_bottom\" class=\"mb20 s\" data-dstat-areaid=\"72\" data-dstat-mode=\"click,expose\"></div>\\n    <!-- douban ad end -->\\n\\n        \\n\\n        \\n\\n<div class=\"gaia gaia-lite gaia-movie\">\\n    <div class=\"detail-pop\"></div>\\n    <input type=\"hidden\" name=\"islogin\" value=\"false\">\\n    <div class=\"fliter-wp\">\\n      <h2>\\n          <div data-type=\"movie\">最近热门电影</div>\\n          <div class=\"filter\">\\n              <form action=\"get\" class=\"gaia_frm\" autocomplete=\"off\">\\n                  <input type=\"hidden\" name=\"type\" value=\"movie\">\\n                  <div class=\"tags\">\\n                      <div class=\"tag-list\"></div>\\n                  </div>\\n                  <input type=\"hidden\" name=\"page_limit\" value=\"20\">\\n                  <input type=\"hidden\" name=\"page_start\" value=\"0\">\\n              </form>\\n          </div>\\n          <div class=\"fliter-placeholder\"></div>\\n          <a href=\"/explore\" class=\"more-link\">更多»</a>\\n      </h2>\\n    </div>\\n    \\n<div class=\"list-wp\">\\n    <div class=\"list\"></div>\\n    <a class=\"more\" href=\"javascript:;\">载入中...</a>\\n</div>\\n\\n    \\n    \\n    <script type=\"text/tmpl\" id=\"tag-tmpl\">\\n        <label>\\n            <%= _.escape(val)%>\\n            <input type=\"radio\" name=\"<%= type%>\" value=\"<%= _.escape(val)%>\">\\n            <% if (custom) { %>\\n                <a href=\"javascript:;\" class=\"remove\">x</a>\\n            <% } %>\\n        </label>\\n    </script>\\n\\n    <script type=\"text/tmpl\" id=\"subject-tmpl\">\\n        <% if (playable) { %>\\n        <a class=\"item\" target=\"_blank\" href=\"<%= url%>?tag=<%= tag%>&from=gaia_video\">\\n        <% } else {%>\\n        <a class=\"item\" target=\"_blank\" href=\"<%= url%>?tag=<%= tag%>&from=gaia\">\\n        <% } %>\\n            <div class=\"cover-wp\" data-isnew=\"<%= is_new%>\" data-id=\"<%= id%>\">\\n                <img src=\"<%= cover%>\" alt=\"<%= title%>\" data-x=\"<%= cover_x%>\" data-y=\"<%= cover_y%>\"/>\\n            </div>\\n            <p>\\n                <% if (is_new) { %>\\n                    <span class=\"green\">\\n                        <img src=\"https://img3.doubanio.com/f/movie/caa8f80abecee1fc6f9d31924cef8dd9a24c7227/pics/movie/ic_new.png\" width=\"16\" class=\"new\" />\\n                    </span>\\n                <% } %>\\n\\n                <%= title%>\\n\\n                <% if (rate !== \\'\\') { %>\\n                    <strong><%= rate%></strong>\\n                <% } else {%>\\n                    <span>暂无评分</span>\\n                <% } %>\\n            </p>\\n        </a>\\n    </script>\\n\\n    <script type=\"text/tmpl\" id=\"subject-info-tmpl\">\\n        <div class=\"wp\">\\n            <div class=\"info\">\\n                <% if (playable) { %>\\n                <h3><a target=\"_blank\" href=\"<%= url%>?tag=<%= tag%>&from=gaia_video\"><%= title%></a></h3>\\n                <% } else { %>\\n                <h3><a target=\"_blank\" href=\"<%= url%>?tag=<%= tag%>&from=gaia\"><%= title%></a></h3>\\n                <% } %>\\n                <p class=\"rank\">\\n                    <% if (rate !== \\'\\') { %>\\n                        <span class=\"ll bigstar<%= star%>\"></span>&nbsp;&nbsp;\\n                        <strong><%= rate%></strong>\\n                    <% } else { %>\\n                        暂无评分\\n                    <% } %>\\n                </p>\\n                <p class=\"meta\">\\n                    <% if (playable) { %>\\n                        <span class=\"green\">可播放</span>\\n                    <% } %>\\n                    <% if (playable && is_new) { %>\\n                        <span class=\"green\">新出片源</span>\\n                    <% } else if (is_new) { %>\\n                        <span class=\"green\">本周新片</span>\\n                    <% } %>\\n                    <% if (duration) { %>\\n                        <span><%= duration%></span>\\n                    <% } %>\\n                    <% if (episodes_count) { %>\\n                        <span><%= episodes_count%>集</span>\\n                    <% } %>\\n                    <% if (region) { %>\\n                        <span><%= region%></span>\\n                    <% } %>\\n                    <% if (types) { %>\\n                        <% _.each (types.slice(0,3), function(type){ %>\\n                        <span><%= type%></span>\\n                        <% }) %>\\n                    <% } %>\\n                    <% if (directors.length) { %>\\n                        <span><%= directors[0]%>(导演)</span>\\n                    <% } %>\\n                    <% if (actors) { %>\\n                        <% _.each (actors.slice(0,3), function(actor){ %>\\n                        <span><%= actor%></span>\\n                        <% }) %>\\n                    <% } %>\\n                </p>\\n                <p class=\"collect-area\">\\n                    <% if (collection_status === \\'F\\') { %>\\n                        <% if (is_tv) { %>\\n                            <a href=\"javascript:;\" rel=\"nofollow\" class=\"j a_collect_btn\" name=\"sbtn-<%= id%>-do\">在看</a>\\n                        <% } %>\\n                        <a href=\"javascript:;\" rel=\"nofollow\" class=\"j a_collect_btn\" name=\"sbtn-<%= id%>-collect\">看过</a>\\n                        <span>已想看</span>\\n                    <% } else if (is_tv && collection_status === \\'N\\') { %>\\n                        <a href=\"javascript:;\" rel=\"nofollow\" class=\"j a_collect_btn\" name=\"sbtn-<%= id%>-collect\">看过</a>\\n                        <span>已在看</span>\\n                    <% } else if (collection_status === \\'P\\') { %>\\n                        <span>已看过</span>\\n                    <% } else { %>\\n                        <a href=\"javascript:;\" rel=\"nofollow\" class=\"j a_collect_btn\" name=\"sbtn-<%= id%>-wish\">想看</a>\\n                        <% if (is_tv) { %>\\n                            <a href=\"javascript:;\" rel=\"nofollow\" class=\"j a_collect_btn\" name=\"sbtn-<%= id%>-do\">在看</a>\\n                        <% } %>\\n                        <a href=\"javascript:;\" rel=\"nofollow\" class=\"j a_collect_btn\" name=\"sbtn-<%= id%>-collect\">看过</a>\\n                    <% } %>\\n                </p>\\n            </div>\\n            <% if (short_comment.content) {%>\\n            <p class=\"comment\">\\n                <%= short_comment.content%>\\n                <span>- <%= short_comment.author%>的短评</span>\\n            </p>\\n            <% } %>\\n        </div>\\n    </script>\\n\\n    <script type=\"text/tmpl\" id=\"gaia-slide-tmpl\">\\n        <div class=\"slider\">\\n            <div class=\"slide-container\" style=\"height: <%= slideHeight %>px;\">\\n                <div class=\"slide-wrapper\" style=\"width: <%= slideWidth * (pageCount + 2) %>px;\">\\n                    <div class=\"slide-page\" style=\"width: <%= slideWidth %>px;\" data-index=\"<%= pageCount - 1%>\"></div>\\n                    <% for (var i = 0; i < pageCount; i++) { %>\\n                        <div class=\"slide-page\" style=\"width: <%= slideWidth %>px;\" data-index=\"<%= i %>\"></div>\\n                    <% } %>\\n                    <div class=\"slide-page\" style=\"width: <%= slideWidth %>px;\" data-index=\"0\"></div>\\n                </div>\\n            </div>\\n            <div class=\"slide-ctrl ui-slide-control\">\\n                <a class=\"btn-prev\" href=\"javascript:void(0)\"></a>\\n                    <% for (var i = 0; i < pageCount; i++) { %>\\n                        <i class=\"dot <%= i === 0 ? \\'activate\\' : \\'\\' %>\" data-index=\"<%= i %>\"></i>\\n                    <% } %>\\n                <a class=\"btn-next\" href=\"javascript:void(0)\"></a>\\n            </div>\\n        </div>\\n    </script>\\n    \\n\\n</div>\\n\\n        \\n\\n<div class=\"gaia gaia-lite gaia-tv\">\\n    <div class=\"detail-pop\"></div>\\n    <input type=\"hidden\" name=\"islogin\" value=\"false\">\\n    <div class=\"fliter-wp\">\\n      <h2>\\n          <div data-type=\"tv\">最近热门电视剧</div>\\n          <div class=\"filter\">\\n              <form action=\"get\" class=\"gaia_frm\" autocomplete=\"off\">\\n                  <input type=\"hidden\" name=\"type\" value=\"movie\">\\n                  <div class=\"tags\">\\n                      <div class=\"tag-list\"></div>\\n                  </div>\\n                  <input type=\"hidden\" name=\"page_limit\" value=\"20\">\\n                  <input type=\"hidden\" name=\"page_start\" value=\"0\">\\n              </form>\\n          </div>\\n          <div class=\"fliter-placeholder\"></div>\\n          <a href=\"/tv\" class=\"more-link\">更多»</a>\\n      </h2>\\n    </div>\\n    \\n<div class=\"list-wp\">\\n    <div class=\"list\"></div>\\n    <a class=\"more\" href=\"javascript:;\">载入中...</a>\\n</div>\\n\\n    \\n    \\n    <script type=\"text/tmpl\" id=\"tag-tmpl\">\\n        <label>\\n            <%= _.escape(val)%>\\n            <input type=\"radio\" name=\"<%= type%>\" value=\"<%= _.escape(val)%>\">\\n            <% if (custom) { %>\\n                <a href=\"javascript:;\" class=\"remove\">x</a>\\n            <% } %>\\n        </label>\\n    </script>\\n\\n    <script type=\"text/tmpl\" id=\"subject-tmpl\">\\n        <% if (playable) { %>\\n        <a class=\"item\" target=\"_blank\" href=\"<%= url%>?tag=<%= tag%>&from=gaia_video\">\\n        <% } else {%>\\n        <a class=\"item\" target=\"_blank\" href=\"<%= url%>?tag=<%= tag%>&from=gaia\">\\n        <% } %>\\n            <div class=\"cover-wp\" data-isnew=\"<%= is_new%>\" data-id=\"<%= id%>\">\\n                <img src=\"<%= cover%>\" alt=\"<%= title%>\" data-x=\"<%= cover_x%>\" data-y=\"<%= cover_y%>\"/>\\n            </div>\\n            <p>\\n                <% if (is_new) { %>\\n                    <span class=\"green\">\\n                        <img src=\"https://img3.doubanio.com/f/movie/caa8f80abecee1fc6f9d31924cef8dd9a24c7227/pics/movie/ic_new.png\" width=\"16\" class=\"new\" />\\n                    </span>\\n                <% } %>\\n\\n                <%= title%>\\n\\n                <% if (rate !== \\'\\') { %>\\n                    <strong><%= rate%></strong>\\n                <% } else {%>\\n                    <span>暂无评分</span>\\n                <% } %>\\n            </p>\\n        </a>\\n    </script>\\n\\n    <script type=\"text/tmpl\" id=\"subject-info-tmpl\">\\n        <div class=\"wp\">\\n            <div class=\"info\">\\n                <% if (playable) { %>\\n                <h3><a target=\"_blank\" href=\"<%= url%>?tag=<%= tag%>&from=gaia_video\"><%= title%></a></h3>\\n                <% } else { %>\\n                <h3><a target=\"_blank\" href=\"<%= url%>?tag=<%= tag%>&from=gaia\"><%= title%></a></h3>\\n                <% } %>\\n                <p class=\"rank\">\\n                    <% if (rate !== \\'\\') { %>\\n                        <span class=\"ll bigstar<%= star%>\"></span>&nbsp;&nbsp;\\n                        <strong><%= rate%></strong>\\n                    <% } else { %>\\n                        暂无评分\\n                    <% } %>\\n                </p>\\n                <p class=\"meta\">\\n                    <% if (playable) { %>\\n                        <span class=\"green\">可播放</span>\\n                    <% } %>\\n                    <% if (playable && is_new) { %>\\n                        <span class=\"green\">新出片源</span>\\n                    <% } else if (is_new) { %>\\n                        <span class=\"green\">本周新片</span>\\n                    <% } %>\\n                    <% if (duration) { %>\\n                        <span><%= duration%></span>\\n                    <% } %>\\n                    <% if (episodes_count) { %>\\n                        <span><%= episodes_count%>集</span>\\n                    <% } %>\\n                    <% if (region) { %>\\n                        <span><%= region%></span>\\n                    <% } %>\\n                    <% if (types) { %>\\n                        <% _.each (types.slice(0,3), function(type){ %>\\n                        <span><%= type%></span>\\n                        <% }) %>\\n                    <% } %>\\n                    <% if (directors.length) { %>\\n                        <span><%= directors[0]%>(导演)</span>\\n                    <% } %>\\n                    <% if (actors) { %>\\n                        <% _.each (actors.slice(0,3), function(actor){ %>\\n                        <span><%= actor%></span>\\n                        <% }) %>\\n                    <% } %>\\n                </p>\\n                <p class=\"collect-area\">\\n                    <% if (collection_status === \\'F\\') { %>\\n                        <% if (is_tv) { %>\\n                            <a href=\"javascript:;\" rel=\"nofollow\" class=\"j a_collect_btn\" name=\"sbtn-<%= id%>-do\">在看</a>\\n                        <% } %>\\n                        <a href=\"javascript:;\" rel=\"nofollow\" class=\"j a_collect_btn\" name=\"sbtn-<%= id%>-collect\">看过</a>\\n                        <span>已想看</span>\\n                    <% } else if (is_tv && collection_status === \\'N\\') { %>\\n                        <a href=\"javascript:;\" rel=\"nofollow\" class=\"j a_collect_btn\" name=\"sbtn-<%= id%>-collect\">看过</a>\\n                        <span>已在看</span>\\n                    <% } else if (collection_status === \\'P\\') { %>\\n                        <span>已看过</span>\\n                    <% } else { %>\\n                        <a href=\"javascript:;\" rel=\"nofollow\" class=\"j a_collect_btn\" name=\"sbtn-<%= id%>-wish\">想看</a>\\n                        <% if (is_tv) { %>\\n                            <a href=\"javascript:;\" rel=\"nofollow\" class=\"j a_collect_btn\" name=\"sbtn-<%= id%>-do\">在看</a>\\n                        <% } %>\\n                        <a href=\"javascript:;\" rel=\"nofollow\" class=\"j a_collect_btn\" name=\"sbtn-<%= id%>-collect\">看过</a>\\n                    <% } %>\\n                </p>\\n            </div>\\n            <% if (short_comment.content) {%>\\n            <p class=\"comment\">\\n                <%= short_comment.content%>\\n                <span>- <%= short_comment.author%>的短评</span>\\n            </p>\\n            <% } %>\\n        </div>\\n    </script>\\n\\n    <script type=\"text/tmpl\" id=\"gaia-slide-tmpl\">\\n        <div class=\"slider\">\\n            <div class=\"slide-container\" style=\"height: <%= slideHeight %>px;\">\\n                <div class=\"slide-wrapper\" style=\"width: <%= slideWidth * (pageCount + 2) %>px;\">\\n                    <div class=\"slide-page\" style=\"width: <%= slideWidth %>px;\" data-index=\"<%= pageCount - 1%>\"></div>\\n                    <% for (var i = 0; i < pageCount; i++) { %>\\n                        <div class=\"slide-page\" style=\"width: <%= slideWidth %>px;\" data-index=\"<%= i %>\"></div>\\n                    <% } %>\\n                    <div class=\"slide-page\" style=\"width: <%= slideWidth %>px;\" data-index=\"0\"></div>\\n                </div>\\n            </div>\\n            <div class=\"slide-ctrl ui-slide-control\">\\n                <a class=\"btn-prev\" href=\"javascript:void(0)\"></a>\\n                    <% for (var i = 0; i < pageCount; i++) { %>\\n                        <i class=\"dot <%= i === 0 ? \\'activate\\' : \\'\\' %>\" data-index=\"<%= i %>\"></i>\\n                    <% } %>\\n                <a class=\"btn-next\" href=\"javascript:void(0)\"></a>\\n            </div>\\n        </div>\\n    </script>\\n    \\n\\n</div>\\n\\n\\n        \\n        \\n<link rel=\"stylesheet\" href=\"https://img3.doubanio.com/f/movie/e27b13e6547399b3101c03fa007362ab4efc9e8f/css/movie/gallery.css\" />\\n<div id=\"gallery-frames\">\\n    <div class=\"gallery-hd\">\\n            <div class=\"gallery-ui-slide-control\">\\n                <span class=\"prev-btn\"><a class=\"gallery-btn-prev\" href=\"javascript:void(0)\"></a></span>\\n                <span class=\"next-btn\"><a class=\"gallery-btn-next\" href=\"javascript:void(0)\"></a></span>\\n            </div>\\n            <div class=\"slide-tip\"><span class=\"gallery-ui-slide-index\">1</span> / <span class=\"gallery-ui-slide-max\">6</span></div>\\n            <h2>热门推荐</h2>\\n    </div>\\n    <div id=\"hot-gallery\">\\n        <ul class=\\'ui-slide-content\\'>\\n                <li class=\\'ui-slide-item\\'>\\n                    \\n<div class=\"gallery-frame\">\\n        <a href=\"https://www.douban.com/note/714992477/?from=gallery\" target=\"_blank\" data-fid=\"3312\">\\n            <img src=\"https://img3.doubanio.com/view/movie_gallery_frame_hot_rec/normal/public/1a457aba066fa2e.jpg\" alt=\"法国天才导演如何打造轰动影坛的话题之作？\" width=\"350\" height=\"240\"/>\\n        </a>\\n    <div class=\"gallery-detail\">\\n        <div class=\"gallery-hd\">\\n                <a href=\"https://www.douban.com/note/714992477/?from=gallery\" target=\"_blank\" data-fid=\"3312\">\\n                    <h3>法国天才导演如何打造轰动影坛的话题之作？</h3>\\n                </a>\\n        </div>\\n        <div class=\"gallery-bd\">\\n            <p>\\n                现实中的不完美，才能打动观众和评委。\\n            </p>\\n        </div>\\n    </div>\\n</div>\\n\\n                </li>\\n                <li class=\\'ui-slide-item\\'>\\n                    \\n<div class=\"gallery-frame\">\\n        <a href=\"https://www.douban.com/note/714581896/?from=gallery\" target=\"_blank\" data-fid=\"3310\">\\n            <img src=\"https://img1.doubanio.com/view/movie_gallery_frame_hot_rec/normal/public/4cd1a470f48d0aa.jpg\" alt=\"毛茸茸的兔子回来啦！\" width=\"350\" height=\"240\"/>\\n        </a>\\n    <div class=\"gallery-detail\">\\n        <div class=\"gallery-hd\">\\n                <a href=\"https://www.douban.com/note/714581896/?from=gallery\" target=\"_blank\" data-fid=\"3310\">\\n                    <h3>毛茸茸的兔子回来啦！</h3>\\n                </a>\\n        </div>\\n        <div class=\"gallery-bd\">\\n            <p>\\n                《比得兔 2》探班全纪录\\n            </p>\\n        </div>\\n    </div>\\n</div>\\n\\n                </li>\\n                <li class=\\'ui-slide-item\\'>\\n                    \\n<div class=\"gallery-frame\">\\n        <a href=\"https://movie.douban.com/trailer/245933/?from=gallery\" target=\"_blank\" data-fid=\"3309\">\\n            <img src=\"https://img1.doubanio.com/view/movie_gallery_frame_hot_rec/normal/public/d7917d2a719c779.jpg\" alt=\"《X战警：黑凤凰》官方中字终极预告\" width=\"350\" height=\"240\"/>\\n        </a>\\n    <div class=\"gallery-detail\">\\n        <div class=\"gallery-hd\">\\n                <a href=\"https://movie.douban.com/trailer/245933/?from=gallery\" target=\"_blank\" data-fid=\"3309\">\\n                    <h3>《X战警：黑凤凰》官方中字终极预告</h3>\\n                </a>\\n        </div>\\n        <div class=\"gallery-bd\">\\n            <p>\\n                X战警系列完结篇，内地已过审！\\n琴·葛蕾黑化，凤凰之力爆发！\\n            </p>\\n        </div>\\n    </div>\\n</div>\\n\\n                </li>\\n                <li class=\\'ui-slide-item\\'>\\n                    \\n<div class=\"gallery-frame\">\\n        <a href=\"https://movie.douban.com/trailer/245927/?from=gallery\" target=\"_blank\" data-fid=\"3308\">\\n            <img src=\"https://img3.doubanio.com/view/movie_gallery_frame_hot_rec/normal/public/b748f55118eb48e.jpg\" alt=\"新海诚动画新作《天气之子》首发中字预告\" width=\"350\" height=\"240\"/>\\n        </a>\\n    <div class=\"gallery-detail\">\\n        <div class=\"gallery-hd\">\\n                <a href=\"https://movie.douban.com/trailer/245927/?from=gallery\" target=\"_blank\" data-fid=\"3308\">\\n                    <h3>新海诚动画新作《天气之子》首发中字预告</h3>\\n                </a>\\n        </div>\\n        <div class=\"gallery-bd\">\\n            <p>\\n                《你的名字。》导演新海诚自编自导全新力作，RADWIMPS打造原声。\\n            </p>\\n        </div>\\n    </div>\\n</div>\\n\\n                </li>\\n                <li class=\\'ui-slide-item\\'>\\n                    \\n<div class=\"gallery-frame\">\\n        <a href=\"https://movie.douban.com/trailer/245276/?from=gallery\" target=\"_blank\" data-fid=\"3300\">\\n            <img src=\"https://img1.doubanio.com/view/movie_gallery_frame_hot_rec/normal/public/2226c5b80752aa8.jpg\" alt=\"《复仇者联盟4：终局之战》官方中字预告\" width=\"350\" height=\"240\"/>\\n        </a>\\n    <div class=\"gallery-detail\">\\n        <div class=\"gallery-hd\">\\n                <a href=\"https://movie.douban.com/trailer/245276/?from=gallery\" target=\"_blank\" data-fid=\"3300\">\\n                    <h3>《复仇者联盟4：终局之战》官方中字预告</h3>\\n                </a>\\n        </div>\\n        <div class=\"gallery-bd\">\\n            <p>\\n                初代复联最后集结，4月24日全国上映！\\n            </p>\\n        </div>\\n    </div>\\n</div>\\n\\n                </li>\\n                <li class=\\'ui-slide-item\\'>\\n                    \\n<div class=\"gallery-frame\">\\n        <a href=\"https://www.douban.com/note/711822936/?from=gallery\" target=\"_blank\" data-fid=\"3294\">\\n            <img src=\"https://img1.doubanio.com/view/movie_gallery_frame_hot_rec/normal/public/4fa89d934721878.jpg\" alt=\"四月追剧指南上线！《权游》大结局即将上演\" width=\"350\" height=\"240\"/>\\n        </a>\\n    <div class=\"gallery-detail\">\\n        <div class=\"gallery-hd\">\\n                <a href=\"https://www.douban.com/note/711822936/?from=gallery\" target=\"_blank\" data-fid=\"3294\">\\n                    <h3>四月追剧指南上线！《权游》大结局即将上演</h3>\\n                </a>\\n        </div>\\n        <div class=\"gallery-bd\">\\n            <p>\\n                除了《权力的游戏》，4月还有哪些神剧？\\n            </p>\\n        </div>\\n    </div>\\n</div>\\n\\n                </li>\\n        </ul>\\n    </div>\\n</div>\\n\\n\\n    \\n\\n    \\n    \\n    \\n    <div id=\"reviews\" class=\"s\" data-dstat-areaid=\"77\" data-dstat-mode=\"click,expose\">\\n        <div class=\"reviews-hd\">\\n            <h2>最受欢迎的影评<span><a href=\"/review/best/\">更多热门影评&raquo;</a></span><span><a href=\"/review/latest/\">新片影评&raquo;</a></span></h2>\\n        </div>\\n        <div class=\"reviews-bd\">\\n                \\n    <div class=\"review \">\\n        <div class=\"review-hd\">\\n            <a href=\"https://movie.douban.com/subject/26426194/?from=reviews\">\\n                    <img class=\"lazy\"\\n                        data-original=\"https://img3.doubanio.com/view/photo/s_ratio_poster/public/p2530572643.jpg\"\\n                        src=\"https://img3.doubanio.com/f/movie/54a69da17972770faffce1f758c820ecb8e440af/pics/movie/grey.gif\"\\n                        alt=\"巨齿鲨\" />\\n            </a>\\n        </div>\\n        <div class=\"review-bd\">\\n            <h3><a href=\"https://movie.douban.com/review/9576584/\" class=\"\">关于中国元素，我想说几句。</a></h3>\\n            <div class=\"review-meta\">\\n                <a href=\"https://www.douban.com/people/167392628/\">有趣</a> 评论\\n                <a href=\"https://movie.douban.com/subject/26426194/?from=reviews\">《巨齿鲨》</a>\\n\\n                    <span class=\"allstar40\"></span>\\n            </div>\\n            <div class=\"review-content\">\\n                首先，我能告诉大家，《巨齿鲨》是一部6.5到7分，对比强森的《狂暴巨兽》的合格爆米花电影。拍鲨鱼的电影是多，但之前的《鲨滩》和《鲨海》都是主讲美女对抗鲨鱼，主打小格局下的幽暗惊悚，但这是一部妥妥的怪兽...\\n                    <a href=\"https://movie.douban.com/review/9576584/\">(全文)</a>\\n            </div>\\n        </div>\\n    </div>\\n\\n                \\n    <div class=\"review \">\\n        <div class=\"review-hd\">\\n            <a href=\"https://movie.douban.com/subject/1309163/?from=reviews\">\\n                    <img class=\"lazy\"\\n                        data-original=\"https://img3.doubanio.com/view/photo/s_ratio_poster/public/p483604864.jpg\"\\n                        src=\"https://img3.doubanio.com/f/movie/54a69da17972770faffce1f758c820ecb8e440af/pics/movie/grey.gif\"\\n                        alt=\"恋恋笔记本\" />\\n            </a>\\n        </div>\\n        <div class=\"review-bd\">\\n            <h3><a href=\"https://movie.douban.com/review/9588307/\" class=\"\">爱与你</a></h3>\\n            <div class=\"review-meta\">\\n                <a href=\"https://www.douban.com/people/182791023/\">打死不吃西红柿</a> 评论\\n                <a href=\"https://movie.douban.com/subject/1309163/?from=reviews\">《恋恋笔记本》</a>\\n\\n                    <span class=\"allstar40\"></span>\\n            </div>\\n            <div class=\"review-content\">\\n                我们总说不懂爱情，但是面对别人的真爱却总能产生共鸣。 对啊，我们只是没能有机会经历这样的爱情， 但我们都相信，如果我爱的是你，兜兜转转发现还是你，并且只能是你。有时候爱情就是这么奇妙，猝不及防的降临...\\n                    <a href=\"https://movie.douban.com/review/9588307/\">(全文)</a>\\n            </div>\\n        </div>\\n    </div>\\n\\n                \\n    <div class=\"review \">\\n        <div class=\"review-hd\">\\n            <a href=\"https://movie.douban.com/subject/27133303/?from=reviews\">\\n                    <img class=\"lazy\"\\n                        data-original=\"https://img1.doubanio.com/view/photo/s_ratio_poster/public/p2520331478.jpg\"\\n                        src=\"https://img3.doubanio.com/f/movie/54a69da17972770faffce1f758c820ecb8e440af/pics/movie/grey.gif\"\\n                        alt=\"超时空同居\" />\\n            </a>\\n        </div>\\n        <div class=\"review-bd\">\\n            <h3><a href=\"https://movie.douban.com/review/9576157/\" class=\"\">及格线上下</a></h3>\\n            <div class=\"review-meta\">\\n                <a href=\"https://www.douban.com/people/182578619/\">彩云</a> 评论\\n                <a href=\"https://movie.douban.com/subject/27133303/?from=reviews\">《超时空同居》</a>\\n\\n                    <span class=\"allstar30\"></span>\\n            </div>\\n            <div class=\"review-content\">\\n                看《向往的生活》有一期嘉宾是佟丽娅，听了一首叫《房间》的歌，然后去电影院看的电影。 佟丽娅和雷佳音演技都很好，尤其是佟丽娅，这次的角色是有点市井小民的感觉，没想到处理的不错。 徐峥海底捞友情出场全片...\\n                    <a href=\"https://movie.douban.com/review/9576157/\">(全文)</a>\\n            </div>\\n        </div>\\n    </div>\\n\\n                \\n    <div class=\"review last\">\\n        <div class=\"review-hd\">\\n            <a href=\"https://movie.douban.com/subject/27040737/?from=reviews\">\\n                    <img class=\"lazy\"\\n                        data-original=\"https://img1.doubanio.com/view/photo/s_ratio_poster/public/p2552073598.jpg\"\\n                        src=\"https://img3.doubanio.com/f/movie/54a69da17972770faffce1f758c820ecb8e440af/pics/movie/grey.gif\"\\n                        alt=\"祈祷落幕时\" />\\n            </a>\\n        </div>\\n        <div class=\"review-bd\">\\n            <h3><a href=\"https://movie.douban.com/review/9591655/\" class=\"\">不是我剧透，是墙先开的口</a></h3>\\n            <div class=\"review-meta\">\\n                <a href=\"https://www.douban.com/people/182580804/\">电影解毒</a> 评论\\n                <a href=\"https://movie.douban.com/subject/27040737/?from=reviews\">《祈祷落幕时》</a>\\n\\n                    <span class=\"allstar30\"></span>\\n            </div>\\n            <div class=\"review-content\">\\n                对我们这种搞影评糊口的，“剧透”问题是永远的痛。 你不剧透吧，让人觉得文章没说重点，就在绕圈子蹭人家电影热度。你剧透吧，“剧透，取关了。” 我只好说，“这电影结尾拍得不错。”朋友：“哎哎哎你别剧透啊...\\n                    <a href=\"https://movie.douban.com/review/9591655/\">(全文)</a>\\n            </div>\\n        </div>\\n    </div>\\n\\n        </div>\\n    </div>\\n\\n    \\n\\n\\n\\n            </div>\\n            <div class=\"aside\">\\n                \\n    \\n    \\n\\n    \\n    \\n\\n    <div class=\"rating_answer\">\\n        <ul>\\n            <li>\\n                <a href=\"https://blog.douban.com/douban/2015/12/18/3060/\" target=\"_blank\">豆瓣电影评分八问</a>\\n            </li>\\n        </ul>\\n    </div>\\n\\n\\n    <!-- douban ad begin -->\\n    <div id=\"dale_movie_home_top_right\" class=\"s\" data-dstat-areaid=\"71\" data-dstat-mode=\"click,expose\"></div>\\n    <!-- douban ad end -->\\n\\n    \\n  \\n  \\n  \\n  <div class=\"hot_link\">\\n    <h2> 电影活动 &nbsp;·&nbsp;·&nbsp;·&nbsp;·&nbsp;·&nbsp;· </h2>\\n    <ul>\\n          <li>\\n              <a href=\"https://www.douban.com/note/714992477/\" data-bid=\"2725\" target=\"_blank\">\\n                  法国天才导演如何打造轰动影坛的话题之作？\\n              </a>\\n          </li>\\n          <li>\\n              <a href=\"https://www.douban.com/note/714581896/\" data-bid=\"2723\" target=\"_blank\">\\n                  《比得兔 2》探班全纪录\\n              </a>\\n          </li>\\n          <li>\\n              <a href=\"https://www.douban.com/note/713906237/\" data-bid=\"2721\" target=\"_blank\">\\n                  短片如何参与戛纳电影节？(有奖)\\n              </a>\\n          </li>\\n    </ul>\\n  </div>\\n\\n\\n    <!-- douban ad begin -->\\n    <div id=\"dale_movie_home_top_right_ford\" class=\"s\" data-dstat-areaid=\"71\" data-dstat-mode=\"click,expose\"></div>\\n    <div id=\"dale_movie_home_top_right2\" class=\"s\" data-dstat-areaid=\"71\" data-dstat-mode=\"click,expose\"></div>\\n    <!-- douban ad end -->\\n\\n    \\n    <div id=\"billboard\" class=\"s\" data-dstat-areaid=\"75\" data-dstat-mode=\"click,expose\">\\n        <div class=\"billboard-hd\">\\n            <h2>一周口碑榜<span><a href=\"/chart\">更多榜单&raquo;</a></span></h2>\\n        </div>\\n        <div class=\"billboard-bd\">\\n            <table>\\n                    <tr>\\n                        <td class=\"order\">1</td>\\n                        <td class=\"title\"><a onclick=\"moreurl(this, {from:\\'mv_rk\\'})\" href=\"https://movie.douban.com/subject/30272143/\">盗梦特攻队</a></td>\\n                    </tr>\\n                    <tr>\\n                        <td class=\"order\">2</td>\\n                        <td class=\"title\"><a onclick=\"moreurl(this, {from:\\'mv_rk\\'})\" href=\"https://movie.douban.com/subject/26061679/\">触不可及(美版)</a></td>\\n                    </tr>\\n                    <tr>\\n                        <td class=\"order\">3</td>\\n                        <td class=\"title\"><a onclick=\"moreurl(this, {from:\\'mv_rk\\'})\" href=\"https://movie.douban.com/subject/26701196/\">无主之作</a></td>\\n                    </tr>\\n                    <tr>\\n                        <td class=\"order\">4</td>\\n                        <td class=\"title\"><a onclick=\"moreurl(this, {from:\\'mv_rk\\'})\" href=\"https://movie.douban.com/subject/27615868/\">续·终物语</a></td>\\n                    </tr>\\n                    <tr>\\n                        <td class=\"order\">5</td>\\n                        <td class=\"title\"><a onclick=\"moreurl(this, {from:\\'mv_rk\\'})\" href=\"https://movie.douban.com/subject/27045451/\">华氏119</a></td>\\n                    </tr>\\n                    <tr>\\n                        <td class=\"order\">6</td>\\n                        <td class=\"title\"><a onclick=\"moreurl(this, {from:\\'mv_rk\\'})\" href=\"https://movie.douban.com/subject/30349667/\">指挥家</a></td>\\n                    </tr>\\n                    <tr>\\n                        <td class=\"order\">7</td>\\n                        <td class=\"title\"><a onclick=\"moreurl(this, {from:\\'mv_rk\\'})\" href=\"https://movie.douban.com/subject/26964411/\">1945</a></td>\\n                    </tr>\\n                    <tr>\\n                        <td class=\"order\">8</td>\\n                        <td class=\"title\"><a onclick=\"moreurl(this, {from:\\'mv_rk\\'})\" href=\"https://movie.douban.com/subject/30143857/\">孤儿</a></td>\\n                    </tr>\\n                    <tr>\\n                        <td class=\"order\">9</td>\\n                        <td class=\"title\"><a onclick=\"moreurl(this, {from:\\'mv_rk\\'})\" href=\"https://movie.douban.com/subject/27046403/\">大剧院</a></td>\\n                    </tr>\\n                    <tr>\\n                        <td class=\"order\">10</td>\\n                        <td class=\"title\"><a onclick=\"moreurl(this, {from:\\'mv_rk\\'})\" href=\"https://movie.douban.com/subject/27054108/\">山茶花飘零</a></td>\\n                    </tr>\\n            </table>\\n        </div>\\n    </div>\\n\\n    \\n\\n\\n    <!-- douban ad begin -->\\n    <div id=\"dale_movie_home_bottom_right\"></div>\\n    <!-- douban ad end -->\\n\\n    \\n    \\n\\n    <div id=\"doulist\">\\n        <h2>热门豆列</h2>\\n        <ul>\\n            <li>\\n            <span>58推荐</span>\\n            <div class=\"title\"><a target=\"_blank\" href=\"https://www.douban.com/doulist/13914495/\">日式慢生活</a></div>\\n            </li>\\n            <li>\\n            <span>35推荐</span>\\n            <div class=\"title\"><a target=\"_blank\" href=\"https://www.douban.com/doulist/98625/\">情留俄罗斯 之影</a></div>\\n            </li>\\n        </ul>\\n    </div>\\n\\n\\n    \\n    <div id=\"contact-and-cooperation\">\\n        <div class=\"contact-and-cooperation-hd\">\\n            <h2>合作联系</h2>\\n        </div>\\n        <div class=\"contact-and-cooperation-bd\">\\n            <ul>\\n                    <li>电影合作邮箱：<img src=\"https://img3.doubanio.com/f/movie/c858df348b4d199c848774ed1b3ed529052f0fa1/pics/movie/email_movie.png\"/></li>\\n                    <li>电视剧合作邮箱：\\n                        <img src=\"https://img3.doubanio.com/f/movie/4de38ce91fdad7bcf3246c2594c84fa800eba08a/pics/movie/email_tv.png\"/>\\n                        <img src=\"https://img3.doubanio.com/f/shire/486503da8c82ffdbecec41c065927f96cbf02e4f/pics/icon/ic_new.png\" class=\"new\" />\\n                    </li>\\n                    <li>豆瓣影人PRO合作邮箱：<img src=\"https://img3.doubanio.com/f/movie/51a921a21ca8b612d586d37d3eb122e583a20d67/pics/movie/email_pro.png\"/></li>\\n            </ul>\\n        </div>\\n    </div>\\n    \\n\\n    <br/>\\n    \\n    \\n    <div class=\"contact mod\">\\n        <h2>关注我们</h2>\\n        <ul class=\"embassy-list clearfix\">\\n            <li>\\n                <a href=\"https://weibo.com/doubanfilm\" target=\"_blank\" class=\"icon-embassy-weibo\"></a>\\n                <a href=\"https://weibo.com/doubanfilm\" target=\"_blank\" class=\"primary-link\">微博</a>\\n            </li>\\n            <li>\\n                <a class=\"icon-embassy-weixin\">\\n                    <div class=\"hover\"><img src=\"https://img3.doubanio.com/f/movie/2e2ea342f4f4590300de32c5f30a9184176b3541/pics/movie/home_wechat_qrcode@2x.jpg\" width=\"130px\" height=\"130px\"></div>\\n                </a>\\n                <a class=\"primary-link\" href=\"javascript:;\">微信</a>\\n            </li>\\n            <li>\\n                <a href=\"https://weibo.com/doubanzui\" target=\"_blank\" class=\"icon-embassy-bite-me\"></a>\\n                <a href=\"https://weibo.com/doubanzui\" target=\"_blank\" class=\"primary-link\">瓣嘴</a>\\n            </li>\\n            <li>\\n                <a href=\"https://www.douban.com/people/186015655/\" target=\"_blank\" class=\"icon-embassy-film-pro\"></a>\\n                <a href=\"https://www.douban.com/people/186015655/\" target=\"_blank\" class=\"primary-link\">豆瓣影人PRO</a>\\n            </li>\\n            <li>\\n                <a href=\"https://www.douban.com/people/nobodyfilm/\" target=\"_blank\" class=\"icon-embassy-club-site\"></a>\\n                <a href=\"https://www.douban.com/people/nobodyfilm/\" target=\"_blank\" class=\"primary-link\">观影club</a>\\n            </li>\\n        </ul>\\n    </div>\\n\\n    <!-- douban ad begin -->\\n    <div id=\"dale_movie_home_inner_bottom\"></div>\\n    <div id=\"dale_movie_home_download_bottom\"></div>\\n    <!-- douban ad end -->\\n\\n    <!-- douban ad begin -->\\n    <div id=\"dale_movie_home_bottom_right_down\"></div>\\n    <!-- douban ad end -->\\n\\n            </div>\\n            <div class=\"extra\">\\n                \\n    <!-- douban ad begin -->\\n    <div id=\"dale_movie_homepage_bottom\"></div>\\n    <!-- douban ad end -->\\n\\n            </div>\\n        </div>\\n    </div>\\n\\n        \\n    <div id=\"footer\">\\n            <div class=\"footer-extra\"></div>\\n        \\n<span id=\"icp\" class=\"fleft gray-link\">\\n    &copy; 2005－2019 douban.com, all rights reserved 北京豆网科技有限公司\\n</span>\\n\\n<a href=\"https://www.douban.com/hnypt/variformcyst.py\" style=\"display: none;\"></a>\\n\\n<span class=\"fright\">\\n    <a href=\"https://www.douban.com/about\">关于豆瓣</a>\\n    · <a href=\"https://www.douban.com/jobs\">在豆瓣工作</a>\\n    · <a href=\"https://www.douban.com/about?topic=contactus\">联系我们</a>\\n    · <a href=\"https://www.douban.com/about?policy=disclaimer\">免责声明</a>\\n    \\n    · <a href=\"https://help.douban.com/?app=movie\" target=\"_blank\">帮助中心</a>\\n    · <a href=\"https://www.douban.com/doubanapp/\">移动应用</a>\\n    · <a href=\"https://www.douban.com/partner/\">豆瓣广告</a>\\n</span>\\n\\n    </div>\\n\\n    </div>\\n    <script type=\"text/javascript\" src=\"https://img3.doubanio.com/misc/mixed_static/1dd9ea66a9b8c99b.js\"></script>\\n        \\n        \\n    <link rel=\"stylesheet\" type=\"text/css\" href=\"https://img3.doubanio.com/f/shire/8377b9498330a2e6f056d863987cc7a37eb4d486/css/ui/dialog.css\" />\\n    <link rel=\"stylesheet\" type=\"text/css\" href=\"https://img3.doubanio.com/f/movie/4aca95d66d37ec0712b3d19973b5d8feb75f2f05/css/movie/mod/reg_login_pop.css\" />\\n    <script type=\"text/javascript\" src=\"https://img3.doubanio.com/f/shire/77323ae72a612bba8b65f845491513ff3329b1bb/js/do.js\" data-cfg-autoload=\"false\"></script>\\n    <script type=\"text/javascript\" src=\"https://img3.doubanio.com/f/shire/4ea3216519a6183c7bcd4f7d1a6d4fd57ce1a244/js/ui/dialog.js\"></script>\\n    <script type=\"text/javascript\">\\n        var HTTPS_DB=\\'https://www.douban.com\\';\\nvar account_pop={open:function(o,e){e?referrer=\"?referrer=\"+encodeURIComponent(e):referrer=\"?referrer=\"+window.location.href;var n=\"\",i=\"\",t=448;n=\"用户登录\",i=\"https://accounts.douban.com/passport/login_popup?source=movie\";var r=document.location.protocol+\"//\"+document.location.hostname,a=dui.Dialog({width:340,title:n,height:t,cls:\"account_pop\",isHideTitle:!0,modal:!0,content:\"<iframe scrolling=\\'no\\' frameborder=\\'0\\' width=\\'340\\' height=\\'\"+t+\"\\' src=\\'\"+i+\"\\' name=\\'\"+r+\"\\'></iframe>\"},!0),c=a.node;if(c.undelegate(),c.delegate(\".dui-dialog-close\",\"click\",function(){var o=$(\"body\");o.find(\"#login_msk\").hide(),o.find(\".account_pop\").remove()}),$(window).width()<478){var d=\"\";\"reg\"===o?d=HTTPS_DB+\"/accounts/register\"+referrer:\"login\"===o&&(d=HTTPS_DB+\"/accounts/login\"+referrer),window.location.href=d}else a.open();$(window).bind(\"message\",function(o){\"https://accounts.douban.com\"===o.originalEvent.origin&&(c.find(\"iframe\").css(\"height\",o.originalEvent.data),c.height(o.originalEvent.data),a.update())})}};Douban&&Douban.init_show_login&&(Douban.init_show_login=function(o){var e=$(o);e.click(function(){var o=e.data(\"ref\")||\"\";return account_pop.open(\"login\",o),!1})}),Do(function(){$(\"body\").delegate(\".pop_register\",\"click\",function(o){o.preventDefault();var e=$(this).data(\"ref\")||\"\";return account_pop.open(\"reg\",e),!1}),$(\"body\").delegate(\".pop_login\",\"click\",function(o){o.preventDefault();var e=$(this).data(\"ref\")||\"\";return account_pop.open(\"login\",e),!1})});\\n    </script>\\n\\n    \\n    <!-- douban ad begin -->\\n    \\n    \\n\\n\\n\\n\\n    \\n<script type=\"text/javascript\">\\n    (function (global) {\\n        var newNode = global.document.createElement(\\'script\\'),\\n            existingNode = global.document.getElementsByTagName(\\'script\\')[0],\\n            adSource = \\'//erebor.douban.com/\\',\\n            userId = \\'\\',\\n            browserId = \\'jEDNKx7mGXg\\',\\n            criteria = \\'3:/\\',\\n            preview = \\'\\',\\n            debug = false,\\n            adSlots = [\\'dale_movie_homepage_top_large\\', \\'dale_movie_home_top_right\\', \\'dale_movie_home_top_right_ford\\', \\'dale_movie_home_top_right2\\', \\'dale_movie_home_main_top\\', \\'dale_movie_home_bottom_right\\', \\'dale_movie_homepage_bottom\\', \\'movie_home_left_bottom\\', \\'dale_movie_home_bottom_right_down\\', \\'dale_movie_home_inner_bottom\\', \\'dale_movie_home_download_bottom\\'];\\n\\n        global.DoubanAdRequest = {src: adSource, uid: userId, bid: browserId, crtr: criteria, prv: preview, debug: debug};\\n        global.DoubanAdSlots = (global.DoubanAdSlots || []).concat(adSlots);\\n\\n        newNode.setAttribute(\\'type\\', \\'text/javascript\\');\\n        newNode.setAttribute(\\'src\\', \\'https://img3.doubanio.com/f/adjs/32e0cf0a8269761a00293dae037815e720bfd2e8/ad.release.js\\');\\n        newNode.setAttribute(\\'async\\', true);\\n        existingNode.parentNode.insertBefore(newNode, existingNode);\\n    })(this);\\n</script>\\n\\n\\n\\n\\n\\n\\n\\n\\n\\n\\n    <!-- douban ad end -->\\n    \\n\\n    \\n    \\n\\n\\n\\n\\n\\n\\n\\n\\n\\n<script type=\"text/javascript\">\\nvar _paq = _paq || [];\\n_paq.push([\\'trackPageView\\']);\\n_paq.push([\\'enableLinkTracking\\']);\\n(function() {\\n    var p=((\\'https:\\' == document.location.protocol) ? \\'https\\' : \\'http\\'), u=p+\\'://fundin.douban.com/\\';\\n    _paq.push([\\'setTrackerUrl\\', u+\\'piwik\\']);\\n    _paq.push([\\'setSiteId\\', \\'100001\\']);\\n    var d=document, g=d.createElement(\\'script\\'), s=d.getElementsByTagName(\\'script\\')[0];\\n    g.type=\\'text/javascript\\';\\n    g.defer=true;\\n    g.async=true;\\n    g.src=p+\\'://img3.doubanio.com/dae/fundin/piwik.js\\';\\n    s.parentNode.insertBefore(g,s);\\n})();\\n</script>\\n\\n<script type=\"text/javascript\">\\nvar setMethodWithNs = function(namespace) {\\n  var ns = namespace ? namespace + \\'.\\' : \\'\\'\\n    , fn = function(string) {\\n        if(!ns) {return string}\\n        return ns + string\\n      }\\n  return fn\\n}\\n\\nvar gaWithNamespace = function(fn, namespace) {\\n  var method = setMethodWithNs(namespace)\\n  fn.call(this, method)\\n}\\n\\nvar _gaq = _gaq || []\\n  , accounts = [\\n      { id: \\'UA-7019765-1\\', namespace: \\'douban\\' }\\n    , { id: \\'UA-7019765-19\\', namespace: \\'\\' }\\n    ]\\n  , gaInit = function(account) {\\n      gaWithNamespace(function(method) {\\n        gaInitFn.call(this, method, account)\\n      }, account.namespace)\\n    }\\n  , gaInitFn = function(method, account) {\\n      _gaq.push([method(\\'_setAccount\\'), account.id]);\\n      _gaq.push([method(\\'_setSampleRate\\'), \\'5\\']);\\n\\n      \\n  _gaq.push([method(\\'_addOrganic\\'), \\'google\\', \\'q\\'])\\n  _gaq.push([method(\\'_addOrganic\\'), \\'baidu\\', \\'wd\\'])\\n  _gaq.push([method(\\'_addOrganic\\'), \\'soso\\', \\'w\\'])\\n  _gaq.push([method(\\'_addOrganic\\'), \\'youdao\\', \\'q\\'])\\n  _gaq.push([method(\\'_addOrganic\\'), \\'so.360.cn\\', \\'q\\'])\\n  _gaq.push([method(\\'_addOrganic\\'), \\'sogou\\', \\'query\\'])\\n  if (account.namespace) {\\n    _gaq.push([method(\\'_addIgnoredOrganic\\'), \\'豆瓣\\'])\\n    _gaq.push([method(\\'_addIgnoredOrganic\\'), \\'douban\\'])\\n    _gaq.push([method(\\'_addIgnoredOrganic\\'), \\'豆瓣网\\'])\\n    _gaq.push([method(\\'_addIgnoredOrganic\\'), \\'www.douban.com\\'])\\n  }\\n\\n      if (account.namespace === \\'douban\\') {\\n        _gaq.push([method(\\'_setDomainName\\'), \\'.douban.com\\'])\\n      }\\n\\n        _gaq.push([method(\\'_setCustomVar\\'), 1, \\'responsive_view_mode\\', \\'desktop\\', 3])\\n\\n        _gaq.push([method(\\'_setCustomVar\\'), 2, \\'login_status\\', \\'0\\', 2]);\\n\\n      _gaq.push([method(\\'_trackPageview\\')])\\n    }\\n\\nfor(var i = 0, l = accounts.length; i < l; i++) {\\n  var account = accounts[i]\\n  gaInit(account)\\n}\\n\\n\\n;(function() {\\n    var ga = document.createElement(\\'script\\');\\n    ga.src = (\\'https:\\' == document.location.protocol ? \\'https://ssl\\' : \\'http://www\\') + \\'.google-analytics.com/ga.js\\';\\n    ga.setAttribute(\\'async\\', \\'true\\');\\n    document.documentElement.firstChild.appendChild(ga);\\n})()\\n</script>\\n\\n\\n\\n\\n\\n\\n\\n\\n      \\n    \\n\\n    <!-- brand91-docker-->\\n\\n  <script>_SPLITTEST=\\'\\'</script>\\n</body>\\n\\n</html>\\n\\n\\n'"
      ]
     },
     "execution_count": 35,
     "metadata": {},
     "output_type": "execute_result"
    }
   ],
   "source": [
    "response.text"
   ]
  },
  {
   "cell_type": "code",
   "execution_count": 37,
   "metadata": {
    "collapsed": true
   },
   "outputs": [],
   "source": [
    "url_pattern =re.compile('https://movie.douban.com/subject/\\d+/\\?from=showing')"
   ]
  },
  {
   "cell_type": "code",
   "execution_count": 26,
   "metadata": {
    "collapsed": true
   },
   "outputs": [],
   "source": [
    "import matplotlib.pyplot as plt"
   ]
  },
  {
   "cell_type": "code",
   "execution_count": 27,
   "metadata": {
    "collapsed": true
   },
   "outputs": [],
   "source": [
    "image_pattern = re.compile('https://img1.doubanio.com/view/photo/s_ratio_poster/public/\\w+.') "
   ]
  },
  {
   "cell_type": "code",
   "execution_count": 28,
   "metadata": {
    "collapsed": true
   },
   "outputs": [],
   "source": [
    "html_content = response.text"
   ]
  },
  {
   "cell_type": "code",
   "execution_count": 29,
   "metadata": {},
   "outputs": [
    {
     "data": {
      "text/plain": [
       "['https://img1.doubanio.com/view/photo/s_ratio_poster/public/p2551995207.',\n",
       " 'https://img1.doubanio.com/view/photo/s_ratio_poster/public/p2551352209.',\n",
       " 'https://img1.doubanio.com/view/photo/s_ratio_poster/public/p2550208359.',\n",
       " 'https://img1.doubanio.com/view/photo/s_ratio_poster/public/p2548783889.',\n",
       " 'https://img1.doubanio.com/view/photo/s_ratio_poster/public/p2551331237.',\n",
       " 'https://img1.doubanio.com/view/photo/s_ratio_poster/public/p2552073598.']"
      ]
     },
     "execution_count": 29,
     "metadata": {},
     "output_type": "execute_result"
    }
   ],
   "source": [
    "image_pattern.findall(html_content)"
   ]
  },
  {
   "cell_type": "code",
   "execution_count": null,
   "metadata": {
    "collapsed": true
   },
   "outputs": [],
   "source": []
  },
  {
   "cell_type": "code",
   "execution_count": 30,
   "metadata": {
    "collapsed": true
   },
   "outputs": [
    {
     "data": {
      "text/plain": [
       "['https://movie.douban.com/subject/27202819/?from=showing',\n",
       " 'https://movie.douban.com/subject/27202819/?from=showing',\n",
       " 'https://movie.douban.com/subject/2244426/?from=showing',\n",
       " 'https://movie.douban.com/subject/2244426/?from=showing',\n",
       " 'https://movie.douban.com/subject/30334073/?from=showing',\n",
       " 'https://movie.douban.com/subject/30334073/?from=showing',\n",
       " 'https://movie.douban.com/subject/26728669/?from=showing',\n",
       " 'https://movie.douban.com/subject/26728669/?from=showing',\n",
       " 'https://movie.douban.com/subject/25924056/?from=showing',\n",
       " 'https://movie.douban.com/subject/25924056/?from=showing',\n",
       " 'https://movie.douban.com/subject/30164448/?from=showing',\n",
       " 'https://movie.douban.com/subject/30164448/?from=showing',\n",
       " 'https://movie.douban.com/subject/27624661/?from=showing',\n",
       " 'https://movie.douban.com/subject/27624661/?from=showing',\n",
       " 'https://movie.douban.com/subject/27663742/?from=showing',\n",
       " 'https://movie.douban.com/subject/27663742/?from=showing',\n",
       " 'https://movie.douban.com/subject/5300054/?from=showing',\n",
       " 'https://movie.douban.com/subject/5300054/?from=showing',\n",
       " 'https://movie.douban.com/subject/26266893/?from=showing',\n",
       " 'https://movie.douban.com/subject/26266893/?from=showing',\n",
       " 'https://movie.douban.com/subject/27060077/?from=showing',\n",
       " 'https://movie.douban.com/subject/27060077/?from=showing',\n",
       " 'https://movie.douban.com/subject/27063305/?from=showing',\n",
       " 'https://movie.douban.com/subject/27063305/?from=showing',\n",
       " 'https://movie.douban.com/subject/30288751/?from=showing',\n",
       " 'https://movie.douban.com/subject/30288751/?from=showing',\n",
       " 'https://movie.douban.com/subject/26715636/?from=showing',\n",
       " 'https://movie.douban.com/subject/26715636/?from=showing',\n",
       " 'https://movie.douban.com/subject/27179414/?from=showing',\n",
       " 'https://movie.douban.com/subject/27179414/?from=showing',\n",
       " 'https://movie.douban.com/subject/19899707/?from=showing',\n",
       " 'https://movie.douban.com/subject/19899707/?from=showing',\n",
       " 'https://movie.douban.com/subject/27042871/?from=showing',\n",
       " 'https://movie.douban.com/subject/27042871/?from=showing',\n",
       " 'https://movie.douban.com/subject/1652592/?from=showing',\n",
       " 'https://movie.douban.com/subject/1652592/?from=showing',\n",
       " 'https://movie.douban.com/subject/27191431/?from=showing',\n",
       " 'https://movie.douban.com/subject/27191431/?from=showing',\n",
       " 'https://movie.douban.com/subject/25833233/?from=showing',\n",
       " 'https://movie.douban.com/subject/25833233/?from=showing',\n",
       " 'https://movie.douban.com/subject/30145516/?from=showing',\n",
       " 'https://movie.douban.com/subject/30145516/?from=showing',\n",
       " 'https://movie.douban.com/subject/27150225/?from=showing',\n",
       " 'https://movie.douban.com/subject/27150225/?from=showing',\n",
       " 'https://movie.douban.com/subject/27602116/?from=showing',\n",
       " 'https://movie.douban.com/subject/27602116/?from=showing',\n",
       " 'https://movie.douban.com/subject/25884416/?from=showing',\n",
       " 'https://movie.douban.com/subject/25884416/?from=showing',\n",
       " 'https://movie.douban.com/subject/26213252/?from=showing',\n",
       " 'https://movie.douban.com/subject/26213252/?from=showing',\n",
       " 'https://movie.douban.com/subject/30205168/?from=showing',\n",
       " 'https://movie.douban.com/subject/30205168/?from=showing',\n",
       " 'https://movie.douban.com/subject/30464313/?from=showing',\n",
       " 'https://movie.douban.com/subject/30464313/?from=showing']"
      ]
     },
     "execution_count": 30,
     "metadata": {},
     "output_type": "execute_result"
    }
   ],
   "source": [
    "url_pattern.findall(response.text)"
   ]
  },
  {
   "cell_type": "code",
   "execution_count": 31,
   "metadata": {},
   "outputs": [
    {
     "data": {
      "text/plain": [
       "'<!DOCTYPE html>\\n<html lang=\"zh-cmn-Hans\" class=\"\">\\n<head>\\n    <meta http-equiv=\"Content-Type\" content=\"text/html; charset=utf-8\">\\n    <meta name=\"renderer\" content=\"webkit\">\\n    <meta name=\"referrer\" content=\"always\">\\n    <meta name=\"google-site-verification\" content=\"ok0wCgT20tBBgo9_zat2iAcimtN4Ftf5ccsh092Xeyw\" />\\n    <title>\\n        功夫四侠：勇闯地宫 (豆瓣)\\n</title>\\n    \\n    <meta name=\"baidu-site-verification\" content=\"cZdR4xxR7RxmM4zE\" />\\n    <meta http-equiv=\"Pragma\" content=\"no-cache\">\\n    <meta http-equiv=\"Expires\" content=\"Sun, 6 Mar 2005 01:00:00 GMT\">\\n    \\n    <link rel=\"apple-touch-icon\" href=\"https://img3.doubanio.com/f/movie/d59b2715fdea4968a450ee5f6c95c7d7a2030065/pics/movie/apple-touch-icon.png\">\\n    <link href=\"https://img3.doubanio.com/f/shire/bf61b1fa02f564a4a8f809da7c7179b883a56146/css/douban.css\" rel=\"stylesheet\" type=\"text/css\">\\n    <link href=\"https://img3.doubanio.com/f/shire/ae3f5a3e3085968370b1fc63afcecb22d3284848/css/separation/_all.css\" rel=\"stylesheet\" type=\"text/css\">\\n    <link href=\"https://img3.doubanio.com/f/movie/8864d3756094f5272d3c93e30ee2e324665855b0/css/movie/base/init.css\" rel=\"stylesheet\">\\n    <script type=\"text/javascript\">var _head_start = new Date();</script>\\n    <script type=\"text/javascript\" src=\"https://img3.doubanio.com/f/movie/0495cb173e298c28593766009c7b0a953246c5b5/js/movie/lib/jquery.js\"></script>\\n    <script type=\"text/javascript\" src=\"https://img3.doubanio.com/f/shire/c7db1e57a6f6aebaa1d8ca83a62a94904c19df95/js/douban.js\"></script>\\n    <script type=\"text/javascript\" src=\"https://img3.doubanio.com/f/shire/0efdc63b77f895eaf85281fb0e44d435c6239a3f/js/separation/_all.js\"></script>\\n    \\n    <meta name=\"keywords\" content=\"功夫四侠：勇闯地宫,功夫四侠：勇闯地宫,功夫四侠：勇闯地宫影评,剧情介绍,电影图片,预告片,影讯,在线购票,论坛\">\\n    <meta name=\"description\" content=\"功夫四侠：勇闯地宫电影简介和剧情介绍,功夫四侠：勇闯地宫影评、图片、预告片、影讯、论坛、在线购票\">\\n    <meta name=\"mobile-agent\" content=\"format=html5; url=http://m.douban.com/movie/subject/30145516/\"/>\\n    <link rel=\"alternate\" href=\"android-app://com.douban.movie/doubanmovie/subject/30145516/\" />\\n    <link rel=\"stylesheet\" href=\"https://img3.doubanio.com/dae/cdnlib/libs/LikeButton/1.0.5/style.min.css\">\\n    <script type=\"text/javascript\" src=\"https://img3.doubanio.com/f/shire/77323ae72a612bba8b65f845491513ff3329b1bb/js/do.js\" data-cfg-autoload=\"false\"></script>\\n    <script type=\"text/javascript\">\\n      Do.add(\\'dialog\\', {path: \\'https://img3.doubanio.com/f/shire/4ea3216519a6183c7bcd4f7d1a6d4fd57ce1a244/js/ui/dialog.js\\', type: \\'js\\'});\\n      Do.add(\\'dialog-css\\', {path: \\'https://img3.doubanio.com/f/shire/8377b9498330a2e6f056d863987cc7a37eb4d486/css/ui/dialog.css\\', type: \\'css\\'});\\n      Do.add(\\'handlebarsjs\\', {path: \\'https://img3.doubanio.com/f/movie/3d4f8e4a8918718256450eb6e57ec8e1f7a2e14b/js/movie/lib/handlebars.current.js\\', type: \\'js\\'});\\n    </script>\\n    \\n  <script type=\\'text/javascript\\'>\\n  var _vwo_code = (function() {\\n    var account_id = 249272,\\n      settings_tolerance = 0,\\n      library_tolerance = 2500,\\n      use_existing_jquery = false,\\n      // DO NOT EDIT BELOW THIS LINE\\n      f=false,d=document;return{use_existing_jquery:function(){return use_existing_jquery;},library_tolerance:function(){return library_tolerance;},finish:function(){if(!f){f=true;var a=d.getElementById(\\'_vis_opt_path_hides\\');if(a)a.parentNode.removeChild(a);}},finished:function(){return f;},load:function(a){var b=d.createElement(\\'script\\');b.src=a;b.type=\\'text/javascript\\';b.innerText;b.onerror=function(){_vwo_code.finish();};d.getElementsByTagName(\\'head\\')[0].appendChild(b);},init:function(){settings_timer=setTimeout(\\'_vwo_code.finish()\\',settings_tolerance);var a=d.createElement(\\'style\\'),b=\\'body{opacity:0 !important;filter:alpha(opacity=0) !important;background:none !important;}\\',h=d.getElementsByTagName(\\'head\\')[0];a.setAttribute(\\'id\\',\\'_vis_opt_path_hides\\');a.setAttribute(\\'type\\',\\'text/css\\');if(a.styleSheet)a.styleSheet.cssText=b;else a.appendChild(d.createTextNode(b));h.appendChild(a);this.load(\\'//dev.visualwebsiteoptimizer.com/j.php?a=\\'+account_id+\\'&u=\\'+encodeURIComponent(d.URL)+\\'&r=\\'+Math.random());return settings_timer;}};}());\\n\\n  +function () {\\n    var bindEvent = function (el, type, handler) {\\n        var $ = window.jQuery || window.Zepto || window.$\\n       if ($ && $.fn && $.fn.on) {\\n           $(el).on(type, handler)\\n       } else if($ && $.fn && $.fn.bind) {\\n           $(el).bind(type, handler)\\n       } else if (el.addEventListener){\\n         el.addEventListener(type, handler, false);\\n       } else if (el.attachEvent){\\n         el.attachEvent(\"on\" + type, handler);\\n       } else {\\n         el[\"on\" + type] = handler;\\n       }\\n     }\\n\\n    var _origin_load = _vwo_code.load\\n    _vwo_code.load = function () {\\n      var args = [].slice.call(arguments)\\n      bindEvent(window, \\'load\\', function () {\\n        _origin_load.apply(_vwo_code, args)\\n      })\\n    }\\n  }()\\n\\n  _vwo_settings_timer = _vwo_code.init();\\n  </script>\\n\\n\\n    \\n\\n\\n<script type=\"application/ld+json\">\\n{\\n  \"@context\": \"http://schema.org\",\\n  \"name\": \"功夫四侠：勇闯地宫\",\\n  \"url\": \"/subject/30145516/\",\\n  \"image\": \"https://img3.doubanio.com/view/photo/s_ratio_poster/public/p2550448960.jpg\",\\n  \"director\": \\n  [\\n    {\\n      \"@type\": \"Person\",\\n      \"url\": \"/celebrity/1359918/\",\\n      \"name\": \"李金保 Jinbao Li\"\\n    }\\n  ]\\n,\\n  \"author\": \\n  [\\n    {\\n      \"@type\": \"Person\",\\n      \"url\": \"/celebrity/1388592/\",\\n      \"name\": \"徐琪 Qi Xu\"\\n    }\\n  ]\\n,\\n  \"actor\": \\n  [\\n    {\\n      \"@type\": \"Person\",\\n      \"url\": \"/celebrity/1348778/\",\\n      \"name\": \"王琪 Qi Wang\"\\n    }\\n    ,\\n    {\\n      \"@type\": \"Person\",\\n      \"url\": \"/celebrity/1348775/\",\\n      \"name\": \"王雪沁 Xueqin Wang\"\\n    }\\n    ,\\n    {\\n      \"@type\": \"Person\",\\n      \"url\": \"/celebrity/1360698/\",\\n      \"name\": \"吴凡 Fan Wu\"\\n    }\\n    ,\\n    {\\n      \"@type\": \"Person\",\\n      \"url\": \"/celebrity/1388593/\",\\n      \"name\": \"周宗禹 Zongyu Zhou\"\\n    }\\n    ,\\n    {\\n      \"@type\": \"Person\",\\n      \"url\": \"/celebrity/1388594/\",\\n      \"name\": \"张艺文 Yiwen Zhang\"\\n    }\\n    ,\\n    {\\n      \"@type\": \"Person\",\\n      \"url\": \"/celebrity/1360699/\",\\n      \"name\": \"唐泽宗 Zezong Tang\"\\n    }\\n    ,\\n    {\\n      \"@type\": \"Person\",\\n      \"url\": \"/celebrity/1388595/\",\\n      \"name\": \"刘玉勤 Yuyin Liu\"\\n    }\\n  ]\\n,\\n  \"datePublished\": \"2019-04-05\",\\n  \"genre\": [\"\\\\u513f\\\\u7ae5\", \"\\\\u52a8\\\\u753b\", \"\\\\u5192\\\\u9669\"],\\n  \"duration\": \"PT1H20M\",\\n  \"description\": \"兼具上天入地能力的功夫四侠要去海蚌岛地宫寻找长生不老的宝藏。海蚌岛有着无数未知危险致命的奇怪动植物，他们齐心协力，历经艰难险阻终于到达奇幻壮观瑰丽的神秘地宫，并一起解开通往宝藏的谜题机关。等待着他们的...\",\\n  \"@type\": \"Movie\",\\n  \"aggregateRating\": {\\n    \"@type\": \"AggregateRating\",\\n    \"ratingCount\": \"0\",\\n    \"bestRating\": \"10\",\\n    \"worstRating\": \"2\",\\n    \"ratingValue\": \"\"\\n  }\\n}\\n</script>\\n\\n\\n    <style type=\"text/css\">\\n  \\n</style>\\n    <style type=\"text/css\">img { max-width: 100%; }</style>\\n    <script type=\"text/javascript\"></script>\\n    <link rel=\"stylesheet\" href=\"https://img3.doubanio.com/misc/mixed_static/4fcdc48d56f21ca7.css\">\\n\\n    <link rel=\"shortcut icon\" href=\"https://img3.doubanio.com/favicon.ico\" type=\"image/x-icon\">\\n</head>\\n\\n<body>\\n  \\n    <script type=\"text/javascript\">var _body_start = new Date();</script>\\n\\n    \\n    \\n\\n\\n\\n    <link href=\"//img3.doubanio.com/dae/accounts/resources/0246c88/shire/bundle.css\" rel=\"stylesheet\" type=\"text/css\">\\n\\n\\n\\n<div id=\"db-global-nav\" class=\"global-nav\">\\n  <div class=\"bd\">\\n    \\n<div class=\"top-nav-info\">\\n  <a href=\"https://accounts.douban.com/passport/login?source=movie\" class=\"nav-login\" rel=\"nofollow\">登录/注册</a>\\n</div>\\n\\n\\n    <div class=\"top-nav-doubanapp\">\\n  <a href=\"https://www.douban.com/doubanapp/app?channel=top-nav\" class=\"lnk-doubanapp\">下载豆瓣客户端</a>\\n  <div id=\"doubanapp-tip\">\\n    <a href=\"https://www.douban.com/doubanapp/app?channel=qipao\" class=\"tip-link\">豆瓣 <span class=\"version\">6.0</span> 全新发布</a>\\n    <a href=\"javascript: void 0;\" class=\"tip-close\">×</a>\\n  </div>\\n  <div id=\"top-nav-appintro\" class=\"more-items\">\\n    <p class=\"appintro-title\">豆瓣</p>\\n    <p class=\"qrcode\">扫码直接下载</p>\\n    <div class=\"download\">\\n      <a href=\"https://www.douban.com/doubanapp/redirect?channel=top-nav&direct_dl=1&download=iOS\">iPhone</a>\\n      <span>·</span>\\n      <a href=\"https://www.douban.com/doubanapp/redirect?channel=top-nav&direct_dl=1&download=Android\" class=\"download-android\">Android</a>\\n    </div>\\n  </div>\\n</div>\\n\\n    \\n\\n\\n<div class=\"global-nav-items\">\\n  <ul>\\n    <li class=\"\">\\n      <a href=\"https://www.douban.com\" target=\"_blank\" data-moreurl-dict=\"{&quot;from&quot;:&quot;top-nav-click-main&quot;,&quot;uid&quot;:&quot;0&quot;}\">豆瓣</a>\\n    </li>\\n    <li class=\"\">\\n      <a href=\"https://book.douban.com\" target=\"_blank\" data-moreurl-dict=\"{&quot;from&quot;:&quot;top-nav-click-book&quot;,&quot;uid&quot;:&quot;0&quot;}\">读书</a>\\n    </li>\\n    <li class=\"on\">\\n      <a href=\"https://movie.douban.com\"  data-moreurl-dict=\"{&quot;from&quot;:&quot;top-nav-click-movie&quot;,&quot;uid&quot;:&quot;0&quot;}\">电影</a>\\n    </li>\\n    <li class=\"\">\\n      <a href=\"https://music.douban.com\" target=\"_blank\" data-moreurl-dict=\"{&quot;from&quot;:&quot;top-nav-click-music&quot;,&quot;uid&quot;:&quot;0&quot;}\">音乐</a>\\n    </li>\\n    <li class=\"\">\\n      <a href=\"https://www.douban.com/location\" target=\"_blank\" data-moreurl-dict=\"{&quot;from&quot;:&quot;top-nav-click-location&quot;,&quot;uid&quot;:&quot;0&quot;}\">同城</a>\\n    </li>\\n    <li class=\"\">\\n      <a href=\"https://www.douban.com/group\" target=\"_blank\" data-moreurl-dict=\"{&quot;from&quot;:&quot;top-nav-click-group&quot;,&quot;uid&quot;:&quot;0&quot;}\">小组</a>\\n    </li>\\n    <li class=\"\">\\n      <a href=\"https://read.douban.com&#47;?dcs=top-nav&amp;dcm=douban\" target=\"_blank\" data-moreurl-dict=\"{&quot;from&quot;:&quot;top-nav-click-read&quot;,&quot;uid&quot;:&quot;0&quot;}\">阅读</a>\\n    </li>\\n    <li class=\"\">\\n      <a href=\"https://douban.fm&#47;?from_=shire_top_nav\" target=\"_blank\" data-moreurl-dict=\"{&quot;from&quot;:&quot;top-nav-click-fm&quot;,&quot;uid&quot;:&quot;0&quot;}\">FM</a>\\n    </li>\\n    <li class=\"\">\\n      <a href=\"https://time.douban.com&#47;?dt_time_source=douban-web_top_nav\" target=\"_blank\" data-moreurl-dict=\"{&quot;from&quot;:&quot;top-nav-click-time&quot;,&quot;uid&quot;:&quot;0&quot;}\">时间</a>\\n    </li>\\n    <li class=\"\">\\n      <a href=\"https://market.douban.com&#47;?utm_campaign=douban_top_nav&amp;utm_source=douban&amp;utm_medium=pc_web\" target=\"_blank\" data-moreurl-dict=\"{&quot;from&quot;:&quot;top-nav-click-market&quot;,&quot;uid&quot;:&quot;0&quot;}\">豆品</a>\\n    </li>\\n    <li>\\n      <a href=\"#more\" class=\"bn-more\"><span>更多</span></a>\\n      <div class=\"more-items\">\\n        <table cellpadding=\"0\" cellspacing=\"0\">\\n          <tbody>\\n            <tr>\\n              <td>\\n                <a href=\"https://ypy.douban.com\" target=\"_blank\" data-moreurl-dict=\"{&quot;from&quot;:&quot;top-nav-click-ypy&quot;,&quot;uid&quot;:&quot;0&quot;}\">豆瓣摄影</a>\\n              </td>\\n            </tr>\\n          </tbody>\\n        </table>\\n      </div>\\n    </li>\\n  </ul>\\n</div>\\n\\n  </div>\\n</div>\\n<script>\\n  ;window._GLOBAL_NAV = {\\n    DOUBAN_URL: \"https://www.douban.com\",\\n    N_NEW_NOTIS: 0,\\n    N_NEW_DOUMAIL: 0\\n  };\\n</script>\\n\\n\\n\\n    <script src=\"//img3.doubanio.com/dae/accounts/resources/0246c88/shire/bundle.js\" defer=\"defer\"></script>\\n\\n\\n\\n\\n    \\n\\n\\n\\n    <link href=\"//img3.doubanio.com/dae/accounts/resources/0246c88/movie/bundle.css\" rel=\"stylesheet\" type=\"text/css\">\\n\\n\\n\\n\\n<div id=\"db-nav-movie\" class=\"nav\">\\n  <div class=\"nav-wrap\">\\n  <div class=\"nav-primary\">\\n    <div class=\"nav-logo\">\\n      <a href=\"https:&#47;&#47;movie.douban.com\">豆瓣电影</a>\\n    </div>\\n    <div class=\"nav-search\">\\n      <form action=\"https:&#47;&#47;movie.douban.com/subject_search\" method=\"get\">\\n        <fieldset>\\n          <legend>搜索：</legend>\\n          <label for=\"inp-query\">\\n          </label>\\n          <div class=\"inp\"><input id=\"inp-query\" name=\"search_text\" size=\"22\" maxlength=\"60\" placeholder=\"搜索电影、电视剧、综艺、影人\" value=\"\"></div>\\n          <div class=\"inp-btn\"><input type=\"submit\" value=\"搜索\"></div>\\n          <input type=\"hidden\" name=\"cat\" value=\"1002\" />\\n        </fieldset>\\n      </form>\\n    </div>\\n  </div>\\n  </div>\\n  <div class=\"nav-secondary\">\\n    \\n\\n<div class=\"nav-items\">\\n  <ul>\\n    <li    ><a href=\"https://movie.douban.com/cinema/nowplaying/\"\\n     >影讯&购票</a>\\n    </li>\\n    <li    ><a href=\"https://movie.douban.com/explore\"\\n     >选电影</a>\\n    </li>\\n    <li    ><a href=\"https://movie.douban.com/tv/\"\\n     >电视剧</a>\\n    </li>\\n    <li    ><a href=\"https://movie.douban.com/chart\"\\n     >排行榜</a>\\n    </li>\\n    <li    ><a href=\"https://movie.douban.com/tag/\"\\n     >分类</a>\\n    </li>\\n    <li    ><a href=\"https://movie.douban.com/review/best/\"\\n     >影评</a>\\n    </li>\\n    <li    ><a href=\"https://movie.douban.com/annual/2018?source=navigation\"\\n     >2018年度榜单</a>\\n    </li>\\n    <li    ><a href=\"https://www.douban.com/standbyme/2018?source=navigation\"\\n     >2018书影音报告</a>\\n    </li>\\n  </ul>\\n</div>\\n\\n    <a href=\"https://movie.douban.com/annual/2018?source=movie_navigation\" class=\"movieannual2018\"></a>\\n  </div>\\n</div>\\n\\n<script id=\"suggResult\" type=\"text/x-jquery-tmpl\">\\n  <li data-link=\"{{= url}}\">\\n            <a href=\"{{= url}}\" onclick=\"moreurl(this, {from:\\'movie_search_sugg\\', query:\\'{{= keyword }}\\', subject_id:\\'{{= id}}\\', i: \\'{{= index}}\\', type: \\'{{= type}}\\'})\">\\n            <img src=\"{{= img}}\" width=\"40\" />\\n            <p>\\n                <em>{{= title}}</em>\\n                {{if year}}\\n                    <span>{{= year}}</span>\\n                {{/if}}\\n                {{if sub_title}}\\n                    <br /><span>{{= sub_title}}</span>\\n                {{/if}}\\n                {{if address}}\\n                    <br /><span>{{= address}}</span>\\n                {{/if}}\\n                {{if episode}}\\n                    {{if episode==\"unknow\"}}\\n                        <br /><span>集数未知</span>\\n                    {{else}}\\n                        <br /><span>共{{= episode}}集</span>\\n                    {{/if}}\\n                {{/if}}\\n            </p>\\n        </a>\\n        </li>\\n  </script>\\n\\n\\n\\n\\n    <script src=\"//img3.doubanio.com/dae/accounts/resources/0246c88/movie/bundle.js\" defer=\"defer\"></script>\\n\\n\\n\\n\\n\\n    \\n    <div id=\"wrapper\">\\n        \\n\\n        \\n    <div id=\"content\">\\n        \\n\\n    <div id=\"dale_movie_subject_top_icon\"></div>\\n    <h1>\\n        <span property=\"v:itemreviewed\">功夫四侠：勇闯地宫</span>\\n            <span class=\"year\">(2019)</span>\\n    </h1>\\n\\n        <div class=\"grid-16-8 clearfix\">\\n            \\n\\n            \\n            <div class=\"article\">\\n                \\n    \\n\\n    \\n\\n\\n\\n\\n\\n        <div class=\"indent clearfix\">\\n            <div class=\"subjectwrap clearfix\">\\n                <div class=\"subject clearfix\">\\n                    \\n\\n\\n\\n<div id=\"mainpic\" class=\"\">\\n    <a class=\"nbgnbg\" href=\"https://movie.douban.com/subject/30145516/photos?type=R\" title=\"点击看更多海报\">\\n        <img src=\"https://img3.doubanio.com/view/photo/s_ratio_poster/public/p2550448960.jpg\" title=\"点击看更多海报\" alt=\"功夫四侠：勇闯地宫\" rel=\"v:image\" />\\n   </a>\\n</div>\\n\\n                    \\n\\n\\n<div id=\"info\">\\n        <span ><span class=\\'pl\\'>导演</span>: <span class=\\'attrs\\'><a href=\"/celebrity/1359918/\" rel=\"v:directedBy\">李金保</a></span></span><br/>\\n        <span ><span class=\\'pl\\'>编剧</span>: <span class=\\'attrs\\'><a href=\"/celebrity/1388592/\">徐琪</a></span></span><br/>\\n        <span class=\"actor\"><span class=\\'pl\\'>主演</span>: <span class=\\'attrs\\'><a href=\"/celebrity/1348778/\" rel=\"v:starring\">王琪</a> / <a href=\"/celebrity/1348775/\" rel=\"v:starring\">王雪沁</a> / <a href=\"/celebrity/1360698/\" rel=\"v:starring\">吴凡</a> / <a href=\"/celebrity/1388593/\" rel=\"v:starring\">周宗禹</a> / <a href=\"/celebrity/1388594/\" rel=\"v:starring\">张艺文</a> / <a href=\"/celebrity/1360699/\" rel=\"v:starring\">唐泽宗</a> / <a href=\"/celebrity/1388595/\" rel=\"v:starring\">刘玉勤</a></span></span><br/>\\n        <span class=\"pl\">类型:</span> <span property=\"v:genre\">动画</span> / <span property=\"v:genre\">儿童</span> / <span property=\"v:genre\">冒险</span><br/>\\n        \\n        <span class=\"pl\">制片国家/地区:</span> 中国大陆<br/>\\n        <span class=\"pl\">语言:</span> 汉语普通话<br/>\\n        <span class=\"pl\">上映日期:</span> <span property=\"v:initialReleaseDate\" content=\"2019-04-05(中国大陆)\">2019-04-05(中国大陆)</span><br/>\\n        <span class=\"pl\">片长:</span> <span property=\"v:runtime\" content=\"80\">80分钟</span><br/>\\n        <span class=\"pl\">又名:</span> 功夫四侠2 / Four Warriors:The Underworld<br/>\\n        \\n\\n</div>\\n\\n\\n\\n\\n                </div>\\n                    \\n\\n\\n<div id=\"interest_sectl\">\\n    <div class=\"rating_wrap clearbox\" rel=\"v:rating\">\\n        <div class=\"clearfix\">\\n          <div class=\"rating_logo ll\">豆瓣评分</div>\\n          <div class=\"output-btn-wrap rr\" style=\"display:none\">\\n            <img src=\"https://img3.doubanio.com/f/movie/692e86756648f29457847c5cc5e161d6f6b8aaac/pics/movie/reference.png\" />\\n            <a class=\"download-output-image\" href=\"#\">引用</a>\\n          </div>\\n          \\n          \\n        </div>\\n        \\n\\n\\n<div class=\"rating_self clearfix\" typeof=\"v:Rating\">\\n    <strong class=\"ll rating_num\" property=\"v:average\"></strong>\\n    <span property=\"v:best\" content=\"10.0\"></span>\\n    <div class=\"rating_right not_showed\">\\n        <div class=\"ll bigstar bigstar00\"></div>\\n        <div class=\"rating_sum\">\\n                暂无评分\\n        </div>\\n    </div>\\n</div>\\n<div class=\"ratings-on-weight\">\\n</div>\\n\\n    </div>\\n</div>\\n\\n\\n                \\n            </div>\\n                \\n\\n\\n\\n\\n<div id=\"interest_sect_level\" class=\"clearfix\">\\n        \\n            <a href=\"https://www.douban.com/reason=collectwish&amp;ck=\" rel=\"nofollow\" class=\"j a_show_login colbutt ll\" name=\"pbtn-30145516-wish\">\\n                <span>想看</span>\\n            </a>\\n            <a href=\"https://www.douban.com/reason=collectcollect&amp;ck=\" rel=\"nofollow\" class=\"j a_show_login colbutt ll\" name=\"pbtn-30145516-collect\">\\n                <span>看过</span>\\n            </a>\\n        <div class=\"ll j a_stars\">\\n            \\n    \\n    评价:\\n    <span id=\"rating\"> <span id=\"stars\" data-solid=\"https://img3.doubanio.com/f/shire/5a2327c04c0c231bced131ddf3f4467eb80c1c86/pics/rating_icons/star_onmouseover.png\" data-hollow=\"https://img3.doubanio.com/f/shire/2520c01967207a1735171056ec588c8c1257e5f8/pics/rating_icons/star_hollow_hover.png\" data-solid-2x=\"https://img3.doubanio.com/f/shire/7258904022439076d57303c3b06ad195bf1dc41a/pics/rating_icons/star_onmouseover@2x.png\" data-hollow-2x=\"https://img3.doubanio.com/f/shire/95cc2fa733221bb8edd28ad56a7145a5ad33383e/pics/rating_icons/star_hollow_hover@2x.png\">\\n\\n            <a href=\"https://www.douban.com/register?reason=rate\" class=\"j a_show_login\" name=\"pbtn-30145516-1\">\\n        <img src=\"https://img3.doubanio.com/f/shire/2520c01967207a1735171056ec588c8c1257e5f8/pics/rating_icons/star_hollow_hover.png\" id=\"star1\" width=\"16\" height=\"16\"/></a>\\n            <a href=\"https://www.douban.com/register?reason=rate\" class=\"j a_show_login\" name=\"pbtn-30145516-2\">\\n        <img src=\"https://img3.doubanio.com/f/shire/2520c01967207a1735171056ec588c8c1257e5f8/pics/rating_icons/star_hollow_hover.png\" id=\"star2\" width=\"16\" height=\"16\"/></a>\\n            <a href=\"https://www.douban.com/register?reason=rate\" class=\"j a_show_login\" name=\"pbtn-30145516-3\">\\n        <img src=\"https://img3.doubanio.com/f/shire/2520c01967207a1735171056ec588c8c1257e5f8/pics/rating_icons/star_hollow_hover.png\" id=\"star3\" width=\"16\" height=\"16\"/></a>\\n            <a href=\"https://www.douban.com/register?reason=rate\" class=\"j a_show_login\" name=\"pbtn-30145516-4\">\\n        <img src=\"https://img3.doubanio.com/f/shire/2520c01967207a1735171056ec588c8c1257e5f8/pics/rating_icons/star_hollow_hover.png\" id=\"star4\" width=\"16\" height=\"16\"/></a>\\n            <a href=\"https://www.douban.com/register?reason=rate\" class=\"j a_show_login\" name=\"pbtn-30145516-5\">\\n        <img src=\"https://img3.doubanio.com/f/shire/2520c01967207a1735171056ec588c8c1257e5f8/pics/rating_icons/star_hollow_hover.png\" id=\"star5\" width=\"16\" height=\"16\"/></a>\\n    </span><span id=\"rateword\" class=\"pl\"></span>\\n    <input id=\"n_rating\" type=\"hidden\" value=\"\"  />\\n    </span>\\n\\n        </div>\\n    \\n\\n</div>\\n\\n\\n            \\n\\n\\n\\n\\n\\n\\n\\n\\n\\n\\n\\n\\n\\n\\n\\n\\n\\n\\n<div class=\"gtleft\">\\n    <ul class=\"ul_subject_menu bicelink color_gray pt6 clearfix\">\\n        \\n    \\n        \\n                <li> \\n    <img src=\"https://img3.doubanio.com/f/shire/cc03d0fcf32b7ce3af7b160a0b85e5e66b47cc42/pics/short-comment.gif\" />&nbsp;\\n        <a onclick=\"moreurl(this, {from:\\'mv_sbj_wr_cmnt_login\\'})\" class=\"j a_show_login\" href=\"https://www.douban.com/register?reason=review\" rel=\"nofollow\">写短评</a>\\n </li>\\n                    <li> \\n    \\n    <img src=\"https://img3.doubanio.com/f/shire/5bbf02b7b5ec12b23e214a580b6f9e481108488c/pics/add-review.gif\" />&nbsp;\\n        <a onclick=\"moreurl(this, {from:\\'mv_sbj_wr_rv_login\\'})\" class=\"j a_show_login\" href=\"https://www.douban.com/register?reason=review\" rel=\"nofollow\">写影评</a>\\n </li>\\n                    <li> \\n    <img src=\"https://img3.doubanio.com/f/shire/61cc48ba7c40e0272d46bb93fe0dc514f3b71ec5/pics/add-doulist.gif\" />&nbsp;\\n    <a class=\"\" href=\"/subject/30145516/questions/ask?from=subject_top\">提问题</a>\\n </li>\\n                <li> \\n    \\n\\n\\n\\n </li>\\n                <li> \\n   \\n\\n   \\n    \\n    <span class=\"rec\" id=\"电影-30145516\">\\n    <a href= \"#\"\\n        data-type=\"电影\"\\n        data-url=\"https://movie.douban.com/subject/30145516/\"\\n        data-desc=\"电影《功夫四侠：勇闯地宫》 (来自豆瓣) \"\\n        data-title=\"电影《功夫四侠：勇闯地宫》 (来自豆瓣) \"\\n        data-pic=\"https://img3.doubanio.com/view/photo/s_ratio_poster/public/p2550448960.jpeg\"\\n        class=\"bn-sharing \">\\n        分享到\\n    </a> &nbsp;&nbsp;\\n    </span>\\n\\n    <script>\\n        if (!window.DoubanShareMenuList) {\\n            window.DoubanShareMenuList = [];\\n        }\\n        var __cache_url = __cache_url || {};\\n\\n        (function(u){\\n            if(__cache_url[u]) return;\\n            __cache_url[u] = true;\\n            window.DoubanShareIcons = \\'https://img3.doubanio.com/f/shire/d15ffd71f3f10a7210448fec5a68eaec66e7f7d0/pics/ic_shares.png\\';\\n\\n            var initShareButton = function() {\\n                $.ajax({url:u,dataType:\\'script\\',cache:true});\\n            };\\n\\n            if (typeof Do == \\'function\\' && \\'ready\\' in Do) {\\n                Do(\\n                    \\'https://img3.doubanio.com/f/shire/8377b9498330a2e6f056d863987cc7a37eb4d486/css/ui/dialog.css\\',\\n                    \\'https://img3.doubanio.com/f/shire/4ea3216519a6183c7bcd4f7d1a6d4fd57ce1a244/js/ui/dialog.js\\',\\n                    \\'https://img3.doubanio.com/f/movie/c4ab132ff4d3d64a83854c875ea79b8b541faf12/js/movie/lib/qrcode.min.js\\',\\n                    initShareButton\\n                );\\n            } else if(typeof Douban == \\'object\\' && \\'loader\\' in Douban) {\\n                Douban.loader.batch(\\n                    \\'https://img3.doubanio.com/f/shire/8377b9498330a2e6f056d863987cc7a37eb4d486/css/ui/dialog.css\\',\\n                    \\'https://img3.doubanio.com/f/shire/4ea3216519a6183c7bcd4f7d1a6d4fd57ce1a244/js/ui/dialog.js\\',\\n                    \\'https://img3.doubanio.com/f/movie/c4ab132ff4d3d64a83854c875ea79b8b541faf12/js/movie/lib/qrcode.min.js\\'\\n                ).done(initShareButton);\\n            }\\n\\n        })(\\'https://img3.doubanio.com/f/movie/32be6727ed3ad8f6c4a417d8a086355c3e7d1d27/js/movie/lib/sharebutton.js\\');\\n    </script>\\n\\n\\n  </li>\\n            \\n\\n    </ul>\\n\\n    <script type=\"text/javascript\">\\n        $(function(){\\n            $(\".ul_subject_menu li.rec .bn-sharing\").bind(\"click\", function(){\\n                $.get(\"/blank?sbj_page_click=bn_sharing\");\\n            });\\n            $(\".ul_subject_menu .create_from_menu\").bind(\"click\", function(e){\\n                e.preventDefault();\\n                var $el = $(this);\\n                var glRoot = document.getElementById(\\'gallery-topics-selection\\');\\n                if (window.has_gallery_topics && glRoot) {\\n                    // 判断是否有话题\\n                    glRoot.style.display = \\'block\\';\\n                } else {\\n                    location.href = $el.attr(\\'href\\');\\n                }\\n            });\\n        });\\n    </script>\\n</div>\\n\\n\\n\\n\\n                \\n\\n\\n\\n\\n\\n<div class=\"rec-sec\">\\n<span class=\"rec\">\\n    <script id=\"movie-share\" type=\"text/x-html-snippet\">\\n        \\n    <form class=\"movie-share\" action=\"/j/share\" method=\"POST\">\\n        <div class=\"clearfix form-bd\">\\n            <div class=\"input-area\">\\n                <textarea name=\"text\" class=\"share-text\" cols=\"72\" data-mention-api=\"https://api.douban.com/shuo/in/complete?alt=xd&amp;callback=?\"></textarea>\\n                <input type=\"hidden\" name=\"target-id\" value=\"30145516\">\\n                <input type=\"hidden\" name=\"target-type\" value=\"0\">\\n                <input type=\"hidden\" name=\"title\" value=\"功夫四侠：勇闯地宫\\u200e (2019)\">\\n                <input type=\"hidden\" name=\"desc\" value=\"导演 李金保 主演 王琪 / 王雪沁 / 中国大陆 / 暂无评分\">\\n                <input type=\"hidden\" name=\"redir\" value=\"\"/>\\n                <div class=\"mentioned-highlighter\"></div>\\n            </div>\\n\\n            <div class=\"info-area\">\\n                    <img class=\"media\" src=\"https://img3.doubanio.com/view/photo/s_ratio_poster/public/p2550448960.jpg\" />\\n                <strong>功夫四侠：勇闯地宫\\u200e (2019)</strong>\\n                <p>导演 李金保 主演 王琪 / 王雪沁 / 中国大陆 / 暂无评分</p>\\n                <p class=\"error server-error\">&nbsp;</p>\\n            </div>\\n        </div>\\n        <div class=\"form-ft\">\\n            <div class=\"form-ft-inner\">\\n                \\n\\n\\n\\n                <span class=\"avail-num-indicator\">140</span>\\n                <span class=\"bn-flat\">\\n                    <input type=\"submit\" value=\"推荐\" />\\n                </span>\\n            </div>\\n        </div>\\n    </form>\\n    \\n    <div id=\"suggest-mention-tmpl\" style=\"display:none;\">\\n        <ul>\\n            {{#users}}\\n            <li id=\"{{uid}}\">\\n              <img src=\"{{avatar}}\">{{{username}}}&nbsp;<span>({{{uid}}})</span>\\n            </li>\\n            {{/users}}\\n        </ul>\\n    </div>\\n\\n\\n    </script>\\n\\n        \\n        <a href=\"/accounts/register?reason=recommend\"  class=\"j a_show_login lnk-sharing\" share-id=\"30145516\" data-mode=\"plain\" data-name=\"功夫四侠：勇闯地宫\\u200e (2019)\" data-type=\"movie\" data-desc=\"导演 李金保 主演 王琪 / 王雪沁 / 中国大陆 / 暂无评分\" data-href=\"https://movie.douban.com/subject/30145516/\" data-image=\"https://img3.doubanio.com/view/photo/s_ratio_poster/public/p2550448960.jpg\" data-properties=\"{}\" data-redir=\"\" data-text=\"\" data-apikey=\"\" data-curl=\"\" data-count=\"10\" data-object_kind=\"1002\" data-object_id=\"30145516\" data-target_type=\"rec\" data-target_action=\"0\" data-action_props=\"{&#34;subject_url&#34;:&#34;https:\\\\/\\\\/movie.douban.com\\\\/subject\\\\/30145516\\\\/&#34;,&#34;subject_title&#34;:&#34;功夫四侠：勇闯地宫\\u200e (2019)&#34;}\">推荐</a>\\n</span>\\n\\n\\n</div>\\n\\n\\n\\n\\n\\n\\n            <script type=\"text/javascript\">\\n                $(function() {\\n                    $(\\'.collect_btn\\', \\'#interest_sect_level\\').each(function() {\\n                        Douban.init_collect_btn(this);\\n                    });\\n                    $(\\'html\\').delegate(\".indent .rec-sec .lnk-sharing\", \"click\", function() {\\n                        moreurl(this, {\\n                            from : \\'mv_sbj_db_share\\'\\n                        });\\n                    });\\n                });\\n            </script>\\n        </div>\\n            \\n\\n\\n    <div id=\"collect_form_30145516\"></div>\\n\\n\\n        \\n\\n\\n\\n<div class=\"related-info\" style=\"margin-bottom:-10px;\">\\n    <a name=\"intro\"></a>\\n    \\n        \\n            \\n            \\n    <h2>\\n        <i class=\"\">功夫四侠：勇闯地宫的剧情简介</i>\\n              · · · · · ·\\n    </h2>\\n\\n            <div class=\"indent\" id=\"link-report\">\\n                    \\n                        <span property=\"v:summary\" class=\"\">\\n                                \\u3000\\u3000兼具上天入地能力的功夫四侠要去海蚌岛地宫寻找长生不老的宝藏。海蚌岛有着无数未知危险致命的奇怪动植物，他们齐心协力，历经艰难险阻终于到达奇幻壮观瑰丽的神秘地宫，并一起解开通往宝藏的谜题机关。等待着他们的危险正步步紧逼…\\n                        </span>\\n                        \\n\\n            </div>\\n</div>\\n\\n\\n    \\n\\n\\n\\n\\n\\n\\n\\n\\n<div id=\"celebrities\" class=\"celebrities related-celebrities\">\\n\\n  \\n    <h2>\\n        <i class=\"\">功夫四侠：勇闯地宫的演职员</i>\\n              · · · · · ·\\n            <span class=\"pl\">\\n            (\\n                <a href=\"/subject/30145516/celebrities\">全部 12</a>\\n            )\\n            </span>\\n    </h2>\\n\\n\\n  <ul class=\"celebrities-list from-subject __oneline\">\\n        \\n    \\n\\n    \\n  \\n  <li class=\"celebrity\">\\n    \\n\\n  <a href=\"https://movie.douban.com/celebrity/1359918/\" title=\"李金保 Jinbao Li\" class=\"\">\\n      <div class=\"avatar\" style=\"background-image: url(https://img1.doubanio.com/view/celebrity/s_ratio_celebrity/public/p1518344540.18.jpg)\">\\n    </div>\\n  </a>\\n\\n    <div class=\"info\">\\n      <span class=\"name\"><a href=\"https://movie.douban.com/celebrity/1359918/\" title=\"李金保 Jinbao Li\" class=\"name\">李金保</a></span>\\n\\n      <span class=\"role\" title=\"导演\">导演</span>\\n\\n    </div>\\n  </li>\\n\\n\\n        \\n    \\n\\n    \\n  \\n  <li class=\"celebrity\">\\n    \\n\\n  <a href=\"https://movie.douban.com/celebrity/1348778/\" title=\"王琪 Qi Wang\" class=\"\">\\n      <div class=\"avatar\" style=\"background-image: url(https://img3.doubanio.com/view/celebrity/s_ratio_celebrity/public/p1518344457.05.jpg)\">\\n    </div>\\n  </a>\\n\\n    <div class=\"info\">\\n      <span class=\"name\"><a href=\"https://movie.douban.com/celebrity/1348778/\" title=\"王琪 Qi Wang\" class=\"name\">王琪</a></span>\\n\\n      <span class=\"role\" title=\"配 老凯\">配 老凯</span>\\n\\n    </div>\\n  </li>\\n\\n\\n        \\n    \\n\\n    \\n  \\n  <li class=\"celebrity\">\\n    \\n\\n  <a href=\"https://movie.douban.com/celebrity/1348775/\" title=\"王雪沁 Xueqin Wang\" class=\"\">\\n      <div class=\"avatar\" style=\"background-image: url(https://img3.doubanio.com/view/celebrity/s_ratio_celebrity/public/p1470558117.44.jpg)\">\\n    </div>\\n  </a>\\n\\n    <div class=\"info\">\\n      <span class=\"name\"><a href=\"https://movie.douban.com/celebrity/1348775/\" title=\"王雪沁 Xueqin Wang\" class=\"name\">王雪沁</a></span>\\n\\n      <span class=\"role\" title=\"配 田鼠尤里\">配 田鼠尤里</span>\\n\\n    </div>\\n  </li>\\n\\n\\n        \\n    \\n\\n    \\n  \\n  <li class=\"celebrity\">\\n    \\n\\n  <a href=\"https://movie.douban.com/celebrity/1360698/\" title=\"吴凡 Fan Wu\" class=\"\">\\n      <div class=\"avatar\" style=\"background-image: url(https://img1.doubanio.com/view/celebrity/s_ratio_celebrity/public/p1470557893.97.jpg)\">\\n    </div>\\n  </a>\\n\\n    <div class=\"info\">\\n      <span class=\"name\"><a href=\"https://movie.douban.com/celebrity/1360698/\" title=\"吴凡 Fan Wu\" class=\"name\">吴凡</a></span>\\n\\n      <span class=\"role\" title=\"配 鹦鹉小黑\">配 鹦鹉小黑</span>\\n\\n    </div>\\n  </li>\\n\\n\\n        \\n    \\n\\n    \\n  \\n  <li class=\"celebrity\">\\n    \\n\\n  <a href=\"https://movie.douban.com/celebrity/1388593/\" title=\"周宗禹 Zongyu Zhou\" class=\"\">\\n      <div class=\"avatar\" style=\"background-image: url(https://img3.doubanio.com/view/celebrity/s_ratio_celebrity/public/p1527751472.33.jpg)\">\\n    </div>\\n  </a>\\n\\n    <div class=\"info\">\\n      <span class=\"name\"><a href=\"https://movie.douban.com/celebrity/1388593/\" title=\"周宗禹 Zongyu Zhou\" class=\"name\">周宗禹</a></span>\\n\\n      <span class=\"role\" title=\"配 青蛙长脚\">配 青蛙长脚</span>\\n\\n    </div>\\n  </li>\\n\\n\\n        \\n    \\n\\n    \\n  \\n  <li class=\"celebrity\">\\n    \\n\\n  <a href=\"https://movie.douban.com/celebrity/1388594/\" title=\"张艺文 Yiwen Zhang\" class=\"\">\\n      <div class=\"avatar\" style=\"background-image: url(https://img3.doubanio.com/view/celebrity/s_ratio_celebrity/public/p1527751449.93.jpg)\">\\n    </div>\\n  </a>\\n\\n    <div class=\"info\">\\n      <span class=\"name\"><a href=\"https://movie.douban.com/celebrity/1388594/\" title=\"张艺文 Yiwen Zhang\" class=\"name\">张艺文</a></span>\\n\\n      <span class=\"role\" title=\"配 食人族小妖\">配 食人族小妖</span>\\n\\n    </div>\\n  </li>\\n\\n\\n  </ul>\\n</div>\\n\\n\\n    \\n\\n\\n<link rel=\"stylesheet\" href=\"https://img3.doubanio.com/f/verify/16c7e943aee3b1dc6d65f600fcc0f6d62db7dfb4/entry_creator/dist/author_subject/style.css\">\\n<div id=\"author_subject\" class=\"author-wrapper\">\\n    <div class=\"loading\"></div>\\n</div>\\n<script type=\"text/javascript\">\\n    var answerObj = {\\n      ISALL: \\'False\\',\\n      TYPE: \\'movie\\',\\n      SUBJECT_ID: \\'30145516\\',\\n      USER_ID: \\'None\\'\\n    }\\n</script>\\n<script type=\"text/javascript\" src=\"https://img3.doubanio.com/f/movie/61252f2f9b35f08b37f69d17dfe48310dd295347/js/movie/lib/react/15.4/bundle.js\"></script>\\n<script type=\"text/javascript\" src=\"https://img3.doubanio.com/f/verify/ac140ef86262b845d2be7b859e352d8196f3f6d4/entry_creator/dist/author_subject/index.js\"></script>\\n\\n\\n    \\n\\n\\n\\n\\n\\n\\n\\n\\n\\n    \\n    <div id=\"related-pic\" class=\"related-pic\">\\n        \\n    \\n    \\n    <h2>\\n        <i class=\"\">功夫四侠：勇闯地宫的图片</i>\\n              · · · · · ·\\n            <span class=\"pl\">\\n            (\\n                <a href=\"/video/create?subject_id=30145516\">添加视频评论</a>&nbsp;|&nbsp;<a href=\"https://movie.douban.com/subject/30145516/all_photos\">图片24</a>&nbsp;·&nbsp;<a href=\"https://movie.douban.com/subject/30145516/mupload\">添加</a>\\n            )\\n            </span>\\n    </h2>\\n\\n\\n        <ul class=\"related-pic-bd  \">\\n                <li>\\n                    <a href=\"https://movie.douban.com/photos/photo/2514824451/\"><img src=\"https://img3.doubanio.com/view/photo/sqxs/public/p2514824451.jpg\" alt=\"图片\" /></a>\\n                </li>\\n                <li>\\n                    <a href=\"https://movie.douban.com/photos/photo/2514830436/\"><img src=\"https://img3.doubanio.com/view/photo/sqxs/public/p2514830436.jpg\" alt=\"图片\" /></a>\\n                </li>\\n                <li>\\n                    <a href=\"https://movie.douban.com/photos/photo/2514830423/\"><img src=\"https://img3.doubanio.com/view/photo/sqxs/public/p2514830423.jpg\" alt=\"图片\" /></a>\\n                </li>\\n                <li>\\n                    <a href=\"https://movie.douban.com/photos/photo/2514830410/\"><img src=\"https://img3.doubanio.com/view/photo/sqxs/public/p2514830410.jpg\" alt=\"图片\" /></a>\\n                </li>\\n                <li>\\n                    <a href=\"https://movie.douban.com/photos/photo/2514830401/\"><img src=\"https://img3.doubanio.com/view/photo/sqxs/public/p2514830401.jpg\" alt=\"图片\" /></a>\\n                </li>\\n        </ul>\\n    </div>\\n\\n\\n\\n\\n    \\n    \\n\\n\\n\\n<style type=\"text/css\">\\n.award li { display: inline; margin-right: 5px }\\n.awards { margin-bottom: 20px }\\n.awards h2 { background: none; color: #000; font-size: 14px; padding-bottom: 5px; margin-bottom: 8px; border-bottom: 1px dashed #dddddd }\\n.awards .year { color: #666666; margin-left: -5px }\\n.mod { margin-bottom: 25px }\\n.mod .hd { margin-bottom: 10px }\\n.mod .hd h2 {margin:24px 0 3px 0}\\n</style>\\n\\n\\n\\n    \\n\\n\\n\\n\\n\\n\\n\\n\\n    <div id=\"recommendations\" class=\"\">\\n        \\n        \\n    <h2>\\n        <i class=\"\">喜欢这部电影的人也喜欢</i>\\n              · · · · · ·\\n    </h2>\\n\\n        \\n    \\n    <div class=\"recommendations-bd\">\\n        <dl class=\"\">\\n            <dt>\\n                <a href=\"https://movie.douban.com/subject/30320371/?from=subject-page\" >\\n                    <img src=\"https://img3.doubanio.com/view/photo/s_ratio_poster/public/p2553017256.jpg\" alt=\"猫公主苏菲\" class=\"\" />\\n                </a>\\n            </dt>\\n            <dd>\\n                <a href=\"https://movie.douban.com/subject/30320371/?from=subject-page\" class=\"\" >猫公主苏菲</a>\\n            </dd>\\n        </dl>\\n        <dl class=\"\">\\n            <dt>\\n                <a href=\"https://movie.douban.com/subject/30324775/?from=subject-page\" >\\n                    <img src=\"https://img1.doubanio.com/view/photo/s_ratio_poster/public/p2546923937.jpg\" alt=\"猪猪侠·猪年吉祥\" class=\"\" />\\n                </a>\\n            </dt>\\n            <dd>\\n                <a href=\"https://movie.douban.com/subject/30324775/?from=subject-page\" class=\"\" >猪猪侠·猪年吉祥</a>\\n            </dd>\\n        </dl>\\n        <dl class=\"\">\\n            <dt>\\n                <a href=\"https://movie.douban.com/subject/26989671/?from=subject-page\" >\\n                    <img src=\"https://img3.doubanio.com/view/photo/s_ratio_poster/public/p2514810130.jpg\" alt=\"九克拉战栗\" class=\"\" />\\n                </a>\\n            </dt>\\n            <dd>\\n                <a href=\"https://movie.douban.com/subject/26989671/?from=subject-page\" class=\"\" >九克拉战栗</a>\\n            </dd>\\n        </dl>\\n        <dl class=\"\">\\n            <dt>\\n                <a href=\"https://movie.douban.com/subject/27661975/?from=subject-page\" >\\n                    <img src=\"https://img1.doubanio.com/view/photo/s_ratio_poster/public/p2510207097.jpg\" alt=\"幸福魔咒\" class=\"\" />\\n                </a>\\n            </dt>\\n            <dd>\\n                <a href=\"https://movie.douban.com/subject/27661975/?from=subject-page\" class=\"\" >幸福魔咒</a>\\n            </dd>\\n        </dl>\\n        <dl class=\"\">\\n            <dt>\\n                <a href=\"https://movie.douban.com/subject/30460426/?from=subject-page\" >\\n                    <img src=\"https://img1.doubanio.com/view/photo/s_ratio_poster/public/p2550095557.jpg\" alt=\"今世未了缘\" class=\"\" />\\n                </a>\\n            </dt>\\n            <dd>\\n                <a href=\"https://movie.douban.com/subject/30460426/?from=subject-page\" class=\"\" >今世未了缘</a>\\n            </dd>\\n        </dl>\\n        <dl class=\"\">\\n            <dt>\\n                <a href=\"https://movie.douban.com/subject/26963223/?from=subject-page\" >\\n                    <img src=\"https://img3.doubanio.com/view/photo/s_ratio_poster/public/p2537150173.jpg\" alt=\"国礼\" class=\"\" />\\n                </a>\\n            </dt>\\n            <dd>\\n                <a href=\"https://movie.douban.com/subject/26963223/?from=subject-page\" class=\"\" >国礼</a>\\n            </dd>\\n        </dl>\\n        <dl class=\"\">\\n            <dt>\\n                <a href=\"https://movie.douban.com/subject/30226052/?from=subject-page\" >\\n                    <img src=\"https://img3.doubanio.com/f/movie/30c6263b6db26d055cbbe73fe653e29014142ea3/pics/movie/movie_default_large.png\" alt=\"八仙过海\" class=\"\" />\\n                </a>\\n            </dt>\\n            <dd>\\n                <a href=\"https://movie.douban.com/subject/30226052/?from=subject-page\" class=\"\" >八仙过海</a>\\n            </dd>\\n        </dl>\\n        <dl class=\"\">\\n            <dt>\\n                <a href=\"https://movie.douban.com/subject/30285934/?from=subject-page\" >\\n                    <img src=\"https://img1.doubanio.com/view/photo/s_ratio_poster/public/p2529364129.jpg\" alt=\"阳光星旅团\" class=\"\" />\\n                </a>\\n            </dt>\\n            <dd>\\n                <a href=\"https://movie.douban.com/subject/30285934/?from=subject-page\" class=\"\" >阳光星旅团</a>\\n            </dd>\\n        </dl>\\n        <dl class=\"\">\\n            <dt>\\n                <a href=\"https://movie.douban.com/subject/30447810/?from=subject-page\" >\\n                    <img src=\"https://img3.doubanio.com/view/photo/s_ratio_poster/public/p2552542543.jpg\" alt=\"毕业旅行之逍遥骑士\" class=\"\" />\\n                </a>\\n            </dt>\\n            <dd>\\n                <a href=\"https://movie.douban.com/subject/30447810/?from=subject-page\" class=\"\" >毕业旅行之逍遥骑士</a>\\n            </dd>\\n        </dl>\\n        <dl class=\"\">\\n            <dt>\\n                <a href=\"https://movie.douban.com/subject/27198131/?from=subject-page\" >\\n                    <img src=\"https://img1.doubanio.com/view/photo/s_ratio_poster/public/p2543650679.jpg\" alt=\"北斗风云\" class=\"\" />\\n                </a>\\n            </dt>\\n            <dd>\\n                <a href=\"https://movie.douban.com/subject/27198131/?from=subject-page\" class=\"\" >北斗风云</a>\\n            </dd>\\n        </dl>\\n    </div>\\n\\n    </div>\\n\\n\\n\\n        \\n\\n\\n<script type=\"text/x-handlebar-tmpl\" id=\"comment-tmpl\">\\n    <div class=\"dummy-fold\">\\n        {{#each comments}}\\n        <div class=\"comment-item\" data-cid=\"id\">\\n            <div class=\"comment\">\\n                <h3>\\n                    <span class=\"comment-vote\">\\n                            <span class=\"votes\">{{votes}}</span>\\n                        <input value=\"{{id}}\" type=\"hidden\"/>\\n                        <a href=\"javascript:;\" class=\"j {{#if ../if_logined}}a_vote_comment{{else}}a_show_login{{/if}}\">有用</a>\\n                    </span>\\n                    <span class=\"comment-info\">\\n                        <a href=\"{{user.path}}\" class=\"\">{{user.name}}</a>\\n                        {{#if rating}}\\n                        <span class=\"allstar{{rating}}0 rating\" title=\"{{rating_word}}\"></span>\\n                        {{/if}}\\n                        <span>\\n                            {{time}}\\n                        </span>\\n                        <p> {{content_tmpl content}} </p>\\n                    </span>\\n            </div>\\n        </div>\\n        {{/each}}\\n    </div>\\n</script>\\n\\n\\n\\n\\n\\n\\n\\n\\n\\n\\n\\n\\n    \\n\\n    <div id=\"comments-section\">\\n        <div class=\"mod-hd\">\\n            \\n        <a class=\"comment_btn j a_show_login\" href=\"https://www.douban.com/register?reason=review\" rel=\"nofollow\">\\n            <span>我要写短评</span>\\n        </a>\\n\\n            \\n            \\n    <h2>\\n        <i class=\"\">功夫四侠：勇闯地宫的短评</i>\\n              · · · · · ·\\n            <span class=\"pl\">\\n            (\\n                <a href=\"https://movie.douban.com/subject/30145516/comments?status=P\">全部 8 条</a>\\n            )\\n            </span>\\n    </h2>\\n\\n        </div>\\n        <div class=\"mod-bd\">\\n                \\n    <div class=\"tab-hd\">\\n        <a id=\"hot-comments-tab\" href=\"comments\" data-id=\"hot\" class=\"on\">热门</a>&nbsp;/&nbsp;\\n        <a id=\"new-comments-tab\" href=\"comments?sort=time\" data-id=\"new\">最新</a>&nbsp;/&nbsp;\\n        <a id=\"following-comments-tab\" href=\"follows_comments\" data-id=\"following\"  class=\"j a_show_login\">好友</a>\\n    </div>\\n\\n    <div class=\"tab-bd\">\\n        <div id=\"hot-comments\" class=\"tab\">\\n            \\n    \\n        \\n        <div class=\"comment-item\" data-cid=\"1741523338\">\\n            \\n    \\n    <div class=\"comment\">\\n        <h3>\\n            <span class=\"comment-vote\">\\n                <span class=\"votes\">4</span>\\n                <input value=\"1741523338\" type=\"hidden\"/>\\n                <a href=\"javascript:;\" class=\"j a_show_login\" onclick=\"\">有用</a>\\n            </span>\\n            <span class=\"comment-info\">\\n                <a href=\"https://www.douban.com/people/156401685/\" class=\"\">诺亚</a>\\n                    <span>看过</span>\\n                    <span class=\"allstar10 rating\" title=\"很差\"></span>\\n                <span class=\"comment-time \" title=\"2019-04-05 12:23:13\">\\n                    2019-04-05\\n                </span>\\n            </span>\\n        </h3>\\n        <p class=\"\">\\n            \\n                <span class=\"short\">论“宣传海报的重要性和欺骗性”。画这张海报原画，是不是把剧组所有的预算用干净了？\\n一星预定，收好不谢。</span>\\n        </p>\\n    </div>\\n\\n        </div>\\n        \\n        <div class=\"comment-item\" data-cid=\"1712803927\">\\n            \\n    \\n    <div class=\"comment\">\\n        <h3>\\n            <span class=\"comment-vote\">\\n                <span class=\"votes\">4</span>\\n                <input value=\"1712803927\" type=\"hidden\"/>\\n                <a href=\"javascript:;\" class=\"j a_show_login\" onclick=\"\">有用</a>\\n            </span>\\n            <span class=\"comment-info\">\\n                <a href=\"https://www.douban.com/people/175553177/\" class=\"\">小太爷</a>\\n                    <span>看过</span>\\n                    <span class=\"allstar10 rating\" title=\"很差\"></span>\\n                <span class=\"comment-time \" title=\"2019-03-18 15:20:08\">\\n                    2019-03-18\\n                </span>\\n            </span>\\n        </h3>\\n        <p class=\"\">\\n            \\n                <span class=\"short\">想起了当年那部汽车人总动员，真特么丢人！看着组合、这画风……又想上院线骗人了!</span>\\n                \\n                <a class=\"source-icon\" href=\"https://www.douban.com/doubanapp/\" target=\"_blank\"><img src=\"https://img3.doubanio.com/f/shire/f62b2d2de3fc4a56d176b01cc3bbd47d2681fb38/pics/comment/android.png\" title=\"发自Android\" alt=\"Android\" rel=\"v:image\"/></a>\\n        </p>\\n    </div>\\n\\n        </div>\\n        \\n        <div class=\"comment-item\" data-cid=\"1743557213\">\\n            \\n    \\n    <div class=\"comment\">\\n        <h3>\\n            <span class=\"comment-vote\">\\n                <span class=\"votes\">2</span>\\n                <input value=\"1743557213\" type=\"hidden\"/>\\n                <a href=\"javascript:;\" class=\"j a_show_login\" onclick=\"\">有用</a>\\n            </span>\\n            <span class=\"comment-info\">\\n                <a href=\"https://www.douban.com/people/yz1010/\" class=\"\">阿司匹林</a>\\n                    <span>看过</span>\\n                    <span class=\"allstar10 rating\" title=\"很差\"></span>\\n                <span class=\"comment-time \" title=\"2019-04-06 21:34:56\">\\n                    2019-04-06\\n                </span>\\n            </span>\\n        </h3>\\n        <p class=\"\">\\n            \\n                <span class=\"short\">这个制作水平还不如36年前的黑猫警长</span>\\n        </p>\\n    </div>\\n\\n        </div>\\n        \\n        <div class=\"comment-item\" data-cid=\"1744630305\">\\n            \\n    \\n    <div class=\"comment\">\\n        <h3>\\n            <span class=\"comment-vote\">\\n                <span class=\"votes\">0</span>\\n                <input value=\"1744630305\" type=\"hidden\"/>\\n                <a href=\"javascript:;\" class=\"j a_show_login\" onclick=\"\">有用</a>\\n            </span>\\n            <span class=\"comment-info\">\\n                <a href=\"https://www.douban.com/people/65239634/\" class=\"\">六条</a>\\n                    <span>看过</span>\\n                    <span class=\"allstar20 rating\" title=\"较差\"></span>\\n                <span class=\"comment-time \" title=\"2019-04-07 17:21:22\">\\n                    2019-04-07\\n                </span>\\n            </span>\\n        </h3>\\n        <p class=\"\">\\n            \\n                <span class=\"short\">从人物造型到动画效果，就像大学生做的练习作业，纯属练手的吧？</span>\\n        </p>\\n    </div>\\n\\n        </div>\\n        \\n        <div class=\"comment-item\" data-cid=\"1741454251\">\\n            \\n    \\n    <div class=\"comment\">\\n        <h3>\\n            <span class=\"comment-vote\">\\n                <span class=\"votes\">2</span>\\n                <input value=\"1741454251\" type=\"hidden\"/>\\n                <a href=\"javascript:;\" class=\"j a_show_login\" onclick=\"\">有用</a>\\n            </span>\\n            <span class=\"comment-info\">\\n                <a href=\"https://www.douban.com/people/108682075/\" class=\"\">纸片纸片</a>\\n                    <span>看过</span>\\n                    <span class=\"allstar10 rating\" title=\"很差\"></span>\\n                <span class=\"comment-time \" title=\"2019-04-05 11:13:37\">\\n                    2019-04-05\\n                </span>\\n            </span>\\n        </h3>\\n        <p class=\"\">\\n            \\n                <span class=\"short\">滚粗</span>\\n        </p>\\n    </div>\\n\\n        </div>\\n\\n\\n\\n                \\n                &gt; <a href=\"comments?sort=new_score&status=P\" >更多短评8条</a>\\n        </div>\\n        <div id=\"new-comments\" class=\"tab\">\\n            <div id=\"normal\">\\n            </div>\\n            <div class=\"fold-hd hide\">\\n                <a class=\"qa\" href=\"/help/opinion#t2-q0\" target=\"_blank\">为什么被折叠？</a>\\n                <a class=\"btn-unfold\" href=\"#\">有一些短评被折叠了</a>\\n                <div class=\"qa-tip\">\\n                    评论被折叠，是因为发布这条评论的帐号行为异常。评论仍可以被展开阅读，对发布人的账号不造成其他影响。如果认为有问题，可以<a href=\"https://help.douban.com/help/ask?category=movie\">联系</a>豆瓣电影。\\n                </div>\\n            </div>\\n            <div class=\"fold-bd\">\\n            </div>\\n            <span id=\"total-num\"></span>\\n        </div>\\n        <div id=\"following-comments\" class=\"tab\">\\n            \\n    \\n\\n\\n        <div class=\"comment-item\">\\n            你关注的人还没写过短评\\n        </div>\\n\\n        </div>\\n    </div>\\n\\n\\n            \\n            \\n        </div>\\n    </div>\\n\\n\\n\\n        \\n\\n<link rel=\"stylesheet\" href=\"https://img3.doubanio.com/misc/mixed_static/73ed658484f98d44.css\">\\n\\n<section class=\"topics mod\">\\n    <header>\\n        <h2>\\n            功夫四侠：勇闯地宫的话题 · · · · · ·\\n            <span class=\"pl\">( <span class=\"gallery_topics\">全部 <span id=\"topic-count\"></span> 条</span> )</span>\\n        </h2>\\n    </header>\\n\\n    \\n\\n\\n\\n\\n<section class=\"subject-topics\">\\n    <div class=\"topic-guide\" id=\"topic-guide\">\\n        <img class=\"ic_question\" src=\"//img3.doubanio.com/f/ithildin/b1a3edea3d04805f899e9d77c0bfc0d158df10d5/pics/export/icon_question.png\">\\n        <div class=\"tip_content\">\\n            <div class=\"tip_title\">什么是话题</div>\\n            <div class=\"tip_desc\">\\n                <div>无论是一部作品、一个人，还是一件事，都往往可以衍生出许多不同的话题。将这些话题细分出来，分别进行讨论，会有更多收获。</div>\\n            </div>\\n        </div>\\n        <img class=\"ic_guide\" src=\"//img3.doubanio.com/f/ithildin/529f46d86bc08f55cd0b1843d0492242ebbd22de/pics/export/icon_guide_arrow.png\">\\n        <img class=\"ic_close\" id=\"topic-guide-close\" src=\"//img3.doubanio.com/f/ithildin/2eb4ad488cb0854644b23f20b6fa312404429589/pics/export/close@3x.png\">\\n    </div>\\n\\n    <div id=\"topic-items\"></div>\\n\\n    <script>\\n        window.subject_id = 30145516;\\n        window.join_label_text = \\'写影评参与\\';\\n\\n        window.topic_display_count = 4;\\n        window.topic_item_display_count = 1;\\n        window.no_content_fun_call_name = \"no_topic\";\\n\\n        window.guideNode = document.getElementById(\\'topic-guide\\');\\n        window.guideNodeClose = document.getElementById(\\'topic-guide-close\\');\\n    </script>\\n    \\n        <link rel=\"stylesheet\" href=\"https://img3.doubanio.com/f/ithildin/f731c9ea474da58c516290b3a6b1dd1237c07c5e/css/export/subject_topics.css\">\\n        <script src=\"https://img3.doubanio.com/f/ithildin/d3590fc6ac47b33c804037a1aa7eec49075428c8/js/export/moment-with-locales-only-zh.js\"></script>\\n        <script src=\"https://img3.doubanio.com/f/ithildin/c600fdbe69e3ffa5a3919c81ae8c8b4140e99a3e/js/export/subject_topics.js\"></script>\\n\\n</section>\\n\\n    <script>\\n        function no_topic(){\\n            $(\\'#content .topics\\').remove();\\n        }\\n    </script>\\n</section>\\n\\n<section class=\"reviews mod movie-content\">\\n    <header>\\n        <a href=\"new_review\" rel=\"nofollow\" class=\"create-review comment_btn \"\\n            data-isverify=\"False\"\\n            data-verify-url=\"https://www.douban.com/accounts/phone/verify?redir=http://movie.douban.com/subject/30145516/new_review\">\\n            <span>我要写影评</span>\\n        </a>\\n        <h2>\\n            功夫四侠：勇闯地宫的影评 · · · · · ·\\n            <span class=\"pl\">( <a href=\"reviews\">全部 1 条</a> )</span>\\n        </h2>\\n    </header>\\n\\n    \\n\\n<style>\\n#gallery-topics-selection {\\n  position: fixed;\\n  width: 595px;\\n  padding: 40px 40px 33px 40px;\\n  background: #fff;\\n  border-radius: 10px;\\n  box-shadow: 0 2px 16px 0 rgba(0, 0, 0, 0.2);\\n  top: 50%;\\n  left: 50%;\\n  -webkit-transform: translate(-50%, -50%);\\n  transform: translate(-50%, -50%);\\n  z-index: 9999;\\n}\\n#gallery-topics-selection h1 {\\n  font-size: 18px;\\n  color: #007722;\\n  margin-bottom: 36px;\\n  padding: 0;\\n  line-height: 28px;\\n  font-weight: normal;\\n}\\n#gallery-topics-selection .gl_topics {\\n  border-bottom: 1px solid #dfdfdf;\\n  max-height: 298px;\\n  overflow-y: scroll;\\n}\\n#gallery-topics-selection .topic {\\n  margin-bottom: 24px;\\n}\\n#gallery-topics-selection .topic_name {\\n  font-size: 15px;\\n  color: #333;\\n  margin: 0;\\n  line-height: inherit;\\n}\\n#gallery-topics-selection .topic_meta {\\n  font-size: 13px;\\n  color: #999;\\n}\\n#gallery-topics-selection .topics_skip {\\n  display: block;\\n  cursor: pointer;\\n  font-size: 16px;\\n  color: #3377AA;\\n  text-align: center;\\n  margin-top: 33px;\\n}\\n#gallery-topics-selection .topics_skip:hover {\\n  background: transparent;\\n}\\n#gallery-topics-selection .close_selection {\\n  position: absolute;\\n  width: 30px;\\n  height: 20px;\\n  top: 46px;\\n  right: 40px;\\n  background: #fff;\\n  color: #999;\\n  text-align: right;\\n}\\n#gallery-topics-selection .close_selection:hover{\\n  background: #fff;\\n  color: #999;\\n}\\n</style>\\n\\n\\n\\n\\n        <div class=\"review_filter\">\\n            <a href=\"javascript:;;\" class=\"cur\" data-sort=\"\">热门</a href=\"javascript:;;\"> /\\n            <a href=\"javascript:;;\" data-sort=\"time\">最新</a href=\"javascript:;;\"> /\\n            <a href=\"javascript:;;\" data-sort=\"follow\">好友</a href=\"javascript:;;\">\\n            \\n        </div>\\n\\n\\n        \\n\\n\\n\\n<div class=\"review-list  \">\\n        \\n    \\n\\n\\n        <div class=\"fold-hd\">\\n                <a class=\"btn-unfold\" href=\"#\">有一些影评被折叠了</a>\\n                    <a class=\"qa\" href=\"https://help.douban.com/opinion?app=movie#t1-q2\">为什么被折叠？</a>\\n            <div class=\"qa-tip\">评论被折叠，是因为发布这条评论的帐号行为异常。评论仍可以被展开阅读，对发布人的账号不造成其他影响。如果认为有问题，可以<a href=\"https://help.douban.com/help/ask?category=movie\">联系</a>豆瓣电影。</div>\\n        </div>\\n        <div class=\"fold-bd\">\\n                \\n    \\n    <div data-cid=\"10087930\">\\n        <div class=\"main review-item\" id=\"10087930\">\\n\\n            \\n    \\n    <header class=\"main-hd\">\\n        <a href=\"https://www.douban.com/people/191552078/\" class=\"avator\">\\n            <img width=\"24\" height=\"24\" src=\"https://img1.doubanio.com/icon/user_normal.jpg\">\\n        </a>\\n\\n        <a href=\"https://www.douban.com/people/191552078/\" class=\"name\">开飞机的舒克</a>\\n\\n\\n        <span content=\"2019-04-04\" class=\"main-meta\">2019-04-04 07:01:24</span>\\n\\n\\n    </header>\\n\\n\\n            <div class=\"main-bd\">\\n\\n                <h2><a href=\"https://movie.douban.com/review/10087930/\">被人看不起，是有原因的</a></h2>\\n\\n                <div id=\"review_10087930_short\" class=\"review-short\" data-rid=\"10087930\">\\n                    <div class=\"short-content\">\\n\\n                        这画风，这感觉，一样的滋味一样的配方，一直在模仿，从未被超越，看看这些年国产的动画片，都是靠关系拍戏，有真本事的都被挤兑走了，再加上国产大陆脑残粉，这真是片沃土阿，看看什么这些年讲的都是什么玩意，全民素质都在下降，全民文化都在下降，这跟抗日神剧一样，误国误...\\n\\n                        &nbsp;(<a href=\"javascript:;\" id=\"toggle-10087930-copy\" class=\"unfold\" title=\"展开\">展开</a>)\\n                    </div>\\n                </div>\\n\\n                <div id=\"review_10087930_full\" class=\"hidden\">\\n                    <div id=\"review_10087930_full_content\" class=\"full-content\"></div>\\n                </div>\\n\\n                <div class=\"action\">\\n                    <a href=\"javascript:;\" class=\"action-btn up\" data-rid=\"10087930\" title=\"有用\">\\n                        <img src=\"https://img3.doubanio.com/f/zerkalo/536fd337139250b5fb3cf9e79cb65c6193f8b20b/pics/up.png\" />\\n                        <span id=\"r-useful_count-10087930\">\\n                        </span>\\n                    </a>\\n                    <a href=\"javascript:;\" class=\"action-btn down\" data-rid=\"10087930\" title=\"没用\">\\n                        <img src=\"https://img3.doubanio.com/f/zerkalo/68849027911140623cf338c9845893c4566db851/pics/down.png\" />\\n                        <span id=\"r-useless_count-10087930\">\\n                        </span>\\n                    </a>\\n                    <a href=\"https://movie.douban.com/review/10087930/#comments\" class=\"reply \">0回应</a>\\n\\n                    <a href=\"javascript:;;\" class=\"fold hidden\">收起</a>\\n                </div>\\n            </div>\\n        </div>\\n    </div>\\n\\n        </div>\\n\\n\\n    \\n\\n    \\n\\n    <script type=\"text/javascript\" src=\"https://img3.doubanio.com/misc/mixed_static/21f83e195bfe40b4.js\"></script>\\n    <!-- COLLECTED CSS -->\\n</div>\\n\\n\\n\\n\\n\\n\\n\\n\\n</section>\\n\\n<!-- COLLECTED JS -->\\n\\n    <br/>\\n\\n        <div class=\"section-discussion\">\\n                \\n                <div class=\"mod-hd\">\\n                        <a class=\"comment_btn j a_show_login\" href=\"https://www.douban.com/register?reason=review\" rel=\"nofollow\"><span>添加新讨论</span></a>\\n                    \\n    <h2>\\n        讨论区\\n         &nbsp; &middot;&nbsp; &middot;&nbsp; &middot;&nbsp; &middot;&nbsp; &middot;&nbsp; &middot;\\n    </h2>\\n\\n                </div>\\n                \\n  <table class=\"olt\"><tr><td><td><td><td></tr>\\n        \\n        <tr>\\n          <td class=\"pl\"><a href=\"https://movie.douban.com/subject/30145516/discussion/616172019/\" title=\"辣鸡电影、导演、制作公司，为骗钱而生\">辣鸡电影、导演、制作公司，为骗钱而生</a></td>\\n          <td class=\"pl\"><span>来自</span><a href=\"https://www.douban.com/people/137549091/\">ChristNolan</a></td>\\n          <td class=\"pl\"><span></span></td>\\n          <td class=\"pl\"><span>2019-04-06</span></td>\\n        </tr>\\n        \\n        <tr>\\n          <td class=\"pl\"><a href=\"https://movie.douban.com/subject/30145516/discussion/615286812/\" title=\"好像还不错的样子。期待上映\">好像还不错的样子。期待上映</a></td>\\n          <td class=\"pl\"><span>来自</span><a href=\"https://www.douban.com/people/163139414/\">一个教众</a></td>\\n          <td class=\"pl\"><span>3 回应</span></td>\\n          <td class=\"pl\"><span>2019-03-01</span></td>\\n        </tr>\\n        \\n        <tr>\\n          <td class=\"pl\"><a href=\"https://movie.douban.com/subject/30145516/discussion/615962125/\" title=\"求国家救救现在的孩子\">求国家救救现在的孩子</a></td>\\n          <td class=\"pl\"><span>来自</span><a href=\"https://www.douban.com/people/162456971/\">阿展</a></td>\\n          <td class=\"pl\"><span></span></td>\\n          <td class=\"pl\"><span>2019-02-05</span></td>\\n        </tr>\\n  </table>\\n\\n                <p class=\"pl\" align=\"right\">\\n                    <a href=\"/subject/30145516/discussion/\" rel=\"nofollow\">\\n                        &gt; 去这部影片的讨论区（全部3条）\\n                    </a>\\n                </p>\\n        </div>\\n\\n\\n    <script type=\"text/javascript\">\\n        $(function(){if($.browser.msie && $.browser.version == 6.0){\\n            var $info = $(\\'#info\\'),\\n                maxWidth = parseInt($info.css(\\'max-width\\'));\\n            if($info.width() > maxWidth) {\\n                $info.width(maxWidth);\\n            }\\n        }});\\n    </script>\\n\\n\\n            </div>\\n            <div class=\"aside\">\\n                \\n\\n\\n    \\n\\n\\n\\n\\n\\n\\n\\n            \\n\\n\\n\\n\\n\\n\\n<div class=\"ticket\">\\n        <a class=\"ticket-btn\" href=\"https://movie.douban.com/ticket/redirect/?url=https%3A%2F%2Fm.maoyan.com%2Fcinema%2Fmovie%2F1217497%3F_v_%3Dyes%26merCode%3D1000011\">购票</a>\\n</div>\\n\\n\\n\\n    <!-- douban ad begin -->\\n    <div id=\"dale_movie_subject_top_right\"></div>\\n    <div id=\"dale_movie_subject_top_middle\"></div>\\n    <!-- douban ad end -->\\n\\n    \\n\\n\\n\\n<style type=\"text/css\">\\n    .m4 {margin-bottom:8px; padding-bottom:8px;}\\n    .movieOnline {background:#FFF6ED; padding:10px; margin-bottom:20px;}\\n    .movieOnline h2 {margin:0 0 5px;}\\n    .movieOnline .sitename {line-height:2em; width:160px;}\\n    .movieOnline td,.movieOnline td a:link,.movieOnline td a:visited{color:#666;}\\n    .movieOnline td a:hover {color:#fff;}\\n    .link-bt:link,\\n    .link-bt:visited,\\n    .link-bt:hover,\\n    .link-bt:active {margin:5px 0 0; padding:2px 8px; background:#a8c598; color:#fff; -moz-border-radius: 3px; -webkit-border-radius: 3px; border-radius: 3px; display:inline-block;}\\n</style>\\n\\n\\n\\n    \\n\\n\\n\\n\\n\\n\\n\\n    \\n    <div class=\"tags\">\\n        \\n        \\n    <h2>\\n        <i class=\"\">豆瓣成员常用的标签</i>\\n              · · · · · ·\\n    </h2>\\n\\n        <div class=\"tags-body\">\\n                <a href=\"/tag/美国\" class=\"\">美国</a>\\n        </div>\\n    </div>\\n\\n\\n    <div id=\"dale_movie_subject_inner_middle\"></div>\\n    <div id=\"dale_movie_subject_download_middle\"></div>\\n        \\n\\n\\n\\n\\n\\n\\n\\n\\n<div id=\"subject-doulist\">\\n    \\n    \\n    <h2>\\n        <i class=\"\">以下豆列推荐</i>\\n              · · · · · ·\\n            <span class=\"pl\">\\n            (\\n                <a href=\"https://movie.douban.com/subject/30145516/doulists\">全部</a>\\n            )\\n            </span>\\n    </h2>\\n\\n\\n    \\n    <ul>\\n            <li>\\n                <a href=\"https://www.douban.com/doulist/45768093/\" target=\"_blank\">2018中国内地票房年度总排行</a>\\n                <span>(昨天的Jim)</span>\\n            </li>\\n            <li>\\n                <a href=\"https://www.douban.com/doulist/108879661/\" target=\"_blank\">众里等片千百度~~~2019</a>\\n                <span>(HarperYug)</span>\\n            </li>\\n            <li>\\n                <a href=\"https://www.douban.com/doulist/111329939/\" target=\"_blank\">2019年大陆院线电影</a>\\n                <span>(独孤行二)</span>\\n            </li>\\n            <li>\\n                <a href=\"https://www.douban.com/doulist/45967661/\" target=\"_blank\">2018年尚可一看的华语电影</a>\\n                <span>(Minimalismer)</span>\\n            </li>\\n            <li>\\n                <a href=\"https://www.douban.com/doulist/111384094/\" target=\"_blank\">❤找资源 =》【零零七影视】</a>\\n                <span>(名号很重要)</span>\\n            </li>\\n    </ul>\\n\\n</div>\\n\\n        \\n\\n\\n\\n\\n\\n\\n\\n\\n<div id=\"subject-others-interests\">\\n    \\n    \\n    <h2>\\n        <i class=\"\">谁在看这部电影</i>\\n              · · · · · ·\\n    </h2>\\n\\n    \\n    <ul class=\"\">\\n            \\n            <li class=\"\">\\n                <a href=\"https://www.douban.com/people/193453121/\" class=\"others-interest-avatar\">\\n                    <img src=\"https://img3.doubanio.com/icon/u193453121-3.jpg\" class=\"pil\" alt=\"推开世界的门\">\\n                </a>\\n                <div class=\"others-interest-info\">\\n                    <a href=\"https://www.douban.com/people/193453121/\" class=\"\">推开世界的门</a>\\n                    <div class=\"\">\\n                        昨天\\n                        想看\\n                        \\n                    </div>\\n                </div>\\n            </li>\\n            \\n            <li class=\"\">\\n                <a href=\"https://www.douban.com/people/kjhdgd/\" class=\"others-interest-avatar\">\\n                    <img src=\"https://img3.doubanio.com/icon/u85035425-4.jpg\" class=\"pil\" alt=\"禁欲系\">\\n                </a>\\n                <div class=\"others-interest-info\">\\n                    <a href=\"https://www.douban.com/people/kjhdgd/\" class=\"\">禁欲系</a>\\n                    <div class=\"\">\\n                        昨天\\n                        看过\\n                        <span class=\"allstar20\" title=\"较差\"></span>\\n                    </div>\\n                </div>\\n            </li>\\n            \\n            <li class=\"\">\\n                <a href=\"https://www.douban.com/people/57935172/\" class=\"others-interest-avatar\">\\n                    <img src=\"https://img3.doubanio.com/icon/u57935172-3.jpg\" class=\"pil\" alt=\"deande\">\\n                </a>\\n                <div class=\"others-interest-info\">\\n                    <a href=\"https://www.douban.com/people/57935172/\" class=\"\">deande</a>\\n                    <div class=\"\">\\n                        昨天\\n                        看过\\n                        <span class=\"allstar10\" title=\"很差\"></span>\\n                    </div>\\n                </div>\\n            </li>\\n    </ul>\\n\\n    \\n    <div class=\"subject-others-interests-ft\">\\n        \\n            <a href=\"https://movie.douban.com/subject/30145516/collections\">41人看过</a>\\n                &nbsp;/&nbsp;\\n            <a href=\"https://movie.douban.com/subject/30145516/wishes\">375人想看</a>\\n    </div>\\n\\n</div>\\n\\n\\n\\n    \\n    \\n\\n<!-- douban ad begin -->\\n<div id=\"dale_movie_subject_middle_right\"></div>\\n<script type=\"text/javascript\">\\n    (function (global) {\\n        if(!document.getElementsByClassName) {\\n            document.getElementsByClassName = function(className) {\\n                return this.querySelectorAll(\".\" + className);\\n            };\\n            Element.prototype.getElementsByClassName = document.getElementsByClassName;\\n\\n        }\\n        var articles = global.document.getElementsByClassName(\\'article\\'),\\n            asides = global.document.getElementsByClassName(\\'aside\\');\\n\\n        if (articles.length > 0 && asides.length > 0 && articles[0].offsetHeight >= asides[0].offsetHeight) {\\n            (global.DoubanAdSlots = global.DoubanAdSlots || []).push(\\'dale_movie_subject_middle_right\\');\\n        }\\n    })(this);\\n</script>\\n<!-- douban ad end -->\\n\\n\\n\\n    <br/>\\n\\n    \\n<p class=\"pl\">订阅功夫四侠：勇闯地宫的评论: <br/><span class=\"feed\">\\n    <a href=\"https://movie.douban.com/feed/subject/30145516/reviews\"> feed: rss 2.0</a></span></p>\\n\\n\\n            </div>\\n            <div class=\"extra\">\\n                \\n    \\n<!-- douban ad begin -->\\n<div id=\"dale_movie_subject_bottom_super_banner\"></div>\\n<script type=\"text/javascript\">\\n    (function (global) {\\n        var body = global.document.body,\\n            html = global.document.documentElement;\\n\\n        var height = Math.max(body.scrollHeight, body.offsetHeight, html.clientHeight, html.scrollHeight, html.offsetHeight);\\n        if (height >= 2000) {\\n            (global.DoubanAdSlots = global.DoubanAdSlots || []).push(\\'dale_movie_subject_bottom_super_banner\\');\\n        }\\n    })(this);\\n</script>\\n<!-- douban ad end -->\\n\\n\\n            </div>\\n        </div>\\n    </div>\\n\\n        \\n    <div id=\"footer\">\\n            <div class=\"footer-extra\"></div>\\n        \\n<span id=\"icp\" class=\"fleft gray-link\">\\n    &copy; 2005－2019 douban.com, all rights reserved 北京豆网科技有限公司\\n</span>\\n\\n<a href=\"https://www.douban.com/hnypt/variformcyst.py\" style=\"display: none;\"></a>\\n\\n<span class=\"fright\">\\n    <a href=\"https://www.douban.com/about\">关于豆瓣</a>\\n    · <a href=\"https://www.douban.com/jobs\">在豆瓣工作</a>\\n    · <a href=\"https://www.douban.com/about?topic=contactus\">联系我们</a>\\n    · <a href=\"https://www.douban.com/about?policy=disclaimer\">免责声明</a>\\n    \\n    · <a href=\"https://help.douban.com/?app=movie\" target=\"_blank\">帮助中心</a>\\n    · <a href=\"https://www.douban.com/doubanapp/\">移动应用</a>\\n    · <a href=\"https://www.douban.com/partner/\">豆瓣广告</a>\\n</span>\\n\\n    </div>\\n\\n    </div>\\n    <script type=\"text/javascript\" src=\"https://img3.doubanio.com/misc/mixed_static/5774b0e5d0f6a3aa.js\"></script>\\n        \\n        \\n    <link rel=\"stylesheet\" type=\"text/css\" href=\"https://img3.doubanio.com/f/shire/8377b9498330a2e6f056d863987cc7a37eb4d486/css/ui/dialog.css\" />\\n    <link rel=\"stylesheet\" type=\"text/css\" href=\"https://img3.doubanio.com/f/movie/4aca95d66d37ec0712b3d19973b5d8feb75f2f05/css/movie/mod/reg_login_pop.css\" />\\n    <script type=\"text/javascript\" src=\"https://img3.doubanio.com/f/shire/77323ae72a612bba8b65f845491513ff3329b1bb/js/do.js\" data-cfg-autoload=\"false\"></script>\\n    <script type=\"text/javascript\" src=\"https://img3.doubanio.com/f/shire/4ea3216519a6183c7bcd4f7d1a6d4fd57ce1a244/js/ui/dialog.js\"></script>\\n    <script type=\"text/javascript\">\\n        var HTTPS_DB=\\'https://www.douban.com\\';\\nvar account_pop={open:function(o,e){e?referrer=\"?referrer=\"+encodeURIComponent(e):referrer=\"?referrer=\"+window.location.href;var n=\"\",i=\"\",t=448;n=\"用户登录\",i=\"https://accounts.douban.com/passport/login_popup?source=movie\";var r=document.location.protocol+\"//\"+document.location.hostname,a=dui.Dialog({width:340,title:n,height:t,cls:\"account_pop\",isHideTitle:!0,modal:!0,content:\"<iframe scrolling=\\'no\\' frameborder=\\'0\\' width=\\'340\\' height=\\'\"+t+\"\\' src=\\'\"+i+\"\\' name=\\'\"+r+\"\\'></iframe>\"},!0),c=a.node;if(c.undelegate(),c.delegate(\".dui-dialog-close\",\"click\",function(){var o=$(\"body\");o.find(\"#login_msk\").hide(),o.find(\".account_pop\").remove()}),$(window).width()<478){var d=\"\";\"reg\"===o?d=HTTPS_DB+\"/accounts/register\"+referrer:\"login\"===o&&(d=HTTPS_DB+\"/accounts/login\"+referrer),window.location.href=d}else a.open();$(window).bind(\"message\",function(o){\"https://accounts.douban.com\"===o.originalEvent.origin&&(c.find(\"iframe\").css(\"height\",o.originalEvent.data),c.height(o.originalEvent.data),a.update())})}};Douban&&Douban.init_show_login&&(Douban.init_show_login=function(o){var e=$(o);e.click(function(){var o=e.data(\"ref\")||\"\";return account_pop.open(\"login\",o),!1})}),Do(function(){$(\"body\").delegate(\".pop_register\",\"click\",function(o){o.preventDefault();var e=$(this).data(\"ref\")||\"\";return account_pop.open(\"reg\",e),!1}),$(\"body\").delegate(\".pop_login\",\"click\",function(o){o.preventDefault();var e=$(this).data(\"ref\")||\"\";return account_pop.open(\"login\",e),!1})});\\n    </script>\\n\\n    \\n    \\n    \\n    \\n\\n\\n\\n\\n    \\n<script type=\"text/javascript\">\\n    (function (global) {\\n        var newNode = global.document.createElement(\\'script\\'),\\n            existingNode = global.document.getElementsByTagName(\\'script\\')[0],\\n            adSource = \\'//erebor.douban.com/\\',\\n            userId = \\'\\',\\n            browserId = \\'4pvx02UzAzE\\',\\n            criteria = \\'7:刘玉勤|7:李金保|7:唐泽宗|7:张艺文|7:冒险|7:王雪沁|7:王琪|7:周宗禹|7:吴凡|7:美国|7:儿童|7:动画|3:/subject/30145516/?from=showing\\',\\n            preview = \\'\\',\\n            debug = false,\\n            adSlots = [\\'dale_movie_subject_top_icon\\', \\'dale_movie_subject_top_right\\', \\'dale_movie_subject_top_middle\\', \\'dale_movie_subject_inner_middle\\', \\'dale_movie_subject_download_middle\\'];\\n\\n        global.DoubanAdRequest = {src: adSource, uid: userId, bid: browserId, crtr: criteria, prv: preview, debug: debug};\\n        global.DoubanAdSlots = (global.DoubanAdSlots || []).concat(adSlots);\\n\\n        newNode.setAttribute(\\'type\\', \\'text/javascript\\');\\n        newNode.setAttribute(\\'src\\', \\'https://img3.doubanio.com/f/adjs/f7fcb2dca1f33ff6108874c49190caff5f600e34/ad.release.js\\');\\n        newNode.setAttribute(\\'async\\', true);\\n        existingNode.parentNode.insertBefore(newNode, existingNode);\\n    })(this);\\n</script>\\n\\n\\n\\n\\n\\n\\n\\n\\n\\n\\n\\n    \\n  \\n\\n\\n\\n\\n\\n\\n\\n\\n\\n<script type=\"text/javascript\">\\nvar _paq = _paq || [];\\n_paq.push([\\'trackPageView\\']);\\n_paq.push([\\'enableLinkTracking\\']);\\n(function() {\\n    var p=((\\'https:\\' == document.location.protocol) ? \\'https\\' : \\'http\\'), u=p+\\'://fundin.douban.com/\\';\\n    _paq.push([\\'setTrackerUrl\\', u+\\'piwik\\']);\\n    _paq.push([\\'setSiteId\\', \\'100001\\']);\\n    var d=document, g=d.createElement(\\'script\\'), s=d.getElementsByTagName(\\'script\\')[0];\\n    g.type=\\'text/javascript\\';\\n    g.defer=true;\\n    g.async=true;\\n    g.src=p+\\'://img3.doubanio.com/dae/fundin/piwik.js\\';\\n    s.parentNode.insertBefore(g,s);\\n})();\\n</script>\\n\\n<script type=\"text/javascript\">\\nvar setMethodWithNs = function(namespace) {\\n  var ns = namespace ? namespace + \\'.\\' : \\'\\'\\n    , fn = function(string) {\\n        if(!ns) {return string}\\n        return ns + string\\n      }\\n  return fn\\n}\\n\\nvar gaWithNamespace = function(fn, namespace) {\\n  var method = setMethodWithNs(namespace)\\n  fn.call(this, method)\\n}\\n\\nvar _gaq = _gaq || []\\n  , accounts = [\\n      { id: \\'UA-7019765-1\\', namespace: \\'douban\\' }\\n    , { id: \\'UA-7019765-19\\', namespace: \\'\\' }\\n    ]\\n  , gaInit = function(account) {\\n      gaWithNamespace(function(method) {\\n        gaInitFn.call(this, method, account)\\n      }, account.namespace)\\n    }\\n  , gaInitFn = function(method, account) {\\n      _gaq.push([method(\\'_setAccount\\'), account.id]);\\n      _gaq.push([method(\\'_setSampleRate\\'), \\'5\\']);\\n\\n      \\n  _gaq.push([method(\\'_addOrganic\\'), \\'google\\', \\'q\\'])\\n  _gaq.push([method(\\'_addOrganic\\'), \\'baidu\\', \\'wd\\'])\\n  _gaq.push([method(\\'_addOrganic\\'), \\'soso\\', \\'w\\'])\\n  _gaq.push([method(\\'_addOrganic\\'), \\'youdao\\', \\'q\\'])\\n  _gaq.push([method(\\'_addOrganic\\'), \\'so.360.cn\\', \\'q\\'])\\n  _gaq.push([method(\\'_addOrganic\\'), \\'sogou\\', \\'query\\'])\\n  if (account.namespace) {\\n    _gaq.push([method(\\'_addIgnoredOrganic\\'), \\'豆瓣\\'])\\n    _gaq.push([method(\\'_addIgnoredOrganic\\'), \\'douban\\'])\\n    _gaq.push([method(\\'_addIgnoredOrganic\\'), \\'豆瓣网\\'])\\n    _gaq.push([method(\\'_addIgnoredOrganic\\'), \\'www.douban.com\\'])\\n  }\\n\\n      if (account.namespace === \\'douban\\') {\\n        _gaq.push([method(\\'_setDomainName\\'), \\'.douban.com\\'])\\n      }\\n\\n        _gaq.push([method(\\'_setCustomVar\\'), 1, \\'responsive_view_mode\\', \\'desktop\\', 3])\\n\\n        _gaq.push([method(\\'_setCustomVar\\'), 2, \\'login_status\\', \\'0\\', 2]);\\n\\n      _gaq.push([method(\\'_trackPageview\\')])\\n    }\\n\\nfor(var i = 0, l = accounts.length; i < l; i++) {\\n  var account = accounts[i]\\n  gaInit(account)\\n}\\n\\n\\n;(function() {\\n    var ga = document.createElement(\\'script\\');\\n    ga.src = (\\'https:\\' == document.location.protocol ? \\'https://ssl\\' : \\'http://www\\') + \\'.google-analytics.com/ga.js\\';\\n    ga.setAttribute(\\'async\\', \\'true\\');\\n    document.documentElement.firstChild.appendChild(ga);\\n})()\\n</script>\\n\\n\\n\\n\\n\\n\\n\\n\\n      \\n    \\n\\n    <!-- anson17-docker-->\\n\\n  <script>_SPLITTEST=\\'\\'</script>\\n</body>\\n\\n</html>\\n\\n\\n'"
      ]
     },
     "execution_count": 31,
     "metadata": {},
     "output_type": "execute_result"
    }
   ],
   "source": [
    "requests.get('https://movie.douban.com/subject/30145516/?from=showing').text"
   ]
  },
  {
   "cell_type": "markdown",
   "metadata": {},
   "source": [
    "![ ](https://img1.doubanio.com/view/photo/s_ratio_poster/public/p2551995207.webp)"
   ]
  },
  {
   "cell_type": "markdown",
   "metadata": {},
   "source": [
    "## 2. Review the main points of this lesson."
   ]
  },
  {
   "cell_type": "markdown",
   "metadata": {
    "collapsed": true
   },
   "source": [
    "1. How to Github and Why do we use Jupyter and Pycharm;\n",
    "Ans: {Put your answer here}\n",
    "1、初次使用时：git init\n",
    "2、git add -A（将所有文件都上传）\n",
    "3、git commit -m \"备注\"\n",
    "4、初次：git push -u origin master\n",
    "     之后：git push\n",
    "     \n",
    "Jupyter 比较轻量级，可以即时演示\n",
    "Pycharm 适合大型项目，当代码量多的时候好管理，好调试\n",
    "\n",
    "2. What's the Probability Model?\n",
    "Ans:概率模型：用来表示不同随机变量之间关系的数学模型\n",
    "\n",
    "3. Can you came up with some sceneraies at which we could use Probability Model?\n",
    "Ans: 1、预测某个病人的疾病，如他的父亲、爷爷患病的可能性，推测他患病的可能性；\n",
    "        2、可以预测第二天下雨的概率\n",
    "\n",
    "4. Why do we use probability and what's the difficult points for programming based on parsing and pattern match?\n",
    "Ans:我们不能将所有的情况都设置为pattern，情况很多的时候用probability可以根据概率预测未发生的事情\n",
    "\n",
    "5. What's the Language Model;\n",
    "Ans:判断一句话生成的概率\n",
    "\n",
    "6. Can you came up with some sceneraies at which we could use Language Model?\n",
    "Ans:问答机器人；语音识别；\n",
    "\n",
    "7. What's the 1-gram language model;\n",
    "Ans:在一句话中每个token之间都是独立的，他们不受前后词汇的影响\n",
    "\n",
    "8. What's the disadvantages and advantages of 1-gram language model;\n",
    "Ans:  缺点是：由于每个词是独立存在的，所以可能token与token之间并没有逻辑关系，会不符合实际场景；\n",
    "        优点是方便计算，计算量小\n",
    "\n",
    "9. What't the 2-gram models;\n",
    "Ans:在一句话中后面一个token的概率是在前一个token发生的情况下发生的概率。\n",
    "\n",
    "10. what's the web crawler, and can you implement a simple crawler?\n",
    "Ans:爬虫是将网页上的一些信息，根据某种规则，将一类信息（如图片、评论、网址链接）收集起来。\n",
    "       会一点点简单的，但是正则表达式还不太会用，还需熟悉\n",
    "\n",
    "11. There may be some issues to make our crwaler programming difficult, what are these, and how do we solve them?\n",
    "Ans: 1、有一些网站有反爬虫机制，我们可以python爬虫设置请求消息头(headers)\n",
    "        2、动态网站爬虫\n",
    "\n",
    "12. What't the Regular Expression and how to use?¶\n",
    "Ans:正则表达式可以用匹配字符串。\n",
    "      我们可以从一些复杂的信息中提取到一些对我们有用的信息"
   ]
  }
 ],
 "metadata": {
  "kernelspec": {
   "display_name": "Python 3",
   "language": "python",
   "name": "python3"
  },
  "language_info": {
   "codemirror_mode": {
    "name": "ipython",
    "version": 3
   },
   "file_extension": ".py",
   "mimetype": "text/x-python",
   "name": "python",
   "nbconvert_exporter": "python",
   "pygments_lexer": "ipython3",
   "version": "3.6.3"
  }
 },
 "nbformat": 4,
 "nbformat_minor": 2
}
