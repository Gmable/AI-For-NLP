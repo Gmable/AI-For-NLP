{
 "cells": [
  {
   "cell_type": "code",
   "execution_count": 19,
   "metadata": {
    "collapsed": true
   },
   "outputs": [],
   "source": [
    "import requests\n",
    "import re\n",
    "from bs4 import BeautifulSoup\n",
    "import collections"
   ]
  },
  {
   "cell_type": "code",
   "execution_count": 27,
   "metadata": {},
   "outputs": [],
   "source": [
    "headers = {\n",
    "    'User-Agent': 'Mozilla/5.0 (Windows NT 10.0; Win64; x64) AppleWebKit/537.36 (KHTML, like Gecko) Chrome/51.0.2704.84 Safari/537.36'\n",
    "}\n",
    "\n",
    "def craw(url):\n",
    "    response = requests.get(url,headers=headers)\n",
    "    soup = BeautifulSoup(response.content,'html.parser')\n",
    "    return soup"
   ]
  },
  {
   "cell_type": "code",
   "execution_count": 141,
   "metadata": {},
   "outputs": [],
   "source": [
    "soup = craw('https://baike.baidu.com/item/%E5%B9%BF%E5%B7%9E%E5%9C%B0%E9%93%81')"
   ]
  },
  {
   "cell_type": "code",
   "execution_count": 146,
   "metadata": {},
   "outputs": [],
   "source": [
    "lines = soup.find_all('table')[0].find_all('a')"
   ]
  },
  {
   "cell_type": "code",
   "execution_count": 147,
   "metadata": {
    "scrolled": true
   },
   "outputs": [
    {
     "data": {
      "text/plain": [
       "[<a data-lemmaid=\"5185293\" href=\"/item/%E5%B9%BF%E5%B7%9E%E5%9C%B0%E9%93%811%E5%8F%B7%E7%BA%BF/5185293\" target=\"_blank\">广州地铁1号线</a>,\n",
       " <a data-lemmaid=\"3122660\" href=\"/item/%E8%A5%BF%E5%A1%B1%E7%AB%99/3122660\" target=\"_blank\">西塱站</a>,\n",
       " <a data-lemmaid=\"17652205\" href=\"/item/%E5%B9%BF%E5%B7%9E%E4%B8%9C%E7%AB%99/17652205\" target=\"_blank\">广州东站</a>,\n",
       " <a data-lemmaid=\"6162023\" href=\"/item/%E5%B9%BF%E5%B7%9E%E5%9C%B0%E9%93%812%E5%8F%B7%E7%BA%BF/6162023\" target=\"_blank\">广州地铁2号线</a>,\n",
       " <a data-lemmaid=\"17649947\" href=\"/item/%E5%B9%BF%E5%B7%9E%E5%8D%97%E7%AB%99/17649947\" target=\"_blank\">广州南站</a>,\n",
       " <a data-lemmaid=\"4397448\" href=\"/item/%E5%98%89%E7%A6%BE%E6%9C%9B%E5%B2%97%E7%AB%99/4397448\" target=\"_blank\">嘉禾望岗站</a>,\n",
       " <a data-lemmaid=\"6162147\" href=\"/item/%E5%B9%BF%E5%B7%9E%E5%9C%B0%E9%93%813%E5%8F%B7%E7%BA%BF/6162147\" target=\"_blank\">广州地铁3号线</a>,\n",
       " <a data-lemmaid=\"5203373\" href=\"/item/%E5%A4%A9%E6%B2%B3%E5%AE%A2%E8%BF%90%E7%AB%99/5203373\" target=\"_blank\">天河客运站</a>,\n",
       " <a data-lemmaid=\"6781978\" href=\"/item/%E7%95%AA%E7%A6%BA%E5%B9%BF%E5%9C%BA%E7%AB%99/6781978\" target=\"_blank\">番禺广场站</a>,\n",
       " <a data-lemmaid=\"16245732\" href=\"/item/%E6%9C%BA%E5%9C%BA%E5%8C%97%E7%AB%99/16245732\" target=\"_blank\">机场北站</a>,\n",
       " <a data-lemmaid=\"6643366\" href=\"/item/%E4%BD%93%E8%82%B2%E8%A5%BF%E8%B7%AF%E7%AB%99/6643366\" target=\"_blank\">体育西路站</a>,\n",
       " <a data-lemmaid=\"6162210\" href=\"/item/%E5%B9%BF%E5%B7%9E%E5%9C%B0%E9%93%814%E5%8F%B7%E7%BA%BF/6162210\" target=\"_blank\">广州地铁4号线</a>,\n",
       " <a data-lemmaid=\"20453036\" href=\"/item/%E9%BB%84%E6%9D%91%E7%AB%99/20453036\" target=\"_blank\">黄村站</a>,\n",
       " <a data-lemmaid=\"20454696\" href=\"/item/%E5%8D%97%E6%B2%99%E5%AE%A2%E8%BF%90%E6%B8%AF%E7%AB%99/20454696\" target=\"_blank\">南沙客运港站</a>,\n",
       " <a data-lemmaid=\"6786593\" href=\"/item/%E5%B9%BF%E5%B7%9E%E5%9C%B0%E9%93%815%E5%8F%B7%E7%BA%BF/6786593\" target=\"_blank\">广州地铁5号线</a>,\n",
       " <a data-lemmaid=\"6244431\" href=\"/item/%E6%BB%98%E5%8F%A3%E7%AB%99/6244431\" target=\"_blank\">滘口站</a>,\n",
       " <a data-lemmaid=\"6605053\" href=\"/item/%E6%96%87%E5%86%B2%E7%AB%99/6605053\" target=\"_blank\">文冲站</a>,\n",
       " <a data-lemmaid=\"1674272\" href=\"/item/%E5%B9%BF%E5%B7%9E%E5%9C%B0%E9%93%816%E5%8F%B7%E7%BA%BF/1674272\" target=\"_blank\">广州地铁6号线</a>,\n",
       " <a data-lemmaid=\"6799645\" href=\"/item/%E6%B5%94%E5%B3%B0%E5%B2%97%E7%AB%99/6799645\" target=\"_blank\">浔峰岗站</a>,\n",
       " <a data-lemmaid=\"20352486\" href=\"/item/%E9%A6%99%E9%9B%AA%E7%AB%99/20352486\" target=\"_blank\">香雪站</a>,\n",
       " <a data-lemmaid=\"5892921\" href=\"/item/%E5%B9%BF%E5%B7%9E%E5%9C%B0%E9%93%817%E5%8F%B7%E7%BA%BF/5892921\" target=\"_blank\">广州地铁7号线</a>,\n",
       " <a data-lemmaid=\"17649947\" href=\"/item/%E5%B9%BF%E5%B7%9E%E5%8D%97%E7%AB%99/17649947\" target=\"_blank\">广州南站</a>,\n",
       " <a data-lemmaid=\"6438952\" href=\"/item/%E5%A4%A7%E5%AD%A6%E5%9F%8E%E5%8D%97%E7%AB%99/6438952\" target=\"_blank\">大学城南站</a>,\n",
       " <a data-lemmaid=\"3122926\" href=\"/item/%E5%B9%BF%E5%B7%9E%E5%9C%B0%E9%93%818%E5%8F%B7%E7%BA%BF/3122926\" target=\"_blank\">广州地铁8号线</a>,\n",
       " <a data-lemmaid=\"6605509\" href=\"/item/%E4%B8%87%E8%83%9C%E5%9B%B4%E7%AB%99/6605509\" target=\"_blank\">万胜围站</a>,\n",
       " <a data-lemmaid=\"5359273\" href=\"/item/%E5%87%A4%E5%87%B0%E6%96%B0%E6%9D%91%E7%AB%99/5359273\" target=\"_blank\">凤凰新村站</a>,\n",
       " <a data-lemmaid=\"6552289\" href=\"/item/%E5%B9%BF%E5%B7%9E%E5%9C%B0%E9%93%819%E5%8F%B7%E7%BA%BF/6552289\" target=\"_blank\">广州地铁9号线</a>,\n",
       " <a data-lemmaid=\"21501609\" href=\"/item/%E9%A3%9E%E9%B9%85%E5%B2%AD%E7%AB%99/21501609\" target=\"_blank\">飞鹅岭站</a>,\n",
       " <a data-lemmaid=\"19384080\" href=\"/item/%E9%AB%98%E5%A2%9E%E7%AB%99/19384080\" target=\"_blank\">高增站</a>,\n",
       " <a data-lemmaid=\"9335245\" href=\"/item/%E5%B9%BF%E5%B7%9E%E5%9C%B0%E9%93%8113%E5%8F%B7%E7%BA%BF/9335245\" target=\"_blank\">广州地铁13号线</a>,\n",
       " <a data-lemmaid=\"6603815\" href=\"/item/%E9%B1%BC%E7%8F%A0%E7%AB%99/6603815\" target=\"_blank\">鱼珠站</a>,\n",
       " <a data-lemmaid=\"22151722\" href=\"/item/%E6%96%B0%E6%B2%99%E7%AB%99/22151722\" target=\"_blank\">新沙站</a>,\n",
       " <a data-lemmaid=\"5041514\" href=\"/item/%E5%B9%BF%E5%B7%9E%E5%9C%B0%E9%93%8114%E5%8F%B7%E7%BA%BF/5041514\" target=\"_blank\">广州地铁14号线</a>,\n",
       " <a data-lemmaid=\"21422440\" href=\"/item/%E6%96%B0%E5%92%8C%E7%AB%99/21422440\" target=\"_blank\">新和站</a>,\n",
       " <a data-lemmaid=\"22042686\" href=\"/item/%E9%95%87%E9%BE%99%E7%AB%99/22042686\" target=\"_blank\">镇龙站</a>,\n",
       " <a data-lemmaid=\"4397448\" href=\"/item/%E5%98%89%E7%A6%BE%E6%9C%9B%E5%B2%97%E7%AB%99/4397448\" target=\"_blank\">嘉禾望岗站</a>,\n",
       " <a data-lemmaid=\"23261071\" href=\"/item/%E4%B8%9C%E9%A3%8E%E7%AB%99/23261071\" target=\"_blank\">东风站</a>,\n",
       " <a data-lemmaid=\"4854519\" href=\"/item/%E5%B9%BF%E5%B7%9E%E5%9C%B0%E9%93%8121%E5%8F%B7%E7%BA%BF/4854519\" target=\"_blank\">广州地铁21号线</a>,\n",
       " <a data-lemmaid=\"22923674\" href=\"/item/%E9%95%87%E9%BE%99%E8%A5%BF%E7%AB%99/22923674\" target=\"_blank\">镇龙西站</a>,\n",
       " <a data-lemmaid=\"17551766\" href=\"/item/%E5%A2%9E%E5%9F%8E%E5%B9%BF%E5%9C%BA%E7%AB%99/17551766\" target=\"_blank\">增城广场站</a>,\n",
       " <a data-lemmaid=\"16766910\" href=\"/item/%E5%B9%BF%E5%B7%9E%E5%9C%B0%E9%93%81APM%E7%BA%BF/16766910\" target=\"_blank\">广州地铁APM线</a>,\n",
       " <a data-lemmaid=\"12767973\" href=\"/item/%E5%B9%BF%E5%B7%9E%E5%A1%94%E7%AB%99/12767973\" target=\"_blank\">广州塔站</a>,\n",
       " <a data-lemmaid=\"6663064\" href=\"/item/%E6%9E%97%E5%92%8C%E8%A5%BF%E7%AB%99/6663064\" target=\"_blank\">林和西站</a>,\n",
       " <a data-lemmaid=\"5405592\" href=\"/item/%E5%B9%BF%E4%BD%9B%E5%9C%B0%E9%93%81/5405592\" target=\"_blank\">广佛地铁</a>,\n",
       " <a data-lemmaid=\"21511609\" href=\"/item/%E6%96%B0%E5%9F%8E%E4%B8%9C%E7%AB%99/21511609\" target=\"_blank\">新城东站</a>,\n",
       " <a data-lemmaid=\"2689430\" href=\"/item/%E6%B2%A5%E6%BB%98%E7%AB%99/2689430\" target=\"_blank\">沥滘站</a>,\n",
       " <a class=\"sup-anchor\" name=\"ref_[5]_87465\"> </a>,\n",
       " <a class=\"sup-anchor\" name=\"ref_[37]_87465\"> </a>]"
      ]
     },
     "execution_count": 147,
     "metadata": {},
     "output_type": "execute_result"
    }
   ],
   "source": [
    "lines"
   ]
  },
  {
   "cell_type": "code",
   "execution_count": null,
   "metadata": {
    "collapsed": true
   },
   "outputs": [],
   "source": []
  }
 ],
 "metadata": {
  "kernelspec": {
   "display_name": "Python 3",
   "language": "python",
   "name": "python3"
  },
  "language_info": {
   "codemirror_mode": {
    "name": "ipython",
    "version": 3
   },
   "file_extension": ".py",
   "mimetype": "text/x-python",
   "name": "python",
   "nbconvert_exporter": "python",
   "pygments_lexer": "ipython3",
   "version": "3.6.3"
  }
 },
 "nbformat": 4,
 "nbformat_minor": 2
}
