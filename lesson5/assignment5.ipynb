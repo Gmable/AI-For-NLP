{
 "cells": [
  {
   "cell_type": "markdown",
   "metadata": {},
   "source": [
    "# Lesson 5 笔记"
   ]
  },
  {
   "cell_type": "markdown",
   "metadata": {},
   "source": [
    "<p>-  <font color=red >编辑距离是什么？</font></p>\n",
    "<p>&nbsp;</p>\n",
    "答：计算两个字符串进行多少次操作转换才能变得相同\n",
    "\n",
    "<br>\n",
    "\n",
    "</br>\n",
    "<p>- <font color=red >编辑距离的优缺点？</font>\n",
    "<ul>缺点：\n",
    "<li>当句子很长的时候复杂度高\n",
    "<li>很多单词意思相近但是看起来完全不一样，如‘成都’==‘蓉城’，而有的词看起来相近，但意思不完全一样，如‘美丽’ VS ‘美好’\n",
    "</ul>\n",
    "<ul>优点：\n",
    "<li>可解释性强，比如在进行论文查重比较时，我们可以精确的定位到哪里有重复\n",
    "</ul>\n",
    "</p>\n",
    "<br>\n",
    "\n",
    "</br>\n",
    "\n",
    "\n"
   ]
  },
  {
   "cell_type": "markdown",
   "metadata": {},
   "source": [
    "-  <font color=red >为什么不能用数字表征单词？</font>\n",
    "    + 因为单词对应的数字是离散的\n",
    "<br>\n",
    "\n",
    "</br>\n",
    "- <font color=red >PCA（主成分分析）降维方法：</font>\n",
    "    + 每个单词考虑周围几个词出现的频率，建立一张表格，但这样仍然计算量很大，假如有10K个单词，则需要建立一张10K*10K 的表格；另外假如出现了新的单词，则需要重新建表"
   ]
  },
  {
   "cell_type": "markdown",
   "metadata": {},
   "source": [
    "-  <font color=red >我们需要什么样的vector来表征单词？</font>\n",
    "    + 能够节省空间（one-hot 这种就很浪费）\n",
    "    + 当一个新的单词出现时我们可以很方便地调整/更新\n",
    "    + 可以实现语义相似性，两个词意思相近时，向量也相近\n",
    "<br>\n",
    "\n",
    "</br>\n",
    "-  <font color=red >什么是Embedding？</font>\n",
    "    + 类似于“同构”的方法，在某一个空间时，存在某种关系，映射到另一个空间时，这样的关系仍然保持不变（Word embedding/Graph embedding）"
   ]
  },
  {
   "cell_type": "markdown",
   "metadata": {},
   "source": [
    "-  <font color=red >Word2Vec是什么？</font>\n",
    "    + 我们有一些文本（如维基语料库）\n",
    "    + 我们期望每个单词用向量表征出来，当单词意思相近的时候，向量距离也相近\n",
    "- Input:\n",
    "    + 所有单词的one-hot编码\n",
    "    + 文本\n",
    "- Output:\n",
    "    + V(w<sub>1</sub>), V(w<sub>2</sub>)....v(w<sub>n</sub>)\n",
    "<br>\n",
    "</br>"
   ]
  },
  {
   "cell_type": "markdown",
   "metadata": {},
   "source": [
    "-  <font color=red >Word2Vec实现步骤</font>\n",
    "   1. one-hot编码=====>x<sub>1</sub>,x<sub>2</sub> ...x<sub>10000</sub>\n",
    "   + W<sub>1</sub> * x<sub>i</sub> + b<sub>1</sub>====>V(w<sub>1</sub>), V(w<sub>2</sub>)....v(w<sub>100</sub>)\n",
    "   + W<sub>2</sub> * V(w<sub>i</sub>) + b<sub>2</sub>====>w<sub>1</sub>,w<sub>2</sub>...w<sub>10000</sub>\n",
    "   + Softmax\n",
    "   + Cross entropy\n",
    "   "
   ]
  },
  {
   "cell_type": "code",
   "execution_count": null,
   "metadata": {
    "collapsed": true
   },
   "outputs": [],
   "source": []
  },
  {
   "cell_type": "code",
   "execution_count": 39,
   "metadata": {},
   "outputs": [],
   "source": [
    "from gensim.models.word2vec import LineSentence"
   ]
  },
  {
   "cell_type": "code",
   "execution_count": 40,
   "metadata": {
    "collapsed": true
   },
   "outputs": [],
   "source": [
    "from gensim.models import Word2Vec"
   ]
  },
  {
   "cell_type": "code",
   "execution_count": 29,
   "metadata": {
    "collapsed": true
   },
   "outputs": [],
   "source": [
    "database = 'D:/Cryptography/Deeplearning/NLP/lesson2/export_sql_1558435/sqlResult_1558435.csv'"
   ]
  },
  {
   "cell_type": "code",
   "execution_count": 30,
   "metadata": {
    "collapsed": true
   },
   "outputs": [],
   "source": [
    "import pandas as pd"
   ]
  },
  {
   "cell_type": "code",
   "execution_count": 31,
   "metadata": {},
   "outputs": [],
   "source": [
    "content = pd.read_csv(database,encoding='gb18030')"
   ]
  },
  {
   "cell_type": "code",
   "execution_count": 32,
   "metadata": {},
   "outputs": [],
   "source": [
    "samples = content['content'][:100].tolist()"
   ]
  },
  {
   "cell_type": "code",
   "execution_count": 33,
   "metadata": {
    "collapsed": true
   },
   "outputs": [],
   "source": [
    "import jieba"
   ]
  },
  {
   "cell_type": "code",
   "execution_count": 46,
   "metadata": {
    "collapsed": true
   },
   "outputs": [],
   "source": [
    "def cut(string): return ' '.join(jieba.cut(string))"
   ]
  },
  {
   "cell_type": "code",
   "execution_count": 47,
   "metadata": {},
   "outputs": [
    {
     "data": {
      "text/plain": [
       "'这是 一个 测试'"
      ]
     },
     "execution_count": 47,
     "metadata": {},
     "output_type": "execute_result"
    }
   ],
   "source": [
    "cut('这是一个测试')"
   ]
  },
  {
   "cell_type": "code",
   "execution_count": 48,
   "metadata": {
    "collapsed": true
   },
   "outputs": [],
   "source": [
    "with open('mini_samples.txt','w') as f:\n",
    "    for s in samples:\n",
    "        f.write(cut(s)+'\\n')"
   ]
  },
  {
   "cell_type": "code",
   "execution_count": 55,
   "metadata": {},
   "outputs": [],
   "source": [
    "sentences = LineSentence(open('mini_samples.txt',encoding='gb18030'))"
   ]
  },
  {
   "cell_type": "code",
   "execution_count": 56,
   "metadata": {},
   "outputs": [
    {
     "name": "stderr",
     "output_type": "stream",
     "text": [
      "c:\\Users\\Anaconda3\\lib\\site-packages\\gensim\\models\\base_any2vec.py:743: UserWarning: C extension not loaded, training will be slow. Install a C compiler and reinstall gensim for fast training.\n",
      "  \"C extension not loaded, training will be slow. \"\n"
     ]
    }
   ],
   "source": [
    "model = Word2Vec(sentences, min_count=1)"
   ]
  },
  {
   "cell_type": "code",
   "execution_count": 59,
   "metadata": {},
   "outputs": [
    {
     "data": {
      "text/plain": [
       "array([-0.00205208, -0.02463924,  0.02490428,  0.00011782,  0.01588118,\n",
       "       -0.03591403,  0.02650549,  0.01741366,  0.02590024,  0.05321214,\n",
       "       -0.04697795,  0.0289108 ,  0.01201548,  0.00611756, -0.011562  ,\n",
       "       -0.00218364,  0.01177043,  0.03161671, -0.0358056 ,  0.02913793,\n",
       "       -0.05265006, -0.00307241, -0.00222798, -0.04480379, -0.01251396,\n",
       "       -0.00624405, -0.03368431, -0.00720871,  0.03897785, -0.02094013,\n",
       "        0.00877771,  0.00921681, -0.00976341,  0.01215035, -0.02644257,\n",
       "       -0.02452969, -0.00050321, -0.02776599, -0.0092614 , -0.01507303,\n",
       "       -0.02892037, -0.01813233,  0.00396672, -0.05330179, -0.01800859,\n",
       "       -0.04880437, -0.00812495, -0.00194303, -0.0223586 ,  0.01253141,\n",
       "       -0.02286675,  0.03144907, -0.00799519,  0.01287543, -0.06062387,\n",
       "        0.01470892, -0.02229811, -0.00506477, -0.00065952,  0.00679572,\n",
       "       -0.02433394,  0.03091996,  0.03376614, -0.01197768,  0.02276899,\n",
       "       -0.03872596, -0.05419075, -0.02968289,  0.00367243, -0.02531136,\n",
       "        0.04835084,  0.00728012,  0.0103773 , -0.02067114, -0.01875787,\n",
       "       -0.02617991,  0.00133574,  0.00983685,  0.04935928,  0.01291887,\n",
       "       -0.02243115,  0.06859583, -0.01842679, -0.05213306, -0.00051805,\n",
       "        0.00138841, -0.027811  ,  0.0090745 ,  0.0037548 ,  0.02893843,\n",
       "        0.00490594,  0.01069849, -0.00811086, -0.01462806, -0.00707415,\n",
       "       -0.00576959, -0.00367012, -0.00965532, -0.0087688 , -0.0131888 ], dtype=float32)"
      ]
     },
     "execution_count": 59,
     "metadata": {},
     "output_type": "execute_result"
    }
   ],
   "source": [
    "model.wv['小米']"
   ]
  },
  {
   "cell_type": "code",
   "execution_count": 62,
   "metadata": {},
   "outputs": [
    {
     "name": "stderr",
     "output_type": "stream",
     "text": [
      "c:\\Users\\Anaconda3\\lib\\site-packages\\ipykernel_launcher.py:1: DeprecationWarning: Call to deprecated `most_similar` (Method will be removed in 4.0.0, use self.wv.most_similar() instead).\n",
      "  \"\"\"Entry point for launching an IPython kernel.\n"
     ]
    },
    {
     "data": {
      "text/plain": [
       "[('占', 0.9943678379058838),\n",
       " ('升级', 0.9943311810493469),\n",
       " ('原因', 0.994277834892273),\n",
       " ('2', 0.994252622127533),\n",
       " ('赛季', 0.9942391514778137),\n",
       " ('纳入', 0.9942331314086914),\n",
       " ('持续', 0.994199275970459),\n",
       " ('.', 0.9941967725753784),\n",
       " ('超过', 0.9941942691802979),\n",
       " ('能够', 0.9941837787628174)]"
      ]
     },
     "execution_count": 62,
     "metadata": {},
     "output_type": "execute_result"
    }
   ],
   "source": [
    "model.most_similar('小米')"
   ]
  },
  {
   "cell_type": "code",
   "execution_count": null,
   "metadata": {
    "collapsed": true
   },
   "outputs": [],
   "source": []
  }
 ],
 "metadata": {
  "kernelspec": {
   "display_name": "Python 3",
   "language": "python",
   "name": "python3"
  },
  "language_info": {
   "codemirror_mode": {
    "name": "ipython",
    "version": 3
   },
   "file_extension": ".py",
   "mimetype": "text/x-python",
   "name": "python",
   "nbconvert_exporter": "python",
   "pygments_lexer": "ipython3",
   "version": "3.6.3"
  }
 },
 "nbformat": 4,
 "nbformat_minor": 2
}
