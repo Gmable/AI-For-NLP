{
 "cells": [
  {
   "cell_type": "code",
   "execution_count": 31,
   "metadata": {
    "collapsed": true
   },
   "outputs": [],
   "source": [
    "import re\n",
    "import urllib.request\n",
    "import urllib"
   ]
  },
  {
   "cell_type": "code",
   "execution_count": 32,
   "metadata": {
    "collapsed": true
   },
   "outputs": [],
   "source": [
    "from collections import deque"
   ]
  },
  {
   "cell_type": "code",
   "execution_count": 33,
   "metadata": {
    "collapsed": true
   },
   "outputs": [],
   "source": [
    "queue = deque()\n",
    "visited = set()"
   ]
  },
  {
   "cell_type": "code",
   "execution_count": 34,
   "metadata": {
    "collapsed": true
   },
   "outputs": [],
   "source": [
    "url = 'https://baike.baidu.com/item/%E5%8C%97%E4%BA%AC%E5%9C%B0%E9%93%81/408485'"
   ]
  },
  {
   "cell_type": "code",
   "execution_count": 35,
   "metadata": {
    "collapsed": true
   },
   "outputs": [],
   "source": [
    "queue.append(url)\n",
    "cnt = 0"
   ]
  },
  {
   "cell_type": "code",
   "execution_count": 37,
   "metadata": {},
   "outputs": [],
   "source": [
    "while queue:\n",
    "    url = queue.pop(0)  # 队首元素出队\n",
    "    visited |= {url}  \n",
    "    print('已经抓取: ' + str(cnt) + '   正在抓取 <---  ' + url)\n",
    "    cnt += 1\n",
    "    urlop = urllib.request.urlopen(url)\n",
    "    if 'html' not in urlop.getheader('Content-Type'):\n",
    "        continue \n",
    "    try:\n",
    "        data = urlop.read().decode('utf-8')\n",
    "    except:\n",
    "        continue\n",
    "    linkre = re.compile(r'href=\"/item/%E5%8C%97%E4%BA%AC%E5%9C%B0%E9%93%81\\d+%E5%8F%B7%E7%BA%BF\"')\n",
    "    for x in linkre.findall(data):\n",
    "        if 'http' in x and x not in visited:\n",
    "            queue.append(x)\n",
    "            print('加入队列 --->  ' + x).encode(\"gb2312\")"
   ]
  },
  {
   "cell_type": "code",
   "execution_count": null,
   "metadata": {
    "collapsed": true
   },
   "outputs": [],
   "source": []
  },
  {
   "cell_type": "code",
   "execution_count": null,
   "metadata": {
    "collapsed": true
   },
   "outputs": [],
   "source": []
  }
 ],
 "metadata": {
  "kernelspec": {
   "display_name": "Python 3",
   "language": "python",
   "name": "python3"
  },
  "language_info": {
   "codemirror_mode": {
    "name": "ipython",
    "version": 3
   },
   "file_extension": ".py",
   "mimetype": "text/x-python",
   "name": "python",
   "nbconvert_exporter": "python",
   "pygments_lexer": "ipython3",
   "version": "3.6.3"
  }
 },
 "nbformat": 4,
 "nbformat_minor": 2
}
