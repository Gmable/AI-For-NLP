{
 "cells": [
  {
   "cell_type": "markdown",
   "metadata": {},
   "source": [
    "## 2. Answer following questions:"
   ]
  },
  {
   "cell_type": "markdown",
   "metadata": {},
   "source": [
    "1. Why we need machine learning methods instead of creating a complicated formula?\n",
    "Ans: complicated formula 不能应对所有的情况，当有些没有出现的过的情况时，需要不断的增加代码来弥补，这样不好维护，也不能考虑到所有的可能性。\n",
    "\n",
    "2. Wha't's the disadvantages of the 1st Random Choosen methods in our course?\n",
    "Ans:由于是随机选择的参数，需要查找很多次可能才会得到一个较为理想的结果。这样的效率很低\n",
    "\n",
    "3. Is the 2nd method supervised direction better than 1st one? What's the disadvantages of the 2nd supversied directin method?\n",
    "Ans:第二个比第一个要好。但仍需要搜索\n",
    "\n",
    "4. Why do we use Derivative / Gredient to fit a target function?\n",
    "Ans:导函数是某点的变化率，我们可以根据导函数确定我们修正的方向\n",
    "\n",
    "5. In the words 'Gredient Descent', what's the Gredient and what's the Descent?\n",
    "Ans:梯度是与我们取得最大方向导数的方向一致，函数沿梯度方向具有最大的变化率。Descent是使得loss function最小\n",
    "\n",
    "6. What's the advantages of the 3rd gradient descent method compared to the previous methods?\n",
    "Ans:每一次的优化方向是确定的，收敛速度更快。\n",
    "\n",
    "7. Using the simple words to describe: What's the machine leanring.¶\n",
    "Ans:机器学习是利用以往的数据，在训练过程中不断调整模型以符合真实情况的过程"
   ]
  }
 ],
 "metadata": {
  "kernelspec": {
   "display_name": "Python 3",
   "language": "python",
   "name": "python3"
  },
  "language_info": {
   "codemirror_mode": {
    "name": "ipython",
    "version": 3
   },
   "file_extension": ".py",
   "mimetype": "text/x-python",
   "name": "python",
   "nbconvert_exporter": "python",
   "pygments_lexer": "ipython3",
   "version": "3.6.3"
  }
 },
 "nbformat": 4,
 "nbformat_minor": 2
}
