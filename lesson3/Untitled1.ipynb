{
 "cells": [
  {
   "cell_type": "code",
   "execution_count": 1,
   "metadata": {
    "collapsed": true
   },
   "outputs": [],
   "source": [
    "def getHTMLText(url,headers):\n",
    "    try:\n",
    "        r=requests.get(url,headers=headers,timeout=30)\n",
    "        r.raise_for_status()\n",
    "        r.encoding=r.apparent_encoding\n",
    "        #print(r.text)\n",
    "        return r.text\n",
    "       \n",
    "    except:\n",
    "        return \"爬取失败\""
   ]
  },
  {
   "cell_type": "code",
   "execution_count": 2,
   "metadata": {
    "collapsed": true
   },
   "outputs": [],
   "source": [
    "def parsehtml(namelist,urllist,html):\n",
    "    url='http://www.tom61.com/'\n",
    "    soup=BeautifulSoup(html,'html.parser')\n",
    "    t=soup.find('dl',attrs={'class':'txt_box'})\n",
    "    #print(t)\n",
    "    i=t.find_all('a')\n",
    "    #print(i)\n",
    "    for link in i:\n",
    "        urllist.append(url+link.get('href'))\n",
    "        namelist.append(link.get('title'))"
   ]
  },
  {
   "cell_type": "code",
   "execution_count": 3,
   "metadata": {
    "collapsed": true
   },
   "outputs": [],
   "source": [
    "def parsehtml2(html):\n",
    "    text=[]\n",
    "    soup=BeautifulSoup(html,'html.parser')\n",
    "    t=soup.find('div',class_='t_news_txt')\n",
    "    for i in t.findAll('p'):\n",
    "        text.append(i.text)\n",
    "    #print(text)\n",
    "    return \"\\n\".join(text)\n"
   ]
  },
  {
   "cell_type": "code",
   "execution_count": 4,
   "metadata": {
    "collapsed": true
   },
   "outputs": [],
   "source": [
    "def sendemail(url,headers):\n",
    " \n",
    "    msg_from='949795493@qq.com'                                 #发送方邮箱\n",
    "    passwd='xhcadhc1995'                                                   #填入发送方邮箱的授权码\n",
    "    receivers=['949795493@qq.com']             #收件人邮箱\n",
    "                            \n",
    "    subject='今日份的睡前小故事'                                     #主题     \n",
    "    html=getHTMLText(url,headers)\n",
    "    content=parsehtml2(html)                                        #正文\n",
    "    msg = MIMEText(content)\n",
    "    msg['Subject'] = subject\n",
    "    msg['From'] = msg_from\n",
    "    msg['To'] = ','.join(receivers)\n",
    "    try:\n",
    "        s=smtplib.SMTP_SSL(\"smtp.qq.com\",465)                   #邮件服务器及端口号\n",
    "        s.login(msg_from, passwd)\n",
    "        s.sendmail(msg_from, msg['To'].split(','), msg.as_string())\n",
    "        print(\"发送成功\")\n",
    "    except:\n",
    "        print(\"发送失败\")\n",
    "    finally:\n",
    "        s.quit()"
   ]
  },
  {
   "cell_type": "code",
   "execution_count": null,
   "metadata": {
    "collapsed": true
   },
   "outputs": [],
   "source": []
  }
 ],
 "metadata": {
  "kernelspec": {
   "display_name": "Python 3",
   "language": "python",
   "name": "python3"
  },
  "language_info": {
   "codemirror_mode": {
    "name": "ipython",
    "version": 3
   },
   "file_extension": ".py",
   "mimetype": "text/x-python",
   "name": "python",
   "nbconvert_exporter": "python",
   "pygments_lexer": "ipython3",
   "version": "3.6.3"
  }
 },
 "nbformat": 4,
 "nbformat_minor": 2
}
