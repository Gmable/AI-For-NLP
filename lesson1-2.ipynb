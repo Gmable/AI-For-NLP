{
 "cells": [
  {
   "cell_type": "code",
   "execution_count": 3,
   "metadata": {
    "collapsed": true
   },
   "outputs": [],
   "source": [
    "BEIJING, CHANGCHUN, MULUMUQI, WUHAN, GUANGZHOU, SHENZHEN, BANGKOK, SHANGHAI, NEWYORK ,CHENGDU, CHONGQING= \"\"\"\n",
    "BEIJING CHANGCHUN MULUMUQI WUHAN GUANGZHOU SHENZHEN BANGKOK SHANHAI NEWYORK CHENGDU CHONGQING\n",
    "\"\"\".split()"
   ]
  },
  {
   "cell_type": "code",
   "execution_count": 4,
   "metadata": {
    "collapsed": true
   },
   "outputs": [],
   "source": [
    "dictionary = {}"
   ]
  },
  {
   "cell_type": "code",
   "execution_count": 5,
   "metadata": {
    "collapsed": true
   },
   "outputs": [],
   "source": [
    "dictionary[BEIJING] = 0     #防止出错"
   ]
  },
  {
   "cell_type": "code",
   "execution_count": 6,
   "metadata": {
    "collapsed": true
   },
   "outputs": [],
   "source": [
    "connection = {\n",
    "            CHANGCHUN : [CHENGDU,SHANGHAI,CHONGQING,BEIJING,GUANGZHOU],\n",
    "            MULUMUQI : [CHONGQING, BEIJING,SHANGHAI], \n",
    "            BEIJING: [ CHANGCHUN, WUHAN, SHENZHEN, NEWYORK,MULUMUQI],\n",
    "            NEWYORK: [ SHANGHAI,BEIJING],\n",
    "            SHANGHAI: [NEWYORK, WUHAN],\n",
    "            WUHAN:[SHANGHAI, BEIJING, GUANGZHOU],\n",
    "            GUANGZHOU:[WUHAN, BANGKOK],\n",
    "            SHENZHEN: [WUHAN, BANGKOK],\n",
    "            BANGKOK: [SHENZHEN,GUANGZHOU],\n",
    "            CHENGDU:[GUANGZHOU,MULUMUQI,CHANGCHUN],\n",
    "            CHONGQING:[WUHAN, GUANGZHOU,BEIJING,]\n",
    "            \n",
    "}"
   ]
  },
  {
   "cell_type": "code",
   "execution_count": 7,
   "metadata": {
    "collapsed": true
   },
   "outputs": [],
   "source": [
    "import networkx as nx #NetworkX是一款Python的软件包，用于创造、操作复杂网络，以及学习复杂网络的结构、动力学及其功能"
   ]
  },
  {
   "cell_type": "code",
   "execution_count": 8,
   "metadata": {
    "collapsed": true
   },
   "outputs": [],
   "source": [
    "%matplotlib inline"
   ]
  },
  {
   "cell_type": "markdown",
   "metadata": {},
   "source": [
    "内嵌绘图"
   ]
  },
  {
   "cell_type": "code",
   "execution_count": 9,
   "metadata": {
    "collapsed": true
   },
   "outputs": [],
   "source": [
    "graph = connection"
   ]
  },
  {
   "cell_type": "code",
   "execution_count": 10,
   "metadata": {
    "collapsed": true
   },
   "outputs": [],
   "source": [
    "g = nx.Graph(graph)"
   ]
  },
  {
   "cell_type": "code",
   "execution_count": 11,
   "metadata": {},
   "outputs": [
    {
     "data": {
      "image/png": "[encoded data removed]",
      "text/plain": [
       "<matplotlib.figure.Figure at 0x1fb26ecc390>"
      ]
     },
     "metadata": {},
     "output_type": "display_data"
    }
   ],
   "source": [
    "nx.draw(g)"
   ]
  },
  {
   "cell_type": "code",
   "execution_count": 39,
   "metadata": {},
   "outputs": [],
   "source": [
    "def nagivator(start, destination, connection_graph):\n",
    "    pathes = [[start] ]\n",
    "    seen = set() # seen 是集合\n",
    "    \n",
    "    while pathes:\n",
    "        path = pathes.pop(0)\n",
    "        froniter = path[-1] #why\n",
    "        print('path is ',path)\n",
    "        print('froniter is ',froniter)\n",
    "        \n",
    "        if  froniter in seen: continue\n",
    "            \n",
    "        successors = connection_graph[froniter]\n",
    "        print('successors is ',successors)\n",
    "        \n",
    "        for s in successors:\n",
    "            if s == destination:\n",
    "                path.append(s)\n",
    "                return path\n",
    "            else:\n",
    "                pathes.append(path+[s]) #只加最短的\n",
    "                print('pathes1 is ',pathes)\n",
    "        \n",
    "        pathes = sorted(pathes, key=len)\n",
    "        print('pathes2 is ',pathes)\n",
    "    \n",
    "        seen.add(froniter)\n",
    "        print('seen is ',seen)\n",
    "        print('============== ')"
   ]
  },
  {
   "cell_type": "code",
   "execution_count": 40,
   "metadata": {},
   "outputs": [
    {
     "name": "stdout",
     "output_type": "stream",
     "text": [
      "path is  ['NEWYORK']\n",
      "froniter is  NEWYORK\n",
      "successors is  ['SHANHAI', 'BEIJING']\n",
      "pathes1 is  [['NEWYORK', 'SHANHAI']]\n",
      "pathes1 is  [['NEWYORK', 'SHANHAI'], ['NEWYORK', 'BEIJING']]\n",
      "pathes2 is  [['NEWYORK', 'SHANHAI'], ['NEWYORK', 'BEIJING']]\n",
      "seen is  {'NEWYORK'}\n",
      "============== \n",
      "path is  ['NEWYORK', 'SHANHAI']\n",
      "froniter is  SHANHAI\n",
      "successors is  ['NEWYORK', 'WUHAN']\n",
      "pathes1 is  [['NEWYORK', 'BEIJING'], ['NEWYORK', 'SHANHAI', 'NEWYORK']]\n",
      "pathes1 is  [['NEWYORK', 'BEIJING'], ['NEWYORK', 'SHANHAI', 'NEWYORK'], ['NEWYORK', 'SHANHAI', 'WUHAN']]\n",
      "pathes2 is  [['NEWYORK', 'BEIJING'], ['NEWYORK', 'SHANHAI', 'NEWYORK'], ['NEWYORK', 'SHANHAI', 'WUHAN']]\n",
      "seen is  {'SHANHAI', 'NEWYORK'}\n",
      "============== \n",
      "path is  ['NEWYORK', 'BEIJING']\n",
      "froniter is  BEIJING\n",
      "successors is  ['CHANGCHUN', 'WUHAN', 'SHENZHEN', 'NEWYORK', 'MULUMUQI']\n",
      "pathes1 is  [['NEWYORK', 'SHANHAI', 'NEWYORK'], ['NEWYORK', 'SHANHAI', 'WUHAN'], ['NEWYORK', 'BEIJING', 'CHANGCHUN']]\n",
      "pathes1 is  [['NEWYORK', 'SHANHAI', 'NEWYORK'], ['NEWYORK', 'SHANHAI', 'WUHAN'], ['NEWYORK', 'BEIJING', 'CHANGCHUN'], ['NEWYORK', 'BEIJING', 'WUHAN']]\n",
      "pathes1 is  [['NEWYORK', 'SHANHAI', 'NEWYORK'], ['NEWYORK', 'SHANHAI', 'WUHAN'], ['NEWYORK', 'BEIJING', 'CHANGCHUN'], ['NEWYORK', 'BEIJING', 'WUHAN'], ['NEWYORK', 'BEIJING', 'SHENZHEN']]\n",
      "pathes1 is  [['NEWYORK', 'SHANHAI', 'NEWYORK'], ['NEWYORK', 'SHANHAI', 'WUHAN'], ['NEWYORK', 'BEIJING', 'CHANGCHUN'], ['NEWYORK', 'BEIJING', 'WUHAN'], ['NEWYORK', 'BEIJING', 'SHENZHEN'], ['NEWYORK', 'BEIJING', 'NEWYORK']]\n",
      "pathes1 is  [['NEWYORK', 'SHANHAI', 'NEWYORK'], ['NEWYORK', 'SHANHAI', 'WUHAN'], ['NEWYORK', 'BEIJING', 'CHANGCHUN'], ['NEWYORK', 'BEIJING', 'WUHAN'], ['NEWYORK', 'BEIJING', 'SHENZHEN'], ['NEWYORK', 'BEIJING', 'NEWYORK'], ['NEWYORK', 'BEIJING', 'MULUMUQI']]\n",
      "pathes2 is  [['NEWYORK', 'SHANHAI', 'NEWYORK'], ['NEWYORK', 'SHANHAI', 'WUHAN'], ['NEWYORK', 'BEIJING', 'CHANGCHUN'], ['NEWYORK', 'BEIJING', 'WUHAN'], ['NEWYORK', 'BEIJING', 'SHENZHEN'], ['NEWYORK', 'BEIJING', 'NEWYORK'], ['NEWYORK', 'BEIJING', 'MULUMUQI']]\n",
      "seen is  {'BEIJING', 'SHANHAI', 'NEWYORK'}\n",
      "============== \n",
      "path is  ['NEWYORK', 'SHANHAI', 'NEWYORK']\n",
      "froniter is  NEWYORK\n",
      "path is  ['NEWYORK', 'SHANHAI', 'WUHAN']\n",
      "froniter is  WUHAN\n",
      "successors is  ['SHANHAI', 'BEIJING', 'GUANGZHOU']\n",
      "pathes1 is  [['NEWYORK', 'BEIJING', 'CHANGCHUN'], ['NEWYORK', 'BEIJING', 'WUHAN'], ['NEWYORK', 'BEIJING', 'SHENZHEN'], ['NEWYORK', 'BEIJING', 'NEWYORK'], ['NEWYORK', 'BEIJING', 'MULUMUQI'], ['NEWYORK', 'SHANHAI', 'WUHAN', 'SHANHAI']]\n",
      "pathes1 is  [['NEWYORK', 'BEIJING', 'CHANGCHUN'], ['NEWYORK', 'BEIJING', 'WUHAN'], ['NEWYORK', 'BEIJING', 'SHENZHEN'], ['NEWYORK', 'BEIJING', 'NEWYORK'], ['NEWYORK', 'BEIJING', 'MULUMUQI'], ['NEWYORK', 'SHANHAI', 'WUHAN', 'SHANHAI'], ['NEWYORK', 'SHANHAI', 'WUHAN', 'BEIJING']]\n"
     ]
    },
    {
     "data": {
      "text/plain": [
       "['NEWYORK', 'SHANHAI', 'WUHAN', 'GUANGZHOU']"
      ]
     },
     "execution_count": 40,
     "metadata": {},
     "output_type": "execute_result"
    }
   ],
   "source": [
    "nagivator(NEWYORK, GUANGZHOU, connection)"
   ]
  },
  {
   "cell_type": "code",
   "execution_count": 12,
   "metadata": {
    "collapsed": true
   },
   "outputs": [],
   "source": [
    "def nagivator(start, destination, connection_graph):\n",
    "    pathes = [[start] ]\n",
    "    seen = set()\n",
    "    \n",
    "    while pathes:\n",
    "        path = pathes.pop(0)\n",
    "        froniter = path[-1] #why\n",
    "         \n",
    "        if  froniter in seen: continue\n",
    "            \n",
    "        successors = connection_graph[froniter]\n",
    "    \n",
    "        for s in successors:\n",
    "            if s == destination:\n",
    "                path.append(s)\n",
    "                return path\n",
    "            else:\n",
    "                pathes.append(path+[s]) #只加最短的\n",
    "        \n",
    "        pathes = sorted(pathes, key=len)\n",
    "    \n",
    "        seen.add(froniter)"
   ]
  },
  {
   "cell_type": "code",
   "execution_count": 13,
   "metadata": {
    "collapsed": true
   },
   "outputs": [],
   "source": [
    "def draw_route(routes):\n",
    "    print('🛫->'.join(routes))"
   ]
  },
  {
   "cell_type": "code",
   "execution_count": 14,
   "metadata": {},
   "outputs": [
    {
     "name": "stdout",
     "output_type": "stream",
     "text": [
      "NEWYORK🛫->SHANHAI🛫->WUHAN🛫->GUANGZHOU\n"
     ]
    }
   ],
   "source": [
    "draw_route(nagivator(NEWYORK, GUANGZHOU, connection))"
   ]
  },
  {
   "cell_type": "code",
   "execution_count": 15,
   "metadata": {},
   "outputs": [
    {
     "name": "stdout",
     "output_type": "stream",
     "text": [
      "CHANGCHUN🛫->BEIJING🛫->SHENZHEN\n"
     ]
    }
   ],
   "source": [
    "draw_route(nagivator(CHANGCHUN, SHENZHEN, connection))"
   ]
  },
  {
   "cell_type": "code",
   "execution_count": 46,
   "metadata": {
    "collapsed": true
   },
   "outputs": [],
   "source": [
    "def nagivator_bfs(start, destination, connection_2):\n",
    "    pathes = [start ]\n",
    "    seen = set()\n",
    "    \n",
    "    while pathes:\n",
    "\n",
    "        froniter =pathes.pop(0) #why\n",
    "         \n",
    "        if  froniter in seen: continue\n",
    "            \n",
    "        successors = connection_2[froniter]\n",
    "        print('standing on {} Looking forward {}'.format(froniter, successors))\n",
    "        pathes = pathes + successors\n",
    "    \n",
    "        seen.add(froniter)"
   ]
  },
  {
   "cell_type": "code",
   "execution_count": 47,
   "metadata": {
    "collapsed": true
   },
   "outputs": [],
   "source": [
    "connection_2={\n",
    "        0:[1, 5],\n",
    "        1:[0, 2],\n",
    "        2:[1, 3],\n",
    "        3:[2, 4],\n",
    "        4:[3],\n",
    "        5:[0, 6],\n",
    "        6:[5, 7],\n",
    "        7:[6]\n",
    "    \n",
    "}"
   ]
  },
  {
   "cell_type": "code",
   "execution_count": 48,
   "metadata": {},
   "outputs": [
    {
     "data": {
      "image/png": "[encoded data removed]",
      "text/plain": [
       "<matplotlib.figure.Figure at 0x2a6ca2dd7f0>"
      ]
     },
     "metadata": {},
     "output_type": "display_data"
    }
   ],
   "source": [
    "nx.draw(nx.Graph(connection_2))"
   ]
  },
  {
   "cell_type": "code",
   "execution_count": 49,
   "metadata": {},
   "outputs": [
    {
     "name": "stdout",
     "output_type": "stream",
     "text": [
      "standing on 0 Looking forward [1, 5]\n",
      "standing on 1 Looking forward [0, 2]\n",
      "standing on 5 Looking forward [0, 6]\n",
      "standing on 2 Looking forward [1, 3]\n",
      "standing on 6 Looking forward [5, 7]\n",
      "standing on 3 Looking forward [2, 4]\n",
      "standing on 7 Looking forward [6]\n",
      "standing on 4 Looking forward [3]\n"
     ]
    }
   ],
   "source": [
    "nagivator_bfs(0, 7, connection_2)"
   ]
  },
  {
   "cell_type": "code",
   "execution_count": 42,
   "metadata": {},
   "outputs": [
    {
     "name": "stdout",
     "output_type": "stream",
     "text": [
      "Looking forward ['CHANGCHUN', 'WUHAN', 'SHENZHEN', 'NEWYORK', 'MULUMUQI']\n",
      "Looking forward ['CHENGDU', 'SHANHAI', 'CHONGQING', 'BEIJING', 'GUANGZHOU']\n",
      "Looking forward ['SHANHAI', 'BEIJING', 'GUANGZHOU']\n",
      "Looking forward ['WUHAN', 'BANGKOK']\n",
      "Looking forward ['SHANHAI', 'BEIJING']\n",
      "Looking forward ['CHONGQING', 'BEIJING', 'SHANHAI']\n",
      "Looking forward ['GUANGZHOU', 'MULUMUQI', 'CHANGCHUN']\n",
      "Looking forward ['NEWYORK', 'WUHAN']\n",
      "Looking forward ['WUHAN', 'GUANGZHOU', 'BEIJING']\n",
      "Looking forward ['WUHAN', 'BANGKOK']\n",
      "Looking forward ['SHENZHEN', 'GUANGZHOU']\n"
     ]
    }
   ],
   "source": [
    "nagivator_bfs(BEIJING, SHENZHEN, connection)"
   ]
  },
  {
   "cell_type": "code",
   "execution_count": 56,
   "metadata": {
    "collapsed": true
   },
   "outputs": [],
   "source": [
    "def nagivator_dfs(start, destination, connection_graph):\n",
    "    pathes = [start ]\n",
    "    seen = set()\n",
    "    \n",
    "    while pathes:\n",
    "\n",
    "        froniter =pathes.pop(0) #why\n",
    "         \n",
    "        if  froniter in seen: continue\n",
    "            \n",
    "        successors = connection_graph[froniter]\n",
    "        print('standing on {} Looking forward {}'.format(froniter, successors))\n",
    "        pathes = successors + pathes\n",
    "    \n",
    "        seen.add(froniter)"
   ]
  },
  {
   "cell_type": "code",
   "execution_count": 57,
   "metadata": {},
   "outputs": [
    {
     "name": "stdout",
     "output_type": "stream",
     "text": [
      "standing on 0 Looking forward [1, 5]\n",
      "standing on 1 Looking forward [0, 2]\n",
      "standing on 2 Looking forward [1, 3]\n",
      "standing on 3 Looking forward [2, 4]\n",
      "standing on 4 Looking forward [3]\n",
      "standing on 5 Looking forward [0, 6]\n",
      "standing on 6 Looking forward [5, 7]\n",
      "standing on 7 Looking forward [6]\n"
     ]
    }
   ],
   "source": [
    "nagivator_dfs(0, 7, connection_2)"
   ]
  },
  {
   "cell_type": "markdown",
   "metadata": {
    "collapsed": true
   },
   "source": [
    "# Sentence Generation"
   ]
  },
  {
   "cell_type": "code",
   "execution_count": 75,
   "metadata": {
    "collapsed": true
   },
   "outputs": [],
   "source": [
    "decimal_grammar = \"\"\"\n",
    "expression = operator op operator\n",
    "operator = num op num\n",
    "num = 0 | 1 | 2 | 3 | 4 | 5 | 6 | 7 | 8 | 9 | num num\n",
    "op = + | - | * | /\n",
    "\"\"\""
   ]
  },
  {
   "cell_type": "code",
   "execution_count": 76,
   "metadata": {
    "collapsed": true
   },
   "outputs": [],
   "source": [
    "grammar = \"\"\"\n",
    "stmt = if block else block\n",
    "block = cmp; assigment\n",
    "assgiment = XXX\n",
    "XXX\n",
    "\"\"\""
   ]
  },
  {
   "cell_type": "code",
   "execution_count": 77,
   "metadata": {
    "collapsed": true
   },
   "outputs": [],
   "source": [
    "grammar = \"\"\"\n",
    "sentence => noun_phrase verb_phrase \n",
    "noun_phrase => Article Adj* noun\n",
    "Adj* => null | Adj Adj*\n",
    "verb_phrase => verb noun_phrase\n",
    "Article =>  一个 | 这个\n",
    "noun =>   女人 |  篮球 | 桌子 | 小猫\n",
    "verb => 看着   |  坐在 |  听着 | 看见\n",
    "Adj =>   蓝色的 |  好看的 | 小小的\n",
    "\"\"\""
   ]
  },
  {
   "cell_type": "code",
   "execution_count": 78,
   "metadata": {
    "collapsed": true
   },
   "outputs": [],
   "source": [
    "import random"
   ]
  },
  {
   "cell_type": "code",
   "execution_count": 79,
   "metadata": {
    "collapsed": true
   },
   "outputs": [],
   "source": [
    "#def adj(): return random.choice([\"蓝色的\", \"好看的\", \"小小的\"])"
   ]
  },
  {
   "cell_type": "code",
   "execution_count": 80,
   "metadata": {
    "collapsed": true
   },
   "outputs": [],
   "source": [
    "# def noun(): return random.choice(\"女人 |  篮球 | 桌子 | 小猫\".split(\"|\"))\n",
    "# def artice(): return random.choice(\"一个 | 这个\".split(\"|\"))\n",
    "# def verb(): return random.choice(\"看着   |  坐在 |  听着 | 看见\".split(\"|\"))"
   ]
  },
  {
   "cell_type": "code",
   "execution_count": 87,
   "metadata": {
    "collapsed": true
   },
   "outputs": [],
   "source": [
    "def parse_grammar(grammar_str, sep='=>'):\n",
    "    grammar = {}\n",
    "    for line in grammar_str.split('\\n'):\n",
    "        line = line.strip() #Python strip() 方法用于移除字符串头尾指定的字符（默认为空格或换行符）或字符序列。\n",
    "        if not line:continue\n",
    "            \n",
    "        target, rules = line.split(sep)\n",
    "        \n",
    "        grammar[target.strip()] = [r.split() for r in rules.split('|')]\n",
    "    return grammar"
   ]
  },
  {
   "cell_type": "code",
   "execution_count": 88,
   "metadata": {
    "collapsed": true
   },
   "outputs": [],
   "source": [
    "g = parse_grammar(grammar)"
   ]
  },
  {
   "cell_type": "code",
   "execution_count": 102,
   "metadata": {
    "collapsed": true
   },
   "outputs": [],
   "source": [
    "def gene(grammar_parsed, target='sentence'):\n",
    "    if target not in grammar_parsed: return target\n",
    "    \n",
    "    rule = random.choice(grammar_parsed[target])\n",
    "    return ''.join(gene(grammar_parsed, target=r) for r in rule if r!='null')"
   ]
  },
  {
   "cell_type": "code",
   "execution_count": 103,
   "metadata": {},
   "outputs": [
    {
     "data": {
      "text/plain": [
       "['小猫']"
      ]
     },
     "execution_count": 103,
     "metadata": {},
     "output_type": "execute_result"
    }
   ],
   "source": [
    "random.choice((g['noun']))"
   ]
  },
  {
   "cell_type": "code",
   "execution_count": 104,
   "metadata": {},
   "outputs": [
    {
     "data": {
      "text/plain": [
       "['Adj', 'Adj*']"
      ]
     },
     "execution_count": 104,
     "metadata": {},
     "output_type": "execute_result"
    }
   ],
   "source": [
    "random.choice(g['Adj*'])"
   ]
  },
  {
   "cell_type": "code",
   "execution_count": 106,
   "metadata": {},
   "outputs": [
    {
     "data": {
      "text/plain": [
       "'一个篮球听着一个女人'"
      ]
     },
     "execution_count": 106,
     "metadata": {},
     "output_type": "execute_result"
    }
   ],
   "source": [
    "gene(g)"
   ]
  },
  {
   "cell_type": "code",
   "execution_count": 107,
   "metadata": {},
   "outputs": [
    {
     "name": "stdout",
     "output_type": "stream",
     "text": [
      "7-9+7-4\n",
      "6*5-75-8\n",
      "9/61/2/4\n",
      "9*8*1/3\n",
      "0-9/5-8\n",
      "2-1/4+3\n",
      "6/02*3-6\n",
      "6/4/4-9\n",
      "4+1+0+0\n",
      "2-33*0+9\n",
      "1*12-5+7\n",
      "0*11*8/3\n",
      "8/7*7*2\n",
      "5+1/3-098\n",
      "7-6+3+7\n",
      "0-7-8+3\n",
      "8/5*9/5\n",
      "3-8+0/9\n",
      "1*0+2*1\n",
      "8/1+1*7\n"
     ]
    }
   ],
   "source": [
    "for i in range(20):\n",
    "    print(gene(parse_grammar(decimal_grammar, sep='='), target='expression'))"
   ]
  },
  {
   "cell_type": "code",
   "execution_count": null,
   "metadata": {
    "collapsed": true
   },
   "outputs": [],
   "source": []
  }
 ],
 "metadata": {
  "kernelspec": {
   "display_name": "Python 3",
   "language": "python",
   "name": "python3"
  },
  "language_info": {
   "codemirror_mode": {
    "name": "ipython",
    "version": 3
   },
   "file_extension": ".py",
   "mimetype": "text/x-python",
   "name": "python",
   "nbconvert_exporter": "python",
   "pygments_lexer": "ipython3",
   "version": "3.6.3"
  }
 },
 "nbformat": 4,
 "nbformat_minor": 2
}
